{
  "cells": [
    {
      "cell_type": "markdown",
      "metadata": {
        "id": "view-in-github",
        "colab_type": "text"
      },
      "source": [
        "<a href=\"https://colab.research.google.com/github/KarlaBalog/Proyecto_ASE/blob/main/ASE.ipynb\" target=\"_parent\"><img src=\"https://colab.research.google.com/assets/colab-badge.svg\" alt=\"Open In Colab\"/></a>"
      ]
    },
    {
      "cell_type": "code",
      "execution_count": 1,
      "metadata": {
        "id": "_iQqCEFOZ4f0"
      },
      "outputs": [],
      "source": [
        "import pandas as pd\n",
        "import numpy as np\n",
        "import seaborn as sns\n",
        "import matplotlib.pyplot as plt"
      ]
    },
    {
      "cell_type": "code",
      "execution_count": 2,
      "metadata": {
        "colab": {
          "base_uri": "https://localhost:8080/",
          "height": 74
        },
        "id": "aVGsnvktZ9xH",
        "outputId": "36ace17a-d48d-421b-82ac-a3c36b805652"
      },
      "outputs": [
        {
          "output_type": "display_data",
          "data": {
            "text/plain": [
              "<IPython.core.display.HTML object>"
            ],
            "text/html": [
              "\n",
              "     <input type=\"file\" id=\"files-4186b016-ce95-4c36-8fc0-cd52d7d1e6e4\" name=\"files[]\" multiple disabled\n",
              "        style=\"border:none\" />\n",
              "     <output id=\"result-4186b016-ce95-4c36-8fc0-cd52d7d1e6e4\">\n",
              "      Upload widget is only available when the cell has been executed in the\n",
              "      current browser session. Please rerun this cell to enable.\n",
              "      </output>\n",
              "      <script>// Copyright 2017 Google LLC\n",
              "//\n",
              "// Licensed under the Apache License, Version 2.0 (the \"License\");\n",
              "// you may not use this file except in compliance with the License.\n",
              "// You may obtain a copy of the License at\n",
              "//\n",
              "//      http://www.apache.org/licenses/LICENSE-2.0\n",
              "//\n",
              "// Unless required by applicable law or agreed to in writing, software\n",
              "// distributed under the License is distributed on an \"AS IS\" BASIS,\n",
              "// WITHOUT WARRANTIES OR CONDITIONS OF ANY KIND, either express or implied.\n",
              "// See the License for the specific language governing permissions and\n",
              "// limitations under the License.\n",
              "\n",
              "/**\n",
              " * @fileoverview Helpers for google.colab Python module.\n",
              " */\n",
              "(function(scope) {\n",
              "function span(text, styleAttributes = {}) {\n",
              "  const element = document.createElement('span');\n",
              "  element.textContent = text;\n",
              "  for (const key of Object.keys(styleAttributes)) {\n",
              "    element.style[key] = styleAttributes[key];\n",
              "  }\n",
              "  return element;\n",
              "}\n",
              "\n",
              "// Max number of bytes which will be uploaded at a time.\n",
              "const MAX_PAYLOAD_SIZE = 100 * 1024;\n",
              "\n",
              "function _uploadFiles(inputId, outputId) {\n",
              "  const steps = uploadFilesStep(inputId, outputId);\n",
              "  const outputElement = document.getElementById(outputId);\n",
              "  // Cache steps on the outputElement to make it available for the next call\n",
              "  // to uploadFilesContinue from Python.\n",
              "  outputElement.steps = steps;\n",
              "\n",
              "  return _uploadFilesContinue(outputId);\n",
              "}\n",
              "\n",
              "// This is roughly an async generator (not supported in the browser yet),\n",
              "// where there are multiple asynchronous steps and the Python side is going\n",
              "// to poll for completion of each step.\n",
              "// This uses a Promise to block the python side on completion of each step,\n",
              "// then passes the result of the previous step as the input to the next step.\n",
              "function _uploadFilesContinue(outputId) {\n",
              "  const outputElement = document.getElementById(outputId);\n",
              "  const steps = outputElement.steps;\n",
              "\n",
              "  const next = steps.next(outputElement.lastPromiseValue);\n",
              "  return Promise.resolve(next.value.promise).then((value) => {\n",
              "    // Cache the last promise value to make it available to the next\n",
              "    // step of the generator.\n",
              "    outputElement.lastPromiseValue = value;\n",
              "    return next.value.response;\n",
              "  });\n",
              "}\n",
              "\n",
              "/**\n",
              " * Generator function which is called between each async step of the upload\n",
              " * process.\n",
              " * @param {string} inputId Element ID of the input file picker element.\n",
              " * @param {string} outputId Element ID of the output display.\n",
              " * @return {!Iterable<!Object>} Iterable of next steps.\n",
              " */\n",
              "function* uploadFilesStep(inputId, outputId) {\n",
              "  const inputElement = document.getElementById(inputId);\n",
              "  inputElement.disabled = false;\n",
              "\n",
              "  const outputElement = document.getElementById(outputId);\n",
              "  outputElement.innerHTML = '';\n",
              "\n",
              "  const pickedPromise = new Promise((resolve) => {\n",
              "    inputElement.addEventListener('change', (e) => {\n",
              "      resolve(e.target.files);\n",
              "    });\n",
              "  });\n",
              "\n",
              "  const cancel = document.createElement('button');\n",
              "  inputElement.parentElement.appendChild(cancel);\n",
              "  cancel.textContent = 'Cancel upload';\n",
              "  const cancelPromise = new Promise((resolve) => {\n",
              "    cancel.onclick = () => {\n",
              "      resolve(null);\n",
              "    };\n",
              "  });\n",
              "\n",
              "  // Wait for the user to pick the files.\n",
              "  const files = yield {\n",
              "    promise: Promise.race([pickedPromise, cancelPromise]),\n",
              "    response: {\n",
              "      action: 'starting',\n",
              "    }\n",
              "  };\n",
              "\n",
              "  cancel.remove();\n",
              "\n",
              "  // Disable the input element since further picks are not allowed.\n",
              "  inputElement.disabled = true;\n",
              "\n",
              "  if (!files) {\n",
              "    return {\n",
              "      response: {\n",
              "        action: 'complete',\n",
              "      }\n",
              "    };\n",
              "  }\n",
              "\n",
              "  for (const file of files) {\n",
              "    const li = document.createElement('li');\n",
              "    li.append(span(file.name, {fontWeight: 'bold'}));\n",
              "    li.append(span(\n",
              "        `(${file.type || 'n/a'}) - ${file.size} bytes, ` +\n",
              "        `last modified: ${\n",
              "            file.lastModifiedDate ? file.lastModifiedDate.toLocaleDateString() :\n",
              "                                    'n/a'} - `));\n",
              "    const percent = span('0% done');\n",
              "    li.appendChild(percent);\n",
              "\n",
              "    outputElement.appendChild(li);\n",
              "\n",
              "    const fileDataPromise = new Promise((resolve) => {\n",
              "      const reader = new FileReader();\n",
              "      reader.onload = (e) => {\n",
              "        resolve(e.target.result);\n",
              "      };\n",
              "      reader.readAsArrayBuffer(file);\n",
              "    });\n",
              "    // Wait for the data to be ready.\n",
              "    let fileData = yield {\n",
              "      promise: fileDataPromise,\n",
              "      response: {\n",
              "        action: 'continue',\n",
              "      }\n",
              "    };\n",
              "\n",
              "    // Use a chunked sending to avoid message size limits. See b/62115660.\n",
              "    let position = 0;\n",
              "    do {\n",
              "      const length = Math.min(fileData.byteLength - position, MAX_PAYLOAD_SIZE);\n",
              "      const chunk = new Uint8Array(fileData, position, length);\n",
              "      position += length;\n",
              "\n",
              "      const base64 = btoa(String.fromCharCode.apply(null, chunk));\n",
              "      yield {\n",
              "        response: {\n",
              "          action: 'append',\n",
              "          file: file.name,\n",
              "          data: base64,\n",
              "        },\n",
              "      };\n",
              "\n",
              "      let percentDone = fileData.byteLength === 0 ?\n",
              "          100 :\n",
              "          Math.round((position / fileData.byteLength) * 100);\n",
              "      percent.textContent = `${percentDone}% done`;\n",
              "\n",
              "    } while (position < fileData.byteLength);\n",
              "  }\n",
              "\n",
              "  // All done.\n",
              "  yield {\n",
              "    response: {\n",
              "      action: 'complete',\n",
              "    }\n",
              "  };\n",
              "}\n",
              "\n",
              "scope.google = scope.google || {};\n",
              "scope.google.colab = scope.google.colab || {};\n",
              "scope.google.colab._files = {\n",
              "  _uploadFiles,\n",
              "  _uploadFilesContinue,\n",
              "};\n",
              "})(self);\n",
              "</script> "
            ]
          },
          "metadata": {}
        },
        {
          "output_type": "stream",
          "name": "stdout",
          "text": [
            "Saving Litros de combustible.csv to Litros de combustible.csv\n"
          ]
        }
      ],
      "source": [
        "from google.colab import files #Sirve para cargar archivos desde el disco duro a google colab\n",
        "uploaded = files.upload()"
      ]
    },
    {
      "cell_type": "code",
      "execution_count": 3,
      "metadata": {
        "id": "ByGxUgmiZ9sm"
      },
      "outputs": [],
      "source": [
        "datos = pd.read_csv(\"Litros de combustible.csv\")#Lee el archivo que anteriormente ya fue cargado"
      ]
    },
    {
      "cell_type": "code",
      "execution_count": 4,
      "metadata": {
        "id": "Tq7o1oRI0Wa6"
      },
      "outputs": [],
      "source": [
        "datos=datos.drop(['Codigo IATA'], axis=1) #Se eliminan las columnas que no me sirven para nada\n",
        "datos=datos.drop(['Descripcion del codigo'], axis=1)\n",
        "nuevo_turbo=datos.loc[:,\"Tipo Combustible\"]==\"Turbosina\"#Guardo en un nuevo DataFrame la información de los estados en los cuales usan el combustible de Turbosina\n",
        "Turbos=datos.loc[nuevo_turbo]\n",
        "#Turbos tiene a todos los estados que usan Turbosina\n",
        "nuevo_gas=datos.loc[:,\"Tipo Combustible\"]==\"Gasavion\"#Guardo en un nuevo DataFrame la información de los estados en los cuales usan el combustible de Turbosina\n",
        "Gass=datos.loc[nuevo_gas]\n",
        "#Gasavion tiene a todos los estados que usan gasavion"
      ]
    },
    {
      "cell_type": "code",
      "execution_count": 6,
      "metadata": {
        "id": "gLF7o9XBOCg6"
      },
      "outputs": [],
      "source": [
        "#AGUASCALIENTES\n",
        "#Aguascalientes1 contiene a el estado de aguascalientes que usa Turbosina\n",
        "Aguascalientes_Turbo=Turbos.loc[:,\"Estado\"]==\"Aguascalientes\"#De aquellos estados que usan el combustible de Turbosina, separo solo lo que son de Aguascalientes y así haré con cada uno de los estados \n",
        "Aguascalientes1=Turbos.loc[Aguascalientes_Turbo]\n",
        "#En Aguascalientes_2017 tengo al estado de Aguascalientes con combustible de Turbosina y que sus cargas de combustible en 2018\n",
        "Aguascalientes_2017_Turbo=Aguascalientes1[Aguascalientes1.Aniomes.isin([201701, 201702, 201703, 201704, 201705, 201706, 201707, 201708, 201709, 201710, 201711, 201712])]#Lo que hago aquí es obtener la información que ocurrio durnate todo el 2018 para posteriormente sumarlo\n",
        "Aguascalientes_2017_Turbo=Aguascalientes_2017_Turbo.reset_index()\n",
        "#En Aguascalientes_2018 tengo al estado de Aguascalientes con combustible de Turbosina y que sus cargas de combustible en 2018\n",
        "Aguascalientes_2018_Turbo=Aguascalientes1[Aguascalientes1.Aniomes.isin([201801, 201802, 201803, 201804, 201805, 201806, 201807, 201808, 201809, 201810, 201811, 201812])]#Lo que hago aquí es obtener la información que ocurrio durnate todo el 2018 para posteriormente sumarlo\n",
        "Aguascalientes_2018_Turbo=Aguascalientes_2018_Turbo.reset_index()\n",
        "#En Aguascalientes_2019 tengo al estado de Aguascalientes con combustible de Turbosina y que sus cargas de combustible en 2019\n",
        "Aguascalientes_2019_Turbo=Aguascalientes1[Aguascalientes1.Aniomes.isin([201901, 201902, 201903, 201904, 201905, 201906, 201907, 201908, 201909, 201910, 201911, 201912])]#Lo que hago aquí es obtener la información que ocurrio durnate todo el 2019 para posteriormente sumarlo\n",
        "Aguascalientes_2019_Turbo=Aguascalientes_2019_Turbo.reset_index()\n",
        "#En Aguascalientes_2020 tengo al estado de Aguascalientes con combustible de Turbosina y que sus cargas de combustible en 2020\n",
        "Aguascalientes_2020_Turbo=Aguascalientes1[Aguascalientes1.Aniomes.isin([202001, 202002, 202003, 202004, 202005, 202006, 202007, 202008, 202009, 202010, 202011, 202012])]#Lo que hago aquí es obtener la información que ocurrio durnate todo el 2020 para posteriormente sumarlo\n",
        "Aguascalientes_2020_Turbo=Aguascalientes_2020_Turbo.reset_index()\n",
        "#En Aguascalientes_2021 tengo al estado de Aguascalientes con combustible de Turbosina y que sus cargas de combustible en 2021\n",
        "Aguascalientes_2021_Turbo=Aguascalientes1[Aguascalientes1.Aniomes.isin([202101, 202102, 202103, 202104, 202105, 202106, 202107, 202108, 202109, 202110, 202111, 202112])]#Lo que hago aquí es obtener la información que ocurrio durnate todo el 2021 para posteriormente sumarlo\n",
        "Aguascalientes_2021_Turbo=Aguascalientes_2021_Turbo.reset_index()"
      ]
    },
    {
      "cell_type": "code",
      "execution_count": 7,
      "metadata": {
        "id": "BwuNIhJxEgXh"
      },
      "outputs": [],
      "source": [
        "#AGUASCALIENTES\n",
        "#Aguascalientes1 contiene a el estado de aguascalientes que usa Gasavion\n",
        "Aguascalientes_Gas=Gass.loc[:,\"Estado\"]==\"Aguascalientes\"#De aquellos estados que usan el combustible de Gasavion, separo solo lo que son de Aguascalientes y así haré con cada uno de los estados \n",
        "Aguascalientes1=Gass.loc[Aguascalientes_Gas]\n",
        "#En Aguascalientes_2017 tengo al estado de Aguascalientes con combustible de Gasavion y que sus cargas de combustible en 2018\n",
        "Aguascalientes_2017_Gas=Aguascalientes1[Aguascalientes1.Aniomes.isin([201701, 201702, 201703, 201704, 201705, 201706, 201707, 201708, 201709, 201710, 201711, 201712])]#Lo que hago aquí es obtener la información que ocurrió durante todo el 2018 para posteriormente sumarlo\n",
        "Aguascalientes_2017_Gas=Aguascalientes_2017_Gas.reset_index()\n",
        "#En Aguascalientes_2018 tengo al estado de Aguascalientes con combustible de Gasavion y que sus cargas de combustible en 2018\n",
        "Aguascalientes_2018_Gas=Aguascalientes1[Aguascalientes1.Aniomes.isin([201801, 201802, 201803, 201804, 201805, 201806, 201807, 201808, 201809, 201810, 201811, 201812])]#Lo que hago aquí es obtener la información que ocurrió durante todo el 2018 para posteriormente sumarlo\n",
        "Aguascalientes_2018_Gas=Aguascalientes_2018_Gas.reset_index()\n",
        "#En Aguascalientes_2019 tengo al estado de Aguascalientes con combustible de Gasavion y que sus cargas de combustible en 2019\n",
        "Aguascalientes_2019_Gas=Aguascalientes1[Aguascalientes1.Aniomes.isin([201901, 201902, 201903, 201904, 201905, 201906, 201907, 201908, 201909, 201910, 201911, 201912])]#Lo que hago aquí es obtener la información que ocurrió durante todo el 2019 para posteriormente sumarlo\n",
        "Aguascalientes_2019_Gas=Aguascalientes_2019_Gas.reset_index()\n",
        "#En Aguascalientes_2020 tengo al estado de Aguascalientes con combustible de Gasavion y que sus cargas de combustible en 2020\n",
        "Aguascalientes_2020_Gas=Aguascalientes1[Aguascalientes1.Aniomes.isin([202001, 202002, 202003, 202004, 202005, 202006, 202007, 202008, 202009, 202010, 202011, 202012])]#Lo que hago aquí es obtener la información que ocurrió durante todo el 2020 para posteriormente sumarlo\n",
        "Aguascalientes_2020_Gas=Aguascalientes_2020_Gas.reset_index()\n",
        "#En Aguascalientes_2021 tengo al estado de Aguascalientes con combustible de Gasavion y que sus cargas de combustible en 2021\n",
        "Aguascalientes_2021_Gas=Aguascalientes1[Aguascalientes1.Aniomes.isin([202101, 202102, 202103, 202104, 202105, 202106, 202107, 202108, 202109, 202110, 202111, 202112])]#Lo que hago aquí es obtener la información que ocurrió durante todo el 2021 para posteriormente sumarlo\n",
        "Aguascalientes_2021_Gas=Aguascalientes_2021_Gas.reset_index()"
      ]
    },
    {
      "cell_type": "code",
      "execution_count": 8,
      "metadata": {
        "id": "eUxswSjCwu5S"
      },
      "outputs": [],
      "source": [
        "#BAJA CALIFORNA\n",
        "#Baja California1 contiene a el estado de Baja California que usa Turbosina\n",
        "BajaCalifornia_Turbo=Turbos.loc[:,\"Estado\"]==\"Baja California\"#De aquellos estados que usan el combustible de Turbosina, separo solo lo que son de Campeche y así haré con cada uno de los estados \n",
        "BajaCalifornia1=Turbos.loc[BajaCalifornia_Turbo]\n",
        "#En BajaCalifornia_2017 tengo al estado de BajaCalifornia con combustible de Turbosina y que sus cargas de combustible en 2018\n",
        "BajaCalifornia_2017_Turbo=BajaCalifornia1[BajaCalifornia1.Aniomes.isin([201701, 201702, 201703, 201704, 201705, 201706, 201707, 201708, 201709, 201710, 201711, 201712])]#Lo que hago aquí es obtener la información que ocurrio durnate todo el 2018 para posteriormente sumarlo\n",
        "BajaCalifornia_2017_Turbo=BajaCalifornia_2017_Turbo.reset_index()\n",
        "#En BajaCalifornia_2018 tengo al estado de BajaCalifornia con combustible de Turbosina y que sus cargas de combustible en 2018\n",
        "BajaCalifornia_2018_Turbo=BajaCalifornia1[BajaCalifornia1.Aniomes.isin([201801, 201802, 201803, 201804, 201805, 201806, 201807, 201808, 201809, 201810, 201811, 201812])]#Lo que hago aquí es obtener la información que ocurrio durnate todo el 2018 para posteriormente sumarlo\n",
        "BajaCalifornia_2018_Turbo=BajaCalifornia_2018_Turbo.reset_index()\n",
        "#En BajaCalifornia_2019 tengo al estado de BajaCalifornia con combustible de Turbosina y que sus cargas de combustible en 2019\n",
        "BajaCalifornia_2019_Turbo=BajaCalifornia1[BajaCalifornia1.Aniomes.isin([201901, 201902, 201903, 201904, 201905, 201906, 201907, 201908, 201909, 201910, 201911, 201912])]#Lo que hago aquí es obtener la información que ocurrio durnate todo el 2019 para posteriormente sumarlo\n",
        "BajaCalifornia_2019_Turbo=BajaCalifornia_2019_Turbo.reset_index()\n",
        "#En BajaCalifornia_2020 tengo al estado de BajaCalifornia con combustible de Turbosina y que sus cargas de combustible en 2020\n",
        "BajaCalifornia_2020_Turbo=BajaCalifornia1[BajaCalifornia1.Aniomes.isin([202001, 202002, 202003, 202004, 202005, 202006, 202007, 202008, 202009, 202010, 202011, 202012])]#Lo que hago aquí es obtener la información que ocurrio durnate todo el 2020 para posteriormente sumarlo\n",
        "BajaCalifornia_2020_Turbo=BajaCalifornia_2020_Turbo.reset_index()\n",
        "#En BajaCalifornia_2021 tengo al estado de BajaCalifornia con combustible de Turbosina y que sus cargas de combustible en 2021\n",
        "BajaCalifornia_2021_Turbo=BajaCalifornia1[BajaCalifornia1.Aniomes.isin([202101, 202102, 202103, 202104, 202105, 202106, 202107, 202108, 202109, 202110, 202111, 202112])]#Lo que hago aquí es obtener la información que ocurrio durnate todo el 2021 para posteriormente sumarlo\n",
        "BajaCalifornia_2021_Turbo=BajaCalifornia_2021_Turbo.reset_index()"
      ]
    },
    {
      "cell_type": "code",
      "execution_count": 9,
      "metadata": {
        "id": "mjGkuJFEcfEs"
      },
      "outputs": [],
      "source": [
        "#BAJACALIFORNIA\n",
        "#BajaCalifornia1 contiene a el estado de BajaCalifornia que usa Gasavion\n",
        "BajaCalifornia_Gas=Gass.loc[:,\"Estado\"]==\"Baja California\"#De aquellos estados que usan el combustible de Gasavion, separo solo lo que son de BajaCalifornia y así haré con cada uno de los estados \n",
        "BajaCalifornia1=Gass.loc[BajaCalifornia_Gas]\n",
        "#En BajaCalifornia_2017 tengo al estado de BajaCalifornia con combustible de Gasavion y que sus cargas de combustible en 2018\n",
        "BajaCalifornia_2017_Gas=BajaCalifornia1[BajaCalifornia1.Aniomes.isin([201701, 201702, 201703, 201704, 201705, 201706, 201707, 201708, 201709, 201710, 201711, 201712])]#Lo que hago aquí es obtener la información que ocurrió durante todo el 2018 para posteriormente sumarlo\n",
        "BajaCalifornia_2017_Gas=BajaCalifornia_2017_Gas.reset_index()\n",
        "#En BajaCalifornia_2018 tengo al estado de BajaCalifornia con combustible de Gasavion y que sus cargas de combustible en 2018\n",
        "BajaCalifornia_2018_Gas=BajaCalifornia1[BajaCalifornia1.Aniomes.isin([201801, 201802, 201803, 201804, 201805, 201806, 201807, 201808, 201809, 201810, 201811, 201812])]#Lo que hago aquí es obtener la información que ocurrió durante todo el 2018 para posteriormente sumarlo\n",
        "BajaCalifornia_2018_Gas=BajaCalifornia_2018_Gas.reset_index()\n",
        "#En BajaCalifornia_2019 tengo al estado de BajaCalifornia con combustible de Gasavion y que sus cargas de combustible en 2019\n",
        "BajaCalifornia_2019_Gas=BajaCalifornia1[BajaCalifornia1.Aniomes.isin([201901, 201902, 201903, 201904, 201905, 201906, 201907, 201908, 201909, 201910, 201911, 201912])]#Lo que hago aquí es obtener la información que ocurrió durante todo el 2019 para posteriormente sumarlo\n",
        "BajaCalifornia_2019_Gas=BajaCalifornia_2019_Gas.reset_index()\n",
        "#En BajaCalifornia_2020 tengo al estado de BajaCalifornia con combustible de Gasavion y que sus cargas de combustible en 2020\n",
        "BajaCalifornia_2020_Gas=BajaCalifornia1[BajaCalifornia1.Aniomes.isin([202001, 202002, 202003, 202004, 202005, 202006, 202007, 202008, 202009, 202010, 202011, 202012])]#Lo que hago aquí es obtener la información que ocurrió durante todo el 2020 para posteriormente sumarlo\n",
        "BajaCalifornia_2020_Gas=BajaCalifornia_2020_Gas.reset_index()\n",
        "#En BajaCalifornia_2021 tengo al estado de BajaCalifornia con combustible de Gasavion y que sus cargas de combustible en 2021\n",
        "BajaCalifornia_2021_Gas=BajaCalifornia1[BajaCalifornia1.Aniomes.isin([202101, 202102, 202103, 202104, 202105, 202106, 202107, 202108, 202109, 202110, 202111, 202112])]#Lo que hago aquí es obtener la información que ocurrió durante todo el 2021 para posteriormente sumarlo\n",
        "BajaCalifornia_2021_Gas=BajaCalifornia_2021_Gas.reset_index()"
      ]
    },
    {
      "cell_type": "code",
      "execution_count": 10,
      "metadata": {
        "id": "mRlijSf34Q6a"
      },
      "outputs": [],
      "source": [
        "#BAJA CALIFORNIA SUR\n",
        "#Baja California Sur1 contiene a el estado de Baja California Sur que usa Turbosina\n",
        "BajaCaliforniaSur_Turbo=Turbos.loc[:,\"Estado\"]==\"Baja California Sur\"#De aquellos estados que usan el combustible de Turbosina, separo solo lo que son de Campeche y así haré con cada uno de los estados \n",
        "BajaCaliforniaSur1=Turbos.loc[BajaCaliforniaSur_Turbo]\n",
        "#En BajaCaliforniaSur_2017 tengo al estado de BajaCaliforniaSur con combustible de Turbosina y que sus cargas de combustible en 2017\n",
        "BajaCaliforniaSur_2017_Turbo=BajaCaliforniaSur1[BajaCaliforniaSur1.Aniomes.isin([201701, 201702, 201703, 201704, 201705, 201706, 201707, 201708, 201709, 201710, 201711, 201712])]#Lo que hago aquí es obtener la información que ocurrio durnate todo el 2017 para posteriormente sumarlo\n",
        "BajaCaliforniaSur_2017_Turbo=BajaCaliforniaSur_2017_Turbo.reset_index()\n",
        "#En BajaCaliforniaSur_2018 tengo al estado de BajaCaliforniaSur con combustible de Turbosina y que sus cargas de combustible en 2018\n",
        "BajaCaliforniaSur_2018_Turbo=BajaCaliforniaSur1[BajaCaliforniaSur1.Aniomes.isin([201801, 201802, 201803, 201804, 201805, 201806, 201807, 201808, 201809, 201810, 201811, 201812])]#Lo que hago aquí es obtener la información que ocurrio durnate todo el 2018 para posteriormente sumarlo\n",
        "BajaCaliforniaSur_2018_Turbo=BajaCaliforniaSur_2018_Turbo.reset_index()\n",
        "#En BajaCaliforniaSur_2019 tengo al estado de BajaCaliforniaSur con combustible de Turbosina y que sus cargas de combustible en 2019\n",
        "BajaCaliforniaSur_2019_Turbo=BajaCaliforniaSur1[BajaCaliforniaSur1.Aniomes.isin([201901, 201902, 201903, 201904, 201905, 201906, 201907, 201908, 201909, 201910, 201911, 201912])]#Lo que hago aquí es obtener la información que ocurrio durnate todo el 2019 para posteriormente sumarlo\n",
        "BajaCaliforniaSur_2019_Turbo=BajaCaliforniaSur_2019_Turbo.reset_index()\n",
        "#En BajaCaliforniaSur_2020 tengo al estado de BajaCaliforniaSur con combustible de Turbosina y que sus cargas de combustible en 2020\n",
        "BajaCaliforniaSur_2020_Turbo=BajaCaliforniaSur1[BajaCaliforniaSur1.Aniomes.isin([202001, 202002, 202003, 202004, 202005, 202006, 202007, 202008, 202009, 202010, 202011, 202012])]#Lo que hago aquí es obtener la información que ocurrio durnate todo el 2020 para posteriormente sumarlo\n",
        "BajaCaliforniaSur_2020_Turbo=BajaCaliforniaSur_2020_Turbo.reset_index()\n",
        "#En BajaCaliforniaSur_2021 tengo al estado de BajaCaliforniaSur con combustible de Turbosina y que sus cargas de combustible en 2021\n",
        "BajaCaliforniaSur_2021_Turbo=BajaCaliforniaSur1[BajaCaliforniaSur1.Aniomes.isin([202101, 202102, 202103, 202104, 202105, 202106, 202107, 202108, 202109, 202110, 202111, 202112])]#Lo que hago aquí es obtener la información que ocurrio durnate todo el 2021 para posteriormente sumarlo\n",
        "BajaCaliforniaSur_2021_Turbo=BajaCaliforniaSur_2021_Turbo.reset_index()"
      ]
    },
    {
      "cell_type": "code",
      "execution_count": 11,
      "metadata": {
        "id": "-pIWeOBudNEl"
      },
      "outputs": [],
      "source": [
        "#BAJACALIFORNIASUR\n",
        "#BajaCaliforniaSur1 contiene a el estado de BajaCaliforniaSur que usa Gasavion\n",
        "BajaCaliforniaSur_Gas=Gass.loc[:,\"Estado\"]==\"Baja California Sur\"#De aquellos estados que usan el combustible de Gasavion, separo solo lo que son de BajaCaliforniaSur y así haré con cada uno de los estados \n",
        "BajaCaliforniaSur1=Gass.loc[BajaCaliforniaSur_Gas]\n",
        "#En BajaCaliforniaSur_2017 tengo al estado de BajaCaliforniaSur con combustible de Gasavion y que sus cargas de combustible en 2018\n",
        "BajaCaliforniaSur_2017_Gas=BajaCaliforniaSur1[BajaCaliforniaSur1.Aniomes.isin([201701, 201702, 201703, 201704, 201705, 201706, 201707, 201708, 201709, 201710, 201711, 201712])]#Lo que hago aquí es obtener la información que ocurrió durante todo el 2018 para posteriormente sumarlo\n",
        "BajaCaliforniaSur_2017_Gas=BajaCaliforniaSur_2017_Gas.reset_index()\n",
        "#En BajaCaliforniaSur_2018 tengo al estado de BajaCaliforniaSur con combustible de Gasavion y que sus cargas de combustible en 2018\n",
        "BajaCaliforniaSur_2018_Gas=BajaCaliforniaSur1[BajaCaliforniaSur1.Aniomes.isin([201801, 201802, 201803, 201804, 201805, 201806, 201807, 201808, 201809, 201810, 201811, 201812])]#Lo que hago aquí es obtener la información que ocurrió durante todo el 2018 para posteriormente sumarlo\n",
        "BajaCaliforniaSur_2018_Gas=BajaCaliforniaSur_2018_Gas.reset_index()\n",
        "#En BajaCaliforniaSur_2019 tengo al estado de BajaCaliforniaSur con combustible de Gasavion y que sus cargas de combustible en 2019\n",
        "BajaCaliforniaSur_2019_Gas=BajaCaliforniaSur1[BajaCaliforniaSur1.Aniomes.isin([201901, 201902, 201903, 201904, 201905, 201906, 201907, 201908, 201909, 201910, 201911, 201912])]#Lo que hago aquí es obtener la información que ocurrió durante todo el 2019 para posteriormente sumarlo\n",
        "BajaCaliforniaSur_2019_Gas=BajaCaliforniaSur_2019_Gas.reset_index()\n",
        "#En BajaCaliforniaSur_2020 tengo al estado de BajaCaliforniaSur con combustible de Gasavion y que sus cargas de combustible en 2020\n",
        "BajaCaliforniaSur_2020_Gas=BajaCaliforniaSur1[BajaCaliforniaSur1.Aniomes.isin([202001, 202002, 202003, 202004, 202005, 202006, 202007, 202008, 202009, 202010, 202011, 202012])]#Lo que hago aquí es obtener la información que ocurrió durante todo el 2020 para posteriormente sumarlo\n",
        "BajaCaliforniaSur_2020_Gas=BajaCaliforniaSur_2020_Gas.reset_index()\n",
        "#En BajaCaliforniaSur_2021 tengo al estado de BajaCaliforniaSur con combustible de Gasavion y que sus cargas de combustible en 2021\n",
        "BajaCaliforniaSur_2021_Gas=BajaCaliforniaSur1[BajaCaliforniaSur1.Aniomes.isin([202101, 202102, 202103, 202104, 202105, 202106, 202107, 202108, 202109, 202110, 202111, 202112])]#Lo que hago aquí es obtener la información que ocurrió durante todo el 2021 para posteriormente sumarlo\n",
        "BajaCaliforniaSur_2021_Gas=BajaCaliforniaSur_2021_Gas.reset_index()\n"
      ]
    },
    {
      "cell_type": "code",
      "execution_count": 12,
      "metadata": {
        "id": "YlEvx3bZQ4KA"
      },
      "outputs": [],
      "source": [
        "#CAMPECHE\n",
        "#Campeche1 contiene a el estado de Campeche que usa Turbosina\n",
        "Campeche_Turbo=Turbos.loc[:,\"Estado\"]==\"Campeche\"#De aquellos estados que usan el combustible de Turbosina, separo solo lo que son de Campeche y así haré con cada uno de los estados \n",
        "Campeche1=Turbos.loc[Campeche_Turbo]\n",
        "#En Campeche_2017 tengo al estado de Campeche con combustible de Turbosina y que sus cargas de combustible en 2017\n",
        "Campeche_2017_Turbo=Campeche1[Campeche1.Aniomes.isin([201701, 201702, 201703, 201704, 201705, 201706, 201707, 201708, 201709, 201710, 201711, 201712])]#Lo que hago aquí es obtener la información que ocurrio durnate todo el 2017 para posteriormente sumarlo\n",
        "Campeche_2017_Turbo=Campeche_2017_Turbo.reset_index()\n",
        "#En Campeche_2018 tengo al estado de Campeche con combustible de Turbosina y que sus cargas de combustible en 2018\n",
        "Campeche_2018_Turbo=Campeche1[Campeche1.Aniomes.isin([201801, 201802, 201803, 201804, 201805, 201806, 201807, 201808, 201809, 201810, 201811, 201812])]#Lo que hago aquí es obtener la información que ocurrio durnate todo el 2018 para posteriormente sumarlo\n",
        "Campeche_2018_Turbo=Campeche_2018_Turbo.reset_index()\n",
        "#En Campeche_2019 tengo al estado de Campeche con combustible de Turbosina y que sus cargas de combustible en 2019\n",
        "Campeche_2019_Turbo=Campeche1[Campeche1.Aniomes.isin([201901, 201902, 201903, 201904, 201905, 201906, 201907, 201908, 201909, 201910, 201911, 201912])]#Lo que hago aquí es obtener la información que ocurrio durnate todo el 2019 para posteriormente sumarlo\n",
        "Campeche_2019_Turbo=Campeche_2019_Turbo.reset_index()\n",
        "#En Campeche_2020 tengo al estado de Campeche con combustible de Turbosina y que sus cargas de combustible en 2020\n",
        "Campeche_2020_Turbo=Campeche1[Campeche1.Aniomes.isin([202001, 202002, 202003, 202004, 202005, 202006, 202007, 202008, 202009, 202010, 202011, 202012])]#Lo que hago aquí es obtener la información que ocurrio durnate todo el 2020 para posteriormente sumarlo\n",
        "Campeche_2020_Turbo=Campeche_2020_Turbo.reset_index()\n",
        "#En Campeche_2021 tengo al estado de Campeche con combustible de Turbosina y que sus cargas de combustible en 2021\n",
        "Campeche_2021_Turbo=Campeche1[Campeche1.Aniomes.isin([202101, 202102, 202103, 202104, 202105, 202106, 202107, 202108, 202109, 202110, 202111, 202112])]#Lo que hago aquí es obtener la información que ocurrio durnate todo el 2021 para posteriormente sumarlo\n",
        "Campeche_2021_Turbo=Campeche_2021_Turbo.reset_index()"
      ]
    },
    {
      "cell_type": "code",
      "execution_count": 13,
      "metadata": {
        "id": "Txu0Z0NWdip0"
      },
      "outputs": [],
      "source": [
        "#CAMPECHE\n",
        "#Campeche1 contiene a el estado de Campeche que usa Gasavion\n",
        "Campeche_Gas=Gass.loc[:,\"Estado\"]==\"Campeche\"#De aquellos estados que usan el combustible de Gasavion, separo solo lo que son de Campeche y así haré con cada uno de los estados \n",
        "Campeche1=Gass.loc[Campeche_Gas]\n",
        "#En Campeche_2017 tengo al estado de Campeche con combustible de Gasavion y que sus cargas de combustible en 2018\n",
        "Campeche_2017_Gas=Campeche1[Campeche1.Aniomes.isin([201701, 201702, 201703, 201704, 201705, 201706, 201707, 201708, 201709, 201710, 201711, 201712])]#Lo que hago aquí es obtener la información que ocurrió durante todo el 2018 para posteriormente sumarlo\n",
        "Campeche_2017_Gas=Campeche_2017_Gas.reset_index()\n",
        "#En Campeche_2018 tengo al estado de Campeche con combustible de Gasavion y que sus cargas de combustible en 2018\n",
        "Campeche_2018_Gas=Campeche1[Campeche1.Aniomes.isin([201801, 201802, 201803, 201804, 201805, 201806, 201807, 201808, 201809, 201810, 201811, 201812])]#Lo que hago aquí es obtener la información que ocurrió durante todo el 2018 para posteriormente sumarlo\n",
        "Campeche_2018_Gas=Campeche_2018_Gas.reset_index()\n",
        "#En Campeche_2019 tengo al estado de Campeche con combustible de Gasavion y que sus cargas de combustible en 2019\n",
        "Campeche_2019_Gas=Campeche1[Campeche1.Aniomes.isin([201901, 201902, 201903, 201904, 201905, 201906, 201907, 201908, 201909, 201910, 201911, 201912])]#Lo que hago aquí es obtener la información que ocurrió durante todo el 2019 para posteriormente sumarlo\n",
        "Campeche_2019_Gas=Campeche_2019_Gas.reset_index()\n",
        "#En Campeche_2020 tengo al estado de Campeche con combustible de Gasavion y que sus cargas de combustible en 2020\n",
        "Campeche_2020_Gas=Campeche1[Campeche1.Aniomes.isin([202001, 202002, 202003, 202004, 202005, 202006, 202007, 202008, 202009, 202010, 202011, 202012])]#Lo que hago aquí es obtener la información que ocurrió durante todo el 2020 para posteriormente sumarlo\n",
        "Campeche_2020_Gas=Campeche_2020_Gas.reset_index()\n",
        "#En Campeche_2021 tengo al estado de Campeche con combustible de Gasavion y que sus cargas de combustible en 2021\n",
        "Campeche_2021_Gas=Campeche1[Campeche1.Aniomes.isin([202101, 202102, 202103, 202104, 202105, 202106, 202107, 202108, 202109, 202110, 202111, 202112])]#Lo que hago aquí es obtener la información que ocurrió durante todo el 2021 para posteriormente sumarlo\n",
        "Campeche_2021_Gas=Campeche_2021_Gas.reset_index()"
      ]
    },
    {
      "cell_type": "code",
      "execution_count": 14,
      "metadata": {
        "id": "MOHdhKZG3krM"
      },
      "outputs": [],
      "source": [
        "#CHIAPAS\n",
        "#Chiapas1 contiene a el estado de Chiapas que usa Turbosina\n",
        "Chiapas_Turbo=Turbos.loc[:,\"Estado\"]==\"Chiapas\"#De aquellos estados que usan el combustible de Turbosina, separo solo lo que son de Chiapas y así haré con cada uno de los estados \n",
        "Chiapas1=Turbos.loc[Chiapas_Turbo]\n",
        "#En Chiapas_2017 tengo al estado de Chiapas con combustible de Turbosina y que sus cargas de combustible en 2017\n",
        "Chiapas_2017_Turbo=Chiapas1[Chiapas1.Aniomes.isin([201701, 201702, 201703, 201704, 201705, 201706, 201707, 201708, 201709, 201710, 201711, 201712])]#Lo que hago aquí es obtener la información que ocurrio durnate todo el 2017 para posteriormente sumarlo\n",
        "Chiapas_2017_Turbo=Chiapas_2017_Turbo.reset_index()\n",
        "#En Chiapas_2018 tengo al estado de Chiapas con combustible de Turbosina y que sus cargas de combustible en 2018\n",
        "Chiapas_2018_Turbo=Chiapas1[Chiapas1.Aniomes.isin([201801, 201802, 201803, 201804, 201805, 201806, 201807, 201808, 201809, 201810, 201811, 201812])]#Lo que hago aquí es obtener la información que ocurrio durnate todo el 2018 para posteriormente sumarlo\n",
        "Chiapas_2018_Turbo=Chiapas_2018_Turbo.reset_index()\n",
        "#En Chiapas_2019 tengo al estado de Chiapas con combustible de Turbosina y que sus cargas de combustible en 2019\n",
        "Chiapas_2019_Turbo=Chiapas1[Chiapas1.Aniomes.isin([201901, 201902, 201903, 201904, 201905, 201906, 201907, 201908, 201909, 201910, 201911, 201912])]#Lo que hago aquí es obtener la información que ocurrio durnate todo el 2019 para posteriormente sumarlo\n",
        "Chiapas_2019_Turbo=Chiapas_2019_Turbo.reset_index()\n",
        "#En Chiapas_2020 tengo al estado de Chiapas con combustible de Turbosina y que sus cargas de combustible en 2020\n",
        "Chiapas_2020_Turbo=Chiapas1[Chiapas1.Aniomes.isin([202001, 202002, 202003, 202004, 202005, 202006, 202007, 202008, 202009, 202010, 202011, 202012])]#Lo que hago aquí es obtener la información que ocurrio durnate todo el 2020 para posteriormente sumarlo\n",
        "Chiapas_2020_Turbo=Chiapas_2020_Turbo.reset_index()\n",
        "#En Chiapas_2021 tengo al estado de Chiapas con combustible de Turbosina y que sus cargas de combustible en 2021\n",
        "Chiapas_2021_Turbo=Chiapas1[Chiapas1.Aniomes.isin([202101, 202102, 202103, 202104, 202105, 202106, 202107, 202108, 202109, 202110, 202111, 202112])]#Lo que hago aquí es obtener la información que ocurrio durnate todo el 2021 para posteriormente sumarlo\n",
        "Chiapas_2021_Turbo=Chiapas_2021_Turbo.reset_index()"
      ]
    },
    {
      "cell_type": "code",
      "execution_count": 15,
      "metadata": {
        "id": "Ft8rd11Vdyym"
      },
      "outputs": [],
      "source": [
        "#CHIAPAS\n",
        "#Chiapas1 contiene a el estado de Chiapas que usa Gasavion\n",
        "Chiapas_Gas=Gass.loc[:,\"Estado\"]==\"Chiapas\"#De aquellos estados que usan el combustible de Gasavion, separo solo lo que son de Chiapas y así haré con cada uno de los estados \n",
        "Chiapas1=Gass.loc[Chiapas_Gas]\n",
        "#En Chiapas_2017 tengo al estado de Chiapas con combustible de Gasavion y que sus cargas de combustible en 2018\n",
        "Chiapas_2017_Gas=Chiapas1[Chiapas1.Aniomes.isin([201701, 201702, 201703, 201704, 201705, 201706, 201707, 201708, 201709, 201710, 201711, 201712])]#Lo que hago aquí es obtener la información que ocurrió durante todo el 2018 para posteriormente sumarlo\n",
        "Chiapas_2017_Gas=Chiapas_2017_Gas.reset_index()\n",
        "#En Chiapas_2018 tengo al estado de Chiapas con combustible de Gasavion y que sus cargas de combustible en 2018\n",
        "Chiapas_2018_Gas=Chiapas1[Chiapas1.Aniomes.isin([201801, 201802, 201803, 201804, 201805, 201806, 201807, 201808, 201809, 201810, 201811, 201812])]#Lo que hago aquí es obtener la información que ocurrió durante todo el 2018 para posteriormente sumarlo\n",
        "Chiapas_2018_Gas=Chiapas_2018_Gas.reset_index()\n",
        "#En Chiapas_2019 tengo al estado de Chiapas con combustible de Gasavion y que sus cargas de combustible en 2019\n",
        "Chiapas_2019_Gas=Chiapas1[Chiapas1.Aniomes.isin([201901, 201902, 201903, 201904, 201905, 201906, 201907, 201908, 201909, 201910, 201911, 201912])]#Lo que hago aquí es obtener la información que ocurrió durante todo el 2019 para posteriormente sumarlo\n",
        "Chiapas_2019_Gas=Chiapas_2019_Gas.reset_index()\n",
        "#En Chiapas_2020 tengo al estado de Chiapas con combustible de Gasavion y que sus cargas de combustible en 2020\n",
        "Chiapas_2020_Gas=Chiapas1[Chiapas1.Aniomes.isin([202001, 202002, 202003, 202004, 202005, 202006, 202007, 202008, 202009, 202010, 202011, 202012])]#Lo que hago aquí es obtener la información que ocurrió durante todo el 2020 para posteriormente sumarlo\n",
        "Chiapas_2020_Gas=Chiapas_2020_Gas.reset_index()\n",
        "#En Chiapas_2021 tengo al estado de Chiapas con combustible de Gasavion y que sus cargas de combustible en 2021\n",
        "Chiapas_2021_Gas=Chiapas1[Chiapas1.Aniomes.isin([202101, 202102, 202103, 202104, 202105, 202106, 202107, 202108, 202109, 202110, 202111, 202112])]#Lo que hago aquí es obtener la información que ocurrió durante todo el 2021 para posteriormente sumarlo\n",
        "Chiapas_2021_Gas=Chiapas_2021_Gas.reset_index()"
      ]
    },
    {
      "cell_type": "code",
      "execution_count": 16,
      "metadata": {
        "id": "9MpKqRDT2Seh"
      },
      "outputs": [],
      "source": [
        "#CHIHUAHUA\n",
        "#Chihuahua1 contiene a el estado de Chihuahua que usa Turbosina\n",
        "Chihuahua_Turbo=Turbos.loc[:,\"Estado\"]==\"Chihuahua\"#De aquellos estados que usan el combustible de Turbosina, separo solo lo que son de Chihuahua y así haré con cada uno de los estados \n",
        "Chihuahua1=Turbos.loc[Chihuahua_Turbo]\n",
        "#En Chihuahua_2017 tengo al estado de Chihuahua con combustible de Turbosina y que sus cargas de combustible en 2017\n",
        "Chihuahua_2017_Turbo=Chihuahua1[Chihuahua1.Aniomes.isin([201701, 201702, 201703, 201704, 201705, 201706, 201707, 201708, 201709, 201710, 201711, 201712])]#Lo que hago aquí es obtener la información que ocurrio durnate todo el 2017 para posteriormente sumarlo\n",
        "Chihuahua_2017_Turbo=Chihuahua_2017_Turbo.reset_index()\n",
        "#En Chihuahua_2018 tengo al estado de Chihuahua con combustible de Turbosina y que sus cargas de combustible en 2018\n",
        "Chihuahua_2018_Turbo=Chihuahua1[Chihuahua1.Aniomes.isin([201801, 201802, 201803, 201804, 201805, 201806, 201807, 201808, 201809, 201810, 201811, 201812])]#Lo que hago aquí es obtener la información que ocurrio durnate todo el 2018 para posteriormente sumarlo\n",
        "Chihuahua_2018_Turbo=Chihuahua_2018_Turbo.reset_index()\n",
        "#En Chihuahua_2019 tengo al estado de Chihuahua con combustible de Turbosina y que sus cargas de combustible en 2019\n",
        "Chihuahua_2019_Turbo=Chihuahua1[Chihuahua1.Aniomes.isin([201901, 201902, 201903, 201904, 201905, 201906, 201907, 201908, 201909, 201910, 201911, 201912])]#Lo que hago aquí es obtener la información que ocurrio durnate todo el 2019 para posteriormente sumarlo\n",
        "Chihuahua_2019_Turbo=Chihuahua_2019_Turbo.reset_index()\n",
        "#En Chihuahua_2020 tengo al estado de Chihuahua con combustible de Turbosina y que sus cargas de combustible en 2020\n",
        "Chihuahua_2020_Turbo=Chihuahua1[Chihuahua1.Aniomes.isin([202001, 202002, 202003, 202004, 202005, 202006, 202007, 202008, 202009, 202010, 202011, 202012])]#Lo que hago aquí es obtener la información que ocurrio durnate todo el 2020 para posteriormente sumarlo\n",
        "Chihuahua_2020_Turbo=Chihuahua_2020_Turbo.reset_index()\n",
        "#En Chihuahua_2021 tengo al estado de Chihuahua con combustible de Turbosina y que sus cargas de combustible en 2021\n",
        "Chihuahua_2021_Turbo=Chihuahua1[Chihuahua1.Aniomes.isin([202101, 202102, 202103, 202104, 202105, 202106, 202107, 202108, 202109, 202110, 202111, 202112])]#Lo que hago aquí es obtener la información que ocurrio durnate todo el 2021 para posteriormente sumarlo\n",
        "Chihuahua_2021_Turbo=Chihuahua_2021_Turbo.reset_index()"
      ]
    },
    {
      "cell_type": "code",
      "execution_count": 17,
      "metadata": {
        "id": "cITgSZJod9OS"
      },
      "outputs": [],
      "source": [
        "#CHIHUAHUA\n",
        "#Chihuahua1 contiene a el estado de Chihuahua que usa Gasavion\n",
        "Chihuahua_Gas=Gass.loc[:,\"Estado\"]==\"Chihuahua\"#De aquellos estados que usan el combustible de Gasavion, separo solo lo que son de Chihuahua y así haré con cada uno de los estados \n",
        "Chihuahua1=Gass.loc[Chihuahua_Gas]\n",
        "#En Chihuahua_2017 tengo al estado de Chihuahua con combustible de Gasavion y que sus cargas de combustible en 2018\n",
        "Chihuahua_2017_Gas=Chihuahua1[Chihuahua1.Aniomes.isin([201701, 201702, 201703, 201704, 201705, 201706, 201707, 201708, 201709, 201710, 201711, 201712])]#Lo que hago aquí es obtener la información que ocurrió durante todo el 2018 para posteriormente sumarlo\n",
        "Chihuahua_2017_Gas=Chihuahua_2017_Gas.reset_index()\n",
        "#En Chihuahua_2018 tengo al estado de Chihuahua con combustible de Gasavion y que sus cargas de combustible en 2018\n",
        "Chihuahua_2018_Gas=Chihuahua1[Chihuahua1.Aniomes.isin([201801, 201802, 201803, 201804, 201805, 201806, 201807, 201808, 201809, 201810, 201811, 201812])]#Lo que hago aquí es obtener la información que ocurrió durante todo el 2018 para posteriormente sumarlo\n",
        "Chihuahua_2018_Gas=Chihuahua_2018_Gas.reset_index()\n",
        "#En Chihuahua_2019 tengo al estado de Chihuahua con combustible de Gasavion y que sus cargas de combustible en 2019\n",
        "Chihuahua_2019_Gas=Chihuahua1[Chihuahua1.Aniomes.isin([201901, 201902, 201903, 201904, 201905, 201906, 201907, 201908, 201909, 201910, 201911, 201912])]#Lo que hago aquí es obtener la información que ocurrió durante todo el 2019 para posteriormente sumarlo\n",
        "Chihuahua_2019_Gas=Chihuahua_2019_Gas.reset_index()\n",
        "#En Chihuahua_2020 tengo al estado de Chihuahua con combustible de Gasavion y que sus cargas de combustible en 2020\n",
        "Chihuahua_2020_Gas=Chihuahua1[Chihuahua1.Aniomes.isin([202001, 202002, 202003, 202004, 202005, 202006, 202007, 202008, 202009, 202010, 202011, 202012])]#Lo que hago aquí es obtener la información que ocurrió durante todo el 2020 para posteriormente sumarlo\n",
        "Chihuahua_2020_Gas=Chihuahua_2020_Gas.reset_index()\n",
        "#En Chihuahua_2021 tengo al estado de Chihuahua con combustible de Gasavion y que sus cargas de combustible en 2021\n",
        "Chihuahua_2021_Gas=Chihuahua1[Chihuahua1.Aniomes.isin([202101, 202102, 202103, 202104, 202105, 202106, 202107, 202108, 202109, 202110, 202111, 202112])]#Lo que hago aquí es obtener la información que ocurrió durante todo el 2021 para posteriormente sumarlo\n",
        "Chihuahua_2021_Gas=Chihuahua_2021_Gas.reset_index()"
      ]
    },
    {
      "cell_type": "code",
      "execution_count": 18,
      "metadata": {
        "id": "qOXMylqhArnZ"
      },
      "outputs": [],
      "source": [
        "#COAHUILA\n",
        "#Coahuila1 contiene a el estado de Coahuila que usa Turbosina\n",
        "Coahuila_Turbo=Turbos.loc[:,\"Estado\"]==\"Coahuila\"#De aquellos estados que usan el combustible de Turbosina, separo solo lo que son de Chihuahua y así haré con cada uno de los estados \n",
        "Coahuila1=Turbos.loc[Coahuila_Turbo]\n",
        "#En Coahuila_2017 tengo al estado de Coahuila con combustible de Turbosina y que sus cargas de combustible en 2017\n",
        "Coahuila_2017_Turbo=Coahuila1[Coahuila1.Aniomes.isin([201701, 201702, 201703, 201704, 201705, 201706, 201707, 201708, 201709, 201710, 201711, 201712])]#Lo que hago aquí es obtener la información que ocurrio durnate todo el 2017 para posteriormente sumarlo\n",
        "Coahuila_2017_Turbo=Coahuila_2017_Turbo.reset_index()\n",
        "#En Coahuila_2018 tengo al estado de Coahuila con combustible de Turbosina y que sus cargas de combustible en 2018\n",
        "Coahuila_2018_Turbo=Coahuila1[Coahuila1.Aniomes.isin([201801, 201802, 201803, 201804, 201805, 201806, 201807, 201808, 201809, 201810, 201811, 201812])]#Lo que hago aquí es obtener la información que ocurrio durnate todo el 2018 para posteriormente sumarlo\n",
        "Coahuila_2018_Turbo=Coahuila_2018_Turbo.reset_index()\n",
        "#En Coahuila_2019 tengo al estado de Coahuila con combustible de Turbosina y que sus cargas de combustible en 2019\n",
        "Coahuila_2019_Turbo=Coahuila1[Coahuila1.Aniomes.isin([201901, 201902, 201903, 201904, 201905, 201906, 201907, 201908, 201909, 201910, 201911, 201912])]#Lo que hago aquí es obtener la información que ocurrio durnate todo el 2019 para posteriormente sumarlo\n",
        "Coahuila_2019_Turbo=Coahuila_2019_Turbo.reset_index()\n",
        "#En Coahuila_2020 tengo al estado de Coahuila con combustible de Turbosina y que sus cargas de combustible en 2020\n",
        "Coahuila_2020_Turbo=Coahuila1[Coahuila1.Aniomes.isin([202001, 202002, 202003, 202004, 202005, 202006, 202007, 202008, 202009, 202010, 202011, 202012])]#Lo que hago aquí es obtener la información que ocurrio durnate todo el 2020 para posteriormente sumarlo\n",
        "Coahuila_2020_Turbo=Coahuila_2020_Turbo.reset_index()\n",
        "#En Coahuila_2021 tengo al estado de Coahuila con combustible de Turbosina y que sus cargas de combustible en 2021\n",
        "Coahuila_2021_Turbo=Coahuila1[Coahuila1.Aniomes.isin([202101, 202102, 202103, 202104, 202105, 202106, 202107, 202108, 202109, 202110, 202111, 202112])]#Lo que hago aquí es obtener la información que ocurrio durnate todo el 2021 para posteriormente sumarlo\n",
        "Coahuila_2021_Turbo=Coahuila_2021_Turbo.reset_index()"
      ]
    },
    {
      "cell_type": "code",
      "execution_count": 19,
      "metadata": {
        "id": "slIsZoKieG2Q"
      },
      "outputs": [],
      "source": [
        "#COAHUILA\n",
        "#Coahuila1 contiene a el estado de Coahuila que usa Gasavion\n",
        "Coahuila_Gas=Gass.loc[:,\"Estado\"]==\"Coahuila\"#De aquellos estados que usan el combustible de Gasavion, separo solo lo que son de Coahuila y así haré con cada uno de los estados \n",
        "Coahuila1=Gass.loc[Coahuila_Gas]\n",
        "#En Coahuila_2017 tengo al estado de Coahuila con combustible de Gasavion y que sus cargas de combustible en 2018\n",
        "Coahuila_2017_Gas=Coahuila1[Coahuila1.Aniomes.isin([201701, 201702, 201703, 201704, 201705, 201706, 201707, 201708, 201709, 201710, 201711, 201712])]#Lo que hago aquí es obtener la información que ocurrió durante todo el 2018 para posteriormente sumarlo\n",
        "Coahuila_2017_Gas=Coahuila_2017_Gas.reset_index()\n",
        "#En Coahuila_2018 tengo al estado de Coahuila con combustible de Gasavion y que sus cargas de combustible en 2018\n",
        "Coahuila_2018_Gas=Coahuila1[Coahuila1.Aniomes.isin([201801, 201802, 201803, 201804, 201805, 201806, 201807, 201808, 201809, 201810, 201811, 201812])]#Lo que hago aquí es obtener la información que ocurrió durante todo el 2018 para posteriormente sumarlo\n",
        "Coahuila_2018_Gas=Coahuila_2018_Gas.reset_index()\n",
        "#En Coahuila_2019 tengo al estado de Coahuila con combustible de Gasavion y que sus cargas de combustible en 2019\n",
        "Coahuila_2019_Gas=Coahuila1[Coahuila1.Aniomes.isin([201901, 201902, 201903, 201904, 201905, 201906, 201907, 201908, 201909, 201910, 201911, 201912])]#Lo que hago aquí es obtener la información que ocurrió durante todo el 2019 para posteriormente sumarlo\n",
        "Coahuila_2019_Gas=Coahuila_2019_Gas.reset_index()\n",
        "#En Coahuila_2020 tengo al estado de Coahuila con combustible de Gasavion y que sus cargas de combustible en 2020\n",
        "Coahuila_2020_Gas=Coahuila1[Coahuila1.Aniomes.isin([202001, 202002, 202003, 202004, 202005, 202006, 202007, 202008, 202009, 202010, 202011, 202012])]#Lo que hago aquí es obtener la información que ocurrió durante todo el 2020 para posteriormente sumarlo\n",
        "Coahuila_2020_Gas=Coahuila_2020_Gas.reset_index()\n",
        "#En Coahuila_2021 tengo al estado de Coahuila con combustible de Gasavion y que sus cargas de combustible en 2021\n",
        "Coahuila_2021_Gas=Coahuila1[Coahuila1.Aniomes.isin([202101, 202102, 202103, 202104, 202105, 202106, 202107, 202108, 202109, 202110, 202111, 202112])]#Lo que hago aquí es obtener la información que ocurrió durante todo el 2021 para posteriormente sumarlo\n",
        "Coahuila_2021_Gas=Coahuila_2021_Gas.reset_index()"
      ]
    },
    {
      "cell_type": "code",
      "execution_count": 20,
      "metadata": {
        "id": "EQAl5Vk5TzXP"
      },
      "outputs": [],
      "source": [
        "#COLIMA\n",
        "#Colima1 contiene a el estado de Colima que usa Turbosina\n",
        "Colima_Turbo=Turbos.loc[:,\"Estado\"]==\"Colima\"#De aquellos estados que usan el combustible de Turbosina, separo solo lo que son de Colima y así haré con cada uno de los estados \n",
        "Colima1=Turbos.loc[Colima_Turbo]\n",
        "#En Colima_2017 tengo al estado de Colima con combustible de Turbosina y que sus cargas de combustible en 2017\n",
        "Colima_2017_Turbo=Colima1[Colima1.Aniomes.isin([201701, 201702, 201703, 201704, 201705, 201706, 201707, 201708, 201709, 201710, 201711, 201712])]#Lo que hago aquí es obtener la información que ocurrio durnate todo el 2017 para posteriormente sumarlo\n",
        "Colima_2017_Turbo=Colima_2017_Turbo.reset_index()\n",
        "#En Colima_2018 tengo al estado de Colima con combustible de Turbosina y que sus cargas de combustible en 2018\n",
        "Colima_2018_Turbo=Colima1[Colima1.Aniomes.isin([201801, 201802, 201803, 201804, 201805, 201806, 201807, 201808, 201809, 201810, 201811, 201812])]#Lo que hago aquí es obtener la información que ocurrio durnate todo el 2018 para posteriormente sumarlo\n",
        "Colima_2018_Turbo=Colima_2018_Turbo.reset_index()\n",
        "#En Colima_2019 tengo al estado de Colima con combustible de Turbosina y que sus cargas de combustible en 2019\n",
        "Colima_2019_Turbo=Colima1[Colima1.Aniomes.isin([201901, 201902, 201903, 201904, 201905, 201906, 201907, 201908, 201909, 201910, 201911, 201912])]#Lo que hago aquí es obtener la información que ocurrio durnate todo el 2019 para posteriormente sumarlo\n",
        "Colima_2019_Turbo=Colima_2019_Turbo.reset_index()\n",
        "#En Colima_2020 tengo al estado de Colima con combustible de Turbosina y que sus cargas de combustible en 2020\n",
        "Colima_2020_Turbo=Colima1[Colima1.Aniomes.isin([202001, 202002, 202003, 202004, 202005, 202006, 202007, 202008, 202009, 202010, 202011, 202012])]#Lo que hago aquí es obtener la información que ocurrio durnate todo el 2020 para posteriormente sumarlo\n",
        "Colima_2020_Turbo=Colima_2020_Turbo.reset_index()\n",
        "#En Colima_2021 tengo al estado de Colima con combustible de Turbosina y que sus cargas de combustible en 2021\n",
        "Colima_2021_Turbo=Colima1[Colima1.Aniomes.isin([202101, 202102, 202103, 202104, 202105, 202106, 202107, 202108, 202109, 202110, 202111, 202112])]#Lo que hago aquí es obtener la información que ocurrio durnate todo el 2021 para posteriormente sumarlo\n",
        "Colima_2021_Turbo=Colima_2021_Turbo.reset_index()"
      ]
    },
    {
      "cell_type": "code",
      "execution_count": 21,
      "metadata": {
        "id": "2lAnCeG-eIOx"
      },
      "outputs": [],
      "source": [
        "#COLIMA\n",
        "#Colima1 contiene a el estado de Colima que usa Gasavion\n",
        "Colima_Gas=Gass.loc[:,\"Estado\"]==\"Colima\"#De aquellos estados que usan el combustible de Gasavion, separo solo lo que son de Colima y así haré con cada uno de los estados \n",
        "Colima1=Gass.loc[Colima_Gas]\n",
        "#En Colima_2017 tengo al estado de Colima con combustible de Gasavion y que sus cargas de combustible en 2018\n",
        "Colima_2017_Gas=Colima1[Colima1.Aniomes.isin([201701, 201702, 201703, 201704, 201705, 201706, 201707, 201708, 201709, 201710, 201711, 201712])]#Lo que hago aquí es obtener la información que ocurrió durante todo el 2018 para posteriormente sumarlo\n",
        "Colima_2017_Gas=Colima_2017_Gas.reset_index()\n",
        "#En Colima_2018 tengo al estado de Colima con combustible de Gasavion y que sus cargas de combustible en 2018\n",
        "Colima_2018_Gas=Colima1[Colima1.Aniomes.isin([201801, 201802, 201803, 201804, 201805, 201806, 201807, 201808, 201809, 201810, 201811, 201812])]#Lo que hago aquí es obtener la información que ocurrió durante todo el 2018 para posteriormente sumarlo\n",
        "Colima_2018_Gas=Colima_2018_Gas.reset_index()\n",
        "#En Colima_2019 tengo al estado de Colima con combustible de Gasavion y que sus cargas de combustible en 2019\n",
        "Colima_2019_Gas=Colima1[Colima1.Aniomes.isin([201901, 201902, 201903, 201904, 201905, 201906, 201907, 201908, 201909, 201910, 201911, 201912])]#Lo que hago aquí es obtener la información que ocurrió durante todo el 2019 para posteriormente sumarlo\n",
        "Colima_2019_Gas=Colima_2019_Gas.reset_index()\n",
        "#En Colima_2020 tengo al estado de Colima con combustible de Gasavion y que sus cargas de combustible en 2020\n",
        "Colima_2020_Gas=Colima1[Colima1.Aniomes.isin([202001, 202002, 202003, 202004, 202005, 202006, 202007, 202008, 202009, 202010, 202011, 202012])]#Lo que hago aquí es obtener la información que ocurrió durante todo el 2020 para posteriormente sumarlo\n",
        "Colima_2020_Gas=Colima_2020_Gas.reset_index()\n",
        "#En Colima_2021 tengo al estado de Colima con combustible de Gasavion y que sus cargas de combustible en 2021\n",
        "Colima_2021_Gas=Colima1[Colima1.Aniomes.isin([202101, 202102, 202103, 202104, 202105, 202106, 202107, 202108, 202109, 202110, 202111, 202112])]#Lo que hago aquí es obtener la información que ocurrió durante todo el 2021 para posteriormente sumarlo\n",
        "Colima_2021_Gas=Colima_2021_Gas.reset_index()"
      ]
    },
    {
      "cell_type": "code",
      "execution_count": 22,
      "metadata": {
        "id": "vo0pXGuiAGQe"
      },
      "outputs": [],
      "source": [
        "#DISTRITO FEDERAL\n",
        "#Distrito Federal1 contiene a el estado de Distrito Federal que usa Turbosina\n",
        "DistritoFederal_Turbo=Turbos.loc[:,\"Estado\"]==\"Distrito Federal\"#De aquellos estados que usan el combustible de Turbosina, separo solo lo que son de Distrito Federal y así haré con cada uno de los estados \n",
        "DistritoFederal1=Turbos.loc[DistritoFederal_Turbo]\n",
        "#En DistritoFederal_2017 tengo al estado de DistritoFederal con combustible de Turbosina y que sus cargas de combustible en 2017\n",
        "DistritoFederal_2017_Turbo=DistritoFederal1[DistritoFederal1.Aniomes.isin([201701, 201702, 201703, 201704, 201705, 201706, 201707, 201708, 201709, 201710, 201711, 201712])]#Lo que hago aquí es obtener la información que ocurrio durnate todo el 2017 para posteriormente sumarlo\n",
        "DistritoFederal_2017_Turbo=DistritoFederal_2017_Turbo.reset_index()\n",
        "#En Distrito Federal_2018 tengo al estado de Distrito Federal con combustible de Turbosina y que sus cargas de combustible en 2018\n",
        "DistritoFederal_2018_Turbo=DistritoFederal1[DistritoFederal1.Aniomes.isin([201801, 201802, 201803, 201804, 201805, 201806, 201807, 201808, 201809, 201810, 201811, 201812])]#Lo que hago aquí es obtener la información que ocurrio durnate todo el 2018 para posteriormente sumarlo\n",
        "DistritoFederal_2018_Turbo=DistritoFederal_2018_Turbo.reset_index()\n",
        "#En Distrito Federal_2019 tengo al estado de Distrito Federal con combustible de Turbosina y que sus cargas de combustible en 2019\n",
        "DistritoFederal_2019_Turbo=DistritoFederal1[DistritoFederal1.Aniomes.isin([201901, 201902, 201903, 201904, 201905, 201906, 201907, 201908, 201909, 201910, 201911, 201912])]#Lo que hago aquí es obtener la información que ocurrio durnate todo el 2019 para posteriormente sumarlo\n",
        "DistritoFederal_2019_Turbo=DistritoFederal_2019_Turbo.reset_index()\n",
        "#En Distrito Federal_2020 tengo al estado de Distrito Federal con combustible de Turbosina y que sus cargas de combustible en 2020\n",
        "DistritoFederal_2020_Turbo=DistritoFederal1[DistritoFederal1.Aniomes.isin([202001, 202002, 202003, 202004, 202005, 202006, 202007, 202008, 202009, 202010, 202011, 202012])]#Lo que hago aquí es obtener la información que ocurrio durnate todo el 2020 para posteriormente sumarlo\n",
        "DistritoFederal_2020_Turbo=DistritoFederal_2020_Turbo.reset_index()\n",
        "#En Distrito Federal_2021 tengo al estado de Distrito Federal con combustible de Turbosina y que sus cargas de combustible en 2021\n",
        "DistritoFederal_2021_Turbo=DistritoFederal1[DistritoFederal1.Aniomes.isin([202101, 202102, 202103, 202104, 202105, 202106, 202107, 202108, 202109, 202110, 202111, 202112])]#Lo que hago aquí es obtener la información que ocurrio durnate todo el 2021 para posteriormente sumarlo\n",
        "DistritoFederal_2021_Turbo=DistritoFederal_2021_Turbo.reset_index()"
      ]
    },
    {
      "cell_type": "code",
      "execution_count": 23,
      "metadata": {
        "id": "uDDfQnYaef_K"
      },
      "outputs": [],
      "source": [
        "#DISTRITOFEDERAL\n",
        "#DistritoFederal1 contiene a el estado de DistritoFederal que usa Gasavion\n",
        "DistritoFederal_Gas=Gass.loc[:,\"Estado\"]==\"Distrito Federal\"#De aquellos estados que usan el combustible de Gasavion, separo solo lo que son de DistritoFederal y así haré con cada uno de los estados \n",
        "DistritoFederal1=Gass.loc[DistritoFederal_Gas]\n",
        "#En DistritoFederal_2017 tengo al estado de DistritoFederal con combustible de Gasavion y que sus cargas de combustible en 2018\n",
        "DistritoFederal_2017_Gas=DistritoFederal1[DistritoFederal1.Aniomes.isin([201701, 201702, 201703, 201704, 201705, 201706, 201707, 201708, 201709, 201710, 201711, 201712])]#Lo que hago aquí es obtener la información que ocurrió durante todo el 2018 para posteriormente sumarlo\n",
        "DistritoFederal_2017_Gas=DistritoFederal_2017_Gas.reset_index()\n",
        "#En DistritoFederal_2018 tengo al estado de DistritoFederal con combustible de Gasavion y que sus cargas de combustible en 2018\n",
        "DistritoFederal_2018_Gas=DistritoFederal1[DistritoFederal1.Aniomes.isin([201801, 201802, 201803, 201804, 201805, 201806, 201807, 201808, 201809, 201810, 201811, 201812])]#Lo que hago aquí es obtener la información que ocurrió durante todo el 2018 para posteriormente sumarlo\n",
        "DistritoFederal_2018_Gas=DistritoFederal_2018_Gas.reset_index()\n",
        "#En DistritoFederal_2019 tengo al estado de DistritoFederal con combustible de Gasavion y que sus cargas de combustible en 2019\n",
        "DistritoFederal_2019_Gas=DistritoFederal1[DistritoFederal1.Aniomes.isin([201901, 201902, 201903, 201904, 201905, 201906, 201907, 201908, 201909, 201910, 201911, 201912])]#Lo que hago aquí es obtener la información que ocurrió durante todo el 2019 para posteriormente sumarlo\n",
        "DistritoFederal_2019_Gas=DistritoFederal_2019_Gas.reset_index()\n",
        "#En DistritoFederal_2020 tengo al estado de DistritoFederal con combustible de Gasavion y que sus cargas de combustible en 2020\n",
        "DistritoFederal_2020_Gas=DistritoFederal1[DistritoFederal1.Aniomes.isin([202001, 202002, 202003, 202004, 202005, 202006, 202007, 202008, 202009, 202010, 202011, 202012])]#Lo que hago aquí es obtener la información que ocurrió durante todo el 2020 para posteriormente sumarlo\n",
        "DistritoFederal_2020_Gas=DistritoFederal_2020_Gas.reset_index()\n",
        "#En DistritoFederal_2021 tengo al estado de DistritoFederal con combustible de Gasavion y que sus cargas de combustible en 2021\n",
        "DistritoFederal_2021_Gas=DistritoFederal1[DistritoFederal1.Aniomes.isin([202101, 202102, 202103, 202104, 202105, 202106, 202107, 202108, 202109, 202110, 202111, 202112])]#Lo que hago aquí es obtener la información que ocurrió durante todo el 2021 para posteriormente sumarlo\n",
        "DistritoFederal_2021_Gas=DistritoFederal_2021_Gas.reset_index()\n"
      ]
    },
    {
      "cell_type": "code",
      "execution_count": 24,
      "metadata": {
        "id": "UnTRwUqs1g6y"
      },
      "outputs": [],
      "source": [
        "#DURANGO\n",
        "#Durango1 contiene a el estado de Durango que usa Turbosina\n",
        "Durango_Turbo=Turbos.loc[:,\"Estado\"]==\"Durango\"#De aquellos estados que usan el combustible de Turbosina, separo solo lo que son de Durango y así haré con cada uno de los estados \n",
        "Durango1=Turbos.loc[Durango_Turbo]\n",
        "#En Durango_2017 tengo al estado de Durango con combustible de Turbosina y que sus cargas de combustible en 2017\n",
        "Durango_2017_Turbo=Durango1[Durango1.Aniomes.isin([201701, 201702, 201703, 201704, 201705, 201706, 201707, 201708, 201709, 201710, 201711, 201712])]#Lo que hago aquí es obtener la información que ocurrio durnate todo el 2017 para posteriormente sumarlo\n",
        "Durango_2017_Turbo=Durango_2017_Turbo.reset_index()\n",
        "#En Durango_2018 tengo al estado de Durango con combustible de Turbosina y que sus cargas de combustible en 2018\n",
        "Durango_2018_Turbo=Durango1[Durango1.Aniomes.isin([201801, 201802, 201803, 201804, 201805, 201806, 201807, 201808, 201809, 201810, 201811, 201812])]#Lo que hago aquí es obtener la información que ocurrio durnate todo el 2018 para posteriormente sumarlo\n",
        "Durango_2018_Turbo=Durango_2018_Turbo.reset_index()\n",
        "#En Durango_2019 tengo al estado de Durangocon combustible de Turbosina y que sus cargas de combustible en 2019\n",
        "Durango_2019_Turbo=Durango1[Durango1.Aniomes.isin([201901, 201902, 201903, 201904, 201905, 201906, 201907, 201908, 201909, 201910, 201911, 201912])]#Lo que hago aquí es obtener la información que ocurrio durnate todo el 2019 para posteriormente sumarlo\n",
        "Durango2019_Turbo=Durango_2019_Turbo.reset_index()\n",
        "#En Durango_2020 tengo al estado de Durango con combustible de Turbosina y que sus cargas de combustible en 2020\n",
        "Durango_2020_Turbo=Durango1[Durango1.Aniomes.isin([202001, 202002, 202003, 202004, 202005, 202006, 202007, 202008, 202009, 202010, 202011, 202012])]#Lo que hago aquí es obtener la información que ocurrio durnate todo el 2020 para posteriormente sumarlo\n",
        "Durango_2020_Turbo=Durango_2020_Turbo.reset_index()\n",
        "#En Durango_2021 tengo al estado de Durango con combustible de Turbosina y que sus cargas de combustible en 2021\n",
        "Durango_2021_Turbo=Durango1[Durango1.Aniomes.isin([202101, 202102, 202103, 202104, 202105, 202106, 202107, 202108, 202109, 202110, 202111, 202112])]#Lo que hago aquí es obtener la información que ocurrio durnate todo el 2021 para posteriormente sumarlo\n",
        "Durango_2021_Turbo=Durango_2021_Turbo.reset_index()"
      ]
    },
    {
      "cell_type": "code",
      "execution_count": 25,
      "metadata": {
        "id": "LG1gOKLBeqgP"
      },
      "outputs": [],
      "source": [
        "#DURANGO\n",
        "#Durango1 contiene a el estado de Durango que usa Gasavion\n",
        "Durango_Gas=Gass.loc[:,\"Estado\"]==\"Durango\"#De aquellos estados que usan el combustible de Gasavion, separo solo lo que son de Durango y así haré con cada uno de los estados \n",
        "Durango1=Gass.loc[Durango_Gas]\n",
        "#En Durango_2017 tengo al estado de Durango con combustible de Gasavion y que sus cargas de combustible en 2018\n",
        "Durango_2017_Gas=Durango1[Durango1.Aniomes.isin([201701, 201702, 201703, 201704, 201705, 201706, 201707, 201708, 201709, 201710, 201711, 201712])]#Lo que hago aquí es obtener la información que ocurrió durante todo el 2018 para posteriormente sumarlo\n",
        "Durango_2017_Gas=Durango_2017_Gas.reset_index()\n",
        "#En Durango_2018 tengo al estado de Durango con combustible de Gasavion y que sus cargas de combustible en 2018\n",
        "Durango_2018_Gas=Durango1[Durango1.Aniomes.isin([201801, 201802, 201803, 201804, 201805, 201806, 201807, 201808, 201809, 201810, 201811, 201812])]#Lo que hago aquí es obtener la información que ocurrió durante todo el 2018 para posteriormente sumarlo\n",
        "Durango_2018_Gas=Durango_2018_Gas.reset_index()\n",
        "#En Durango_2019 tengo al estado de Durango con combustible de Gasavion y que sus cargas de combustible en 2019\n",
        "Durango_2019_Gas=Durango1[Durango1.Aniomes.isin([201901, 201902, 201903, 201904, 201905, 201906, 201907, 201908, 201909, 201910, 201911, 201912])]#Lo que hago aquí es obtener la información que ocurrió durante todo el 2019 para posteriormente sumarlo\n",
        "Durango_2019_Gas=Durango_2019_Gas.reset_index()\n",
        "#En Durango_2020 tengo al estado de Durango con combustible de Gasavion y que sus cargas de combustible en 2020\n",
        "Durango_2020_Gas=Durango1[Durango1.Aniomes.isin([202001, 202002, 202003, 202004, 202005, 202006, 202007, 202008, 202009, 202010, 202011, 202012])]#Lo que hago aquí es obtener la información que ocurrió durante todo el 2020 para posteriormente sumarlo\n",
        "Durango_2020_Gas=Durango_2020_Gas.reset_index()\n",
        "#En Durango_2021 tengo al estado de Durango con combustible de Gasavion y que sus cargas de combustible en 2021\n",
        "Durango_2021_Gas=Durango1[Durango1.Aniomes.isin([202101, 202102, 202103, 202104, 202105, 202106, 202107, 202108, 202109, 202110, 202111, 202112])]#Lo que hago aquí es obtener la información que ocurrió durante todo el 2021 para posteriormente sumarlo\n",
        "Durango_2021_Gas=Durango_2021_Gas.reset_index()"
      ]
    },
    {
      "cell_type": "code",
      "execution_count": 26,
      "metadata": {
        "id": "rb0Gd8VkH4Sq"
      },
      "outputs": [],
      "source": [
        "#ESTADO DE MEXICO\n",
        "#EstadodeMexico1 contiene a el estado de EstadodeMexico que usa Turbosina\n",
        "EstadodeMexico_Turbo=Turbos.loc[:,\"Estado\"]==\"Estado De Mexico\"#De aquellos estados que usan el combustible de Turbosina, separo solo lo que son de Guanajuato y así haré con cada uno de los estados \n",
        "EstadodeMexico1=Turbos.loc[EstadodeMexico_Turbo]\n",
        "#En EstadodeMexico_2017 tengo al estado de EstadodeMexico con combustible de Turbosina y que sus cargas de combustible en 2017\n",
        "EstadodeMexico_2017_Turbo=EstadodeMexico1[EstadodeMexico1.Aniomes.isin([201701, 201702, 201703, 201704, 201705, 201706, 201707, 201708, 201709, 201710, 201711, 201712])]#Lo que hago aquí es obtener la información que ocurrio durnate todo el 2017 para posteriormente sumarlo\n",
        "EstadodeMexico_2017_Turbo=EstadodeMexico_2017_Turbo.reset_index()\n",
        "#En EstadodeMexico_2018 tengo al estado de EstadodeMexico con combustible de Turbosina y que sus cargas de combustible en 2018\n",
        "EstadodeMexico_2018_Turbo=EstadodeMexico1[EstadodeMexico1.Aniomes.isin([201801, 201802, 201803, 201804, 201805, 201806, 201807, 201808, 201809, 201810, 201811, 201812])]#Lo que hago aquí es obtener la información que ocurrio durnate todo el 2018 para posteriormente sumarlo\n",
        "EstadodeMexico_2018_Turbo=EstadodeMexico_2018_Turbo.reset_index()\n",
        "#En EstadodeMexico_2019 tengo al estado de EstadodeMexico con combustible de Turbosina y que sus cargas de combustible en 2019\n",
        "EstadodeMexico_2019_Turbo=EstadodeMexico1[EstadodeMexico1.Aniomes.isin([201901, 201902, 201903, 201904, 201905, 201906, 201907, 201908, 201909, 201910, 201911, 201912])]#Lo que hago aquí es obtener la información que ocurrio durnate todo el 2019 para posteriormente sumarlo\n",
        "EstadodeMexico_2019_Turbo=EstadodeMexico_2019_Turbo.reset_index()\n",
        "#En EstadodeMexico_2020 tengo al estado de EstadodeMexico con combustible de Turbosina y que sus cargas de combustible en 2020\n",
        "EstadodeMexico_2020_Turbo=EstadodeMexico1[EstadodeMexico1.Aniomes.isin([202001, 202002, 202003, 202004, 202005, 202006, 202007, 202008, 202009, 202010, 202011, 202012])]#Lo que hago aquí es obtener la información que ocurrio durnate todo el 2020 para posteriormente sumarlo\n",
        "EstadodeMexico_2020_Turbo=EstadodeMexico_2020_Turbo.reset_index()\n",
        "#En EstadodeMexico_2021 tengo al estado de EstadodeMexico con combustible de Turbosina y que sus cargas de combustible en 2021\n",
        "EstadodeMexico_2021_Turbo=EstadodeMexico1[EstadodeMexico1.Aniomes.isin([202101, 202102, 202103, 202104, 202105, 202106, 202107, 202108, 202109, 202110, 202111, 202112])]#Lo que hago aquí es obtener la información que ocurrio durnate todo el 2021 para posteriormente sumarlo\n",
        "EstadodeMexico_2021_Turbo=EstadodeMexico_2021_Turbo.reset_index()"
      ]
    },
    {
      "cell_type": "code",
      "execution_count": 27,
      "metadata": {
        "id": "NTOZ2jGie5mr"
      },
      "outputs": [],
      "source": [
        "#ESTADODEMEXICO\n",
        "#EstadodeMexico1 contiene a el estado de EstadodeMexico que usa Gasavion\n",
        "EstadodeMexico_Gas=Gass.loc[:,\"Estado\"]==\"Estado De Mexico\"#De aquellos estados que usan el combustible de Gasavion, separo solo lo que son de EstadodeMexico y así haré con cada uno de los estados \n",
        "EstadodeMexico1=Gass.loc[EstadodeMexico_Gas]\n",
        "#En EstadodeMexico_2017 tengo al estado de EstadodeMexico con combustible de Gasavion y que sus cargas de combustible en 2018\n",
        "EstadodeMexico_2017_Gas=EstadodeMexico1[EstadodeMexico1.Aniomes.isin([201701, 201702, 201703, 201704, 201705, 201706, 201707, 201708, 201709, 201710, 201711, 201712])]#Lo que hago aquí es obtener la información que ocurrió durante todo el 2018 para posteriormente sumarlo\n",
        "EstadodeMexico_2017_Gas=EstadodeMexico_2017_Gas.reset_index()\n",
        "#En EstadodeMexico_2018 tengo al estado de EstadodeMexico con combustible de Gasavion y que sus cargas de combustible en 2018\n",
        "EstadodeMexico_2018_Gas=EstadodeMexico1[EstadodeMexico1.Aniomes.isin([201801, 201802, 201803, 201804, 201805, 201806, 201807, 201808, 201809, 201810, 201811, 201812])]#Lo que hago aquí es obtener la información que ocurrió durante todo el 2018 para posteriormente sumarlo\n",
        "EstadodeMexico_2018_Gas=EstadodeMexico_2018_Gas.reset_index()\n",
        "#En EstadodeMexico_2019 tengo al estado de EstadodeMexico con combustible de Gasavion y que sus cargas de combustible en 2019\n",
        "EstadodeMexico_2019_Gas=EstadodeMexico1[EstadodeMexico1.Aniomes.isin([201901, 201902, 201903, 201904, 201905, 201906, 201907, 201908, 201909, 201910, 201911, 201912])]#Lo que hago aquí es obtener la información que ocurrió durante todo el 2019 para posteriormente sumarlo\n",
        "EstadodeMexico_2019_Gas=EstadodeMexico_2019_Gas.reset_index()\n",
        "#En EstadodeMexico_2020 tengo al estado de EstadodeMexico con combustible de Gasavion y que sus cargas de combustible en 2020\n",
        "EstadodeMexico_2020_Gas=EstadodeMexico1[EstadodeMexico1.Aniomes.isin([202001, 202002, 202003, 202004, 202005, 202006, 202007, 202008, 202009, 202010, 202011, 202012])]#Lo que hago aquí es obtener la información que ocurrió durante todo el 2020 para posteriormente sumarlo\n",
        "EstadodeMexico_2020_Gas=EstadodeMexico_2020_Gas.reset_index()\n",
        "#En EstadodeMexico_2021 tengo al estado de EstadodeMexico con combustible de Gasavion y que sus cargas de combustible en 2021\n",
        "EstadodeMexico_2021_Gas=EstadodeMexico1[EstadodeMexico1.Aniomes.isin([202101, 202102, 202103, 202104, 202105, 202106, 202107, 202108, 202109, 202110, 202111, 202112])]#Lo que hago aquí es obtener la información que ocurrió durante todo el 2021 para posteriormente sumarlo\n",
        "EstadodeMexico_2021_Gas=EstadodeMexico_2021_Gas.reset_index()"
      ]
    },
    {
      "cell_type": "code",
      "execution_count": 28,
      "metadata": {
        "id": "yf8-2677TOG1"
      },
      "outputs": [],
      "source": [
        "#GUANAJUATO\n",
        "#Guanajuato1 contiene a el estado de Guanajuato que usa Turbosina\n",
        "Guanajuato_Turbo=Turbos.loc[:,\"Estado\"]==\"Guanajuato\"#De aquellos estados que usan el combustible de Turbosina, separo solo lo que son de Guanajuato y así haré con cada uno de los estados \n",
        "Guanajuato1=Turbos.loc[Guanajuato_Turbo]\n",
        "#En Guanajuato_2017 tengo al estado de Guanajuato con combustible de Turbosina y que sus cargas de combustible en 2017\n",
        "Guanajuato_2017_Turbo=Guanajuato1[Guanajuato1.Aniomes.isin([201701, 201702, 201703, 201704, 201705, 201706, 201707, 201708, 201709, 201710, 201711, 201712])]#Lo que hago aquí es obtener la información que ocurrio durnate todo el 2017 para posteriormente sumarlo\n",
        "Guanajuato_2017_Turbo=Guanajuato_2017_Turbo.reset_index()\n",
        "#En Guanajuato_2018 tengo al estado de Guanajuato con combustible de Turbosina y que sus cargas de combustible en 2018\n",
        "Guanajuato_2018_Turbo=Guanajuato1[Guanajuato1.Aniomes.isin([201801, 201802, 201803, 201804, 201805, 201806, 201807, 201808, 201809, 201810, 201811, 201812])]#Lo que hago aquí es obtener la información que ocurrio durnate todo el 2018 para posteriormente sumarlo\n",
        "Guanajuato_2018_Turbo=Guanajuato_2018_Turbo.reset_index()\n",
        "#En Guanajuato_2019 tengo al estado de Guanajuato con combustible de Turbosina y que sus cargas de combustible en 2019\n",
        "Guanajuato_2019_Turbo=Guanajuato1[Guanajuato1.Aniomes.isin([201901, 201902, 201903, 201904, 201905, 201906, 201907, 201908, 201909, 201910, 201911, 201912])]#Lo que hago aquí es obtener la información que ocurrio durnate todo el 2019 para posteriormente sumarlo\n",
        "Guanajuato_2019_Turbo=Guanajuato_2019_Turbo.reset_index()\n",
        "#En Guanajuato_2020 tengo al estado de Guanajuato con combustible de Turbosina y que sus cargas de combustible en 2020\n",
        "Guanajuato_2020_Turbo=Guanajuato1[Guanajuato1.Aniomes.isin([202001, 202002, 202003, 202004, 202005, 202006, 202007, 202008, 202009, 202010, 202011, 202012])]#Lo que hago aquí es obtener la información que ocurrio durnate todo el 2020 para posteriormente sumarlo\n",
        "Guanajuato_2020_Turbo=Guanajuato_2020_Turbo.reset_index()\n",
        "#En Guanajuato_2021 tengo al estado de Guanajuato con combustible de Turbosina y que sus cargas de combustible en 2021\n",
        "Guanajuato_2021_Turbo=Guanajuato1[Guanajuato1.Aniomes.isin([202101, 202102, 202103, 202104, 202105, 202106, 202107, 202108, 202109, 202110, 202111, 202112])]#Lo que hago aquí es obtener la información que ocurrio durnate todo el 2021 para posteriormente sumarlo\n",
        "Guanajuato_2021_Turbo=Guanajuato_2021_Turbo.reset_index()"
      ]
    },
    {
      "cell_type": "code",
      "execution_count": 29,
      "metadata": {
        "id": "6xa0In7_fFKa"
      },
      "outputs": [],
      "source": [
        "#GUANAJUATO\n",
        "#Guanajuato1 contiene a el estado de Guanajuato que usa Gasavion\n",
        "Guanajuato_Gas=Gass.loc[:,\"Estado\"]==\"Guanajuato\"#De aquellos estados que usan el combustible de Gasavion, separo solo lo que son de Guanajuato y así haré con cada uno de los estados \n",
        "Guanajuato1=Gass.loc[Guanajuato_Gas]\n",
        "#En Guanajuato_2017 tengo al estado de Guanajuato con combustible de Gasavion y que sus cargas de combustible en 2018\n",
        "Guanajuato_2017_Gas=Guanajuato1[Guanajuato1.Aniomes.isin([201701, 201702, 201703, 201704, 201705, 201706, 201707, 201708, 201709, 201710, 201711, 201712])]#Lo que hago aquí es obtener la información que ocurrió durante todo el 2018 para posteriormente sumarlo\n",
        "Guanajuato_2017_Gas=Guanajuato_2017_Gas.reset_index()\n",
        "#En Guanajuato_2018 tengo al estado de Guanajuato con combustible de Gasavion y que sus cargas de combustible en 2018\n",
        "Guanajuato_2018_Gas=Guanajuato1[Guanajuato1.Aniomes.isin([201801, 201802, 201803, 201804, 201805, 201806, 201807, 201808, 201809, 201810, 201811, 201812])]#Lo que hago aquí es obtener la información que ocurrió durante todo el 2018 para posteriormente sumarlo\n",
        "Guanajuato_2018_Gas=Guanajuato_2018_Gas.reset_index()\n",
        "#En Guanajuato_2019 tengo al estado de Guanajuato con combustible de Gasavion y que sus cargas de combustible en 2019\n",
        "Guanajuato_2019_Gas=Guanajuato1[Guanajuato1.Aniomes.isin([201901, 201902, 201903, 201904, 201905, 201906, 201907, 201908, 201909, 201910, 201911, 201912])]#Lo que hago aquí es obtener la información que ocurrió durante todo el 2019 para posteriormente sumarlo\n",
        "Guanajuato_2019_Gas=Guanajuato_2019_Gas.reset_index()\n",
        "#En Guanajuato_2020 tengo al estado de Guanajuato con combustible de Gasavion y que sus cargas de combustible en 2020\n",
        "Guanajuato_2020_Gas=Guanajuato1[Guanajuato1.Aniomes.isin([202001, 202002, 202003, 202004, 202005, 202006, 202007, 202008, 202009, 202010, 202011, 202012])]#Lo que hago aquí es obtener la información que ocurrió durante todo el 2020 para posteriormente sumarlo\n",
        "Guanajuato_2020_Gas=Guanajuato_2020_Gas.reset_index()\n",
        "#En Guanajuato_2021 tengo al estado de Guanajuato con combustible de Gasavion y que sus cargas de combustible en 2021\n",
        "Guanajuato_2021_Gas=Guanajuato1[Guanajuato1.Aniomes.isin([202101, 202102, 202103, 202104, 202105, 202106, 202107, 202108, 202109, 202110, 202111, 202112])]#Lo que hago aquí es obtener la información que ocurrió durante todo el 2021 para posteriormente sumarlo\n",
        "Guanajuato_2021_Gas=Guanajuato_2021_Gas.reset_index()"
      ]
    },
    {
      "cell_type": "code",
      "execution_count": 30,
      "metadata": {
        "id": "CeUEaJqLLhF-"
      },
      "outputs": [],
      "source": [
        "#GUERRERO\n",
        "#Guerrero1 contiene a el estado de guerrero que usa Turbosina\n",
        "Guerrero_Turbo=Turbos.loc[:,\"Estado\"]==\"Guerrero\"#De aquellos estados que usan el combustible de Turbosina, separo solo lo que son de Guerrero y así haré con cada uno de los estados \n",
        "Guerrero1=Turbos.loc[Guerrero_Turbo]\n",
        "#En Guerrero_2017 tengo al estado de Guerrero con combustible de Turbosina y que sus cargas de combustible en 2017\n",
        "Guerrero_2017_Turbo=Guerrero1[Guerrero1.Aniomes.isin([201701, 201702, 201703, 201704, 201705, 201706, 201707, 201708, 201709, 201710, 201711, 201712])]#Lo que hago aquí es obtener la información que ocurrio durnate todo el 2017 para posteriormente sumarlo\n",
        "Guerrero_2017_Turbo=Guerrero_2017_Turbo.reset_index()\n",
        "#En Guerrero_2018 tengo al estado de guerrero con combustible de Turbosina y que sus cargas de combustible en 2018\n",
        "Guerrero_2018_Turbo=Guerrero1[Guerrero1.Aniomes.isin([201801, 201802, 201803, 201804, 201805, 201806, 201807, 201808, 201809, 201810, 201811, 201812])]#Lo que hago aquí es obtener la información que ocurrio durnate todo el 2018 para posteriormente sumarlo\n",
        "Guerrero_2018_Turbo=Guerrero_2018_Turbo.reset_index()\n",
        "#En Guerrero_2019 tengo al estado de guerrero con combustible de Turbosina y que sus cargas de combustible en 2019\n",
        "Guerrero_2019_Turbo=Guerrero1[Guerrero1.Aniomes.isin([201901, 201902, 201903, 201904, 201905, 201906, 201907, 201908, 201909, 201910, 201911, 201912])]#Lo que hago aquí es obtener la información que ocurrio durnate todo el 2019 para posteriormente sumarlo\n",
        "Guerrero_2019_Turbo=Guerrero_2019_Turbo.reset_index()\n",
        "#En Guerrero_2020 tengo al estado de guerrero con combustible de Turbosina y que sus cargas de combustible en 2020\n",
        "Guerrero_2020_Turbo=Guerrero1[Guerrero1.Aniomes.isin([202001, 202002, 202003, 202004, 202005, 202006, 202007, 202008, 202009, 202010, 202011, 202012])]#Lo que hago aquí es obtener la información que ocurrio durnate todo el 2020 para posteriormente sumarlo\n",
        "Guerrero_2020_Turbo=Guerrero_2020_Turbo.reset_index()\n",
        "#En Guerrero_2021 tengo al estado de guerrero con combustible de Turbosina y que sus cargas de combustible en 2021\n",
        "Guerrero_2021_Turbo=Guerrero1[Guerrero1.Aniomes.isin([202101, 202102, 202103, 202104, 202105, 202106, 202107, 202108, 202109, 202110, 202111, 202112])]#Lo que hago aquí es obtener la información que ocurrio durnate todo el 2021 para posteriormente sumarlo\n",
        "Guerrero_2021_Turbo=Guerrero_2021_Turbo.reset_index()"
      ]
    },
    {
      "cell_type": "code",
      "execution_count": 31,
      "metadata": {
        "id": "X1C3r5GtfQFL"
      },
      "outputs": [],
      "source": [
        "#GUERRERO\n",
        "#Guerrero1 contiene a el estado de Guerrero que usa Gasavion\n",
        "Guerrero_Gas=Gass.loc[:,\"Estado\"]==\"Guerrero\"#De aquellos estados que usan el combustible de Gasavion, separo solo lo que son de Guerrero y así haré con cada uno de los estados \n",
        "Guerrero1=Gass.loc[Guerrero_Gas]\n",
        "#En Guerrero_2017 tengo al estado de Guerrero con combustible de Gasavion y que sus cargas de combustible en 2018\n",
        "Guerrero_2017_Gas=Guerrero1[Guerrero1.Aniomes.isin([201701, 201702, 201703, 201704, 201705, 201706, 201707, 201708, 201709, 201710, 201711, 201712])]#Lo que hago aquí es obtener la información que ocurrió durante todo el 2018 para posteriormente sumarlo\n",
        "Guerrero_2017_Gas=Guerrero_2017_Gas.reset_index()\n",
        "#En Guerrero_2018 tengo al estado de Guerrero con combustible de Gasavion y que sus cargas de combustible en 2018\n",
        "Guerrero_2018_Gas=Guerrero1[Guerrero1.Aniomes.isin([201801, 201802, 201803, 201804, 201805, 201806, 201807, 201808, 201809, 201810, 201811, 201812])]#Lo que hago aquí es obtener la información que ocurrió durante todo el 2018 para posteriormente sumarlo\n",
        "Guerrero_2018_Gas=Guerrero_2018_Gas.reset_index()\n",
        "#En Guerrero_2019 tengo al estado de Guerrero con combustible de Gasavion y que sus cargas de combustible en 2019\n",
        "Guerrero_2019_Gas=Guerrero1[Guerrero1.Aniomes.isin([201901, 201902, 201903, 201904, 201905, 201906, 201907, 201908, 201909, 201910, 201911, 201912])]#Lo que hago aquí es obtener la información que ocurrió durante todo el 2019 para posteriormente sumarlo\n",
        "Guerrero_2019_Gas=Guerrero_2019_Gas.reset_index()\n",
        "#En Guerrero_2020 tengo al estado de Guerrero con combustible de Gasavion y que sus cargas de combustible en 2020\n",
        "Guerrero_2020_Gas=Guerrero1[Guerrero1.Aniomes.isin([202001, 202002, 202003, 202004, 202005, 202006, 202007, 202008, 202009, 202010, 202011, 202012])]#Lo que hago aquí es obtener la información que ocurrió durante todo el 2020 para posteriormente sumarlo\n",
        "Guerrero_2020_Gas=Guerrero_2020_Gas.reset_index()\n",
        "#En Guerrero_2021 tengo al estado de Guerrero con combustible de Gasavion y que sus cargas de combustible en 2021\n",
        "Guerrero_2021_Gas=Guerrero1[Guerrero1.Aniomes.isin([202101, 202102, 202103, 202104, 202105, 202106, 202107, 202108, 202109, 202110, 202111, 202112])]#Lo que hago aquí es obtener la información que ocurrió durante todo el 2021 para posteriormente sumarlo\n",
        "Guerrero_2021_Gas=Guerrero_2021_Gas.reset_index()"
      ]
    },
    {
      "cell_type": "code",
      "execution_count": 32,
      "metadata": {
        "id": "ieZDAXqBXPge"
      },
      "outputs": [],
      "source": [
        "#HIDALGO\n",
        "#Hidalgo1 contiene a el estado de Hidalgo que usa Turbosina\n",
        "Hidalgo_Turbo=Turbos.loc[:,\"Estado\"]==\"Hidalgo\"#De aquellos estados que usan el combustible de Turbosina, separo solo lo que son de Hidalgo y así haré con cada uno de los estados \n",
        "Hidalgo1=Turbos.loc[Hidalgo_Turbo]\n",
        "#En Hidalgo_2017 tengo al estado de Hidalgo con combustible de Turbosina y que sus cargas de combustible en 2017\n",
        "Hidalgo_2017_Turbo=Hidalgo1[Hidalgo1.Aniomes.isin([201701, 201702, 201703, 201704, 201705, 201706, 201707, 201708, 201709, 201710, 201711, 201712])]#Lo que hago aquí es obtener la información que ocurrio durnate todo el 2017 para posteriormente sumarlo\n",
        "Hidalgo_2017_Turbo=Hidalgo_2017_Turbo.reset_index()\n",
        "#En Hidalgo_2018 tengo al estado de Hidalgo con combustible de Turbosina y que sus cargas de combustible en 2018\n",
        "Hidalgo_2018_Turbo=Hidalgo1[Hidalgo1.Aniomes.isin([201801, 201802, 201803, 201804, 201805, 201806, 201807, 201808, 201809, 201810, 201811, 201812])]#Lo que hago aquí es obtener la información que ocurrio durnate todo el 2018 para posteriormente sumarlo\n",
        "Hidalgo_2018_Turbo=Hidalgo_2018_Turbo.reset_index()\n",
        "#En Hidalgo_2019 tengo al estado de Hidalgo con combustible de Turbosina y que sus cargas de combustible en 2019\n",
        "Hidalgo_2019_Turbo=Hidalgo1[Hidalgo1.Aniomes.isin([201901, 201902, 201903, 201904, 201905, 201906, 201907, 201908, 201909, 201910, 201911, 201912])]#Lo que hago aquí es obtener la información que ocurrio durnate todo el 2019 para posteriormente sumarlo\n",
        "Hidalgo_2019_Turbo=Hidalgo_2019_Turbo.reset_index()\n",
        "#En Hidalgo_2020 tengo al estado de Hidalgo con combustible de Turbosina y que sus cargas de combustible en 2020\n",
        "Hidalgo_2020_Turbo=Hidalgo1[Hidalgo1.Aniomes.isin([202001, 202002, 202003, 202004, 202005, 202006, 202007, 202008, 202009, 202010, 202011, 202012])]#Lo que hago aquí es obtener la información que ocurrio durnate todo el 2020 para posteriormente sumarlo\n",
        "Hidalgo_2020_Turbo=Hidalgo_2020_Turbo.reset_index()\n",
        "#En Hidalgo_2021 tengo al estado de Hidalgo con combustible de Turbosina y que sus cargas de combustible en 2021\n",
        "Hidalgo_2021_Turbo=Hidalgo1[Hidalgo1.Aniomes.isin([202101, 202102, 202103, 202104, 202105, 202106, 202107, 202108, 202109, 202110, 202111, 202112])]#Lo que hago aquí es obtener la información que ocurrio durnate todo el 2021 para posteriormente sumarlo\n",
        "Hidalgo_2021_Turbo=Hidalgo_2021_Turbo.reset_index()"
      ]
    },
    {
      "cell_type": "code",
      "execution_count": 33,
      "metadata": {
        "id": "v3HWp_iqfejM"
      },
      "outputs": [],
      "source": [
        "#HIDALGO\n",
        "#Hidalgo1 contiene a el estado de Hidalgo que usa Gasavion\n",
        "Hidalgo_Gas=Gass.loc[:,\"Estado\"]==\"Hidalgo\"#De aquellos estados que usan el combustible de Gasavion, separo solo lo que son de Hidalgo y así haré con cada uno de los estados \n",
        "Hidalgo1=Gass.loc[Hidalgo_Gas]\n",
        "#En Hidalgo_2017 tengo al estado de Hidalgo con combustible de Gasavion y que sus cargas de combustible en 2018\n",
        "Hidalgo_2017_Gas=Hidalgo1[Hidalgo1.Aniomes.isin([201701, 201702, 201703, 201704, 201705, 201706, 201707, 201708, 201709, 201710, 201711, 201712])]#Lo que hago aquí es obtener la información que ocurrió durante todo el 2018 para posteriormente sumarlo\n",
        "Hidalgo_2017_Gas=Hidalgo_2017_Gas.reset_index()\n",
        "#En Hidalgo_2018 tengo al estado de Hidalgo con combustible de Gasavion y que sus cargas de combustible en 2018\n",
        "Hidalgo_2018_Gas=Hidalgo1[Hidalgo1.Aniomes.isin([201801, 201802, 201803, 201804, 201805, 201806, 201807, 201808, 201809, 201810, 201811, 201812])]#Lo que hago aquí es obtener la información que ocurrió durante todo el 2018 para posteriormente sumarlo\n",
        "Hidalgo_2018_Gas=Hidalgo_2018_Gas.reset_index()\n",
        "#En Hidalgo_2019 tengo al estado de Hidalgo con combustible de Gasavion y que sus cargas de combustible en 2019\n",
        "Hidalgo_2019_Gas=Hidalgo1[Hidalgo1.Aniomes.isin([201901, 201902, 201903, 201904, 201905, 201906, 201907, 201908, 201909, 201910, 201911, 201912])]#Lo que hago aquí es obtener la información que ocurrió durante todo el 2019 para posteriormente sumarlo\n",
        "Hidalgo_2019_Gas=Hidalgo_2019_Gas.reset_index()\n",
        "#En Hidalgo_2020 tengo al estado de Hidalgo con combustible de Gasavion y que sus cargas de combustible en 2020\n",
        "Hidalgo_2020_Gas=Hidalgo1[Hidalgo1.Aniomes.isin([202001, 202002, 202003, 202004, 202005, 202006, 202007, 202008, 202009, 202010, 202011, 202012])]#Lo que hago aquí es obtener la información que ocurrió durante todo el 2020 para posteriormente sumarlo\n",
        "Hidalgo_2020_Gas=Hidalgo_2020_Gas.reset_index()\n",
        "#En Hidalgo_2021 tengo al estado de Hidalgo con combustible de Gasavion y que sus cargas de combustible en 2021\n",
        "Hidalgo_2021_Gas=Hidalgo1[Hidalgo1.Aniomes.isin([202101, 202102, 202103, 202104, 202105, 202106, 202107, 202108, 202109, 202110, 202111, 202112])]#Lo que hago aquí es obtener la información que ocurrió durante todo el 2021 para posteriormente sumarlo\n",
        "Hidalgo_2021_Gas=Hidalgo_2021_Gas.reset_index()"
      ]
    },
    {
      "cell_type": "code",
      "execution_count": 34,
      "metadata": {
        "id": "rR-oWYGm_Jop"
      },
      "outputs": [],
      "source": [
        "#JALISCO\n",
        "#Jalisco1 contiene a el estado de Jalisco que usa Turbosina\n",
        "Jalisco_Turbo=Turbos.loc[:,\"Estado\"]==\"Jalisco\"#De aquellos estados que usan el combustible de Turbosina, separo solo lo que son de Jalisco y así haré con cada uno de los estados \n",
        "Jalisco1=Turbos.loc[Jalisco_Turbo]\n",
        "#En Jalisco_2017 tengo al estado de Jalisco con combustible de Turbosina y que sus cargas de combustible en 2017\n",
        "Jalisco_2017_Turbo=Jalisco1[Jalisco1.Aniomes.isin([201701, 201702, 201703, 201704, 201705, 201706, 201707, 201708, 201709, 201710, 201711, 201712])]#Lo que hago aquí es obtener la información que ocurrio durnate todo el 2017 para posteriormente sumarlo\n",
        "Jalisco_2017_Turbo=Jalisco_2017_Turbo.reset_index()\n",
        "#En Jalisco_2018 tengo al estado de Jalisco con combustible de Turbosina y que sus cargas de combustible en 2018\n",
        "Jalisco_2018_Turbo=Jalisco1[Jalisco1.Aniomes.isin([201801, 201802, 201803, 201804, 201805, 201806, 201807, 201808, 201809, 201810, 201811, 201812])]#Lo que hago aquí es obtener la información que ocurrio durnate todo el 2018 para posteriormente sumarlo\n",
        "Jalisco_2018_Turbo=Jalisco_2018_Turbo.reset_index()\n",
        "#En Jalisco_2019 tengo al estado de Jalisco con combustible de Turbosina y que sus cargas de combustible en 2019\n",
        "Jalisco_2019_Turbo=Jalisco1[Jalisco1.Aniomes.isin([201901, 201902, 201903, 201904, 201905, 201906, 201907, 201908, 201909, 201910, 201911, 201912])]#Lo que hago aquí es obtener la información que ocurrio durnate todo el 2019 para posteriormente sumarlo\n",
        "Jalisco_2019_Turbo=Jalisco_2019_Turbo.reset_index()\n",
        "#En Jalisco_2020 tengo al estado de Jalisco con combustible de Turbosina y que sus cargas de combustible en 2020\n",
        "Jalisco_2020_Turbo=Jalisco1[Jalisco1.Aniomes.isin([202001, 202002, 202003, 202004, 202005, 202006, 202007, 202008, 202009, 202010, 202011, 202012])]#Lo que hago aquí es obtener la información que ocurrio durnate todo el 2020 para posteriormente sumarlo\n",
        "Jalisco_2020_Turbo=Jalisco_2020_Turbo.reset_index()\n",
        "#En Jalisco_2021 tengo al estado de Jalisco con combustible de Turbosina y que sus cargas de combustible en 2021\n",
        "Jalisco_2021_Turbo=Jalisco1[Jalisco1.Aniomes.isin([202101, 202102, 202103, 202104, 202105, 202106, 202107, 202108, 202109, 202110, 202111, 202112])]#Lo que hago aquí es obtener la información que ocurrio durnate todo el 2021 para posteriormente sumarlo\n",
        "Jalisco_2021_Turbo=Jalisco_2021_Turbo.reset_index()"
      ]
    },
    {
      "cell_type": "code",
      "execution_count": 35,
      "metadata": {
        "id": "p_W7Tgohfl66"
      },
      "outputs": [],
      "source": [
        "#JALISCO\n",
        "#Jalisco1 contiene a el estado de Jalisco que usa Gasavion\n",
        "Jalisco_Gas=Gass.loc[:,\"Estado\"]==\"Jalisco\"#De aquellos estados que usan el combustible de Gasavion, separo solo lo que son de Jalisco y así haré con cada uno de los estados \n",
        "Jalisco1=Gass.loc[Jalisco_Gas]\n",
        "#En Jalisco_2017 tengo al estado de Jalisco con combustible de Gasavion y que sus cargas de combustible en 2018\n",
        "Jalisco_2017_Gas=Jalisco1[Jalisco1.Aniomes.isin([201701, 201702, 201703, 201704, 201705, 201706, 201707, 201708, 201709, 201710, 201711, 201712])]#Lo que hago aquí es obtener la información que ocurrió durante todo el 2018 para posteriormente sumarlo\n",
        "Jalisco_2017_Gas=Jalisco_2017_Gas.reset_index()\n",
        "#En Jalisco_2018 tengo al estado de Jalisco con combustible de Gasavion y que sus cargas de combustible en 2018\n",
        "Jalisco_2018_Gas=Jalisco1[Jalisco1.Aniomes.isin([201801, 201802, 201803, 201804, 201805, 201806, 201807, 201808, 201809, 201810, 201811, 201812])]#Lo que hago aquí es obtener la información que ocurrió durante todo el 2018 para posteriormente sumarlo\n",
        "Jalisco_2018_Gas=Jalisco_2018_Gas.reset_index()\n",
        "#En Jalisco_2019 tengo al estado de Jalisco con combustible de Gasavion y que sus cargas de combustible en 2019\n",
        "Jalisco_2019_Gas=Jalisco1[Jalisco1.Aniomes.isin([201901, 201902, 201903, 201904, 201905, 201906, 201907, 201908, 201909, 201910, 201911, 201912])]#Lo que hago aquí es obtener la información que ocurrió durante todo el 2019 para posteriormente sumarlo\n",
        "Jalisco_2019_Gas=Jalisco_2019_Gas.reset_index()\n",
        "#En Jalisco_2020 tengo al estado de Jalisco con combustible de Gasavion y que sus cargas de combustible en 2020\n",
        "Jalisco_2020_Gas=Jalisco1[Jalisco1.Aniomes.isin([202001, 202002, 202003, 202004, 202005, 202006, 202007, 202008, 202009, 202010, 202011, 202012])]#Lo que hago aquí es obtener la información que ocurrió durante todo el 2020 para posteriormente sumarlo\n",
        "Jalisco_2020_Gas=Jalisco_2020_Gas.reset_index()\n",
        "#En Jalisco_2021 tengo al estado de Jalisco con combustible de Gasavion y que sus cargas de combustible en 2021\n",
        "Jalisco_2021_Gas=Jalisco1[Jalisco1.Aniomes.isin([202101, 202102, 202103, 202104, 202105, 202106, 202107, 202108, 202109, 202110, 202111, 202112])]#Lo que hago aquí es obtener la información que ocurrió durante todo el 2021 para posteriormente sumarlo\n",
        "Jalisco_2021_Gas=Jalisco_2021_Gas.reset_index()"
      ]
    },
    {
      "cell_type": "code",
      "execution_count": 36,
      "metadata": {
        "id": "beQJ-n51yFQo"
      },
      "outputs": [],
      "source": [
        "#MICHOACAN\n",
        "#Michoacan1 contiene a el estado de Michoacan que usa Turbosina\n",
        "Michoacan_Turbo=Turbos.loc[:,\"Estado\"]==\"Michoacan\"#De aquellos estados que usan el combustible de Turbosina, separo solo lo que son de Michoacan y así haré con cada uno de los estados \n",
        "Michoacan1=Turbos.loc[Michoacan_Turbo]\n",
        "#En Michoacan_2017 tengo al estado de Michoacan con combustible de Turbosina y que sus cargas de combustible en 2017\n",
        "Michoacan_2017_Turbo=Michoacan1[Michoacan1.Aniomes.isin([201701, 201702, 201703, 201704, 201705, 201706, 201707, 201708, 201709, 201710, 201711, 201712])]#Lo que hago aquí es obtener la información que ocurrio durnate todo el 2017 para posteriormente sumarlo\n",
        "Michoacan_2017_Turbo=Michoacan_2017_Turbo.reset_index()\n",
        "#En Michoacan_2018 tengo al estado de Michoacan con combustible de Turbosina y que sus cargas de combustible en 2018\n",
        "Michoacan_2018_Turbo=Michoacan1[Michoacan1.Aniomes.isin([201801, 201802, 201803, 201804, 201805, 201806, 201807, 201808, 201809, 201810, 201811, 201812])]#Lo que hago aquí es obtener la información que ocurrio durnate todo el 2018 para posteriormente sumarlo\n",
        "Michoacan_2018_Turbo=Michoacan_2018_Turbo.reset_index()\n",
        "#En Michoacan_2019 tengo al estado de Michoacan con combustible de Turbosina y que sus cargas de combustible en 2019\n",
        "Michoacan_2019_Turbo=Michoacan1[Michoacan1.Aniomes.isin([201901, 201902, 201903, 201904, 201905, 201906, 201907, 201908, 201909, 201910, 201911, 201912])]#Lo que hago aquí es obtener la información que ocurrio durnate todo el 2019 para posteriormente sumarlo\n",
        "Michoacan_2019_Turbo=Michoacan_2019_Turbo.reset_index()\n",
        "#En Michoacan_2020 tengo al estado de Michoacan con combustible de Turbosina y que sus cargas de combustible en 2020\n",
        "Michoacan_2020_Turbo=Michoacan1[Michoacan1.Aniomes.isin([202001, 202002, 202003, 202004, 202005, 202006, 202007, 202008, 202009, 202010, 202011, 202012])]#Lo que hago aquí es obtener la información que ocurrio durnate todo el 2020 para posteriormente sumarlo\n",
        "Michoacan_2020_Turbo=Michoacan_2020_Turbo.reset_index()\n",
        "#En Michoacan_2021 tengo al estado de Michoacan con combustible de Turbosina y que sus cargas de combustible en 2021\n",
        "Michoacan_2021_Turbo=Michoacan1[Michoacan1.Aniomes.isin([202101, 202102, 202103, 202104, 202105, 202106, 202107, 202108, 202109, 202110, 202111, 202112])]#Lo que hago aquí es obtener la información que ocurrio durnate todo el 2021 para posteriormente sumarlo\n",
        "Michoacan_2021_Turbo=Michoacan_2021_Turbo.reset_index()"
      ]
    },
    {
      "cell_type": "code",
      "execution_count": 37,
      "metadata": {
        "id": "DbZ4pUMPft98"
      },
      "outputs": [],
      "source": [
        "#MICHOACAN\n",
        "#Michoacan1 contiene a el estado de Michoacan que usa Gasavion\n",
        "Michoacan_Gas=Gass.loc[:,\"Estado\"]==\"Michoacan\"#De aquellos estados que usan el combustible de Gasavion, separo solo lo que son de Michoacan y así haré con cada uno de los estados \n",
        "Michoacan1=Gass.loc[Michoacan_Gas]\n",
        "#En Michoacan_2017 tengo al estado de Michoacan con combustible de Gasavion y que sus cargas de combustible en 2018\n",
        "Michoacan_2017_Gas=Michoacan1[Michoacan1.Aniomes.isin([201701, 201702, 201703, 201704, 201705, 201706, 201707, 201708, 201709, 201710, 201711, 201712])]#Lo que hago aquí es obtener la información que ocurrió durante todo el 2018 para posteriormente sumarlo\n",
        "Michoacan_2017_Gas=Michoacan_2017_Gas.reset_index()\n",
        "#En Michoacan_2018 tengo al estado de Michoacan con combustible de Gasavion y que sus cargas de combustible en 2018\n",
        "Michoacan_2018_Gas=Michoacan1[Michoacan1.Aniomes.isin([201801, 201802, 201803, 201804, 201805, 201806, 201807, 201808, 201809, 201810, 201811, 201812])]#Lo que hago aquí es obtener la información que ocurrió durante todo el 2018 para posteriormente sumarlo\n",
        "Michoacan_2018_Gas=Michoacan_2018_Gas.reset_index()\n",
        "#En Michoacan_2019 tengo al estado de Michoacan con combustible de Gasavion y que sus cargas de combustible en 2019\n",
        "Michoacan_2019_Gas=Michoacan1[Michoacan1.Aniomes.isin([201901, 201902, 201903, 201904, 201905, 201906, 201907, 201908, 201909, 201910, 201911, 201912])]#Lo que hago aquí es obtener la información que ocurrió durante todo el 2019 para posteriormente sumarlo\n",
        "Michoacan_2019_Gas=Michoacan_2019_Gas.reset_index()\n",
        "#En Michoacan_2020 tengo al estado de Michoacan con combustible de Gasavion y que sus cargas de combustible en 2020\n",
        "Michoacan_2020_Gas=Michoacan1[Michoacan1.Aniomes.isin([202001, 202002, 202003, 202004, 202005, 202006, 202007, 202008, 202009, 202010, 202011, 202012])]#Lo que hago aquí es obtener la información que ocurrió durante todo el 2020 para posteriormente sumarlo\n",
        "Michoacan_2020_Gas=Michoacan_2020_Gas.reset_index()\n",
        "#En Michoacan_2021 tengo al estado de Michoacan con combustible de Gasavion y que sus cargas de combustible en 2021\n",
        "Michoacan_2021_Gas=Michoacan1[Michoacan1.Aniomes.isin([202101, 202102, 202103, 202104, 202105, 202106, 202107, 202108, 202109, 202110, 202111, 202112])]#Lo que hago aquí es obtener la información que ocurrió durante todo el 2021 para posteriormente sumarlo\n",
        "Michoacan_2021_Gas=Michoacan_2021_Gas.reset_index()"
      ]
    },
    {
      "cell_type": "code",
      "execution_count": 38,
      "metadata": {
        "id": "-anG-hui7vW6"
      },
      "outputs": [],
      "source": [
        "#MORELOS\n",
        "#Morelos1 contiene a el estado de Morelos que usa Turbosina\n",
        "Morelos_Turbo=Turbos.loc[:,\"Estado\"]==\"Morelos\"#De aquellos estados que usan el combustible de Turbosina, separo solo lo que son de Morelos y así haré con cada uno de los estados \n",
        "Morelos1=Turbos.loc[Morelos_Turbo]\n",
        "#En Morelos_2017 tengo al estado de Morelos con combustible de Turbosina y que sus cargas de combustible en 2017\n",
        "Morelos_2017_Turbo=Morelos1[Morelos1.Aniomes.isin([201701, 201702, 201703, 201704, 201705, 201706, 201707, 201708, 201709, 201710, 201711, 201712])]#Lo que hago aquí es obtener la información que ocurrio durnate todo el 2017 para posteriormente sumarlo\n",
        "Morelos_2017_Turbo=Morelos_2017_Turbo.reset_index()\n",
        "#En Morelos_2018 tengo al estado de Moreslos con combustible de Turbosina y que sus cargas de combustible en 2018\n",
        "Morelos_2018_Turbo=Morelos1[Morelos1.Aniomes.isin([201801, 201802, 201803, 201804, 201805, 201806, 201807, 201808, 201809, 201810, 201811, 201812])]#Lo que hago aquí es obtener la información que ocurrio durnate todo el 2018 para posteriormente sumarlo\n",
        "Morelos_2018_Turbo=Morelos_2018_Turbo.reset_index()\n",
        "#En Morelos_2019 tengo al estado de Morelos con combustible de Turbosina y que sus cargas de combustible en 2019\n",
        "Morelos_2019_Turbo=Morelos1[Morelos1.Aniomes.isin([201901, 201902, 201903, 201904, 201905, 201906, 201907, 201908, 201909, 201910, 201911, 201912])]#Lo que hago aquí es obtener la información que ocurrio durnate todo el 2019 para posteriormente sumarlo\n",
        "Morelos_2019_Turbo=Morelos_2019_Turbo.reset_index()\n",
        "#En Morelos_2020 tengo al estado de Morelos con combustible de Turbosina y que sus cargas de combustible en 2020\n",
        "Morelos_2020_Turbo=Morelos1[Morelos1.Aniomes.isin([202001, 202002, 202003, 202004, 202005, 202006, 202007, 202008, 202009, 202010, 202011, 202012])]#Lo que hago aquí es obtener la información que ocurrio durnate todo el 2020 para posteriormente sumarlo\n",
        "Morelos_2020_Turbo=Morelos_2020_Turbo.reset_index()\n",
        "#En Morelos_2021 tengo al estado de Morelos con combustible de Turbosina y que sus cargas de combustible en 2021\n",
        "Morelos_2021_Turbo=Morelos1[Morelos1.Aniomes.isin([202101, 202102, 202103, 202104, 202105, 202106, 202107, 202108, 202109, 202110, 202111, 202112])]#Lo que hago aquí es obtener la información que ocurrio durnate todo el 2021 para posteriormente sumarlo\n",
        "Morelos_2021_Turbo=Morelos_2021_Turbo.reset_index()"
      ]
    },
    {
      "cell_type": "code",
      "execution_count": 39,
      "metadata": {
        "id": "XoH8FiRXf3C2"
      },
      "outputs": [],
      "source": [
        "#MORELOS\n",
        "#Morelos1 contiene a el estado de Morelos que usa Gasavion\n",
        "Morelos_Gas=Gass.loc[:,\"Estado\"]==\"Morelos\"#De aquellos estados que usan el combustible de Gasavion, separo solo lo que son de Morelos y así haré con cada uno de los estados \n",
        "Morelos1=Gass.loc[Morelos_Gas]\n",
        "#En Morelos_2017 tengo al estado de Morelos con combustible de Gasavion y que sus cargas de combustible en 2018\n",
        "Morelos_2017_Gas=Morelos1[Morelos1.Aniomes.isin([201701, 201702, 201703, 201704, 201705, 201706, 201707, 201708, 201709, 201710, 201711, 201712])]#Lo que hago aquí es obtener la información que ocurrió durante todo el 2018 para posteriormente sumarlo\n",
        "Morelos_2017_Gas=Morelos_2017_Gas.reset_index()\n",
        "#En Morelos_2018 tengo al estado de Morelos con combustible de Gasavion y que sus cargas de combustible en 2018\n",
        "Morelos_2018_Gas=Morelos1[Morelos1.Aniomes.isin([201801, 201802, 201803, 201804, 201805, 201806, 201807, 201808, 201809, 201810, 201811, 201812])]#Lo que hago aquí es obtener la información que ocurrió durante todo el 2018 para posteriormente sumarlo\n",
        "Morelos_2018_Gas=Morelos_2018_Gas.reset_index()\n",
        "#En Morelos_2019 tengo al estado de Morelos con combustible de Gasavion y que sus cargas de combustible en 2019\n",
        "Morelos_2019_Gas=Morelos1[Morelos1.Aniomes.isin([201901, 201902, 201903, 201904, 201905, 201906, 201907, 201908, 201909, 201910, 201911, 201912])]#Lo que hago aquí es obtener la información que ocurrió durante todo el 2019 para posteriormente sumarlo\n",
        "Morelos_2019_Gas=Morelos_2019_Gas.reset_index()\n",
        "#En Morelos_2020 tengo al estado de Morelos con combustible de Gasavion y que sus cargas de combustible en 2020\n",
        "Morelos_2020_Gas=Morelos1[Morelos1.Aniomes.isin([202001, 202002, 202003, 202004, 202005, 202006, 202007, 202008, 202009, 202010, 202011, 202012])]#Lo que hago aquí es obtener la información que ocurrió durante todo el 2020 para posteriormente sumarlo\n",
        "Morelos_2020_Gas=Morelos_2020_Gas.reset_index()\n",
        "#En Morelos_2021 tengo al estado de Morelos con combustible de Gasavion y que sus cargas de combustible en 2021\n",
        "Morelos_2021_Gas=Morelos1[Morelos1.Aniomes.isin([202101, 202102, 202103, 202104, 202105, 202106, 202107, 202108, 202109, 202110, 202111, 202112])]#Lo que hago aquí es obtener la información que ocurrió durante todo el 2021 para posteriormente sumarlo\n",
        "Morelos_2021_Gas=Morelos_2021_Gas.reset_index()"
      ]
    },
    {
      "cell_type": "code",
      "execution_count": 40,
      "metadata": {
        "id": "FMWZ3LX0rg9h"
      },
      "outputs": [],
      "source": [
        "#NAYARIT\n",
        "#Nayarit1 contiene a el estado de Nayarit que usa Turbosina\n",
        "Nayarit_Turbo=Turbos.loc[:,\"Estado\"]==\"Nayarit\"#De aquellos estados que usan el combustible de Turbosina, separo solo lo que son de Nayarit y así haré con cada uno de los estados \n",
        "Nayarit1=Turbos.loc[Nayarit_Turbo]\n",
        "#En Nayarit_2017 tengo al estado de Nayarit con combustible de Turbosina y que sus cargas de combustible en 2017\n",
        "Nayarit_2017_Turbo=Nayarit1[Nayarit1.Aniomes.isin([201701, 201702, 201703, 201704, 201705, 201706, 201707, 201708, 201709, 201710, 201711, 201712])]#Lo que hago aquí es obtener la información que ocurrio durnate todo el 2017 para posteriormente sumarlo\n",
        "Nayarit_2017_Turbo=Nayarit_2017_Turbo.reset_index()\n",
        "#En Nayarit_2018 tengo al estado de Nayarit con combustible de Turbosina y que sus cargas de combustible en 2018\n",
        "Nayarit_2018_Turbo=Nayarit1[Nayarit1.Aniomes.isin([201801, 201802, 201803, 201804, 201805, 201806, 201807, 201808, 201809, 201810, 201811, 201812])]#Lo que hago aquí es obtener la información que ocurrio durnate todo el 2018 para posteriormente sumarlo\n",
        "Nayarit_2018_Turbo=Nayarit_2018_Turbo.reset_index()\n",
        "#En Nayarit_2019 tengo al estado de Nayarit con combustible de Turbosina y que sus cargas de combustible en 2019\n",
        "Nayarit_2019_Turbo=Nayarit1[Nayarit1.Aniomes.isin([201901, 201902, 201903, 201904, 201905, 201906, 201907, 201908, 201909, 201910, 201911, 201912])]#Lo que hago aquí es obtener la información que ocurrio durnate todo el 2019 para posteriormente sumarlo\n",
        "Nayarit_2019_Turbo=Nayarit_2019_Turbo.reset_index()\n",
        "#En Nayarit_2020 tengo al estado de Nayaritcon combustible de Turbosina y que sus cargas de combustible en 2020\n",
        "Nayarit_2020_Turbo=Nayarit1[Nayarit1.Aniomes.isin([202001, 202002, 202003, 202004, 202005, 202006, 202007, 202008, 202009, 202010, 202011, 202012])]#Lo que hago aquí es obtener la información que ocurrio durnate todo el 2020 para posteriormente sumarlo\n",
        "Nayarit_2020_Turbo=Nayarit_2020_Turbo.reset_index()\n",
        "#En Nayarit_2021 tengo al estado de Nayarit con combustible de Turbosina y que sus cargas de combustible en 2021\n",
        "Nayarit_2021_Turbo=Nayarit1[Nayarit1.Aniomes.isin([202101, 202102, 202103, 202104, 202105, 202106, 202107, 202108, 202109, 202110, 202111, 202112])]#Lo que hago aquí es obtener la información que ocurrio durnate todo el 2021 para posteriormente sumarlo\n",
        "Nayarit_2021_Turbo=Nayarit_2021_Turbo.reset_index()"
      ]
    },
    {
      "cell_type": "code",
      "execution_count": 41,
      "metadata": {
        "id": "GC5MrExQf-VY"
      },
      "outputs": [],
      "source": [
        "#NAYARIT\n",
        "#Nayarit1 contiene a el estado de Nayarit que usa Gasavion\n",
        "Nayarit_Gas=Gass.loc[:,\"Estado\"]==\"Nayarit\"#De aquellos estados que usan el combustible de Gasavion, separo solo lo que son de Nayarit y así haré con cada uno de los estados \n",
        "Nayarit1=Gass.loc[Nayarit_Gas]\n",
        "#En Nayarit_2017 tengo al estado de Nayarit con combustible de Gasavion y que sus cargas de combustible en 2018\n",
        "Nayarit_2017_Gas=Nayarit1[Nayarit1.Aniomes.isin([201701, 201702, 201703, 201704, 201705, 201706, 201707, 201708, 201709, 201710, 201711, 201712])]#Lo que hago aquí es obtener la información que ocurrió durante todo el 2018 para posteriormente sumarlo\n",
        "Nayarit_2017_Gas=Nayarit_2017_Gas.reset_index()\n",
        "#En Nayarit_2018 tengo al estado de Nayarit con combustible de Gasavion y que sus cargas de combustible en 2018\n",
        "Nayarit_2018_Gas=Nayarit1[Nayarit1.Aniomes.isin([201801, 201802, 201803, 201804, 201805, 201806, 201807, 201808, 201809, 201810, 201811, 201812])]#Lo que hago aquí es obtener la información que ocurrió durante todo el 2018 para posteriormente sumarlo\n",
        "Nayarit_2018_Gas=Nayarit_2018_Gas.reset_index()\n",
        "#En Nayarit_2019 tengo al estado de Nayarit con combustible de Gasavion y que sus cargas de combustible en 2019\n",
        "Nayarit_2019_Gas=Nayarit1[Nayarit1.Aniomes.isin([201901, 201902, 201903, 201904, 201905, 201906, 201907, 201908, 201909, 201910, 201911, 201912])]#Lo que hago aquí es obtener la información que ocurrió durante todo el 2019 para posteriormente sumarlo\n",
        "Nayarit_2019_Gas=Nayarit_2019_Gas.reset_index()\n",
        "#En Nayarit_2020 tengo al estado de Nayarit con combustible de Gasavion y que sus cargas de combustible en 2020\n",
        "Nayarit_2020_Gas=Nayarit1[Nayarit1.Aniomes.isin([202001, 202002, 202003, 202004, 202005, 202006, 202007, 202008, 202009, 202010, 202011, 202012])]#Lo que hago aquí es obtener la información que ocurrió durante todo el 2020 para posteriormente sumarlo\n",
        "Nayarit_2020_Gas=Nayarit_2020_Gas.reset_index()\n",
        "#En Nayarit_2021 tengo al estado de Nayarit con combustible de Gasavion y que sus cargas de combustible en 2021\n",
        "Nayarit_2021_Gas=Nayarit1[Nayarit1.Aniomes.isin([202101, 202102, 202103, 202104, 202105, 202106, 202107, 202108, 202109, 202110, 202111, 202112])]#Lo que hago aquí es obtener la información que ocurrió durante todo el 2021 para posteriormente sumarlo\n",
        "Nayarit_2021_Gas=Nayarit_2021_Gas.reset_index()"
      ]
    },
    {
      "cell_type": "code",
      "execution_count": 42,
      "metadata": {
        "id": "MQTwH7lX8upe"
      },
      "outputs": [],
      "source": [
        "#NUEVOLEON\n",
        "#NuevoLeon1 contiene a el estado de NuevoLeon que usa Turbosina\n",
        "NuevoLeon_Turbo=Turbos.loc[:,\"Estado\"]==\"Nuevo Leon\"#De aquellos estados que usan el combustible de Turbosina, separo solo lo que son de NuevoLeon y así haré con cada uno de los estados \n",
        "NuevoLeon1=Turbos.loc[NuevoLeon_Turbo]\n",
        "#En NuevoLeon_2017 tengo al estado de NuevoLeon con combustible de Turbosina y que sus cargas de combustible en 2017\n",
        "NuevoLeon_2017_Turbo=NuevoLeon1[NuevoLeon1.Aniomes.isin([201701, 201702, 201703, 201704, 201705, 201706, 201707, 201708, 201709, 201710, 201711, 201712])]#Lo que hago aquí es obtener la información que ocurrio durnate todo el 2017 para posteriormente sumarlo\n",
        "NuevoLeon_2017_Turbo=NuevoLeon_2017_Turbo.reset_index()\n",
        "#En NuevoLeon_2018 tengo al estado de NuevoLeon con combustible de Turbosina y que sus cargas de combustible en 2018\n",
        "NuevoLeon_2018_Turbo=NuevoLeon1[NuevoLeon1.Aniomes.isin([201801, 201802, 201803, 201804, 201805, 201806, 201807, 201808, 201809, 201810, 201811, 201812])]#Lo que hago aquí es obtener la información que ocurrio durnate todo el 2018 para posteriormente sumarlo\n",
        "NuevoLeon_2018_Turbo=NuevoLeon_2018_Turbo.reset_index()\n",
        "#En NuevoLeon_2019 tengo al estado de NuevoLeon con combustible de Turbosina y que sus cargas de combustible en 2019\n",
        "NuevoLeon_2019_Turbo=NuevoLeon1[NuevoLeon1.Aniomes.isin([201901, 201902, 201903, 201904, 201905, 201906, 201907, 201908, 201909, 201910, 201911, 201912])]#Lo que hago aquí es obtener la información que ocurrio durnate todo el 2019 para posteriormente sumarlo\n",
        "NuevoLeon_2019_Turbo=NuevoLeon_2019_Turbo.reset_index()\n",
        "#En NuevoLeon_2020 tengo al estado de NuevoLeon con combustible de Turbosina y que sus cargas de combustible en 2020\n",
        "NuevoLeon_2020_Turbo=NuevoLeon1[NuevoLeon1.Aniomes.isin([202001, 202002, 202003, 202004, 202005, 202006, 202007, 202008, 202009, 202010, 202011, 202012])]#Lo que hago aquí es obtener la información que ocurrio durnate todo el 2020 para posteriormente sumarlo\n",
        "NuevoLeon_2020_Turbo=NuevoLeon_2020_Turbo.reset_index()\n",
        "#En NuevoLeon_2021 tengo al estado de NuevoLeon con combustible de Turbosina y que sus cargas de combustible en 2021\n",
        "NuevoLeon_2021_Turbo=NuevoLeon1[NuevoLeon1.Aniomes.isin([202101, 202102, 202103, 202104, 202105, 202106, 202107, 202108, 202109, 202110, 202111, 202112])]#Lo que hago aquí es obtener la información que ocurrio durnate todo el 2021 para posteriormente sumarlo\n",
        "NuevoLeon_2021_Turbo=NuevoLeon_2021_Turbo.reset_index()"
      ]
    },
    {
      "cell_type": "code",
      "execution_count": 43,
      "metadata": {
        "id": "o4OuNPfqgFNa"
      },
      "outputs": [],
      "source": [
        "#NUEVOLEON\n",
        "#NuevoLeon1 contiene a el estado de NuevoLeon que usa Gasavion\n",
        "NuevoLeon_Gas=Gass.loc[:,\"Estado\"]==\"Nuevo Leon\"#De aquellos estados que usan el combustible de Gasavion, separo solo lo que son de NuevoLeon y así haré con cada uno de los estados \n",
        "NuevoLeon1=Gass.loc[NuevoLeon_Gas]\n",
        "#En NuevoLeon_2017 tengo al estado de NuevoLeon con combustible de Gasavion y que sus cargas de combustible en 2018\n",
        "NuevoLeon_2017_Gas=NuevoLeon1[NuevoLeon1.Aniomes.isin([201701, 201702, 201703, 201704, 201705, 201706, 201707, 201708, 201709, 201710, 201711, 201712])]#Lo que hago aquí es obtener la información que ocurrió durante todo el 2018 para posteriormente sumarlo\n",
        "NuevoLeon_2017_Gas=NuevoLeon_2017_Gas.reset_index()\n",
        "#En NuevoLeon_2018 tengo al estado de NuevoLeon con combustible de Gasavion y que sus cargas de combustible en 2018\n",
        "NuevoLeon_2018_Gas=NuevoLeon1[NuevoLeon1.Aniomes.isin([201801, 201802, 201803, 201804, 201805, 201806, 201807, 201808, 201809, 201810, 201811, 201812])]#Lo que hago aquí es obtener la información que ocurrió durante todo el 2018 para posteriormente sumarlo\n",
        "NuevoLeon_2018_Gas=NuevoLeon_2018_Gas.reset_index()\n",
        "#En NuevoLeon_2019 tengo al estado de NuevoLeon con combustible de Gasavion y que sus cargas de combustible en 2019\n",
        "NuevoLeon_2019_Gas=NuevoLeon1[NuevoLeon1.Aniomes.isin([201901, 201902, 201903, 201904, 201905, 201906, 201907, 201908, 201909, 201910, 201911, 201912])]#Lo que hago aquí es obtener la información que ocurrió durante todo el 2019 para posteriormente sumarlo\n",
        "NuevoLeon_2019_Gas=NuevoLeon_2019_Gas.reset_index()\n",
        "#En NuevoLeon_2020 tengo al estado de NuevoLeon con combustible de Gasavion y que sus cargas de combustible en 2020\n",
        "NuevoLeon_2020_Gas=NuevoLeon1[NuevoLeon1.Aniomes.isin([202001, 202002, 202003, 202004, 202005, 202006, 202007, 202008, 202009, 202010, 202011, 202012])]#Lo que hago aquí es obtener la información que ocurrió durante todo el 2020 para posteriormente sumarlo\n",
        "NuevoLeon_2020_Gas=NuevoLeon_2020_Gas.reset_index()\n",
        "#En NuevoLeon_2021 tengo al estado de NuevoLeon con combustible de Gasavion y que sus cargas de combustible en 2021\n",
        "NuevoLeon_2021_Gas=NuevoLeon1[NuevoLeon1.Aniomes.isin([202101, 202102, 202103, 202104, 202105, 202106, 202107, 202108, 202109, 202110, 202111, 202112])]#Lo que hago aquí es obtener la información que ocurrió durante todo el 2021 para posteriormente sumarlo\n",
        "NuevoLeon_2021_Gas=NuevoLeon_2021_Gas.reset_index()"
      ]
    },
    {
      "cell_type": "code",
      "execution_count": 44,
      "metadata": {
        "id": "nfFK1WqEtCqH"
      },
      "outputs": [],
      "source": [
        "#OAXACA\n",
        "#Oaxaca1 contiene a el estado de Oaxaca que usa Turbosina\n",
        "Oaxaca_Turbo=Turbos.loc[:,\"Estado\"]==\"Oaxaca\"#De aquellos estados que usan el combustible de Turbosina, separo solo lo que son de Oaxaca y así haré con cada uno de los estados \n",
        "Oaxaca1=Turbos.loc[Oaxaca_Turbo]\n",
        "#En Oaxaca_2017 tengo al estado de Oaxaca con combustible de Turbosina y que sus cargas de combustible en 2017\n",
        "Oaxaca_2017_Turbo=Oaxaca1[Oaxaca1.Aniomes.isin([201701, 201702, 201703, 201704, 201705, 201706, 201707, 201708, 201709, 201710, 201711, 201712])]#Lo que hago aquí es obtener la información que ocurrio durnate todo el 2017 para posteriormente sumarlo\n",
        "Oaxaca_2017_Turbo=Oaxaca_2017_Turbo.reset_index()\n",
        "#En Oaxaca_2018 tengo al estado de Oaxaca con combustible de Turbosina y que sus cargas de combustible en 2018\n",
        "Oaxaca_2018_Turbo=Oaxaca1[Oaxaca1.Aniomes.isin([201801, 201802, 201803, 201804, 201805, 201806, 201807, 201808, 201809, 201810, 201811, 201812])]#Lo que hago aquí es obtener la información que ocurrio durnate todo el 2018 para posteriormente sumarlo\n",
        "Oaxaca_2018_Turbo=Oaxaca_2018_Turbo.reset_index()\n",
        "#En Oaxaca_2019 tengo al estado de Oaxaca con combustible de Turbosina y que sus cargas de combustible en 2019\n",
        "Oaxaca_2019_Turbo=Oaxaca1[Oaxaca1.Aniomes.isin([201901, 201902, 201903, 201904, 201905, 201906, 201907, 201908, 201909, 201910, 201911, 201912])]#Lo que hago aquí es obtener la información que ocurrio durnate todo el 2019 para posteriormente sumarlo\n",
        "Oaxaca_2019_Turbo=Oaxaca_2019_Turbo.reset_index()\n",
        "#En Oaxaca_2020 tengo al estado de Oaxaca con combustible de Turbosina y que sus cargas de combustible en 2020\n",
        "Oaxaca_2020_Turbo=Oaxaca1[Oaxaca1.Aniomes.isin([202001, 202002, 202003, 202004, 202005, 202006, 202007, 202008, 202009, 202010, 202011, 202012])]#Lo que hago aquí es obtener la información que ocurrio durnate todo el 2020 para posteriormente sumarlo\n",
        "Oaxaca_2020_Turbo=Oaxaca_2020_Turbo.reset_index()\n",
        "#En Oaxaca_2021 tengo al estado de Oaxaca con combustible de Turbosina y que sus cargas de combustible en 2021\n",
        "Oaxaca_2021_Turbo=Oaxaca1[Oaxaca1.Aniomes.isin([202101, 202102, 202103, 202104, 202105, 202106, 202107, 202108, 202109, 202110, 202111, 202112])]#Lo que hago aquí es obtener la información que ocurrio durnate todo el 2021 para posteriormente sumarlo\n",
        "Oaxaca_2021_Turbo=Oaxaca_2021_Turbo.reset_index()"
      ]
    },
    {
      "cell_type": "code",
      "execution_count": 45,
      "metadata": {
        "id": "LlJhZCrpgOVE"
      },
      "outputs": [],
      "source": [
        "#OAXACA\n",
        "#Oaxaca1 contiene a el estado de Oaxaca que usa Gasavion\n",
        "Oaxaca_Gas=Gass.loc[:,\"Estado\"]==\"Oaxaca\"#De aquellos estados que usan el combustible de Gasavion, separo solo lo que son de Oaxaca y así haré con cada uno de los estados \n",
        "Oaxaca1=Gass.loc[Oaxaca_Gas]\n",
        "#En Oaxaca_2017 tengo al estado de Oaxaca con combustible de Gasavion y que sus cargas de combustible en 2018\n",
        "Oaxaca_2017_Gas=Oaxaca1[Oaxaca1.Aniomes.isin([201701, 201702, 201703, 201704, 201705, 201706, 201707, 201708, 201709, 201710, 201711, 201712])]#Lo que hago aquí es obtener la información que ocurrió durante todo el 2018 para posteriormente sumarlo\n",
        "Oaxaca_2017_Gas=Oaxaca_2017_Gas.reset_index()\n",
        "#En Oaxaca_2018 tengo al estado de Oaxaca con combustible de Gasavion y que sus cargas de combustible en 2018\n",
        "Oaxaca_2018_Gas=Oaxaca1[Oaxaca1.Aniomes.isin([201801, 201802, 201803, 201804, 201805, 201806, 201807, 201808, 201809, 201810, 201811, 201812])]#Lo que hago aquí es obtener la información que ocurrió durante todo el 2018 para posteriormente sumarlo\n",
        "Oaxaca_2018_Gas=Oaxaca_2018_Gas.reset_index()\n",
        "#En Oaxaca_2019 tengo al estado de Oaxaca con combustible de Gasavion y que sus cargas de combustible en 2019\n",
        "Oaxaca_2019_Gas=Oaxaca1[Oaxaca1.Aniomes.isin([201901, 201902, 201903, 201904, 201905, 201906, 201907, 201908, 201909, 201910, 201911, 201912])]#Lo que hago aquí es obtener la información que ocurrió durante todo el 2019 para posteriormente sumarlo\n",
        "Oaxaca_2019_Gas=Oaxaca_2019_Gas.reset_index()\n",
        "#En Oaxaca_2020 tengo al estado de Oaxaca con combustible de Gasavion y que sus cargas de combustible en 2020\n",
        "Oaxaca_2020_Gas=Oaxaca1[Oaxaca1.Aniomes.isin([202001, 202002, 202003, 202004, 202005, 202006, 202007, 202008, 202009, 202010, 202011, 202012])]#Lo que hago aquí es obtener la información que ocurrió durante todo el 2020 para posteriormente sumarlo\n",
        "Oaxaca_2020_Gas=Oaxaca_2020_Gas.reset_index()\n",
        "#En Oaxaca_2021 tengo al estado de Oaxaca con combustible de Gasavion y que sus cargas de combustible en 2021\n",
        "Oaxaca_2021_Gas=Oaxaca1[Oaxaca1.Aniomes.isin([202101, 202102, 202103, 202104, 202105, 202106, 202107, 202108, 202109, 202110, 202111, 202112])]#Lo que hago aquí es obtener la información que ocurrió durante todo el 2021 para posteriormente sumarlo\n",
        "Oaxaca_2021_Gas=Oaxaca_2021_Gas.reset_index()"
      ]
    },
    {
      "cell_type": "code",
      "execution_count": 46,
      "metadata": {
        "id": "ti_vjhRK7xW0"
      },
      "outputs": [],
      "source": [
        "#PUEBLA\n",
        "#Puebla1 contiene a el estado de Puebla que usa Turbosina\n",
        "Puebla_Turbo=Turbos.loc[:,\"Estado\"]==\"Puebla\"#De aquellos estados que usan el combustible de Turbosina, separo solo lo que son de Puebla y así haré con cada uno de los estados \n",
        "Puebla1=Turbos.loc[Puebla_Turbo]\n",
        "#En Puebla_2017 tengo al estado de Puebla con combustible de Turbosina y que sus cargas de combustible en 2017\n",
        "Puebla_2017_Turbo=Puebla1[Puebla1.Aniomes.isin([201701, 201702, 201703, 201704, 201705, 201706, 201707, 201708, 201709, 201710, 201711, 201712])]#Lo que hago aquí es obtener la información que ocurrio durnate todo el 2017 para posteriormente sumarlo\n",
        "Puebla_2017_Turbo=Puebla_2017_Turbo.reset_index()\n",
        "#En Puebla_2018 tengo al estado de Puebla con combustible de Turbosina y que sus cargas de combustible en 2018\n",
        "Puebla_2018_Turbo=Puebla1[Puebla1.Aniomes.isin([201801, 201802, 201803, 201804, 201805, 201806, 201807, 201808, 201809, 201810, 201811, 201812])]#Lo que hago aquí es obtener la información que ocurrio durnate todo el 2018 para posteriormente sumarlo\n",
        "Puebla_2018_Turbo=Puebla_2018_Turbo.reset_index()\n",
        "#En Puebla_2019 tengo al estado de Puebla con combustible de Turbosina y que sus cargas de combustible en 2019\n",
        "Puebla_2019_Turbo=Puebla1[Puebla1.Aniomes.isin([201901, 201902, 201903, 201904, 201905, 201906, 201907, 201908, 201909, 201910, 201911, 201912])]#Lo que hago aquí es obtener la información que ocurrio durnate todo el 2019 para posteriormente sumarlo\n",
        "Puebla_2019_Turbo=Puebla_2019_Turbo.reset_index()\n",
        "#En Puebla_2020 tengo al estado de Puebla con combustible de Turbosina y que sus cargas de combustible en 2020\n",
        "Puebla_2020_Turbo=Puebla1[Puebla1.Aniomes.isin([202001, 202002, 202003, 202004, 202005, 202006, 202007, 202008, 202009, 202010, 202011, 202012])]#Lo que hago aquí es obtener la información que ocurrio durnate todo el 2020 para posteriormente sumarlo\n",
        "Puebla_2020_Turbo=Puebla_2020_Turbo.reset_index()\n",
        "#En Puebla_2021 tengo al estado de Puebla con combustible de Turbosina y que sus cargas de combustible en 2021\n",
        "Puebla_2021_Turbo=Puebla1[Puebla1.Aniomes.isin([202101, 202102, 202103, 202104, 202105, 202106, 202107, 202108, 202109, 202110, 202111, 202112])]#Lo que hago aquí es obtener la información que ocurrio durnate todo el 2021 para posteriormente sumarlo\n",
        "Puebla_2021_Turbo=Puebla_2021_Turbo.reset_index()"
      ]
    },
    {
      "cell_type": "code",
      "execution_count": 47,
      "metadata": {
        "id": "BPUNqnIwglPV"
      },
      "outputs": [],
      "source": [
        "#PUEBLA\n",
        "#Puebla1 contiene a el estado de Puebla que usa Gasavion\n",
        "Puebla_Gas=Gass.loc[:,\"Estado\"]==\"Puebla\"#De aquellos estados que usan el combustible de Gasavion, separo solo lo que son de Puebla y así haré con cada uno de los estados \n",
        "Puebla1=Gass.loc[Puebla_Gas]\n",
        "#En Puebla_2017 tengo al estado de Puebla con combustible de Gasavion y que sus cargas de combustible en 2018\n",
        "Puebla_2017_Gas=Puebla1[Puebla1.Aniomes.isin([201701, 201702, 201703, 201704, 201705, 201706, 201707, 201708, 201709, 201710, 201711, 201712])]#Lo que hago aquí es obtener la información que ocurrió durante todo el 2018 para posteriormente sumarlo\n",
        "Puebla_2017_Gas=Puebla_2017_Gas.reset_index()\n",
        "#En Puebla_2018 tengo al estado de Puebla con combustible de Gasavion y que sus cargas de combustible en 2018\n",
        "Puebla_2018_Gas=Puebla1[Puebla1.Aniomes.isin([201801, 201802, 201803, 201804, 201805, 201806, 201807, 201808, 201809, 201810, 201811, 201812])]#Lo que hago aquí es obtener la información que ocurrió durante todo el 2018 para posteriormente sumarlo\n",
        "Puebla_2018_Gas=Puebla_2018_Gas.reset_index()\n",
        "#En Puebla_2019 tengo al estado de Puebla con combustible de Gasavion y que sus cargas de combustible en 2019\n",
        "Puebla_2019_Gas=Puebla1[Puebla1.Aniomes.isin([201901, 201902, 201903, 201904, 201905, 201906, 201907, 201908, 201909, 201910, 201911, 201912])]#Lo que hago aquí es obtener la información que ocurrió durante todo el 2019 para posteriormente sumarlo\n",
        "Puebla_2019_Gas=Puebla_2019_Gas.reset_index()\n",
        "#En Puebla_2020 tengo al estado de Puebla con combustible de Gasavion y que sus cargas de combustible en 2020\n",
        "Puebla_2020_Gas=Puebla1[Puebla1.Aniomes.isin([202001, 202002, 202003, 202004, 202005, 202006, 202007, 202008, 202009, 202010, 202011, 202012])]#Lo que hago aquí es obtener la información que ocurrió durante todo el 2020 para posteriormente sumarlo\n",
        "Puebla_2020_Gas=Puebla_2020_Gas.reset_index()\n",
        "#En Puebla_2021 tengo al estado de Puebla con combustible de Gasavion y que sus cargas de combustible en 2021\n",
        "Puebla_2021_Gas=Puebla1[Puebla1.Aniomes.isin([202101, 202102, 202103, 202104, 202105, 202106, 202107, 202108, 202109, 202110, 202111, 202112])]#Lo que hago aquí es obtener la información que ocurrió durante todo el 2021 para posteriormente sumarlo\n",
        "Puebla_2021_Gas=Puebla_2021_Gas.reset_index()"
      ]
    },
    {
      "cell_type": "code",
      "execution_count": 48,
      "metadata": {
        "id": "ow2_hEPX-TzF"
      },
      "outputs": [],
      "source": [
        "#QUERETARO\n",
        "#Querétaro1 contiene a el estado de Querétaro que usa Turbosina\n",
        "Querétaro_Turbo=Turbos.loc[:,\"Estado\"]==\"Queretaro\"#De aquellos estados que usan el combustible de Turbosina, separo solo lo que son de Querétaro y así haré con cada uno de los estados \n",
        "Querétaro1=Turbos.loc[Querétaro_Turbo]\n",
        "#En Queretaro_2017 tengo al estado de Queretaro con combustible de Turbosina y que sus cargas de combustible en 2017\n",
        "Querétaro_2017_Turbo=Querétaro1[Querétaro1.Aniomes.isin([201701, 201702, 201703, 201704, 201705, 201706, 201707, 201708, 201709, 201710, 201711, 201712])]#Lo que hago aquí es obtener la información que ocurrio durnate todo el 2017 para posteriormente sumarlo\n",
        "Querétaro_2017_Turbo=Querétaro_2017_Turbo.reset_index()\n",
        "#En Querétaro_2018 tengo al estado de Querétaro con combustible de Turbosina y que sus cargas de combustible en 2018\n",
        "Querétaro_2018_Turbo=Querétaro1[Querétaro1.Aniomes.isin([201801, 201802, 201803, 201804, 201805, 201806, 201807, 201808, 201809, 201810, 201811, 201812])]#Lo que hago aquí es obtener la información que ocurrio durnate todo el 2018 para posteriormente sumarlo\n",
        "Querétaro_2018_Turbo=Querétaro_2018_Turbo.reset_index()\n",
        "#En Querétaro_2019 tengo al estado de Querétaro con combustible de Turbosina y que sus cargas de combustible en 2019\n",
        "Querétaro_2019_Turbo=Querétaro1[Querétaro1.Aniomes.isin([201901, 201902, 201903, 201904, 201905, 201906, 201907, 201908, 201909, 201910, 201911, 201912])]#Lo que hago aquí es obtener la información que ocurrio durnate todo el 2019 para posteriormente sumarlo\n",
        "Querétaro_2019_Turbo=Querétaro_2019_Turbo.reset_index()\n",
        "#En Querétaro_2020 tengo al estado de Querétaro con combustible de Turbosina y que sus cargas de combustible en 2020\n",
        "Querétaro_2020_Turbo=Querétaro1[Querétaro1.Aniomes.isin([202001, 202002, 202003, 202004, 202005, 202006, 202007, 202008, 202009, 202010, 202011, 202012])]#Lo que hago aquí es obtener la información que ocurrio durnate todo el 2020 para posteriormente sumarlo\n",
        "Querétaro_2020_Turbo=Querétaro_2020_Turbo.reset_index()\n",
        "#En Querétaro_2021 tengo al estado de Querétaro con combustible de Turbosina y que sus cargas de combustible en 2021\n",
        "Querétaro_2021_Turbo=Querétaro1[Querétaro1.Aniomes.isin([202101, 202102, 202103, 202104, 202105, 202106, 202107, 202108, 202109, 202110, 202111, 202112])]#Lo que hago aquí es obtener la información que ocurrio durnate todo el 2021 para posteriormente sumarlo\n",
        "Querétaro_2021_Turbo=Querétaro_2021_Turbo.reset_index()"
      ]
    },
    {
      "cell_type": "code",
      "execution_count": 49,
      "metadata": {
        "id": "Y6qVsOXGgsAF"
      },
      "outputs": [],
      "source": [
        "#QUERETARO\n",
        "#Queretaro1 contiene a el estado de Queretaro que usa Gasavion\n",
        "Queretaro_Gas=Gass.loc[:,\"Estado\"]==\"Queretaro\"#De aquellos estados que usan el combustible de Gasavion, separo solo lo que son de Queretaro y así haré con cada uno de los estados \n",
        "Queretaro1=Gass.loc[Queretaro_Gas]\n",
        "#En Queretaro_2017 tengo al estado de Queretaro con combustible de Gasavion y que sus cargas de combustible en 2018\n",
        "Queretaro_2017_Gas=Queretaro1[Queretaro1.Aniomes.isin([201701, 201702, 201703, 201704, 201705, 201706, 201707, 201708, 201709, 201710, 201711, 201712])]#Lo que hago aquí es obtener la información que ocurrió durante todo el 2018 para posteriormente sumarlo\n",
        "Queretaro_2017_Gas=Queretaro_2017_Gas.reset_index()\n",
        "#En Queretaro_2018 tengo al estado de Queretaro con combustible de Gasavion y que sus cargas de combustible en 2018\n",
        "Queretaro_2018_Gas=Queretaro1[Queretaro1.Aniomes.isin([201801, 201802, 201803, 201804, 201805, 201806, 201807, 201808, 201809, 201810, 201811, 201812])]#Lo que hago aquí es obtener la información que ocurrió durante todo el 2018 para posteriormente sumarlo\n",
        "Queretaro_2018_Gas=Queretaro_2018_Gas.reset_index()\n",
        "#En Queretaro_2019 tengo al estado de Queretaro con combustible de Gasavion y que sus cargas de combustible en 2019\n",
        "Queretaro_2019_Gas=Queretaro1[Queretaro1.Aniomes.isin([201901, 201902, 201903, 201904, 201905, 201906, 201907, 201908, 201909, 201910, 201911, 201912])]#Lo que hago aquí es obtener la información que ocurrió durante todo el 2019 para posteriormente sumarlo\n",
        "Queretaro_2019_Gas=Queretaro_2019_Gas.reset_index()\n",
        "#En Queretaro_2020 tengo al estado de Queretaro con combustible de Gasavion y que sus cargas de combustible en 2020\n",
        "Queretaro_2020_Gas=Queretaro1[Queretaro1.Aniomes.isin([202001, 202002, 202003, 202004, 202005, 202006, 202007, 202008, 202009, 202010, 202011, 202012])]#Lo que hago aquí es obtener la información que ocurrió durante todo el 2020 para posteriormente sumarlo\n",
        "Queretaro_2020_Gas=Queretaro_2020_Gas.reset_index()\n",
        "#En Queretaro_2021 tengo al estado de Queretaro con combustible de Gasavion y que sus cargas de combustible en 2021\n",
        "Queretaro_2021_Gas=Queretaro1[Queretaro1.Aniomes.isin([202101, 202102, 202103, 202104, 202105, 202106, 202107, 202108, 202109, 202110, 202111, 202112])]#Lo que hago aquí es obtener la información que ocurrió durante todo el 2021 para posteriormente sumarlo\n",
        "Queretaro_2021_Gas=Queretaro_2021_Gas.reset_index()"
      ]
    },
    {
      "cell_type": "code",
      "execution_count": 50,
      "metadata": {
        "id": "7Au7rPQQsF7K"
      },
      "outputs": [],
      "source": [
        "#QUINTANA ROO\n",
        "#Quintana Roo1 contiene a el estado de QuintanaRoo que usa Turbosina\n",
        "QuintanaRoo_Turbo=Turbos.loc[:,\"Estado\"]==\"Quintana Roo\"#De aquellos estados que usan el combustible de Turbosina, separo solo lo que son de QuintanaRoo y así haré con cada uno de los estados \n",
        "QuintanaRoo1=Turbos.loc[QuintanaRoo_Turbo]\n",
        "#En QuintanaRoo_2017 tengo al estado de QuintanaRoo con combustible de Turbosina y que sus cargas de combustible en 2017\n",
        "QuintanaRoo_2017_Turbo=QuintanaRoo1[QuintanaRoo1.Aniomes.isin([201701, 201702, 201703, 201704, 201705, 201706, 201707, 201708, 201709, 201710, 201711, 201712])]#Lo que hago aquí es obtener la información que ocurrio durnate todo el 2017 para posteriormente sumarlo\n",
        "QuintanaRoo_2017_Turbo=QuintanaRoo_2017_Turbo.reset_index()\n",
        "#En QuintanaRoo_2018 tengo al estado de QuintanaRoo con combustible de Turbosina y que sus cargas de combustible en 2018\n",
        "QuintanaRoo_2018_Turbo=QuintanaRoo1[QuintanaRoo1.Aniomes.isin([201801, 201802, 201803, 201804, 201805, 201806, 201807, 201808, 201809, 201810, 201811, 201812])]#Lo que hago aquí es obtener la información que ocurrio durnate todo el 2018 para posteriormente sumarlo\n",
        "QuintanaRoo_2018_Turbo=QuintanaRoo_2018_Turbo.reset_index()\n",
        "#En QuintanaRoo_2019 tengo al estado de QuintanaRoo con combustible de Turbosina y que sus cargas de combustible en 2019\n",
        "QuintanaRoo_2019_Turbo=QuintanaRoo1[QuintanaRoo1.Aniomes.isin([201901, 201902, 201903, 201904, 201905, 201906, 201907, 201908, 201909, 201910, 201911, 201912])]#Lo que hago aquí es obtener la información que ocurrio durnate todo el 2019 para posteriormente sumarlo\n",
        "QuintanaRoo_2019_Turbo=QuintanaRoo_2019_Turbo.reset_index()\n",
        "#En QuintanaRoo_2020 tengo al estado de QuintanaRoo con combustible de Turbosina y que sus cargas de combustible en 2020\n",
        "QuintanaRoo_2020_Turbo=QuintanaRoo1[QuintanaRoo1.Aniomes.isin([202001, 202002, 202003, 202004, 202005, 202006, 202007, 202008, 202009, 202010, 202011, 202012])]#Lo que hago aquí es obtener la información que ocurrio durnate todo el 2020 para posteriormente sumarlo\n",
        "QuintanaRoo_2020_Turbo=QuintanaRoo_2020_Turbo.reset_index()\n",
        "#En QuintanaRoo_2021 tengo al estado de QuintanaRoo con combustible de Turbosina y que sus cargas de combustible en 2021\n",
        "QuintanaRoo_2021_Turbo=QuintanaRoo1[QuintanaRoo1.Aniomes.isin([202101, 202102, 202103, 202104, 202105, 202106, 202107, 202108, 202109, 202110, 202111, 202112])]#Lo que hago aquí es obtener la información que ocurrio durnate todo el 2021 para posteriormente sumarlo\n",
        "QuintanaRoo_2021_Turbo=QuintanaRoo_2021_Turbo.reset_index()"
      ]
    },
    {
      "cell_type": "code",
      "execution_count": 51,
      "metadata": {
        "id": "kGE4bclFgyHD"
      },
      "outputs": [],
      "source": [
        "#QUINTANAROO\n",
        "#QuintanaRoo1 contiene a el estado de QuintanaRoo que usa Gasavion\n",
        "QuintanaRoo_Gas=Gass.loc[:,\"Estado\"]==\"Quintana Roo\"#De aquellos estados que usan el combustible de Gasavion, separo solo lo que son de QuintanaRoo y así haré con cada uno de los estados \n",
        "QuintanaRoo1=Gass.loc[QuintanaRoo_Gas]\n",
        "#En QuintanaRoo_2017 tengo al estado de QuintanaRoo con combustible de Gasavion y que sus cargas de combustible en 2018\n",
        "QuintanaRoo_2017_Gas=QuintanaRoo1[QuintanaRoo1.Aniomes.isin([201701, 201702, 201703, 201704, 201705, 201706, 201707, 201708, 201709, 201710, 201711, 201712])]#Lo que hago aquí es obtener la información que ocurrió durante todo el 2018 para posteriormente sumarlo\n",
        "QuintanaRoo_2017_Gas=QuintanaRoo_2017_Gas.reset_index()\n",
        "#En QuintanaRoo_2018 tengo al estado de QuintanaRoo con combustible de Gasavion y que sus cargas de combustible en 2018\n",
        "QuintanaRoo_2018_Gas=QuintanaRoo1[QuintanaRoo1.Aniomes.isin([201801, 201802, 201803, 201804, 201805, 201806, 201807, 201808, 201809, 201810, 201811, 201812])]#Lo que hago aquí es obtener la información que ocurrió durante todo el 2018 para posteriormente sumarlo\n",
        "QuintanaRoo_2018_Gas=QuintanaRoo_2018_Gas.reset_index()\n",
        "#En QuintanaRoo_2019 tengo al estado de QuintanaRoo con combustible de Gasavion y que sus cargas de combustible en 2019\n",
        "QuintanaRoo_2019_Gas=QuintanaRoo1[QuintanaRoo1.Aniomes.isin([201901, 201902, 201903, 201904, 201905, 201906, 201907, 201908, 201909, 201910, 201911, 201912])]#Lo que hago aquí es obtener la información que ocurrió durante todo el 2019 para posteriormente sumarlo\n",
        "QuintanaRoo_2019_Gas=QuintanaRoo_2019_Gas.reset_index()\n",
        "#En QuintanaRoo_2020 tengo al estado de QuintanaRoo con combustible de Gasavion y que sus cargas de combustible en 2020\n",
        "QuintanaRoo_2020_Gas=QuintanaRoo1[QuintanaRoo1.Aniomes.isin([202001, 202002, 202003, 202004, 202005, 202006, 202007, 202008, 202009, 202010, 202011, 202012])]#Lo que hago aquí es obtener la información que ocurrió durante todo el 2020 para posteriormente sumarlo\n",
        "QuintanaRoo_2020_Gas=QuintanaRoo_2020_Gas.reset_index()\n",
        "#En QuintanaRoo_2021 tengo al estado de QuintanaRoo con combustible de Gasavion y que sus cargas de combustible en 2021\n",
        "QuintanaRoo_2021_Gas=QuintanaRoo1[QuintanaRoo1.Aniomes.isin([202101, 202102, 202103, 202104, 202105, 202106, 202107, 202108, 202109, 202110, 202111, 202112])]#Lo que hago aquí es obtener la información que ocurrió durante todo el 2021 para posteriormente sumarlo\n",
        "QuintanaRoo_2021_Gas=QuintanaRoo_2021_Gas.reset_index()\n"
      ]
    },
    {
      "cell_type": "code",
      "execution_count": 52,
      "metadata": {
        "id": "zaG703YUDNt8"
      },
      "outputs": [],
      "source": [
        "#SAN LUIS POTOSI\n",
        "#San Luis Potosi1 contiene a el estado de San Luis Potosi que usa Turbosina\n",
        "SanLuisPotosi_Turbo=Turbos.loc[:,\"Estado\"]==\"San Luis Potosi\"#De aquellos estados que usan el combustible de Turbosina, separo solo lo que son de San Luis Potosi y así haré con cada uno de los estados \n",
        "SanLuisPotosi1=Turbos.loc[SanLuisPotosi_Turbo]\n",
        "#En SanLuisPotosi_2017 tengo al estado de SanLuisPotosi con combustible de Turbosina y que sus cargas de combustible en 2017\n",
        "SanLuisPotosi_2017_Turbo=SanLuisPotosi1[SanLuisPotosi1.Aniomes.isin([201701, 201702, 201703, 201704, 201705, 201706, 201707, 201708, 201709, 201710, 201711, 201712])]#Lo que hago aquí es obtener la información que ocurrio durnate todo el 2017 para posteriormente sumarlo\n",
        "SanLuisPotosi_2017_Turbo=SanLuisPotosi_2017_Turbo.reset_index()\n",
        "#En San Luis Potosi_2018 tengo al estado de San Luis Potosi con combustible de Turbosina y que sus cargas de combustible en 2018\n",
        "SanLuisPotosi_2018_Turbo=SanLuisPotosi1[SanLuisPotosi1.Aniomes.isin([201801, 201802, 201803, 201804, 201805, 201806, 201807, 201808, 201809, 201810, 201811, 201812])]#Lo que hago aquí es obtener la información que ocurrio durnate todo el 2018 para posteriormente sumarlo\n",
        "SanLuisPotosi_2018_Turbo=SanLuisPotosi_2018_Turbo.reset_index()\n",
        "#En San Luis Potosi_2019 tengo al estado de San Luis Potosi con combustible de Turbosina y que sus cargas de combustible en 2019\n",
        "SanLuisPotosi_2019_Turbo=SanLuisPotosi1[SanLuisPotosi1.Aniomes.isin([201901, 201902, 201903, 201904, 201905, 201906, 201907, 201908, 201909, 201910, 201911, 201912])]#Lo que hago aquí es obtener la información que ocurrio durnate todo el 2019 para posteriormente sumarlo\n",
        "SanLuisPotosi_2019_Turbo=SanLuisPotosi_2019_Turbo.reset_index()\n",
        "#En San Luis Potosi_2020 tengo al estado de San Luis Potosi con combustible de Turbosina y que sus cargas de combustible en 2020\n",
        "SanLuisPotosi_2020_Turbo=SanLuisPotosi1[SanLuisPotosi1.Aniomes.isin([202001, 202002, 202003, 202004, 202005, 202006, 202007, 202008, 202009, 202010, 202011, 202012])]#Lo que hago aquí es obtener la información que ocurrio durnate todo el 2020 para posteriormente sumarlo\n",
        "SanLuisPotosi_2020_Turbo=SanLuisPotosi_2020_Turbo.reset_index()\n",
        "#En San Luis Potosi_2021 tengo al estado de San Luis Potosicon combustible de Turbosina y que sus cargas de combustible en 2021\n",
        "SanLuisPotosi_2021_Turbo=SanLuisPotosi1[SanLuisPotosi1.Aniomes.isin([202101, 202102, 202103, 202104, 202105, 202106, 202107, 202108, 202109, 202110, 202111, 202112])]#Lo que hago aquí es obtener la información que ocurrio durnate todo el 2021 para posteriormente sumarlo\n",
        "SanLuisPotosi_2021_Turbo=SanLuisPotosi_2021_Turbo.reset_index()"
      ]
    },
    {
      "cell_type": "code",
      "execution_count": 53,
      "metadata": {
        "id": "31D21T0xg9M6"
      },
      "outputs": [],
      "source": [
        "#SANLUISPOTOSI\n",
        "#SanLuisPotosi1 contiene a el estado de SanLuisPotosi que usa Gasavion\n",
        "SanLuisPotosi_Gas=Gass.loc[:,\"Estado\"]==\"San Luis Potosi\"#De aquellos estados que usan el combustible de Gasavion, separo solo lo que son de SanLuisPotosi y así haré con cada uno de los estados \n",
        "SanLuisPotosi1=Gass.loc[SanLuisPotosi_Gas]\n",
        "#En SanLuisPotosi_2017 tengo al estado de SanLuisPotosi con combustible de Gasavion y que sus cargas de combustible en 2018\n",
        "SanLuisPotosi_2017_Gas=SanLuisPotosi1[SanLuisPotosi1.Aniomes.isin([201701, 201702, 201703, 201704, 201705, 201706, 201707, 201708, 201709, 201710, 201711, 201712])]#Lo que hago aquí es obtener la información que ocurrió durante todo el 2018 para posteriormente sumarlo\n",
        "SanLuisPotosi_2017_Gas=SanLuisPotosi_2017_Gas.reset_index()\n",
        "#En SanLuisPotosi_2018 tengo al estado de SanLuisPotosi con combustible de Gasavion y que sus cargas de combustible en 2018\n",
        "SanLuisPotosi_2018_Gas=SanLuisPotosi1[SanLuisPotosi1.Aniomes.isin([201801, 201802, 201803, 201804, 201805, 201806, 201807, 201808, 201809, 201810, 201811, 201812])]#Lo que hago aquí es obtener la información que ocurrió durante todo el 2018 para posteriormente sumarlo\n",
        "SanLuisPotosi_2018_Gas=SanLuisPotosi_2018_Gas.reset_index()\n",
        "#En SanLuisPotosi_2019 tengo al estado de SanLuisPotosi con combustible de Gasavion y que sus cargas de combustible en 2019\n",
        "SanLuisPotosi_2019_Gas=SanLuisPotosi1[SanLuisPotosi1.Aniomes.isin([201901, 201902, 201903, 201904, 201905, 201906, 201907, 201908, 201909, 201910, 201911, 201912])]#Lo que hago aquí es obtener la información que ocurrió durante todo el 2019 para posteriormente sumarlo\n",
        "SanLuisPotosi_2019_Gas=SanLuisPotosi_2019_Gas.reset_index()\n",
        "#En SanLuisPotosi_2020 tengo al estado de SanLuisPotosi con combustible de Gasavion y que sus cargas de combustible en 2020\n",
        "SanLuisPotosi_2020_Gas=SanLuisPotosi1[SanLuisPotosi1.Aniomes.isin([202001, 202002, 202003, 202004, 202005, 202006, 202007, 202008, 202009, 202010, 202011, 202012])]#Lo que hago aquí es obtener la información que ocurrió durante todo el 2020 para posteriormente sumarlo\n",
        "SanLuisPotosi_2020_Gas=SanLuisPotosi_2020_Gas.reset_index()\n",
        "#En SanLuisPotosi_2021 tengo al estado de SanLuisPotosi con combustible de Gasavion y que sus cargas de combustible en 2021\n",
        "SanLuisPotosi_2021_Gas=SanLuisPotosi1[SanLuisPotosi1.Aniomes.isin([202101, 202102, 202103, 202104, 202105, 202106, 202107, 202108, 202109, 202110, 202111, 202112])]#Lo que hago aquí es obtener la información que ocurrió durante todo el 2021 para posteriormente sumarlo\n",
        "SanLuisPotosi_2021_Gas=SanLuisPotosi_2021_Gas.reset_index()"
      ]
    },
    {
      "cell_type": "code",
      "execution_count": 54,
      "metadata": {
        "id": "d30V8WxZ6LH-"
      },
      "outputs": [],
      "source": [
        "#SINALOA\n",
        "#Sinaloa1 contiene a el estado de Sinaloa que usa Turbosina\n",
        "Sinaloa_Turbo=Turbos.loc[:,\"Estado\"]==\"Sinaloa\"#De aquellos estados que usan el combustible de Turbosina, separo solo lo que son de San Luis Potosi y así haré con cada uno de los estados \n",
        "Sinaloa1=Turbos.loc[Sinaloa_Turbo]\n",
        "#En Sinaloa_2017 tengo al estado de Sinaloa con combustible de Turbosina y que sus cargas de combustible en 2017\n",
        "Sinaloa_2017_Turbo=Sinaloa1[Sinaloa1.Aniomes.isin([201701, 201702, 201703, 201704, 201705, 201706, 201707, 201708, 201709, 201710, 201711, 201712])]#Lo que hago aquí es obtener la información que ocurrio durnate todo el 2017 para posteriormente sumarlo\n",
        "Sinaloa_2017_Turbo=Sinaloa_2017_Turbo.reset_index()\n",
        "#En Sinaloa_2018 tengo al estado de Sinaloa con combustible de Turbosina y que sus cargas de combustible en 2018\n",
        "Sinaloa_2018_Turbo=Sinaloa1[Sinaloa1.Aniomes.isin([201801, 201802, 201803, 201804, 201805, 201806, 201807, 201808, 201809, 201810, 201811, 201812])]#Lo que hago aquí es obtener la información que ocurrio durnate todo el 2018 para posteriormente sumarlo\n",
        "Sinaloa_2018_Turbo=Sinaloa_2018_Turbo.reset_index()\n",
        "#En Sinaloa_2019 tengo al estado de Sinaloa con combustible de Turbosina y que sus cargas de combustible en 2019\n",
        "Sinaloa_2019_Turbo=Sinaloa1[Sinaloa1.Aniomes.isin([201901, 201902, 201903, 201904, 201905, 201906, 201907, 201908, 201909, 201910, 201911, 201912])]#Lo que hago aquí es obtener la información que ocurrio durnate todo el 2019 para posteriormente sumarlo\n",
        "Sinaloa_2019_Turbo=Sinaloa_2019_Turbo.reset_index()\n",
        "#En Sinaloa_2020 tengo al estado de Sinaloa con combustible de Turbosina y que sus cargas de combustible en 2020\n",
        "Sinaloa_2020_Turbo=Sinaloa1[Sinaloa1.Aniomes.isin([202001, 202002, 202003, 202004, 202005, 202006, 202007, 202008, 202009, 202010, 202011, 202012])]#Lo que hago aquí es obtener la información que ocurrio durnate todo el 2020 para posteriormente sumarlo\n",
        "Sinaloa_2020_Turbo=Sinaloa_2020_Turbo.reset_index()\n",
        "#En Sinaloa_2021 tengo al estado de Sinaloa con combustible de Turbosina y que sus cargas de combustible en 2021\n",
        "Sinaloa_2021_Turbo=Sinaloa1[Sinaloa1.Aniomes.isin([202101, 202102, 202103, 202104, 202105, 202106, 202107, 202108, 202109, 202110, 202111, 202112])]#Lo que hago aquí es obtener la información que ocurrio durnate todo el 2021 para posteriormente sumarlo\n",
        "Sinaloa_2021_Turbo=Sinaloa_2021_Turbo.reset_index()"
      ]
    },
    {
      "cell_type": "code",
      "execution_count": 55,
      "metadata": {
        "id": "g7c7nIGqhF8D"
      },
      "outputs": [],
      "source": [
        "#SINALOA\n",
        "#Sinaloa1 contiene a el estado de Sinaloa que usa Gasavion\n",
        "Sinaloa_Gas=Gass.loc[:,\"Estado\"]==\"Sinaloa\"#De aquellos estados que usan el combustible de Gasavion, separo solo lo que son de Sinaloa y así haré con cada uno de los estados \n",
        "Sinaloa1=Gass.loc[Sinaloa_Gas]\n",
        "#En Sinaloa_2017 tengo al estado de Sinaloa con combustible de Gasavion y que sus cargas de combustible en 2018\n",
        "Sinaloa_2017_Gas=Sinaloa1[Sinaloa1.Aniomes.isin([201701, 201702, 201703, 201704, 201705, 201706, 201707, 201708, 201709, 201710, 201711, 201712])]#Lo que hago aquí es obtener la información que ocurrió durante todo el 2018 para posteriormente sumarlo\n",
        "Sinaloa_2017_Gas=Sinaloa_2017_Gas.reset_index()\n",
        "#En Sinaloa_2018 tengo al estado de Sinaloa con combustible de Gasavion y que sus cargas de combustible en 2018\n",
        "Sinaloa_2018_Gas=Sinaloa1[Sinaloa1.Aniomes.isin([201801, 201802, 201803, 201804, 201805, 201806, 201807, 201808, 201809, 201810, 201811, 201812])]#Lo que hago aquí es obtener la información que ocurrió durante todo el 2018 para posteriormente sumarlo\n",
        "Sinaloa_2018_Gas=Sinaloa_2018_Gas.reset_index()\n",
        "#En Sinaloa_2019 tengo al estado de Sinaloa con combustible de Gasavion y que sus cargas de combustible en 2019\n",
        "Sinaloa_2019_Gas=Sinaloa1[Sinaloa1.Aniomes.isin([201901, 201902, 201903, 201904, 201905, 201906, 201907, 201908, 201909, 201910, 201911, 201912])]#Lo que hago aquí es obtener la información que ocurrió durante todo el 2019 para posteriormente sumarlo\n",
        "Sinaloa_2019_Gas=Sinaloa_2019_Gas.reset_index()\n",
        "#En Sinaloa_2020 tengo al estado de Sinaloa con combustible de Gasavion y que sus cargas de combustible en 2020\n",
        "Sinaloa_2020_Gas=Sinaloa1[Sinaloa1.Aniomes.isin([202001, 202002, 202003, 202004, 202005, 202006, 202007, 202008, 202009, 202010, 202011, 202012])]#Lo que hago aquí es obtener la información que ocurrió durante todo el 2020 para posteriormente sumarlo\n",
        "Sinaloa_2020_Gas=Sinaloa_2020_Gas.reset_index()\n",
        "#En Sinaloa_2021 tengo al estado de Sinaloa con combustible de Gasavion y que sus cargas de combustible en 2021\n",
        "Sinaloa_2021_Gas=Sinaloa1[Sinaloa1.Aniomes.isin([202101, 202102, 202103, 202104, 202105, 202106, 202107, 202108, 202109, 202110, 202111, 202112])]#Lo que hago aquí es obtener la información que ocurrió durante todo el 2021 para posteriormente sumarlo\n",
        "Sinaloa_2021_Gas=Sinaloa_2021_Gas.reset_index()"
      ]
    },
    {
      "cell_type": "code",
      "execution_count": 56,
      "metadata": {
        "id": "NzPRYpquRzzB"
      },
      "outputs": [],
      "source": [
        "#SONORA\n",
        "#Sonora1 contiene a el estado de Sonora que usa Turbosina\n",
        "Sonora_Turbo=Turbos.loc[:,\"Estado\"]==\"Sonora\"#De aquellos estados que usan el combustible de Turbosina, separo solo lo que son de Sonora y así haré con cada uno de los estados \n",
        "Sonora1=Turbos.loc[Sonora_Turbo]\n",
        "#En Sonora_2017 tengo al estado de Sonora con combustible de Turbosina y que sus cargas de combustible en 2017\n",
        "Sonora_2017_Turbo=Sonora1[Sonora1.Aniomes.isin([201701, 201702, 201703, 201704, 201705, 201706, 201707, 201708, 201709, 201710, 201711, 201712])]#Lo que hago aquí es obtener la información que ocurrio durnate todo el 2017 para posteriormente sumarlo\n",
        "Sonora_2017_Turbo=Sonora_2017_Turbo.reset_index()\n",
        "#En Sonora_2018 tengo al estado de Sonora con combustible de Turbosina y que sus cargas de combustible en 2018\n",
        "Sonora_2018_Turbo=Sonora1[Sonora1.Aniomes.isin([201801, 201802, 201803, 201804, 201805, 201806, 201807, 201808, 201809, 201810, 201811, 201812])]#Lo que hago aquí es obtener la información que ocurrio durnate todo el 2018 para posteriormente sumarlo\n",
        "Sonora_2018_Turbo=Sonora_2018_Turbo.reset_index()\n",
        "#En Sonora_2019 tengo al estado de Sonora con combustible de Turbosina y que sus cargas de combustible en 2019\n",
        "Sonora_2019_Turbo=Sonora1[Sonora1.Aniomes.isin([201901, 201902, 201903, 201904, 201905, 201906, 201907, 201908, 201909, 201910, 201911, 201912])]#Lo que hago aquí es obtener la información que ocurrio durnate todo el 2019 para posteriormente sumarlo\n",
        "Sonora_2019_Turbo=Sonora_2019_Turbo.reset_index()\n",
        "#En Sonora_2020 tengo al estado de Sonora con combustible de Turbosina y que sus cargas de combustible en 2020\n",
        "Sonora_2020_Turbo=Sonora1[Sonora1.Aniomes.isin([202001, 202002, 202003, 202004, 202005, 202006, 202007, 202008, 202009, 202010, 202011, 202012])]#Lo que hago aquí es obtener la información que ocurrio durnate todo el 2020 para posteriormente sumarlo\n",
        "Sonora_2020_Turbo=Sonora_2020_Turbo.reset_index()\n",
        "#En Sonora_2021 tengo al estado de Sonora con combustible de Turbosina y que sus cargas de combustible en 2021\n",
        "Sonora_2021_Turbo=Sonora1[Sonora1.Aniomes.isin([202101, 202102, 202103, 202104, 202105, 202106, 202107, 202108, 202109, 202110, 202111, 202112])]#Lo que hago aquí es obtener la información que ocurrio durnate todo el 2021 para posteriormente sumarlo\n",
        "Sonora_2021_Turbo=Sonora_2021_Turbo.reset_index()"
      ]
    },
    {
      "cell_type": "code",
      "execution_count": 57,
      "metadata": {
        "id": "iu77ISTahNFU"
      },
      "outputs": [],
      "source": [
        "#SONORA\n",
        "#Sonora1 contiene a el estado de Sonora que usa Gasavion\n",
        "Sonora_Gas=Gass.loc[:,\"Estado\"]==\"Sonora\"#De aquellos estados que usan el combustible de Gasavion, separo solo lo que son de Sonora y así haré con cada uno de los estados \n",
        "Sonora1=Gass.loc[Sonora_Gas]\n",
        "#En Sonora_2017 tengo al estado de Sonora con combustible de Gasavion y que sus cargas de combustible en 2018\n",
        "Sonora_2017_Gas=Sonora1[Sonora1.Aniomes.isin([201701, 201702, 201703, 201704, 201705, 201706, 201707, 201708, 201709, 201710, 201711, 201712])]#Lo que hago aquí es obtener la información que ocurrió durante todo el 2018 para posteriormente sumarlo\n",
        "Sonora_2017_Gas=Sonora_2017_Gas.reset_index()\n",
        "#En Sonora_2018 tengo al estado de Sonora con combustible de Gasavion y que sus cargas de combustible en 2018\n",
        "Sonora_2018_Gas=Sonora1[Sonora1.Aniomes.isin([201801, 201802, 201803, 201804, 201805, 201806, 201807, 201808, 201809, 201810, 201811, 201812])]#Lo que hago aquí es obtener la información que ocurrió durante todo el 2018 para posteriormente sumarlo\n",
        "Sonora_2018_Gas=Sonora_2018_Gas.reset_index()\n",
        "#En Sonora_2019 tengo al estado de Sonora con combustible de Gasavion y que sus cargas de combustible en 2019\n",
        "Sonora_2019_Gas=Sonora1[Sonora1.Aniomes.isin([201901, 201902, 201903, 201904, 201905, 201906, 201907, 201908, 201909, 201910, 201911, 201912])]#Lo que hago aquí es obtener la información que ocurrió durante todo el 2019 para posteriormente sumarlo\n",
        "Sonora_2019_Gas=Sonora_2019_Gas.reset_index()\n",
        "#En Sonora_2020 tengo al estado de Sonora con combustible de Gasavion y que sus cargas de combustible en 2020\n",
        "Sonora_2020_Gas=Sonora1[Sonora1.Aniomes.isin([202001, 202002, 202003, 202004, 202005, 202006, 202007, 202008, 202009, 202010, 202011, 202012])]#Lo que hago aquí es obtener la información que ocurrió durante todo el 2020 para posteriormente sumarlo\n",
        "Sonora_2020_Gas=Sonora_2020_Gas.reset_index()\n",
        "#En Sonora_2021 tengo al estado de Sonora con combustible de Gasavion y que sus cargas de combustible en 2021\n",
        "Sonora_2021_Gas=Sonora1[Sonora1.Aniomes.isin([202101, 202102, 202103, 202104, 202105, 202106, 202107, 202108, 202109, 202110, 202111, 202112])]#Lo que hago aquí es obtener la información que ocurrió durante todo el 2021 para posteriormente sumarlo\n",
        "Sonora_2021_Gas=Sonora_2021_Gas.reset_index()"
      ]
    },
    {
      "cell_type": "code",
      "execution_count": 58,
      "metadata": {
        "id": "9QkOxI9GbDSF"
      },
      "outputs": [],
      "source": [
        "#TABASCO\n",
        "#Tabasco1 contiene a el estado de Tabasco que usa Turbosina\n",
        "Tabasco_Turbo=Turbos.loc[:,\"Estado\"]==\"Tabasco\"#De aquellos estados que usan el combustible de Turbosina, separo solo lo que son de Tabasco y así haré con cada uno de los estados \n",
        "Tabasco1=Turbos.loc[Tabasco_Turbo]\n",
        "#En Tabasco_2017 tengo al estado de Tabasco con combustible de Turbosina y que sus cargas de combustible en 2017\n",
        "Tabasco_2017_Turbo=Tabasco1[Tabasco1.Aniomes.isin([201701, 201702, 201703, 201704, 201705, 201706, 201707, 201708, 201709, 201710, 201711, 201712])]#Lo que hago aquí es obtener la información que ocurrio durnate todo el 2017 para posteriormente sumarlo\n",
        "Tabasco_2017_Turbo=Tabasco_2017_Turbo.reset_index()\n",
        "#En Tabasco_2018 tengo al estado de Tabasco con combustible de Turbosina y que sus cargas de combustible en 2018\n",
        "Tabasco_2018_Turbo=Tabasco1[Tabasco1.Aniomes.isin([201801, 201802, 201803, 201804, 201805, 201806, 201807, 201808, 201809, 201810, 201811, 201812])]#Lo que hago aquí es obtener la información que ocurrio durnate todo el 2018 para posteriormente sumarlo\n",
        "Tabasco_2018_Turbo=Tabasco_2018_Turbo.reset_index()\n",
        "#En Tabasco_2019 tengo al estado de Tabasco con combustible de Turbosina y que sus cargas de combustible en 2019\n",
        "Tabasco_2019_Turbo=Tabasco1[Tabasco1.Aniomes.isin([201901, 201902, 201903, 201904, 201905, 201906, 201907, 201908, 201909, 201910, 201911, 201912])]#Lo que hago aquí es obtener la información que ocurrio durnate todo el 2019 para posteriormente sumarlo\n",
        "Tabasco_2019_Turbo=Tabasco_2019_Turbo.reset_index()\n",
        "#En Tabasco_2020 tengo al estado de Tabasco con combustible de Turbosina y que sus cargas de combustible en 2020\n",
        "Tabasco_2020_Turbo=Tabasco1[Tabasco1.Aniomes.isin([202001, 202002, 202003, 202004, 202005, 202006, 202007, 202008, 202009, 202010, 202011, 202012])]#Lo que hago aquí es obtener la información que ocurrio durnate todo el 2020 para posteriormente sumarlo\n",
        "Tabasco_2020_Turbo=Tabasco_2020_Turbo.reset_index()\n",
        "#En Tabasco_2021 tengo al estado de Tabasco con combustible de Turbosina y que sus cargas de combustible en 2021\n",
        "Tabasco_2021_Turbo=Tabasco1[Tabasco1.Aniomes.isin([202101, 202102, 202103, 202104, 202105, 202106, 202107, 202108, 202109, 202110, 202111, 202112])]#Lo que hago aquí es obtener la información que ocurrio durnate todo el 2021 para posteriormente sumarlo\n",
        "Tabasco_2021_Turbo=Tabasco_2021_Turbo.reset_index()"
      ]
    },
    {
      "cell_type": "code",
      "execution_count": 59,
      "metadata": {
        "id": "GmRgElE9hTv5"
      },
      "outputs": [],
      "source": [
        "#TABASCO\n",
        "#Tabasco1 contiene a el estado de Tabasco que usa Gasavion\n",
        "Tabasco_Gas=Gass.loc[:,\"Estado\"]==\"Tabasco\"#De aquellos estados que usan el combustible de Gasavion, separo solo lo que son de Tabasco y así haré con cada uno de los estados \n",
        "Tabasco1=Gass.loc[Tabasco_Gas]\n",
        "#En Tabasco_2017 tengo al estado de Tabasco con combustible de Gasavion y que sus cargas de combustible en 2018\n",
        "Tabasco_2017_Gas=Tabasco1[Tabasco1.Aniomes.isin([201701, 201702, 201703, 201704, 201705, 201706, 201707, 201708, 201709, 201710, 201711, 201712])]#Lo que hago aquí es obtener la información que ocurrió durante todo el 2018 para posteriormente sumarlo\n",
        "Tabasco_2017_Gas=Tabasco_2017_Gas.reset_index()\n",
        "#En Tabasco_2018 tengo al estado de Tabasco con combustible de Gasavion y que sus cargas de combustible en 2018\n",
        "Tabasco_2018_Gas=Tabasco1[Tabasco1.Aniomes.isin([201801, 201802, 201803, 201804, 201805, 201806, 201807, 201808, 201809, 201810, 201811, 201812])]#Lo que hago aquí es obtener la información que ocurrió durante todo el 2018 para posteriormente sumarlo\n",
        "Tabasco_2018_Gas=Tabasco_2018_Gas.reset_index()\n",
        "#En Tabasco_2019 tengo al estado de Tabasco con combustible de Gasavion y que sus cargas de combustible en 2019\n",
        "Tabasco_2019_Gas=Tabasco1[Tabasco1.Aniomes.isin([201901, 201902, 201903, 201904, 201905, 201906, 201907, 201908, 201909, 201910, 201911, 201912])]#Lo que hago aquí es obtener la información que ocurrió durante todo el 2019 para posteriormente sumarlo\n",
        "Tabasco_2019_Gas=Tabasco_2019_Gas.reset_index()\n",
        "#En Tabasco_2020 tengo al estado de Tabasco con combustible de Gasavion y que sus cargas de combustible en 2020\n",
        "Tabasco_2020_Gas=Tabasco1[Tabasco1.Aniomes.isin([202001, 202002, 202003, 202004, 202005, 202006, 202007, 202008, 202009, 202010, 202011, 202012])]#Lo que hago aquí es obtener la información que ocurrió durante todo el 2020 para posteriormente sumarlo\n",
        "Tabasco_2020_Gas=Tabasco_2020_Gas.reset_index()\n",
        "#En Tabasco_2021 tengo al estado de Tabasco con combustible de Gasavion y que sus cargas de combustible en 2021\n",
        "Tabasco_2021_Gas=Tabasco1[Tabasco1.Aniomes.isin([202101, 202102, 202103, 202104, 202105, 202106, 202107, 202108, 202109, 202110, 202111, 202112])]#Lo que hago aquí es obtener la información que ocurrió durante todo el 2021 para posteriormente sumarlo\n",
        "Tabasco_2021_Gas=Tabasco_2021_Gas.reset_index()"
      ]
    },
    {
      "cell_type": "code",
      "execution_count": 60,
      "metadata": {
        "id": "PHfGbpPR9aS8"
      },
      "outputs": [],
      "source": [
        "#TAMAULIPAS \n",
        "#Tamaulipas1 contiene a el estado de Tamaulipas que usa Turbosina\n",
        "Tamaulipas_Turbo=Turbos.loc[:,\"Estado\"]==\"Tamaulipas\"#De aquellos estados que usan el combustible de Turbosina, separo solo lo que son de Tamaulipas y así haré con cada uno de los estados \n",
        "Tamaulipas1=Turbos.loc[Tamaulipas_Turbo]\n",
        "#En Tamaulipas_2017 tengo al estado de Tamaulipas con combustible de Turbosina y que sus cargas de combustible en 2017\n",
        "Tamaulipas_2017_Turbo=Tamaulipas1[Tamaulipas1.Aniomes.isin([201701, 201702, 201703, 201704, 201705, 201706, 201707, 201708, 201709, 201710, 201711, 201712])]#Lo que hago aquí es obtener la información que ocurrio durnate todo el 2017 para posteriormente sumarlo\n",
        "Tamaulipas_2017_Turbo=Tamaulipas_2017_Turbo.reset_index()\n",
        "#En Tamaulipas_2018 tengo al estado de Tamaulipas con combustible de Turbosina y que sus cargas de combustible en 2018\n",
        "Tamaulipas_2018_Turbo=Tamaulipas1[Tamaulipas1.Aniomes.isin([201801, 201802, 201803, 201804, 201805, 201806, 201807, 201808, 201809, 201810, 201811, 201812])]#Lo que hago aquí es obtener la información que ocurrio durnate todo el 2018 para posteriormente sumarlo\n",
        "Tamaulipas_2018_Turbo=Tamaulipas_2018_Turbo.reset_index()\n",
        "#En Tamaulipas_2019 tengo al estado de Tamaulipas con combustible de Turbosina y que sus cargas de combustible en 2019\n",
        "Tamaulipas_2019_Turbo=Tamaulipas1[Tamaulipas1.Aniomes.isin([201901, 201902, 201903, 201904, 201905, 201906, 201907, 201908, 201909, 201910, 201911, 201912])]#Lo que hago aquí es obtener la información que ocurrio durnate todo el 2019 para posteriormente sumarlo\n",
        "Tamaulipas_2019_Turbo=Tamaulipas_2019_Turbo.reset_index()\n",
        "#En Tamaulipas_2020 tengo al estado de Tamaulipas con combustible de Turbosina y que sus cargas de combustible en 2020\n",
        "Tamaulipas_2020_Turbo=Tamaulipas1[Tamaulipas1.Aniomes.isin([202001, 202002, 202003, 202004, 202005, 202006, 202007, 202008, 202009, 202010, 202011, 202012])]#Lo que hago aquí es obtener la información que ocurrio durnate todo el 2020 para posteriormente sumarlo\n",
        "Tamaulipas_2020_Turbo=Tamaulipas_2020_Turbo.reset_index()\n",
        "#En Tamaulipas_2021 tengo al estado de Tamaulipas con combustible de Turbosina y que sus cargas de combustible en 2021\n",
        "Tamaulipas_2021_Turbo=Tamaulipas1[Tamaulipas1.Aniomes.isin([202101, 202102, 202103, 202104, 202105, 202106, 202107, 202108, 202109, 202110, 202111, 202112])]#Lo que hago aquí es obtener la información que ocurrio durnate todo el 2021 para posteriormente sumarlo\n",
        "Tamaulipas_2021_Turbo=Tamaulipas_2021_Turbo.reset_index()"
      ]
    },
    {
      "cell_type": "code",
      "execution_count": 61,
      "metadata": {
        "id": "AJJ_lBrehfCw"
      },
      "outputs": [],
      "source": [
        "#TAMAULIPAS\n",
        "#Tamaulipas1 contiene a el estado de Tamaulipas que usa Gasavion\n",
        "Tamaulipas_Gas=Gass.loc[:,\"Estado\"]==\"Tamaulipas\"#De aquellos estados que usan el combustible de Gasavion, separo solo lo que son de Tamaulipas y así haré con cada uno de los estados \n",
        "Tamaulipas1=Gass.loc[Tamaulipas_Gas]\n",
        "#En Tamaulipas_2017 tengo al estado de Tamaulipas con combustible de Gasavion y que sus cargas de combustible en 2018\n",
        "Tamaulipas_2017_Gas=Tamaulipas1[Tamaulipas1.Aniomes.isin([201701, 201702, 201703, 201704, 201705, 201706, 201707, 201708, 201709, 201710, 201711, 201712])]#Lo que hago aquí es obtener la información que ocurrió durante todo el 2018 para posteriormente sumarlo\n",
        "Tamaulipas_2017_Gas=Tamaulipas_2017_Gas.reset_index()\n",
        "#En Tamaulipas_2018 tengo al estado de Tamaulipas con combustible de Gasavion y que sus cargas de combustible en 2018\n",
        "Tamaulipas_2018_Gas=Tamaulipas1[Tamaulipas1.Aniomes.isin([201801, 201802, 201803, 201804, 201805, 201806, 201807, 201808, 201809, 201810, 201811, 201812])]#Lo que hago aquí es obtener la información que ocurrió durante todo el 2018 para posteriormente sumarlo\n",
        "Tamaulipas_2018_Gas=Tamaulipas_2018_Gas.reset_index()\n",
        "#En Tamaulipas_2019 tengo al estado de Tamaulipas con combustible de Gasavion y que sus cargas de combustible en 2019\n",
        "Tamaulipas_2019_Gas=Tamaulipas1[Tamaulipas1.Aniomes.isin([201901, 201902, 201903, 201904, 201905, 201906, 201907, 201908, 201909, 201910, 201911, 201912])]#Lo que hago aquí es obtener la información que ocurrió durante todo el 2019 para posteriormente sumarlo\n",
        "Tamaulipas_2019_Gas=Tamaulipas_2019_Gas.reset_index()\n",
        "#En Tamaulipas_2020 tengo al estado de Tamaulipas con combustible de Gasavion y que sus cargas de combustible en 2020\n",
        "Tamaulipas_2020_Gas=Tamaulipas1[Tamaulipas1.Aniomes.isin([202001, 202002, 202003, 202004, 202005, 202006, 202007, 202008, 202009, 202010, 202011, 202012])]#Lo que hago aquí es obtener la información que ocurrió durante todo el 2020 para posteriormente sumarlo\n",
        "Tamaulipas_2020_Gas=Tamaulipas_2020_Gas.reset_index()\n",
        "#En Tamaulipas_2021 tengo al estado de Tamaulipas con combustible de Gasavion y que sus cargas de combustible en 2021\n",
        "Tamaulipas_2021_Gas=Tamaulipas1[Tamaulipas1.Aniomes.isin([202101, 202102, 202103, 202104, 202105, 202106, 202107, 202108, 202109, 202110, 202111, 202112])]#Lo que hago aquí es obtener la información que ocurrió durante todo el 2021 para posteriormente sumarlo\n",
        "Tamaulipas_2021_Gas=Tamaulipas_2021_Gas.reset_index()"
      ]
    },
    {
      "cell_type": "code",
      "execution_count": 62,
      "metadata": {
        "id": "0TuIeSkZYwhP"
      },
      "outputs": [],
      "source": [
        "#VERACRUZ\n",
        "#Veracruz1 contiene a el estado de Veracruz que usa Turbosina\n",
        "Veracruz_Turbo=Turbos.loc[:,\"Estado\"]==\"Veracruz\"#De aquellos estados que usan el combustible de Turbosina, separo solo lo que son de Veracruz y así haré con cada uno de los estados \n",
        "Veracruz1=Turbos.loc[Veracruz_Turbo]\n",
        "#En Veracruz_2017 tengo al estado de Veracruz con combustible de Turbosina y que sus cargas de combustible en 2017\n",
        "Veracruz_2017_Turbo=Veracruz1[Veracruz1.Aniomes.isin([201701, 201702, 201703, 201704, 201705, 201706, 201707, 201708, 201709, 201710, 201711, 201712])]#Lo que hago aquí es obtener la información que ocurrio durnate todo el 2017 para posteriormente sumarlo\n",
        "Veracruz_2017_Turbo=Veracruz_2017_Turbo.reset_index()\n",
        "#En Veracruz_2018 tengo al estado de Veracruz con combustible de Turbosina y que sus cargas de combustible en 2018\n",
        "Veracruz_2018_Turbo=Veracruz1[Veracruz1.Aniomes.isin([201801, 201802, 201803, 201804, 201805, 201806, 201807, 201808, 201809, 201810, 201811, 201812])]#Lo que hago aquí es obtener la información que ocurrio durnate todo el 2018 para posteriormente sumarlo\n",
        "Veracruz_2018_Turbo=Veracruz_2018_Turbo.reset_index()\n",
        "#En Veracruz_2019 tengo al estado de Veracruz con combustible de Turbosina y que sus cargas de combustible en 2019\n",
        "Veracruz_2019_Turbo=Veracruz1[Veracruz1.Aniomes.isin([201901, 201902, 201903, 201904, 201905, 201906, 201907, 201908, 201909, 201910, 201911, 201912])]#Lo que hago aquí es obtener la información que ocurrio durnate todo el 2019 para posteriormente sumarlo\n",
        "Veracruz_2019_Turbo=Veracruz_2019_Turbo.reset_index()\n",
        "#En Veracruz_2020 tengo al estado de Veracruz con combustible de Turbosina y que sus cargas de combustible en 2020\n",
        "Veracruz_2020_Turbo=Veracruz1[Veracruz1.Aniomes.isin([202001, 202002, 202003, 202004, 202005, 202006, 202007, 202008, 202009, 202010, 202011, 202012])]#Lo que hago aquí es obtener la información que ocurrio durnate todo el 2020 para posteriormente sumarlo\n",
        "Veracruz_2020_Turbo=Veracruz_2020_Turbo.reset_index()\n",
        "#En Veracruz_2021 tengo al estado de Veracruz con combustible de Turbosina y que sus cargas de combustible en 2021\n",
        "Veracruz_2021_Turbo=Veracruz1[Veracruz1.Aniomes.isin([202101, 202102, 202103, 202104, 202105, 202106, 202107, 202108, 202109, 202110, 202111, 202112])]#Lo que hago aquí es obtener la información que ocurrio durnate todo el 2021 para posteriormente sumarlo\n",
        "Veracruz_2021_Turbo=Veracruz_2021_Turbo.reset_index()"
      ]
    },
    {
      "cell_type": "code",
      "execution_count": 63,
      "metadata": {
        "id": "ugZ_Pk9NhlNP"
      },
      "outputs": [],
      "source": [
        "#VERACRUZ\n",
        "#Veracruz1 contiene a el estado de Veracruz que usa Gasavion\n",
        "Veracruz_Gas=Gass.loc[:,\"Estado\"]==\"Veracruz\"#De aquellos estados que usan el combustible de Gasavion, separo solo lo que son de Veracruz y así haré con cada uno de los estados \n",
        "Veracruz1=Gass.loc[Veracruz_Gas]\n",
        "#En Veracruz_2017 tengo al estado de Veracruz con combustible de Gasavion y que sus cargas de combustible en 2018\n",
        "Veracruz_2017_Gas=Veracruz1[Veracruz1.Aniomes.isin([201701, 201702, 201703, 201704, 201705, 201706, 201707, 201708, 201709, 201710, 201711, 201712])]#Lo que hago aquí es obtener la información que ocurrió durante todo el 2018 para posteriormente sumarlo\n",
        "Veracruz_2017_Gas=Veracruz_2017_Gas.reset_index()\n",
        "#En Veracruz_2018 tengo al estado de Veracruz con combustible de Gasavion y que sus cargas de combustible en 2018\n",
        "Veracruz_2018_Gas=Veracruz1[Veracruz1.Aniomes.isin([201801, 201802, 201803, 201804, 201805, 201806, 201807, 201808, 201809, 201810, 201811, 201812])]#Lo que hago aquí es obtener la información que ocurrió durante todo el 2018 para posteriormente sumarlo\n",
        "Veracruz_2018_Gas=Veracruz_2018_Gas.reset_index()\n",
        "#En Veracruz_2019 tengo al estado de Veracruz con combustible de Gasavion y que sus cargas de combustible en 2019\n",
        "Veracruz_2019_Gas=Veracruz1[Veracruz1.Aniomes.isin([201901, 201902, 201903, 201904, 201905, 201906, 201907, 201908, 201909, 201910, 201911, 201912])]#Lo que hago aquí es obtener la información que ocurrió durante todo el 2019 para posteriormente sumarlo\n",
        "Veracruz_2019_Gas=Veracruz_2019_Gas.reset_index()\n",
        "#En Veracruz_2020 tengo al estado de Veracruz con combustible de Gasavion y que sus cargas de combustible en 2020\n",
        "Veracruz_2020_Gas=Veracruz1[Veracruz1.Aniomes.isin([202001, 202002, 202003, 202004, 202005, 202006, 202007, 202008, 202009, 202010, 202011, 202012])]#Lo que hago aquí es obtener la información que ocurrió durante todo el 2020 para posteriormente sumarlo\n",
        "Veracruz_2020_Gas=Veracruz_2020_Gas.reset_index()\n",
        "#En Veracruz_2021 tengo al estado de Veracruz con combustible de Gasavion y que sus cargas de combustible en 2021\n",
        "Veracruz_2021_Gas=Veracruz1[Veracruz1.Aniomes.isin([202101, 202102, 202103, 202104, 202105, 202106, 202107, 202108, 202109, 202110, 202111, 202112])]#Lo que hago aquí es obtener la información que ocurrió durante todo el 2021 para posteriormente sumarlo\n",
        "Veracruz_2021_Gas=Veracruz_2021_Gas.reset_index()"
      ]
    },
    {
      "cell_type": "code",
      "execution_count": 64,
      "metadata": {
        "id": "D37B_Ksfg1rQ"
      },
      "outputs": [],
      "source": [
        "#YUCATAN\n",
        "#Yucatan1 contiene a el estado de Yucatan que usa Turbosina\n",
        "Yucatan_Turbo=Turbos.loc[:,\"Estado\"]==\"Yucatan\"#De aquellos estados que usan el combustible de Turbosina, separo solo lo que son de Yucatan y así haré con cada uno de los estados \n",
        "Yucatan1=Turbos.loc[Yucatan_Turbo]\n",
        "#En Yucatan_2017 tengo al estado de Yucatan con combustible de Turbosina y que sus cargas de combustible en 2017\n",
        "Yucatan_2017_Turbo=Yucatan1[Yucatan1.Aniomes.isin([201701, 201702, 201703, 201704, 201705, 201706, 201707, 201708, 201709, 201710, 201711, 201712])]#Lo que hago aquí es obtener la información que ocurrio durnate todo el 2017 para posteriormente sumarlo\n",
        "Yucatan_2017_Turbo=Yucatan_2017_Turbo.reset_index()\n",
        "#En Yucatan_2018 tengo al estado de Yucatan con combustible de Turbosina y que sus cargas de combustible en 2018\n",
        "Yucatan_2018_Turbo=Yucatan1[Yucatan1.Aniomes.isin([201801, 201802, 201803, 201804, 201805, 201806, 201807, 201808, 201809, 201810, 201811, 201812])]#Lo que hago aquí es obtener la información que ocurrio durnate todo el 2018 para posteriormente sumarlo\n",
        "Yucatan_2018_Turbo=Yucatan_2018_Turbo.reset_index()\n",
        "#En Yucatan_2019 tengo al estado de Yucatan con combustible de Turbosina y que sus cargas de combustible en 2019\n",
        "Yucatan_2019_Turbo=Yucatan1[Yucatan1.Aniomes.isin([201901, 201902, 201903, 201904, 201905, 201906, 201907, 201908, 201909, 201910, 201911, 201912])]#Lo que hago aquí es obtener la información que ocurrio durnate todo el 2019 para posteriormente sumarlo\n",
        "Yucatan_2019_Turbo=Yucatan_2019_Turbo.reset_index()\n",
        "#En Yucatan_2020 tengo al estado de Yucatan con combustible de Turbosina y que sus cargas de combustible en 2020\n",
        "Yucatan_2020_Turbo=Yucatan1[Yucatan1.Aniomes.isin([202001, 202002, 202003, 202004, 202005, 202006, 202007, 202008, 202009, 202010, 202011, 202012])]#Lo que hago aquí es obtener la información que ocurrio durnate todo el 2020 para posteriormente sumarlo\n",
        "Yucatan_2020_Turbo=Yucatan_2020_Turbo.reset_index()\n",
        "#En Yucatan_2021 tengo al estado de Yucatan con combustible de Turbosina y que sus cargas de combustible en 2021\n",
        "Yucatan_2021_Turbo=Yucatan1[Yucatan1.Aniomes.isin([202101, 202102, 202103, 202104, 202105, 202106, 202107, 202108, 202109, 202110, 202111, 202112])]#Lo que hago aquí es obtener la información que ocurrio durnate todo el 2021 para posteriormente sumarlo\n",
        "Yucatan_2021_Turbo=Yucatan_2021_Turbo.reset_index()"
      ]
    },
    {
      "cell_type": "code",
      "execution_count": 65,
      "metadata": {
        "id": "kSxpfae7hsaZ"
      },
      "outputs": [],
      "source": [
        "#YUCATAN\n",
        "#Yucatan1 contiene a el estado de Yucatan que usa Gasavion\n",
        "Yucatan_Gas=Gass.loc[:,\"Estado\"]==\"Yucatan\"#De aquellos estados que usan el combustible de Gasavion, separo solo lo que son de Yucatan y así haré con cada uno de los estados \n",
        "Yucatan1=Gass.loc[Yucatan_Gas]\n",
        "#En Yucatan_2017 tengo al estado de Yucatan con combustible de Gasavion y que sus cargas de combustible en 2018\n",
        "Yucatan_2017_Gas=Yucatan1[Yucatan1.Aniomes.isin([201701, 201702, 201703, 201704, 201705, 201706, 201707, 201708, 201709, 201710, 201711, 201712])]#Lo que hago aquí es obtener la información que ocurrió durante todo el 2018 para posteriormente sumarlo\n",
        "Yucatan_2017_Gas=Yucatan_2017_Gas.reset_index()\n",
        "#En Yucatan_2018 tengo al estado de Yucatan con combustible de Gasavion y que sus cargas de combustible en 2018\n",
        "Yucatan_2018_Gas=Yucatan1[Yucatan1.Aniomes.isin([201801, 201802, 201803, 201804, 201805, 201806, 201807, 201808, 201809, 201810, 201811, 201812])]#Lo que hago aquí es obtener la información que ocurrió durante todo el 2018 para posteriormente sumarlo\n",
        "Yucatan_2018_Gas=Yucatan_2018_Gas.reset_index()\n",
        "#En Yucatan_2019 tengo al estado de Yucatan con combustible de Gasavion y que sus cargas de combustible en 2019\n",
        "Yucatan_2019_Gas=Yucatan1[Yucatan1.Aniomes.isin([201901, 201902, 201903, 201904, 201905, 201906, 201907, 201908, 201909, 201910, 201911, 201912])]#Lo que hago aquí es obtener la información que ocurrió durante todo el 2019 para posteriormente sumarlo\n",
        "Yucatan_2019_Gas=Yucatan_2019_Gas.reset_index()\n",
        "#En Yucatan_2020 tengo al estado de Yucatan con combustible de Gasavion y que sus cargas de combustible en 2020\n",
        "Yucatan_2020_Gas=Yucatan1[Yucatan1.Aniomes.isin([202001, 202002, 202003, 202004, 202005, 202006, 202007, 202008, 202009, 202010, 202011, 202012])]#Lo que hago aquí es obtener la información que ocurrió durante todo el 2020 para posteriormente sumarlo\n",
        "Yucatan_2020_Gas=Yucatan_2020_Gas.reset_index()\n",
        "#En Yucatan_2021 tengo al estado de Yucatan con combustible de Gasavion y que sus cargas de combustible en 2021\n",
        "Yucatan_2021_Gas=Yucatan1[Yucatan1.Aniomes.isin([202101, 202102, 202103, 202104, 202105, 202106, 202107, 202108, 202109, 202110, 202111, 202112])]#Lo que hago aquí es obtener la información que ocurrió durante todo el 2021 para posteriormente sumarlo\n",
        "Yucatan_2021_Gas=Yucatan_2021_Gas.reset_index()"
      ]
    },
    {
      "cell_type": "code",
      "execution_count": 66,
      "metadata": {
        "id": "57YJSDFFZgKS"
      },
      "outputs": [],
      "source": [
        "#ZACATECAS\n",
        "#Zacatecas1 contiene a el estado de Zacatecas que usa Turbosina\n",
        "Zacatecas_Turbo=Turbos.loc[:,\"Estado\"]==\"Zacatecas\"#De aquellos estados que usan el combustible de Turbosina, separo solo lo que son de Zacatecas y así haré con cada uno de los estados \n",
        "Zacatecas1=Turbos.loc[Zacatecas_Turbo]\n",
        "#En Zacatecas_2017 tengo al estado de Zacatecas con combustible de Turbosina y que sus cargas de combustible en 2017\n",
        "Zacatecas_2017_Turbo=Zacatecas1[Zacatecas1.Aniomes.isin([201701, 201702, 201703, 201704, 201705, 201706, 201707, 201708, 201709, 201710, 201711, 201712])]#Lo que hago aquí es obtener la información que ocurrio durnate todo el 2017 para posteriormente sumarlo\n",
        "Zacatecas_2017_Turbo=Zacatecas_2017_Turbo.reset_index()\n",
        "#En Zacatecas_2018 tengo al estado de Zacatecas con combustible de Turbosina y que sus cargas de combustible en 2018\n",
        "Zacatecas_2018_Turbo=Zacatecas1[Zacatecas1.Aniomes.isin([201801, 201802, 201803, 201804, 201805, 201806, 201807, 201808, 201809, 201810, 201811, 201812])]#Lo que hago aquí es obtener la información que ocurrio durnate todo el 2018 para posteriormente sumarlo\n",
        "Zacatecas_2018_Turbo=Zacatecas_2018_Turbo.reset_index()\n",
        "#En Zacatecas_2019 tengo al estado de Zacatecas con combustible de Turbosina y que sus cargas de combustible en 2019\n",
        "Zacatecas_2019_Turbo=Zacatecas1[Zacatecas1.Aniomes.isin([201901, 201902, 201903, 201904, 201905, 201906, 201907, 201908, 201909, 201910, 201911, 201912])]#Lo que hago aquí es obtener la información que ocurrio durnate todo el 2019 para posteriormente sumarlo\n",
        "Zacatecas_2019_Turbo=Zacatecas_2019_Turbo.reset_index()\n",
        "#En Zacatecas_2020 tengo al estado de Zacatecas con combustible de Turbosina y que sus cargas de combustible en 2020\n",
        "Zacatecas_2020_Turbo=Zacatecas1[Zacatecas1.Aniomes.isin([202001, 202002, 202003, 202004, 202005, 202006, 202007, 202008, 202009, 202010, 202011, 202012])]#Lo que hago aquí es obtener la información que ocurrio durnate todo el 2020 para posteriormente sumarlo\n",
        "Zacatecas_2020_Turbo=Zacatecas_2020_Turbo.reset_index()\n",
        "#En Zacatecas_2021 tengo al estado de Zacatecas con combustible de Turbosina y que sus cargas de combustible en 2021\n",
        "Zacatecas_2021_Turbo=Zacatecas1[Zacatecas1.Aniomes.isin([202101, 202102, 202103, 202104, 202105, 202106, 202107, 202108, 202109, 202110, 202111, 202112])]#Lo que hago aquí es obtener la información que ocurrio durnate todo el 2021 para posteriormente sumarlo\n",
        "Zacatecas_2021_Turbo=Zacatecas_2021_Turbo.reset_index()"
      ]
    },
    {
      "cell_type": "code",
      "execution_count": 67,
      "metadata": {
        "id": "GeiI4TQbht-Z"
      },
      "outputs": [],
      "source": [
        "#ZACATECAS\n",
        "#Zacatecas1 contiene a el estado de Zacatecas que usa Gasavion\n",
        "Zacatecas_Gas=Gass.loc[:,\"Estado\"]==\"Zacatecas\"#De aquellos estados que usan el combustible de Gasavion, separo solo lo que son de Zacatecas y así haré con cada uno de los estados \n",
        "Zacatecas1=Gass.loc[Zacatecas_Gas]\n",
        "#En Zacatecas_2017 tengo al estado de Zacatecas con combustible de Gasavion y que sus cargas de combustible en 2018\n",
        "Zacatecas_2017_Gas=Zacatecas1[Zacatecas1.Aniomes.isin([201701, 201702, 201703, 201704, 201705, 201706, 201707, 201708, 201709, 201710, 201711, 201712])]#Lo que hago aquí es obtener la información que ocurrió durante todo el 2018 para posteriormente sumarlo\n",
        "Zacatecas_2017_Gas=Zacatecas_2017_Gas.reset_index()\n",
        "#En Zacatecas_2018 tengo al estado de Zacatecas con combustible de Gasavion y que sus cargas de combustible en 2018\n",
        "Zacatecas_2018_Gas=Zacatecas1[Zacatecas1.Aniomes.isin([201801, 201802, 201803, 201804, 201805, 201806, 201807, 201808, 201809, 201810, 201811, 201812])]#Lo que hago aquí es obtener la información que ocurrió durante todo el 2018 para posteriormente sumarlo\n",
        "Zacatecas_2018_Gas=Zacatecas_2018_Gas.reset_index()\n",
        "#En Zacatecas_2019 tengo al estado de Zacatecas con combustible de Gasavion y que sus cargas de combustible en 2019\n",
        "Zacatecas_2019_Gas=Zacatecas1[Zacatecas1.Aniomes.isin([201901, 201902, 201903, 201904, 201905, 201906, 201907, 201908, 201909, 201910, 201911, 201912])]#Lo que hago aquí es obtener la información que ocurrió durante todo el 2019 para posteriormente sumarlo\n",
        "Zacatecas_2019_Gas=Zacatecas_2019_Gas.reset_index()\n",
        "#En Zacatecas_2020 tengo al estado de Zacatecas con combustible de Gasavion y que sus cargas de combustible en 2020\n",
        "Zacatecas_2020_Gas=Zacatecas1[Zacatecas1.Aniomes.isin([202001, 202002, 202003, 202004, 202005, 202006, 202007, 202008, 202009, 202010, 202011, 202012])]#Lo que hago aquí es obtener la información que ocurrió durante todo el 2020 para posteriormente sumarlo\n",
        "Zacatecas_2020_Gas=Zacatecas_2020_Gas.reset_index()\n",
        "#En Zacatecas_2021 tengo al estado de Zacatecas con combustible de Gasavion y que sus cargas de combustible en 2021\n",
        "Zacatecas_2021_Gas=Zacatecas1[Zacatecas1.Aniomes.isin([202101, 202102, 202103, 202104, 202105, 202106, 202107, 202108, 202109, 202110, 202111, 202112])]#Lo que hago aquí es obtener la información que ocurrió durante todo el 2021 para posteriormente sumarlo\n",
        "Zacatecas_2021_Gas=Zacatecas_2021_Gas.reset_index()"
      ]
    },
    {
      "cell_type": "markdown",
      "metadata": {
        "id": "Pk6c5HaH_cMR"
      },
      "source": [
        "CAMBIO"
      ]
    },
    {
      "cell_type": "code",
      "execution_count": 68,
      "metadata": {
        "colab": {
          "base_uri": "https://localhost:8080/"
        },
        "id": "sS_Ic-jYXMVi",
        "outputId": "443678e7-d461-49bc-9383-02fd589197ce"
      },
      "outputs": [
        {
          "output_type": "stream",
          "name": "stderr",
          "text": [
            "/usr/local/lib/python3.7/dist-packages/ipykernel_launcher.py:3: SettingWithCopyWarning: \n",
            "A value is trying to be set on a copy of a slice from a DataFrame.\n",
            "Try using .loc[row_indexer,col_indexer] = value instead\n",
            "\n",
            "See the caveats in the documentation: https://pandas.pydata.org/pandas-docs/stable/user_guide/indexing.html#returning-a-view-versus-a-copy\n",
            "  This is separate from the ipykernel package so we can avoid doing imports until\n",
            "/usr/local/lib/python3.7/dist-packages/ipykernel_launcher.py:4: SettingWithCopyWarning: \n",
            "A value is trying to be set on a copy of a slice from a DataFrame.\n",
            "Try using .loc[row_indexer,col_indexer] = value instead\n",
            "\n",
            "See the caveats in the documentation: https://pandas.pydata.org/pandas-docs/stable/user_guide/indexing.html#returning-a-view-versus-a-copy\n",
            "  after removing the cwd from sys.path.\n",
            "/usr/local/lib/python3.7/dist-packages/ipykernel_launcher.py:5: SettingWithCopyWarning: \n",
            "A value is trying to be set on a copy of a slice from a DataFrame.\n",
            "Try using .loc[row_indexer,col_indexer] = value instead\n",
            "\n",
            "See the caveats in the documentation: https://pandas.pydata.org/pandas-docs/stable/user_guide/indexing.html#returning-a-view-versus-a-copy\n",
            "  \"\"\"\n"
          ]
        }
      ],
      "source": [
        "#AGUASCALIENTES\n",
        "Turbosina_Total=Aguascalientes_2017_Turbo[Aguascalientes_2017_Turbo.index <1]#Aquí agarro un nuevo DataFrame al cual solo le dejo una fila y le ire agregando una por estado \n",
        "Turbosina_Total[\"Aniomes\"]=2017\n",
        "Turbosina_Total[\"Litros de combustible suministrado\"]=Aguascalientes_2017_Turbo[\"Litros de combustible suministrado\"].sum()\n",
        "Turbosina_Total[\"Servicios realizados\"]=Aguascalientes_2017_Turbo[\"Servicios realizados\"].sum()\n",
        "Turbosina_Total=Turbosina_Total.drop(['index'], axis=1) #Se eliminan la columna del indice"
      ]
    },
    {
      "cell_type": "code",
      "execution_count": 69,
      "metadata": {
        "colab": {
          "base_uri": "https://localhost:8080/"
        },
        "id": "JNTl5pyMiq11",
        "outputId": "ee035990-5641-4c59-ae0b-0bd4a92b199c"
      },
      "outputs": [
        {
          "output_type": "stream",
          "name": "stderr",
          "text": [
            "/usr/local/lib/python3.7/dist-packages/ipykernel_launcher.py:3: SettingWithCopyWarning: \n",
            "A value is trying to be set on a copy of a slice from a DataFrame.\n",
            "Try using .loc[row_indexer,col_indexer] = value instead\n",
            "\n",
            "See the caveats in the documentation: https://pandas.pydata.org/pandas-docs/stable/user_guide/indexing.html#returning-a-view-versus-a-copy\n",
            "  This is separate from the ipykernel package so we can avoid doing imports until\n",
            "/usr/local/lib/python3.7/dist-packages/ipykernel_launcher.py:4: SettingWithCopyWarning: \n",
            "A value is trying to be set on a copy of a slice from a DataFrame.\n",
            "Try using .loc[row_indexer,col_indexer] = value instead\n",
            "\n",
            "See the caveats in the documentation: https://pandas.pydata.org/pandas-docs/stable/user_guide/indexing.html#returning-a-view-versus-a-copy\n",
            "  after removing the cwd from sys.path.\n",
            "/usr/local/lib/python3.7/dist-packages/ipykernel_launcher.py:5: SettingWithCopyWarning: \n",
            "A value is trying to be set on a copy of a slice from a DataFrame.\n",
            "Try using .loc[row_indexer,col_indexer] = value instead\n",
            "\n",
            "See the caveats in the documentation: https://pandas.pydata.org/pandas-docs/stable/user_guide/indexing.html#returning-a-view-versus-a-copy\n",
            "  \"\"\"\n"
          ]
        }
      ],
      "source": [
        "#AGUASCALIENTES\n",
        "Gasavion_Total=Aguascalientes_2017_Gas[Aguascalientes_2017_Gas.index <1]#Aquí agarro un nuevo DataFrame al cual solo le dejo una fila y le ire agregando una por estado \n",
        "Gasavion_Total[\"Aniomes\"]=2017\n",
        "Gasavion_Total[\"Litros de combustible suministrado\"]=Aguascalientes_2017_Gas[\"Litros de combustible suministrado\"].sum()\n",
        "Gasavion_Total[\"Servicios realizados\"]=Aguascalientes_2017_Gas[\"Servicios realizados\"].sum()\n",
        "Gasavion_Total=Gasavion_Total.drop(['index'], axis=1) #Se eliminan la columna del indice"
      ]
    },
    {
      "cell_type": "code",
      "execution_count": 70,
      "metadata": {
        "id": "SY7MVrFJPTcs"
      },
      "outputs": [],
      "source": [
        "#AGUASCALIENTES\n",
        "#Se agrega la fila que da los datos del 2018\n",
        "fila_2018={\"Estado\": \"Aguascalientes\", \"Aniomes\": \"2018\", \"Tipo Combustible\": \"Turbosina\", \"Litros de combustible suministrado\": Aguascalientes_2018_Turbo[\"Litros de combustible suministrado\"].sum(), \"Servicios realizados\": Aguascalientes_2018_Turbo[\"Servicios realizados\"].sum()}\n",
        "Turbosina_Total=Turbosina_Total.append(fila_2018, ignore_index=True)\n",
        "#Se agrega la fila que da los datos del 2019\n",
        "fila_2019={\"Estado\": \"Aguascalientes\", \"Aniomes\": \"2019\", \"Tipo Combustible\": \"Turbosina\", \"Litros de combustible suministrado\": Aguascalientes_2019_Turbo[\"Litros de combustible suministrado\"].sum(), \"Servicios realizados\": Aguascalientes_2019_Turbo[\"Servicios realizados\"].sum()}\n",
        "Turbosina_Total=Turbosina_Total.append(fila_2019, ignore_index=True)\n",
        "#Se agrega la fila que da los datos del 2020\n",
        "fila_2020={\"Estado\": \"Aguascalientes\", \"Aniomes\": \"2020\", \"Tipo Combustible\": \"Turbosina\", \"Litros de combustible suministrado\": Aguascalientes_2020_Turbo[\"Litros de combustible suministrado\"].sum(), \"Servicios realizados\": Aguascalientes_2020_Turbo[\"Servicios realizados\"].sum()}\n",
        "Turbosina_Total=Turbosina_Total.append(fila_2020, ignore_index=True)\n",
        "#Se agrega la fila que da los datos del 2021\n",
        "fila_2021={\"Estado\": \"Aguascalientes\", \"Aniomes\": \"2021\", \"Tipo Combustible\": \"Turbosina\", \"Litros de combustible suministrado\": Aguascalientes_2021_Turbo[\"Litros de combustible suministrado\"].sum(), \"Servicios realizados\": Aguascalientes_2021_Turbo[\"Servicios realizados\"].sum()}\n",
        "Turbosina_Total=Turbosina_Total.append(fila_2021, ignore_index=True)"
      ]
    },
    {
      "cell_type": "code",
      "execution_count": 71,
      "metadata": {
        "id": "GS4C_CFjh84t"
      },
      "outputs": [],
      "source": [
        "#AGUASCALIENTES\n",
        "#Se agrega la fila que da los datos del 2018\n",
        "fila_2018={\"Estado\": \"Aguascalientes\", \"Aniomes\": \"2018\", \"Tipo Combustible\": \"Gasavion\", \"Litros de combustible suministrado\": Aguascalientes_2018_Gas[\"Litros de combustible suministrado\"].sum(), \"Servicios realizados\": Aguascalientes_2018_Gas[\"Servicios realizados\"].sum()}\n",
        "Gasavion_Total=Gasavion_Total.append(fila_2018, ignore_index=True)\n",
        "#Se agrega la fila que da los datos del 2019\n",
        "fila_2019={\"Estado\": \"Aguascalientes\", \"Aniomes\": \"2019\", \"Tipo Combustible\": \"Gasavion\", \"Litros de combustible suministrado\": Aguascalientes_2019_Gas[\"Litros de combustible suministrado\"].sum(), \"Servicios realizados\": Aguascalientes_2019_Gas[\"Servicios realizados\"].sum()}\n",
        "Gasavion_Total=Gasavion_Total.append(fila_2019, ignore_index=True)\n",
        "#Se agrega la fila que da los datos del 2020\n",
        "fila_2020={\"Estado\": \"Aguascalientes\", \"Aniomes\": \"2020\", \"Tipo Combustible\": \"Gasavion\", \"Litros de combustible suministrado\": Aguascalientes_2020_Gas[\"Litros de combustible suministrado\"].sum(), \"Servicios realizados\": Aguascalientes_2020_Gas[\"Servicios realizados\"].sum()}\n",
        "Gasavion_Total=Gasavion_Total.append(fila_2020, ignore_index=True)\n",
        "#Se agrega la fila que da los datos del 2021\n",
        "fila_2021={\"Estado\": \"Aguascalientes\", \"Aniomes\": \"2021\", \"Tipo Combustible\": \"Gasavion\", \"Litros de combustible suministrado\": Aguascalientes_2021_Gas[\"Litros de combustible suministrado\"].sum(), \"Servicios realizados\": Aguascalientes_2021_Gas[\"Servicios realizados\"].sum()}\n",
        "Gasavion_Total=Gasavion_Total.append(fila_2021, ignore_index=True)"
      ]
    },
    {
      "cell_type": "code",
      "execution_count": 72,
      "metadata": {
        "id": "CXqSG-554jaq"
      },
      "outputs": [],
      "source": [
        "#BAJA CALIFORNIA\n",
        "#Se agrega la fila que da los datos del 2017\n",
        "fila_2017={\"Estado\": \"Baja California\", \"Aniomes\": \"2017\", \"Tipo Combustible\": \"Turbosina\", \"Litros de combustible suministrado\": BajaCalifornia_2017_Turbo[\"Litros de combustible suministrado\"].sum(), \"Servicios realizados\": BajaCalifornia_2017_Turbo[\"Servicios realizados\"].sum()}\n",
        "Turbosina_Total=Turbosina_Total.append(fila_2017, ignore_index=True)\n",
        "#Se agrega la fila que da los datos del 2018\n",
        "fila_2018={\"Estado\": \"Baja California\", \"Aniomes\": \"2018\", \"Tipo Combustible\": \"Turbosina\", \"Litros de combustible suministrado\": BajaCalifornia_2018_Turbo[\"Litros de combustible suministrado\"].sum(), \"Servicios realizados\": BajaCalifornia_2018_Turbo[\"Servicios realizados\"].sum()}\n",
        "Turbosina_Total=Turbosina_Total.append(fila_2018, ignore_index=True)\n",
        "#Se agrega la fila que da los datos del 2019\n",
        "fila_2019={\"Estado\": \"Baja California\", \"Aniomes\": \"2019\", \"Tipo Combustible\": \"Turbosina\", \"Litros de combustible suministrado\": BajaCalifornia_2019_Turbo[\"Litros de combustible suministrado\"].sum(), \"Servicios realizados\": BajaCalifornia_2019_Turbo[\"Servicios realizados\"].sum()}\n",
        "Turbosina_Total=Turbosina_Total.append(fila_2019, ignore_index=True)\n",
        "#Se agrega la fila que da los datos del 2020\n",
        "fila_2020={\"Estado\": \"Baja California\", \"Aniomes\": \"2020\", \"Tipo Combustible\": \"Turbosina\", \"Litros de combustible suministrado\": BajaCalifornia_2020_Turbo[\"Litros de combustible suministrado\"].sum(), \"Servicios realizados\": BajaCalifornia_2020_Turbo[\"Servicios realizados\"].sum()}\n",
        "Turbosina_Total=Turbosina_Total.append(fila_2020, ignore_index=True)\n",
        "#Se agrega la fila que da los datos del 2021\n",
        "fila_2021={\"Estado\": \"Baja California\", \"Aniomes\": \"2021\", \"Tipo Combustible\": \"Turbosina\", \"Litros de combustible suministrado\": BajaCalifornia_2021_Turbo[\"Litros de combustible suministrado\"].sum(), \"Servicios realizados\": BajaCalifornia_2021_Turbo[\"Servicios realizados\"].sum()}\n",
        "Turbosina_Total=Turbosina_Total.append(fila_2021, ignore_index=True)"
      ]
    },
    {
      "cell_type": "code",
      "execution_count": 73,
      "metadata": {
        "id": "vWB_dkcJjcCR"
      },
      "outputs": [],
      "source": [
        "#BAJA CALIFORNIA\n",
        "#Se agrega la fila que da los datos del 2017\n",
        "fila_2017={\"Estado\": \"Baja California\", \"Aniomes\": \"2017\", \"Tipo Combustible\": \"Gasavion\", \"Litros de combustible suministrado\": BajaCalifornia_2017_Gas[\"Litros de combustible suministrado\"].sum(), \"Servicios realizados\": BajaCalifornia_2017_Gas[\"Servicios realizados\"].sum()}\n",
        "Gasavion_Total=Gasavion_Total.append(fila_2017, ignore_index=True)\n",
        "#Se agrega la fila que da los datos del 2018\n",
        "fila_2018={\"Estado\": \"Baja California\", \"Aniomes\": \"2018\", \"Tipo Combustible\": \"Gasavion\", \"Litros de combustible suministrado\": BajaCalifornia_2018_Gas[\"Litros de combustible suministrado\"].sum(), \"Servicios realizados\": BajaCalifornia_2018_Gas[\"Servicios realizados\"].sum()}\n",
        "Gasavion_Total=Gasavion_Total.append(fila_2018, ignore_index=True)\n",
        "#Se agrega la fila que da los datos del 2019\n",
        "fila_2019={\"Estado\": \"Baja California\", \"Aniomes\": \"2019\", \"Tipo Combustible\": \"Gasavion\", \"Litros de combustible suministrado\": BajaCalifornia_2019_Gas[\"Litros de combustible suministrado\"].sum(), \"Servicios realizados\": BajaCalifornia_2019_Gas[\"Servicios realizados\"].sum()}\n",
        "Gasavion_Total=Gasavion_Total.append(fila_2019, ignore_index=True)\n",
        "#Se agrega la fila que da los datos del 2020\n",
        "fila_2020={\"Estado\": \"Baja California\", \"Aniomes\": \"2020\", \"Tipo Combustible\": \"Gasavion\", \"Litros de combustible suministrado\": BajaCalifornia_2020_Gas[\"Litros de combustible suministrado\"].sum(), \"Servicios realizados\": BajaCalifornia_2020_Gas[\"Servicios realizados\"].sum()}\n",
        "Gasavion_Total=Gasavion_Total.append(fila_2020, ignore_index=True)\n",
        "#Se agrega la fila que da los datos del 2021\n",
        "fila_2021={\"Estado\": \"Baja California\", \"Aniomes\": \"2021\", \"Tipo Combustible\": \"Gasavion\", \"Litros de combustible suministrado\": BajaCalifornia_2021_Gas[\"Litros de combustible suministrado\"].sum(), \"Servicios realizados\": BajaCalifornia_2021_Gas[\"Servicios realizados\"].sum()}\n",
        "Gasavion_Total=Gasavion_Total.append(fila_2021, ignore_index=True)"
      ]
    },
    {
      "cell_type": "code",
      "execution_count": 74,
      "metadata": {
        "id": "WkdYMrUT41-k"
      },
      "outputs": [],
      "source": [
        "#BAJA CALIFORNIA SUR\n",
        "#Se agrega la fila que da los datos del 2017\n",
        "fila_2017={\"Estado\": \"Baja California Sur\", \"Aniomes\": \"2017\", \"Tipo Combustible\": \"Turbosina\", \"Litros de combustible suministrado\": BajaCaliforniaSur_2017_Turbo[\"Litros de combustible suministrado\"].sum(), \"Servicios realizados\": BajaCaliforniaSur_2017_Turbo[\"Servicios realizados\"].sum()}\n",
        "Turbosina_Total=Turbosina_Total.append(fila_2017, ignore_index=True)\n",
        "#Se agrega la fila que da los datos del 2018\n",
        "fila_2018={\"Estado\": \"Baja California Sur\", \"Aniomes\": \"2018\", \"Tipo Combustible\": \"Turbosina\", \"Litros de combustible suministrado\": BajaCaliforniaSur_2018_Turbo[\"Litros de combustible suministrado\"].sum(), \"Servicios realizados\": BajaCaliforniaSur_2018_Turbo[\"Servicios realizados\"].sum()}\n",
        "Turbosina_Total=Turbosina_Total.append(fila_2018, ignore_index=True)\n",
        "#Se agrega la fila que da los datos del 2019\n",
        "fila_2019={\"Estado\": \"Baja California Sur\", \"Aniomes\": \"2019\", \"Tipo Combustible\": \"Turbosina\", \"Litros de combustible suministrado\": BajaCaliforniaSur_2019_Turbo[\"Litros de combustible suministrado\"].sum(), \"Servicios realizados\": BajaCaliforniaSur_2019_Turbo[\"Servicios realizados\"].sum()}\n",
        "Turbosina_Total=Turbosina_Total.append(fila_2019, ignore_index=True)\n",
        "#Se agrega la fila que da los datos del 2020\n",
        "fila_2020={\"Estado\": \"Baja California Sur\", \"Aniomes\": \"2020\", \"Tipo Combustible\": \"Turbosina\", \"Litros de combustible suministrado\": BajaCaliforniaSur_2020_Turbo[\"Litros de combustible suministrado\"].sum(), \"Servicios realizados\": BajaCaliforniaSur_2020_Turbo[\"Servicios realizados\"].sum()}\n",
        "Turbosina_Total=Turbosina_Total.append(fila_2020, ignore_index=True)\n",
        "#Se agrega la fila que da los datos del 2021\n",
        "fila_2021={\"Estado\": \"Baja California Sur\", \"Aniomes\": \"2021\", \"Tipo Combustible\": \"Turbosina\", \"Litros de combustible suministrado\": BajaCaliforniaSur_2021_Turbo[\"Litros de combustible suministrado\"].sum(), \"Servicios realizados\": BajaCaliforniaSur_2021_Turbo[\"Servicios realizados\"].sum()}\n",
        "Turbosina_Total=Turbosina_Total.append(fila_2021, ignore_index=True)"
      ]
    },
    {
      "cell_type": "code",
      "execution_count": 75,
      "metadata": {
        "id": "WyHaRFrhjqZN"
      },
      "outputs": [],
      "source": [
        "#BAJA CALIFORNIA SUR\n",
        "#Se agrega la fila que da los datos del 2017\n",
        "fila_2017={\"Estado\": \"Baja California Sur\", \"Aniomes\": \"2017\", \"Tipo Combustible\": \"Gasavion\", \"Litros de combustible suministrado\": BajaCaliforniaSur_2017_Gas[\"Litros de combustible suministrado\"].sum(), \"Servicios realizados\": BajaCaliforniaSur_2017_Gas[\"Servicios realizados\"].sum()}\n",
        "Gasavion_Total=Gasavion_Total.append(fila_2017, ignore_index=True)\n",
        "#Se agrega la fila que da los datos del 2018\n",
        "fila_2018={\"Estado\": \"Baja California Sur\", \"Aniomes\": \"2018\", \"Tipo Combustible\": \"Gasavion\", \"Litros de combustible suministrado\": BajaCaliforniaSur_2018_Gas[\"Litros de combustible suministrado\"].sum(), \"Servicios realizados\": BajaCaliforniaSur_2018_Gas[\"Servicios realizados\"].sum()}\n",
        "Gasavion_Total=Gasavion_Total.append(fila_2018, ignore_index=True)\n",
        "#Se agrega la fila que da los datos del 2019\n",
        "fila_2019={\"Estado\": \"Baja California Sur\", \"Aniomes\": \"2019\", \"Tipo Combustible\": \"Gasavion\", \"Litros de combustible suministrado\": BajaCaliforniaSur_2019_Gas[\"Litros de combustible suministrado\"].sum(), \"Servicios realizados\": BajaCaliforniaSur_2019_Gas[\"Servicios realizados\"].sum()}\n",
        "Gasavion_Total=Gasavion_Total.append(fila_2019, ignore_index=True)\n",
        "#Se agrega la fila que da los datos del 2020\n",
        "fila_2020={\"Estado\": \"Baja California Sur\", \"Aniomes\": \"2020\", \"Tipo Combustible\": \"Gasavion\", \"Litros de combustible suministrado\": BajaCaliforniaSur_2020_Gas[\"Litros de combustible suministrado\"].sum(), \"Servicios realizados\": BajaCaliforniaSur_2020_Gas[\"Servicios realizados\"].sum()}\n",
        "Gasavion_Total=Gasavion_Total.append(fila_2020, ignore_index=True)\n",
        "#Se agrega la fila que da los datos del 2021\n",
        "fila_2021={\"Estado\": \"Baja California Sur\", \"Aniomes\": \"2021\", \"Tipo Combustible\": \"Gasavion\", \"Litros de combustible suministrado\": BajaCaliforniaSur_2021_Gas[\"Litros de combustible suministrado\"].sum(), \"Servicios realizados\": BajaCaliforniaSur_2021_Gas[\"Servicios realizados\"].sum()}\n",
        "Gasavion_Total=Gasavion_Total.append(fila_2021, ignore_index=True)"
      ]
    },
    {
      "cell_type": "code",
      "execution_count": 76,
      "metadata": {
        "id": "GbW6vR6gkFEP"
      },
      "outputs": [],
      "source": [
        "#CAMPECHE\n",
        "#Se agrega la fila que da los datos del 2017\n",
        "fila_2017={\"Estado\": \"Campeche\", \"Aniomes\": \"2017\", \"Tipo Combustible\": \"Turbosina\", \"Litros de combustible suministrado\": Campeche_2017_Turbo[\"Litros de combustible suministrado\"].sum(), \"Servicios realizados\": Campeche_2017_Turbo[\"Servicios realizados\"].sum()}\n",
        "Turbosina_Total=Turbosina_Total.append(fila_2017, ignore_index=True)\n",
        "#Se agrega la fila que da los datos del 2018\n",
        "fila_2018={\"Estado\": \"Campeche\", \"Aniomes\": \"2018\", \"Tipo Combustible\": \"Turbosina\", \"Litros de combustible suministrado\": Campeche_2018_Turbo[\"Litros de combustible suministrado\"].sum(), \"Servicios realizados\": Campeche_2018_Turbo[\"Servicios realizados\"].sum()}\n",
        "Turbosina_Total=Turbosina_Total.append(fila_2018, ignore_index=True)\n",
        "#Se agrega la fila que da los datos del 2019\n",
        "fila_2019={\"Estado\": \"Campeche\", \"Aniomes\": \"2019\", \"Tipo Combustible\": \"Turbosina\", \"Litros de combustible suministrado\": Campeche_2019_Turbo[\"Litros de combustible suministrado\"].sum(), \"Servicios realizados\": Campeche_2019_Turbo[\"Servicios realizados\"].sum()}\n",
        "Turbosina_Total=Turbosina_Total.append(fila_2019, ignore_index=True)\n",
        "#Se agrega la fila que da los datos del 2020\n",
        "fila_2020={\"Estado\": \"Campeche\", \"Aniomes\": \"2020\", \"Tipo Combustible\": \"Turbosina\", \"Litros de combustible suministrado\": Campeche_2020_Turbo[\"Litros de combustible suministrado\"].sum(), \"Servicios realizados\": Campeche_2020_Turbo[\"Servicios realizados\"].sum()}\n",
        "Turbosina_Total=Turbosina_Total.append(fila_2020, ignore_index=True)\n",
        "#Se agrega la fila que da los datos del 2021\n",
        "fila_2021={\"Estado\": \"Campeche\", \"Aniomes\": \"2021\", \"Tipo Combustible\": \"Turbosina\", \"Litros de combustible suministrado\": Campeche_2021_Turbo[\"Litros de combustible suministrado\"].sum(), \"Servicios realizados\": Campeche_2021_Turbo[\"Servicios realizados\"].sum()}\n",
        "Turbosina_Total=Turbosina_Total.append(fila_2021, ignore_index=True)"
      ]
    },
    {
      "cell_type": "code",
      "execution_count": 77,
      "metadata": {
        "id": "InV1288JkOVl"
      },
      "outputs": [],
      "source": [
        "#CAMPECHE\n",
        "#Se agrega la fila que da los datos del 2017\n",
        "fila_2017={\"Estado\": \"Campeche\", \"Aniomes\": \"2017\", \"Tipo Combustible\": \"Gasavion\", \"Litros de combustible suministrado\": Campeche_2017_Gas[\"Litros de combustible suministrado\"].sum(), \"Servicios realizados\": Campeche_2017_Gas[\"Servicios realizados\"].sum()}\n",
        "Gasavion_Total=Gasavion_Total.append(fila_2017, ignore_index=True)\n",
        "#Se agrega la fila que da los datos del 2018\n",
        "fila_2018={\"Estado\": \"Campeche\", \"Aniomes\": \"2018\", \"Tipo Combustible\": \"Gasavion\", \"Litros de combustible suministrado\": Campeche_2018_Gas[\"Litros de combustible suministrado\"].sum(), \"Servicios realizados\": Campeche_2018_Gas[\"Servicios realizados\"].sum()}\n",
        "Gasavion_Total=Gasavion_Total.append(fila_2018, ignore_index=True)\n",
        "#Se agrega la fila que da los datos del 2019\n",
        "fila_2019={\"Estado\": \"Campeche\", \"Aniomes\": \"2019\", \"Tipo Combustible\": \"Gasavion\", \"Litros de combustible suministrado\": Campeche_2019_Gas[\"Litros de combustible suministrado\"].sum(), \"Servicios realizados\": Campeche_2019_Gas[\"Servicios realizados\"].sum()}\n",
        "Gasavion_Total=Gasavion_Total.append(fila_2019, ignore_index=True)\n",
        "#Se agrega la fila que da los datos del 2020\n",
        "fila_2020={\"Estado\": \"Campeche\", \"Aniomes\": \"2020\", \"Tipo Combustible\": \"Gasavion\", \"Litros de combustible suministrado\": Campeche_2020_Gas[\"Litros de combustible suministrado\"].sum(), \"Servicios realizados\": Campeche_2020_Gas[\"Servicios realizados\"].sum()}\n",
        "Gasavion_Total=Gasavion_Total.append(fila_2020, ignore_index=True)\n",
        "#Se agrega la fila que da los datos del 2021\n",
        "fila_2021={\"Estado\": \"Campeche\", \"Aniomes\": \"2021\", \"Tipo Combustible\": \"Gasavion\", \"Litros de combustible suministrado\": Campeche_2021_Gas[\"Litros de combustible suministrado\"].sum(), \"Servicios realizados\": Campeche_2021_Gas[\"Servicios realizados\"].sum()}\n",
        "Gasavion_Total=Gasavion_Total.append(fila_2021, ignore_index=True)"
      ]
    },
    {
      "cell_type": "code",
      "execution_count": 78,
      "metadata": {
        "id": "l91ItpSX6fcO"
      },
      "outputs": [],
      "source": [
        "#CHIAPAS\n",
        "#Se agrega la fila que da los datos del 2017\n",
        "fila_2017={\"Estado\": \"Chiapas\", \"Aniomes\": \"2017\", \"Tipo Combustible\": \"Turbosina\", \"Litros de combustible suministrado\": Chiapas_2017_Turbo[\"Litros de combustible suministrado\"].sum(), \"Servicios realizados\": Chiapas_2017_Turbo[\"Servicios realizados\"].sum()}\n",
        "Turbosina_Total=Turbosina_Total.append(fila_2017, ignore_index=True)\n",
        "#Se agrega la fila que da los datos del 2018\n",
        "fila_2018={\"Estado\": \"Chiapas\", \"Aniomes\": \"2018\", \"Tipo Combustible\": \"Turbosina\", \"Litros de combustible suministrado\": Chiapas_2018_Turbo[\"Litros de combustible suministrado\"].sum(), \"Servicios realizados\": Chiapas_2018_Turbo[\"Servicios realizados\"].sum()}\n",
        "Turbosina_Total=Turbosina_Total.append(fila_2018, ignore_index=True)\n",
        "#Se agrega la fila que da los datos del 2019\n",
        "fila_2019={\"Estado\": \"Chiapas\", \"Aniomes\": \"2019\", \"Tipo Combustible\": \"Turbosina\", \"Litros de combustible suministrado\": Chiapas_2019_Turbo[\"Litros de combustible suministrado\"].sum(), \"Servicios realizados\": Chiapas_2019_Turbo[\"Servicios realizados\"].sum()}\n",
        "Turbosina_Total=Turbosina_Total.append(fila_2019, ignore_index=True)\n",
        "#Se agrega la fila que da los datos del 2020\n",
        "fila_2020={\"Estado\": \"Chiapas\", \"Aniomes\": \"2020\", \"Tipo Combustible\": \"Turbosina\", \"Litros de combustible suministrado\": Chiapas_2020_Turbo[\"Litros de combustible suministrado\"].sum(), \"Servicios realizados\": Chiapas_2020_Turbo[\"Servicios realizados\"].sum()}\n",
        "Turbosina_Total=Turbosina_Total.append(fila_2020, ignore_index=True)\n",
        "#Se agrega la fila que da los datos del 2021\n",
        "fila_2021={\"Estado\": \"Chiapas\", \"Aniomes\": \"2021\", \"Tipo Combustible\": \"Turbosina\", \"Litros de combustible suministrado\": Chiapas_2021_Turbo[\"Litros de combustible suministrado\"].sum(), \"Servicios realizados\": Chiapas_2021_Turbo[\"Servicios realizados\"].sum()}\n",
        "Turbosina_Total=Turbosina_Total.append(fila_2021, ignore_index=True)"
      ]
    },
    {
      "cell_type": "code",
      "execution_count": 79,
      "metadata": {
        "id": "qQ1MDX_ikc6m"
      },
      "outputs": [],
      "source": [
        "#CHIAPAS\n",
        "#Se agrega la fila que da los datos del 2017\n",
        "fila_2017={\"Estado\": \"Chiapas\", \"Aniomes\": \"2017\", \"Tipo Combustible\": \"Gasavion\", \"Litros de combustible suministrado\": Chiapas_2017_Gas[\"Litros de combustible suministrado\"].sum(), \"Servicios realizados\": Chiapas_2017_Gas[\"Servicios realizados\"].sum()}\n",
        "Gasavion_Total=Gasavion_Total.append(fila_2017, ignore_index=True)\n",
        "#Se agrega la fila que da los datos del 2018\n",
        "fila_2018={\"Estado\": \"Chiapas\", \"Aniomes\": \"2018\", \"Tipo Combustible\": \"Gasavion\", \"Litros de combustible suministrado\": Chiapas_2018_Gas[\"Litros de combustible suministrado\"].sum(), \"Servicios realizados\": Chiapas_2018_Gas[\"Servicios realizados\"].sum()}\n",
        "Gasavion_Total=Gasavion_Total.append(fila_2018, ignore_index=True)\n",
        "#Se agrega la fila que da los datos del 2019\n",
        "fila_2019={\"Estado\": \"Chiapas\", \"Aniomes\": \"2019\", \"Tipo Combustible\": \"Gasavion\", \"Litros de combustible suministrado\": Chiapas_2019_Gas[\"Litros de combustible suministrado\"].sum(), \"Servicios realizados\": Chiapas_2019_Gas[\"Servicios realizados\"].sum()}\n",
        "Gasavion_Total=Gasavion_Total.append(fila_2019, ignore_index=True)\n",
        "#Se agrega la fila que da los datos del 2020\n",
        "fila_2020={\"Estado\": \"Chiapas\", \"Aniomes\": \"2020\", \"Tipo Combustible\": \"Gasavion\", \"Litros de combustible suministrado\": Chiapas_2020_Gas[\"Litros de combustible suministrado\"].sum(), \"Servicios realizados\": Chiapas_2020_Gas[\"Servicios realizados\"].sum()}\n",
        "Gasavion_Total=Gasavion_Total.append(fila_2020, ignore_index=True)\n",
        "#Se agrega la fila que da los datos del 2021\n",
        "fila_2021={\"Estado\": \"Chiapas\", \"Aniomes\": \"2021\", \"Tipo Combustible\": \"Gasavion\", \"Litros de combustible suministrado\": Chiapas_2021_Gas[\"Litros de combustible suministrado\"].sum(), \"Servicios realizados\": Chiapas_2021_Gas[\"Servicios realizados\"].sum()}\n",
        "Gasavion_Total=Gasavion_Total.append(fila_2021, ignore_index=True)"
      ]
    },
    {
      "cell_type": "code",
      "execution_count": 80,
      "metadata": {
        "id": "3qkeeptc_0JV"
      },
      "outputs": [],
      "source": [
        "#CHIHUAHUA\n",
        "#Se agrega la fila que da los datos del 2017\n",
        "fila_2017={\"Estado\": \"Chihuahua\", \"Aniomes\": \"2017\", \"Tipo Combustible\": \"Turbosina\", \"Litros de combustible suministrado\": Chihuahua_2017_Turbo[\"Litros de combustible suministrado\"].sum(), \"Servicios realizados\": Chihuahua_2017_Turbo[\"Servicios realizados\"].sum()}\n",
        "Turbosina_Total=Turbosina_Total.append(fila_2017, ignore_index=True)\n",
        "#Se agrega la fila que da los datos del 2018\n",
        "fila_2018={\"Estado\": \"Chihuahua\", \"Aniomes\": \"2018\", \"Tipo Combustible\": \"Turbosina\", \"Litros de combustible suministrado\": Chihuahua_2018_Turbo[\"Litros de combustible suministrado\"].sum(), \"Servicios realizados\": Chihuahua_2018_Turbo[\"Servicios realizados\"].sum()}\n",
        "Turbosina_Total=Turbosina_Total.append(fila_2018, ignore_index=True)\n",
        "#Se agrega la fila que da los datos del 2019\n",
        "fila_2019={\"Estado\": \"Chihuahua\", \"Aniomes\": \"2019\", \"Tipo Combustible\": \"Turbosina\", \"Litros de combustible suministrado\": Chihuahua_2019_Turbo[\"Litros de combustible suministrado\"].sum(), \"Servicios realizados\": Chihuahua_2019_Turbo[\"Servicios realizados\"].sum()}\n",
        "Turbosina_Total=Turbosina_Total.append(fila_2019, ignore_index=True)\n",
        "#Se agrega la fila que da los datos del 2020\n",
        "fila_2020={\"Estado\": \"Chihuahua\", \"Aniomes\": \"2020\", \"Tipo Combustible\": \"Turbosina\", \"Litros de combustible suministrado\": Chihuahua_2020_Turbo[\"Litros de combustible suministrado\"].sum(), \"Servicios realizados\": Chihuahua_2020_Turbo[\"Servicios realizados\"].sum()}\n",
        "Turbosina_Total=Turbosina_Total.append(fila_2020, ignore_index=True)\n",
        "#Se agrega la fila que da los datos del 2021\n",
        "fila_2021={\"Estado\": \"Chihuahua\", \"Aniomes\": \"2021\", \"Tipo Combustible\": \"Turbosina\", \"Litros de combustible suministrado\": Chihuahua_2021_Turbo[\"Litros de combustible suministrado\"].sum(), \"Servicios realizados\": Chihuahua_2021_Turbo[\"Servicios realizados\"].sum()}\n",
        "Turbosina_Total=Turbosina_Total.append(fila_2021, ignore_index=True)"
      ]
    },
    {
      "cell_type": "code",
      "execution_count": 81,
      "metadata": {
        "id": "Rnks3z6JlrBM"
      },
      "outputs": [],
      "source": [
        "#CHIHUAHUA\n",
        "#Se agrega la fila que da los datos del 2017\n",
        "fila_2017={\"Estado\": \"Chihuahua\", \"Aniomes\": \"2017\", \"Tipo Combustible\": \"Gasavion\", \"Litros de combustible suministrado\": Chihuahua_2017_Gas[\"Litros de combustible suministrado\"].sum(), \"Servicios realizados\": Chihuahua_2017_Gas[\"Servicios realizados\"].sum()}\n",
        "Gasavion_Total=Gasavion_Total.append(fila_2017, ignore_index=True)\n",
        "#Se agrega la fila que da los datos del 2018\n",
        "fila_2018={\"Estado\": \"Chihuahua\", \"Aniomes\": \"2018\", \"Tipo Combustible\": \"Gasavion\", \"Litros de combustible suministrado\": Chihuahua_2018_Gas[\"Litros de combustible suministrado\"].sum(), \"Servicios realizados\": Chihuahua_2018_Gas[\"Servicios realizados\"].sum()}\n",
        "Gasavion_Total=Gasavion_Total.append(fila_2018, ignore_index=True)\n",
        "#Se agrega la fila que da los datos del 2019\n",
        "fila_2019={\"Estado\": \"Chihuahua\", \"Aniomes\": \"2019\", \"Tipo Combustible\": \"Gasavion\", \"Litros de combustible suministrado\": Chihuahua_2019_Gas[\"Litros de combustible suministrado\"].sum(), \"Servicios realizados\": Chihuahua_2019_Gas[\"Servicios realizados\"].sum()}\n",
        "Gasavion_Total=Gasavion_Total.append(fila_2019, ignore_index=True)\n",
        "#Se agrega la fila que da los datos del 2020\n",
        "fila_2020={\"Estado\": \"Chihuahua\", \"Aniomes\": \"2020\", \"Tipo Combustible\": \"Gasavion\", \"Litros de combustible suministrado\": Chihuahua_2020_Gas[\"Litros de combustible suministrado\"].sum(), \"Servicios realizados\": Chihuahua_2020_Gas[\"Servicios realizados\"].sum()}\n",
        "Gasavion_Total=Gasavion_Total.append(fila_2020, ignore_index=True)\n",
        "#Se agrega la fila que da los datos del 2021\n",
        "fila_2021={\"Estado\": \"Chihuahua\", \"Aniomes\": \"2021\", \"Tipo Combustible\": \"Gasavion\", \"Litros de combustible suministrado\": Chihuahua_2021_Gas[\"Litros de combustible suministrado\"].sum(), \"Servicios realizados\": Chihuahua_2021_Gas[\"Servicios realizados\"].sum()}\n",
        "Gasavion_Total=Gasavion_Total.append(fila_2021, ignore_index=True)"
      ]
    },
    {
      "cell_type": "code",
      "execution_count": 82,
      "metadata": {
        "id": "GnmqgpcxB4Up"
      },
      "outputs": [],
      "source": [
        "#COAHUILA\n",
        "#Se agrega la fila que da los datos del 2017\n",
        "fila_2017={\"Estado\": \"Coahuila\", \"Aniomes\": \"2017\", \"Tipo Combustible\": \"Turbosina\", \"Litros de combustible suministrado\": Coahuila_2017_Turbo[\"Litros de combustible suministrado\"].sum(), \"Servicios realizados\": Coahuila_2017_Turbo[\"Servicios realizados\"].sum()}\n",
        "Turbosina_Total=Turbosina_Total.append(fila_2017, ignore_index=True)\n",
        "#Se agrega la fila que da los datos del 2018\n",
        "fila_2018={\"Estado\": \"Coahuila\", \"Aniomes\": \"2018\", \"Tipo Combustible\": \"Turbosina\", \"Litros de combustible suministrado\": Coahuila_2018_Turbo[\"Litros de combustible suministrado\"].sum(), \"Servicios realizados\": Coahuila_2018_Turbo[\"Servicios realizados\"].sum()}\n",
        "Turbosina_Total=Turbosina_Total.append(fila_2018, ignore_index=True)\n",
        "#Se agrega la fila que da los datos del 2019\n",
        "fila_2019={\"Estado\": \"Coahuila\", \"Aniomes\": \"2019\", \"Tipo Combustible\": \"Turbosina\", \"Litros de combustible suministrado\": Coahuila_2019_Turbo[\"Litros de combustible suministrado\"].sum(), \"Servicios realizados\": Coahuila_2019_Turbo[\"Servicios realizados\"].sum()}\n",
        "Turbosina_Total=Turbosina_Total.append(fila_2019, ignore_index=True)\n",
        "#Se agrega la fila que da los datos del 2020\n",
        "fila_2020={\"Estado\": \"Coahuila\", \"Aniomes\": \"2020\", \"Tipo Combustible\": \"Turbosina\", \"Litros de combustible suministrado\": Coahuila_2020_Turbo[\"Litros de combustible suministrado\"].sum(), \"Servicios realizados\": Coahuila_2020_Turbo[\"Servicios realizados\"].sum()}\n",
        "Turbosina_Total=Turbosina_Total.append(fila_2020, ignore_index=True)\n",
        "#Se agrega la fila que da los datos del 2021\n",
        "fila_2021={\"Estado\": \"Coahuila\", \"Aniomes\": \"2021\", \"Tipo Combustible\": \"Turbosina\", \"Litros de combustible suministrado\": Coahuila_2021_Turbo[\"Litros de combustible suministrado\"].sum(), \"Servicios realizados\": Coahuila_2021_Turbo[\"Servicios realizados\"].sum()}\n",
        "Turbosina_Total=Turbosina_Total.append(fila_2021, ignore_index=True)"
      ]
    },
    {
      "cell_type": "code",
      "execution_count": 83,
      "metadata": {
        "id": "5FEb53xel8_O"
      },
      "outputs": [],
      "source": [
        "#COAHUILA\n",
        "#Se agrega la fila que da los datos del 2017\n",
        "fila_2017={\"Estado\": \"Coahuila\", \"Aniomes\": \"2017\", \"Tipo Combustible\": \"Gasavion\", \"Litros de combustible suministrado\": Coahuila_2017_Gas[\"Litros de combustible suministrado\"].sum(), \"Servicios realizados\": Coahuila_2017_Gas[\"Servicios realizados\"].sum()}\n",
        "Gasavion_Total=Gasavion_Total.append(fila_2017, ignore_index=True)\n",
        "#Se agrega la fila que da los datos del 2018\n",
        "fila_2018={\"Estado\": \"Coahuila\", \"Aniomes\": \"2018\", \"Tipo Combustible\": \"Gasavion\", \"Litros de combustible suministrado\": Coahuila_2018_Gas[\"Litros de combustible suministrado\"].sum(), \"Servicios realizados\": Coahuila_2018_Gas[\"Servicios realizados\"].sum()}\n",
        "Gasavion_Total=Gasavion_Total.append(fila_2018, ignore_index=True)\n",
        "#Se agrega la fila que da los datos del 2019\n",
        "fila_2019={\"Estado\": \"Coahuila\", \"Aniomes\": \"2019\", \"Tipo Combustible\": \"Gasavion\", \"Litros de combustible suministrado\": Coahuila_2019_Gas[\"Litros de combustible suministrado\"].sum(), \"Servicios realizados\": Coahuila_2019_Gas[\"Servicios realizados\"].sum()}\n",
        "Gasavion_Total=Gasavion_Total.append(fila_2019, ignore_index=True)\n",
        "#Se agrega la fila que da los datos del 2020\n",
        "fila_2020={\"Estado\": \"Coahuila\", \"Aniomes\": \"2020\", \"Tipo Combustible\": \"Gasavion\", \"Litros de combustible suministrado\": Coahuila_2020_Gas[\"Litros de combustible suministrado\"].sum(), \"Servicios realizados\": Coahuila_2020_Gas[\"Servicios realizados\"].sum()}\n",
        "Gasavion_Total=Gasavion_Total.append(fila_2020, ignore_index=True)\n",
        "#Se agrega la fila que da los datos del 2021\n",
        "fila_2021={\"Estado\": \"Coahuila\", \"Aniomes\": \"2021\", \"Tipo Combustible\": \"Gasavion\", \"Litros de combustible suministrado\": Coahuila_2021_Gas[\"Litros de combustible suministrado\"].sum(), \"Servicios realizados\": Coahuila_2021_Gas[\"Servicios realizados\"].sum()}\n",
        "Gasavion_Total=Gasavion_Total.append(fila_2021, ignore_index=True)"
      ]
    },
    {
      "cell_type": "code",
      "execution_count": 84,
      "metadata": {
        "id": "OzHlNvzGkiPp"
      },
      "outputs": [],
      "source": [
        "#COLIMA\n",
        "#Se agrega la fila que da los datos del 2017\n",
        "fila_2017={\"Estado\": \"Colima\", \"Aniomes\": \"2017\", \"Tipo Combustible\": \"Turbosina\", \"Litros de combustible suministrado\": Colima_2017_Turbo[\"Litros de combustible suministrado\"].sum(), \"Servicios realizados\": Colima_2017_Turbo[\"Servicios realizados\"].sum()}\n",
        "Turbosina_Total=Turbosina_Total.append(fila_2017, ignore_index=True)\n",
        "#Se agrega la fila que da los datos del 2018\n",
        "fila_2018={\"Estado\": \"Colima\", \"Aniomes\": \"2018\", \"Tipo Combustible\": \"Turbosina\", \"Litros de combustible suministrado\": Colima_2018_Turbo[\"Litros de combustible suministrado\"].sum(), \"Servicios realizados\": Colima_2018_Turbo[\"Servicios realizados\"].sum()}\n",
        "Turbosina_Total=Turbosina_Total.append(fila_2018, ignore_index=True)\n",
        "#Se agrega la fila que da los datos del 2019\n",
        "fila_2019={\"Estado\": \"Colima\", \"Aniomes\": \"2019\", \"Tipo Combustible\": \"Turbosina\", \"Litros de combustible suministrado\": Colima_2019_Turbo[\"Litros de combustible suministrado\"].sum(), \"Servicios realizados\": Colima_2019_Turbo[\"Servicios realizados\"].sum()}\n",
        "Turbosina_Total=Turbosina_Total.append(fila_2019, ignore_index=True)\n",
        "#Se agrega la fila que da los datos del 2020\n",
        "fila_2020={\"Estado\": \"Colima\", \"Aniomes\": \"2020\", \"Tipo Combustible\": \"Turbosina\", \"Litros de combustible suministrado\": Colima_2020_Turbo[\"Litros de combustible suministrado\"].sum(), \"Servicios realizados\": Colima_2020_Turbo[\"Servicios realizados\"].sum()}\n",
        "Turbosina_Total=Turbosina_Total.append(fila_2020, ignore_index=True)\n",
        "#Se agrega la fila que da los datos del 2021\n",
        "fila_2021={\"Estado\": \"Colima\", \"Aniomes\": \"2021\", \"Tipo Combustible\": \"Turbosina\", \"Litros de combustible suministrado\": Colima_2021_Turbo[\"Litros de combustible suministrado\"].sum(), \"Servicios realizados\": Colima_2021_Turbo[\"Servicios realizados\"].sum()}\n",
        "Turbosina_Total=Turbosina_Total.append(fila_2021, ignore_index=True)"
      ]
    },
    {
      "cell_type": "code",
      "execution_count": 85,
      "metadata": {
        "id": "J4jA9GB7l_bv"
      },
      "outputs": [],
      "source": [
        "#COLIMA\n",
        "#Se agrega la fila que da los datos del 2017\n",
        "fila_2017={\"Estado\": \"Colima\", \"Aniomes\": \"2017\", \"Tipo Combustible\": \"Gasavion\", \"Litros de combustible suministrado\": Colima_2017_Gas[\"Litros de combustible suministrado\"].sum(), \"Servicios realizados\": Colima_2017_Gas[\"Servicios realizados\"].sum()}\n",
        "Gasavion_Total=Gasavion_Total.append(fila_2017, ignore_index=True)\n",
        "#Se agrega la fila que da los datos del 2018\n",
        "fila_2018={\"Estado\": \"Colima\", \"Aniomes\": \"2018\", \"Tipo Combustible\": \"Gasavion\", \"Litros de combustible suministrado\": Colima_2018_Gas[\"Litros de combustible suministrado\"].sum(), \"Servicios realizados\": Colima_2018_Gas[\"Servicios realizados\"].sum()}\n",
        "Gasavion_Total=Gasavion_Total.append(fila_2018, ignore_index=True)\n",
        "#Se agrega la fila que da los datos del 2019\n",
        "fila_2019={\"Estado\": \"Colima\", \"Aniomes\": \"2019\", \"Tipo Combustible\": \"Gasavion\", \"Litros de combustible suministrado\": Colima_2019_Gas[\"Litros de combustible suministrado\"].sum(), \"Servicios realizados\": Colima_2019_Gas[\"Servicios realizados\"].sum()}\n",
        "Gasavion_Total=Gasavion_Total.append(fila_2019, ignore_index=True)\n",
        "#Se agrega la fila que da los datos del 2020\n",
        "fila_2020={\"Estado\": \"Colima\", \"Aniomes\": \"2020\", \"Tipo Combustible\": \"Gasavion\", \"Litros de combustible suministrado\": Colima_2020_Gas[\"Litros de combustible suministrado\"].sum(), \"Servicios realizados\": Colima_2020_Gas[\"Servicios realizados\"].sum()}\n",
        "Gasavion_Total=Gasavion_Total.append(fila_2020, ignore_index=True)\n",
        "#Se agrega la fila que da los datos del 2021\n",
        "fila_2021={\"Estado\": \"Colima\", \"Aniomes\": \"2021\", \"Tipo Combustible\": \"Gasavion\", \"Litros de combustible suministrado\": Colima_2021_Gas[\"Litros de combustible suministrado\"].sum(), \"Servicios realizados\": Colima_2021_Gas[\"Servicios realizados\"].sum()}\n",
        "Gasavion_Total=Gasavion_Total.append(fila_2021, ignore_index=True)"
      ]
    },
    {
      "cell_type": "code",
      "execution_count": 86,
      "metadata": {
        "id": "_E9EB-d9_2KC"
      },
      "outputs": [],
      "source": [
        "#DISTRITO FEDERAL\n",
        "#Se agrega la fila que da los datos del 2017\n",
        "fila_2017={\"Estado\": \"Distrito Federal\", \"Aniomes\": \"2017\", \"Tipo Combustible\": \"Turbosina\", \"Litros de combustible suministrado\": DistritoFederal_2017_Turbo[\"Litros de combustible suministrado\"].sum(), \"Servicios realizados\": DistritoFederal_2017_Turbo[\"Servicios realizados\"].sum()}\n",
        "Turbosina_Total=Turbosina_Total.append(fila_2017, ignore_index=True)\n",
        "#Se agrega la fila que da los datos del 2018\n",
        "fila_2018={\"Estado\": \"Distrito Federal\", \"Aniomes\": \"2018\", \"Tipo Combustible\": \"Turbosina\", \"Litros de combustible suministrado\": DistritoFederal_2018_Turbo[\"Litros de combustible suministrado\"].sum(), \"Servicios realizados\": DistritoFederal_2018_Turbo[\"Servicios realizados\"].sum()}\n",
        "Turbosina_Total=Turbosina_Total.append(fila_2018, ignore_index=True)\n",
        "#Se agrega la fila que da los datos del 2019\n",
        "fila_2019={\"Estado\": \"Distrito Federal\", \"Aniomes\": \"2019\", \"Tipo Combustible\": \"Turbosina\", \"Litros de combustible suministrado\": DistritoFederal_2019_Turbo[\"Litros de combustible suministrado\"].sum(), \"Servicios realizados\": DistritoFederal_2019_Turbo[\"Servicios realizados\"].sum()}\n",
        "Turbosina_Total=Turbosina_Total.append(fila_2019, ignore_index=True)\n",
        "#Se agrega la fila que da los datos del 2020\n",
        "fila_2020={\"Estado\": \"Distrito Federal\", \"Aniomes\": \"2020\", \"Tipo Combustible\": \"Turbosina\", \"Litros de combustible suministrado\": DistritoFederal_2020_Turbo[\"Litros de combustible suministrado\"].sum(), \"Servicios realizados\": DistritoFederal_2020_Turbo[\"Servicios realizados\"].sum()}\n",
        "Turbosina_Total=Turbosina_Total.append(fila_2020, ignore_index=True)\n",
        "#Se agrega la fila que da los datos del 2021\n",
        "fila_2021={\"Estado\": \"Distrito Federal\", \"Aniomes\": \"2021\", \"Tipo Combustible\": \"Turbosina\", \"Litros de combustible suministrado\": DistritoFederal_2021_Turbo[\"Litros de combustible suministrado\"].sum(), \"Servicios realizados\": DistritoFederal_2021_Turbo[\"Servicios realizados\"].sum()}\n",
        "Turbosina_Total=Turbosina_Total.append(fila_2021, ignore_index=True)"
      ]
    },
    {
      "cell_type": "code",
      "execution_count": 87,
      "metadata": {
        "id": "J5izQI9YmNXl"
      },
      "outputs": [],
      "source": [
        "#DISTRITOFEDERAL\n",
        "#Se agrega la fila que da los datos del 2017\n",
        "fila_2017={\"Estado\": \"Distrito Federal\", \"Aniomes\": \"2017\", \"Tipo Combustible\": \"Gasavion\", \"Litros de combustible suministrado\": DistritoFederal_2017_Gas[\"Litros de combustible suministrado\"].sum(), \"Servicios realizados\": DistritoFederal_2017_Gas[\"Servicios realizados\"].sum()}\n",
        "Gasavion_Total=Gasavion_Total.append(fila_2017, ignore_index=True)\n",
        "#Se agrega la fila que da los datos del 2018\n",
        "fila_2018={\"Estado\": \"Distrito Federal\", \"Aniomes\": \"2018\", \"Tipo Combustible\": \"Gasavion\", \"Litros de combustible suministrado\": DistritoFederal_2018_Gas[\"Litros de combustible suministrado\"].sum(), \"Servicios realizados\": DistritoFederal_2018_Gas[\"Servicios realizados\"].sum()}\n",
        "Gasavion_Total=Gasavion_Total.append(fila_2018, ignore_index=True)\n",
        "#Se agrega la fila que da los datos del 2019\n",
        "fila_2019={\"Estado\": \"Distrito Federal\", \"Aniomes\": \"2019\", \"Tipo Combustible\": \"Gasavion\", \"Litros de combustible suministrado\": DistritoFederal_2019_Gas[\"Litros de combustible suministrado\"].sum(), \"Servicios realizados\": DistritoFederal_2019_Gas[\"Servicios realizados\"].sum()}\n",
        "Gasavion_Total=Gasavion_Total.append(fila_2019, ignore_index=True)\n",
        "#Se agrega la fila que da los datos del 2020\n",
        "fila_2020={\"Estado\": \"Distrito Federal\", \"Aniomes\": \"2020\", \"Tipo Combustible\": \"Gasavion\", \"Litros de combustible suministrado\": DistritoFederal_2020_Gas[\"Litros de combustible suministrado\"].sum(), \"Servicios realizados\": DistritoFederal_2020_Gas[\"Servicios realizados\"].sum()}\n",
        "Gasavion_Total=Gasavion_Total.append(fila_2020, ignore_index=True)\n",
        "#Se agrega la fila que da los datos del 2021\n",
        "fila_2021={\"Estado\": \"Distrito Federal\", \"Aniomes\": \"2021\", \"Tipo Combustible\": \"Gasavion\", \"Litros de combustible suministrado\": DistritoFederal_2021_Gas[\"Litros de combustible suministrado\"].sum(), \"Servicios realizados\": DistritoFederal_2021_Gas[\"Servicios realizados\"].sum()}\n",
        "Gasavion_Total=Gasavion_Total.append(fila_2021, ignore_index=True)"
      ]
    },
    {
      "cell_type": "code",
      "execution_count": 88,
      "metadata": {
        "id": "9drBPl_m2oV1"
      },
      "outputs": [],
      "source": [
        "#DURANGO\n",
        "#Se agrega la fila que da los datos del 2017\n",
        "fila_2017={\"Estado\": \"Durango\", \"Aniomes\": \"2017\", \"Tipo Combustible\": \"Turbosina\", \"Litros de combustible suministrado\": Durango_2017_Turbo[\"Litros de combustible suministrado\"].sum(), \"Servicios realizados\": Durango_2017_Turbo[\"Servicios realizados\"].sum()}\n",
        "Turbosina_Total=Turbosina_Total.append(fila_2017, ignore_index=True)\n",
        "#Se agrega la fila que da los datos del 2018\n",
        "fila_2018={\"Estado\": \"Durango\", \"Aniomes\": \"2018\", \"Tipo Combustible\": \"Turbosina\", \"Litros de combustible suministrado\": Durango_2018_Turbo[\"Litros de combustible suministrado\"].sum(), \"Servicios realizados\": Durango_2018_Turbo[\"Servicios realizados\"].sum()}\n",
        "Turbosina_Total=Turbosina_Total.append(fila_2018, ignore_index=True)\n",
        "#Se agrega la fila que da los datos del 2019\n",
        "fila_2019={\"Estado\": \"Durango\", \"Aniomes\": \"2019\", \"Tipo Combustible\": \"Turbosina\", \"Litros de combustible suministrado\": Durango_2019_Turbo[\"Litros de combustible suministrado\"].sum(), \"Servicios realizados\": Durango_2019_Turbo[\"Servicios realizados\"].sum()}\n",
        "Turbosina_Total=Turbosina_Total.append(fila_2019, ignore_index=True)\n",
        "#Se agrega la fila que da los datos del 2020\n",
        "fila_2020={\"Estado\": \"Durango\", \"Aniomes\": \"2020\", \"Tipo Combustible\": \"Turbosina\", \"Litros de combustible suministrado\": Durango_2020_Turbo[\"Litros de combustible suministrado\"].sum(), \"Servicios realizados\": Durango_2020_Turbo[\"Servicios realizados\"].sum()}\n",
        "Turbosina_Total=Turbosina_Total.append(fila_2020, ignore_index=True)\n",
        "#Se agrega la fila que da los datos del 2021\n",
        "fila_2021={\"Estado\": \"Colima\", \"Aniomes\": \"2021\", \"Tipo Combustible\": \"Turbosina\", \"Litros de combustible suministrado\": Durango_2021_Turbo[\"Litros de combustible suministrado\"].sum(), \"Servicios realizados\": Durango_2021_Turbo[\"Servicios realizados\"].sum()}\n",
        "Turbosina_Total=Turbosina_Total.append(fila_2021, ignore_index=True)"
      ]
    },
    {
      "cell_type": "code",
      "execution_count": 89,
      "metadata": {
        "id": "Ecvn_I2XmbFj"
      },
      "outputs": [],
      "source": [
        "#DURANGO\n",
        "#Se agrega la fila que da los datos del 2017\n",
        "fila_2017={\"Estado\": \"Durango\", \"Aniomes\": \"2017\", \"Tipo Combustible\": \"Gasavion\", \"Litros de combustible suministrado\": Durango_2017_Gas[\"Litros de combustible suministrado\"].sum(), \"Servicios realizados\": Durango_2017_Gas[\"Servicios realizados\"].sum()}\n",
        "Gasavion_Total=Gasavion_Total.append(fila_2017, ignore_index=True)\n",
        "#Se agrega la fila que da los datos del 2018\n",
        "fila_2018={\"Estado\": \"Durango\", \"Aniomes\": \"2018\", \"Tipo Combustible\": \"Gasavion\", \"Litros de combustible suministrado\": Durango_2018_Gas[\"Litros de combustible suministrado\"].sum(), \"Servicios realizados\": Durango_2018_Gas[\"Servicios realizados\"].sum()}\n",
        "Gasavion_Total=Gasavion_Total.append(fila_2018, ignore_index=True)\n",
        "#Se agrega la fila que da los datos del 2019\n",
        "fila_2019={\"Estado\": \"Durango\", \"Aniomes\": \"2019\", \"Tipo Combustible\": \"Gasavion\", \"Litros de combustible suministrado\": Durango_2019_Gas[\"Litros de combustible suministrado\"].sum(), \"Servicios realizados\": Durango_2019_Gas[\"Servicios realizados\"].sum()}\n",
        "Gasavion_Total=Gasavion_Total.append(fila_2019, ignore_index=True)\n",
        "#Se agrega la fila que da los datos del 2020\n",
        "fila_2020={\"Estado\": \"Durango\", \"Aniomes\": \"2020\", \"Tipo Combustible\": \"Gasavion\", \"Litros de combustible suministrado\": Durango_2020_Gas[\"Litros de combustible suministrado\"].sum(), \"Servicios realizados\": Durango_2020_Gas[\"Servicios realizados\"].sum()}\n",
        "Gasavion_Total=Gasavion_Total.append(fila_2020, ignore_index=True)\n",
        "#Se agrega la fila que da los datos del 2021\n",
        "fila_2021={\"Estado\": \"Durango\", \"Aniomes\": \"2021\", \"Tipo Combustible\": \"Gasavion\", \"Litros de combustible suministrado\": Durango_2021_Gas[\"Litros de combustible suministrado\"].sum(), \"Servicios realizados\": Durango_2021_Gas[\"Servicios realizados\"].sum()}\n",
        "Gasavion_Total=Gasavion_Total.append(fila_2021, ignore_index=True)"
      ]
    },
    {
      "cell_type": "code",
      "execution_count": 90,
      "metadata": {
        "id": "gBXzX6qmJzlT"
      },
      "outputs": [],
      "source": [
        "#ESTADO DE MEXICO\n",
        "#Se agrega la fila que da los datos del 2017\n",
        "fila_2017={\"Estado\": \"Estado De Mexico\", \"Aniomes\": \"2017\", \"Tipo Combustible\": \"Turbosina\", \"Litros de combustible suministrado\": EstadodeMexico_2017_Turbo[\"Litros de combustible suministrado\"].sum(), \"Servicios realizados\": EstadodeMexico_2017_Turbo[\"Servicios realizados\"].sum()}\n",
        "Turbosina_Total=Turbosina_Total.append(fila_2017, ignore_index=True)\n",
        "#Se agrega la fila que da los datos del 2018\n",
        "fila_2018={\"Estado\": \"Estado De Mexico\", \"Aniomes\": \"2018\", \"Tipo Combustible\": \"Turbosina\", \"Litros de combustible suministrado\": EstadodeMexico_2018_Turbo[\"Litros de combustible suministrado\"].sum(), \"Servicios realizados\": EstadodeMexico_2018_Turbo[\"Servicios realizados\"].sum()}\n",
        "Turbosina_Total=Turbosina_Total.append(fila_2018, ignore_index=True)\n",
        "#Se agrega la fila que da los datos del 2019\n",
        "fila_2019={\"Estado\": \"Estado De Mexico\", \"Aniomes\": \"2019\", \"Tipo Combustible\": \"Turbosina\", \"Litros de combustible suministrado\": EstadodeMexico_2019_Turbo[\"Litros de combustible suministrado\"].sum(), \"Servicios realizados\": EstadodeMexico_2019_Turbo[\"Servicios realizados\"].sum()}\n",
        "Turbosina_Total=Turbosina_Total.append(fila_2019, ignore_index=True)\n",
        "#Se agrega la fila que da los datos del 2020\n",
        "fila_2020={\"Estado\": \"Estado De Mexico\", \"Aniomes\": \"2020\", \"Tipo Combustible\": \"Turbosina\", \"Litros de combustible suministrado\": EstadodeMexico_2020_Turbo[\"Litros de combustible suministrado\"].sum(), \"Servicios realizados\": EstadodeMexico_2020_Turbo[\"Servicios realizados\"].sum()}\n",
        "Turbosina_Total=Turbosina_Total.append(fila_2020, ignore_index=True)\n",
        "#Se agrega la fila que da los datos del 2021\n",
        "fila_2021={\"Estado\": \"Estado De Mexico\", \"Aniomes\": \"2021\", \"Tipo Combustible\": \"Turbosina\", \"Litros de combustible suministrado\": EstadodeMexico_2021_Turbo[\"Litros de combustible suministrado\"].sum(), \"Servicios realizados\": EstadodeMexico_2021_Turbo[\"Servicios realizados\"].sum()}\n",
        "Turbosina_Total=Turbosina_Total.append(fila_2021, ignore_index=True)"
      ]
    },
    {
      "cell_type": "code",
      "execution_count": 91,
      "metadata": {
        "id": "ZWV6efjbmf0b"
      },
      "outputs": [],
      "source": [
        "#ESTADODEMEXICO\n",
        "#Se agrega la fila que da los datos del 2017\n",
        "fila_2017={\"Estado\": \"Estado De Mexico\", \"Aniomes\": \"2017\", \"Tipo Combustible\": \"Gasavion\", \"Litros de combustible suministrado\": EstadodeMexico_2017_Gas[\"Litros de combustible suministrado\"].sum(), \"Servicios realizados\": EstadodeMexico_2017_Gas[\"Servicios realizados\"].sum()}\n",
        "Gasavion_Total=Gasavion_Total.append(fila_2017, ignore_index=True)\n",
        "#Se agrega la fila que da los datos del 2018\n",
        "fila_2018={\"Estado\": \"Estado De Mexico\", \"Aniomes\": \"2018\", \"Tipo Combustible\": \"Gasavion\", \"Litros de combustible suministrado\": EstadodeMexico_2018_Gas[\"Litros de combustible suministrado\"].sum(), \"Servicios realizados\": EstadodeMexico_2018_Gas[\"Servicios realizados\"].sum()}\n",
        "Gasavion_Total=Gasavion_Total.append(fila_2018, ignore_index=True)\n",
        "#Se agrega la fila que da los datos del 2019\n",
        "fila_2019={\"Estado\": \"Estado De Mexico\", \"Aniomes\": \"2019\", \"Tipo Combustible\": \"Gasavion\", \"Litros de combustible suministrado\": EstadodeMexico_2019_Gas[\"Litros de combustible suministrado\"].sum(), \"Servicios realizados\": EstadodeMexico_2019_Gas[\"Servicios realizados\"].sum()}\n",
        "Gasavion_Total=Gasavion_Total.append(fila_2019, ignore_index=True)\n",
        "#Se agrega la fila que da los datos del 2020\n",
        "fila_2020={\"Estado\": \"Estado De Mexico\", \"Aniomes\": \"2020\", \"Tipo Combustible\": \"Gasavion\", \"Litros de combustible suministrado\": EstadodeMexico_2020_Gas[\"Litros de combustible suministrado\"].sum(), \"Servicios realizados\": EstadodeMexico_2020_Gas[\"Servicios realizados\"].sum()}\n",
        "Gasavion_Total=Gasavion_Total.append(fila_2020, ignore_index=True)\n",
        "#Se agrega la fila que da los datos del 2021\n",
        "fila_2021={\"Estado\": \"Estado De Mexico\", \"Aniomes\": \"2021\", \"Tipo Combustible\": \"Gasavion\", \"Litros de combustible suministrado\": EstadodeMexico_2021_Gas[\"Litros de combustible suministrado\"].sum(), \"Servicios realizados\": EstadodeMexico_2021_Gas[\"Servicios realizados\"].sum()}\n",
        "Gasavion_Total=Gasavion_Total.append(fila_2021, ignore_index=True)"
      ]
    },
    {
      "cell_type": "code",
      "execution_count": 92,
      "metadata": {
        "id": "-6l62mZSlLiB"
      },
      "outputs": [],
      "source": [
        "#GUANAJUATO\n",
        "#Se agrega la fila que da los datos del 2017\n",
        "fila_2017={\"Estado\": \"Guanajuato\", \"Aniomes\": \"2017\", \"Tipo Combustible\": \"Turbosina\", \"Litros de combustible suministrado\": Guanajuato_2017_Turbo[\"Litros de combustible suministrado\"].sum(), \"Servicios realizados\": Guanajuato_2017_Turbo[\"Servicios realizados\"].sum()}\n",
        "Turbosina_Total=Turbosina_Total.append(fila_2017, ignore_index=True)\n",
        "#Se agrega la fila que da los datos del 2018\n",
        "fila_2018={\"Estado\": \"Guanajuato\", \"Aniomes\": \"2018\", \"Tipo Combustible\": \"Turbosina\", \"Litros de combustible suministrado\": Guanajuato_2018_Turbo[\"Litros de combustible suministrado\"].sum(), \"Servicios realizados\": Guanajuato_2018_Turbo[\"Servicios realizados\"].sum()}\n",
        "Turbosina_Total=Turbosina_Total.append(fila_2018, ignore_index=True)\n",
        "#Se agrega la fila que da los datos del 2019\n",
        "fila_2019={\"Estado\": \"Guanajuato\", \"Aniomes\": \"2019\", \"Tipo Combustible\": \"Turbosina\", \"Litros de combustible suministrado\": Guanajuato_2019_Turbo[\"Litros de combustible suministrado\"].sum(), \"Servicios realizados\": Guanajuato_2019_Turbo[\"Servicios realizados\"].sum()}\n",
        "Turbosina_Total=Turbosina_Total.append(fila_2019, ignore_index=True)\n",
        "#Se agrega la fila que da los datos del 2020\n",
        "fila_2020={\"Estado\": \"Guanajuato\", \"Aniomes\": \"2020\", \"Tipo Combustible\": \"Turbosina\", \"Litros de combustible suministrado\": Guanajuato_2020_Turbo[\"Litros de combustible suministrado\"].sum(), \"Servicios realizados\": Guanajuato_2020_Turbo[\"Servicios realizados\"].sum()}\n",
        "Turbosina_Total=Turbosina_Total.append(fila_2020, ignore_index=True)\n",
        "#Se agrega la fila que da los datos del 2021\n",
        "fila_2021={\"Estado\": \"Guanajuato\", \"Aniomes\": \"2021\", \"Tipo Combustible\": \"Turbosina\", \"Litros de combustible suministrado\": Guanajuato_2021_Turbo[\"Litros de combustible suministrado\"].sum(), \"Servicios realizados\": Guanajuato_2021_Turbo[\"Servicios realizados\"].sum()}\n",
        "Turbosina_Total=Turbosina_Total.append(fila_2021, ignore_index=True)"
      ]
    },
    {
      "cell_type": "code",
      "execution_count": 93,
      "metadata": {
        "id": "M92A1r-lnZpB"
      },
      "outputs": [],
      "source": [
        "#GUANAJUATO\n",
        "#Se agrega la fila que da los datos del 2017\n",
        "fila_2017={\"Estado\": \"Guanajuato\", \"Aniomes\": \"2017\", \"Tipo Combustible\": \"Gasavion\", \"Litros de combustible suministrado\": Guanajuato_2017_Gas[\"Litros de combustible suministrado\"].sum(), \"Servicios realizados\": Guanajuato_2017_Gas[\"Servicios realizados\"].sum()}\n",
        "Gasavion_Total=Gasavion_Total.append(fila_2017, ignore_index=True)\n",
        "#Se agrega la fila que da los datos del 2018\n",
        "fila_2018={\"Estado\": \"Guanajuato\", \"Aniomes\": \"2018\", \"Tipo Combustible\": \"Gasavion\", \"Litros de combustible suministrado\": Guanajuato_2018_Gas[\"Litros de combustible suministrado\"].sum(), \"Servicios realizados\": Guanajuato_2018_Gas[\"Servicios realizados\"].sum()}\n",
        "Gasavion_Total=Gasavion_Total.append(fila_2018, ignore_index=True)\n",
        "#Se agrega la fila que da los datos del 2019\n",
        "fila_2019={\"Estado\": \"Guanajuato\", \"Aniomes\": \"2019\", \"Tipo Combustible\": \"Gasavion\", \"Litros de combustible suministrado\": Guanajuato_2019_Gas[\"Litros de combustible suministrado\"].sum(), \"Servicios realizados\": Guanajuato_2019_Gas[\"Servicios realizados\"].sum()}\n",
        "Gasavion_Total=Gasavion_Total.append(fila_2019, ignore_index=True)\n",
        "#Se agrega la fila que da los datos del 2020\n",
        "fila_2020={\"Estado\": \"Guanajuato\", \"Aniomes\": \"2020\", \"Tipo Combustible\": \"Gasavion\", \"Litros de combustible suministrado\": Guanajuato_2020_Gas[\"Litros de combustible suministrado\"].sum(), \"Servicios realizados\": Guanajuato_2020_Gas[\"Servicios realizados\"].sum()}\n",
        "Gasavion_Total=Gasavion_Total.append(fila_2020, ignore_index=True)\n",
        "#Se agrega la fila que da los datos del 2021\n",
        "fila_2021={\"Estado\": \"Guanajuato\", \"Aniomes\": \"2021\", \"Tipo Combustible\": \"Gasavion\", \"Litros de combustible suministrado\": Guanajuato_2021_Gas[\"Litros de combustible suministrado\"].sum(), \"Servicios realizados\": Guanajuato_2021_Gas[\"Servicios realizados\"].sum()}\n",
        "Gasavion_Total=Gasavion_Total.append(fila_2021, ignore_index=True)"
      ]
    },
    {
      "cell_type": "code",
      "execution_count": 94,
      "metadata": {
        "id": "xi6gBx3jkOJ6"
      },
      "outputs": [],
      "source": [
        "#GUERRERO\n",
        "#Se agrega la fila que da los datos del 2017\n",
        "fila_2017={\"Estado\": \"Guerrero\", \"Aniomes\": \"2017\", \"Tipo Combustible\": \"Turbosina\", \"Litros de combustible suministrado\": Guerrero_2017_Turbo[\"Litros de combustible suministrado\"].sum(), \"Servicios realizados\": Guerrero_2017_Turbo[\"Servicios realizados\"].sum()}\n",
        "Turbosina_Total=Turbosina_Total.append(fila_2017, ignore_index=True)\n",
        "#Se agrega la fila que da los datos del 2018\n",
        "fila_2018={\"Estado\": \"Guerrero\", \"Aniomes\": \"2018\", \"Tipo Combustible\": \"Turbosina\", \"Litros de combustible suministrado\": Guerrero_2018_Turbo[\"Litros de combustible suministrado\"].sum(), \"Servicios realizados\": Guerrero_2018_Turbo[\"Servicios realizados\"].sum()}\n",
        "Turbosina_Total=Turbosina_Total.append(fila_2018, ignore_index=True)\n",
        "#Se agrega la fila que da los datos del 2019\n",
        "fila_2019={\"Estado\": \"Guerrero\", \"Aniomes\": \"2019\", \"Tipo Combustible\": \"Turbosina\", \"Litros de combustible suministrado\": Guerrero_2019_Turbo[\"Litros de combustible suministrado\"].sum(), \"Servicios realizados\": Guerrero_2019_Turbo[\"Servicios realizados\"].sum()}\n",
        "Turbosina_Total=Turbosina_Total.append(fila_2019, ignore_index=True)\n",
        "#Se agrega la fila que da los datos del 2020\n",
        "fila_2020={\"Estado\": \"Guerrero\", \"Aniomes\": \"2020\", \"Tipo Combustible\": \"Turbosina\", \"Litros de combustible suministrado\": Guerrero_2020_Turbo[\"Litros de combustible suministrado\"].sum(), \"Servicios realizados\": Guerrero_2020_Turbo[\"Servicios realizados\"].sum()}\n",
        "Turbosina_Total=Turbosina_Total.append(fila_2020, ignore_index=True)\n",
        "#Se agrega la fila que da los datos del 2021\n",
        "fila_2021={\"Estado\": \"Guerrero\", \"Aniomes\": \"2021\", \"Tipo Combustible\": \"Turbosina\", \"Litros de combustible suministrado\": Guerrero_2021_Turbo[\"Litros de combustible suministrado\"].sum(), \"Servicios realizados\": Guerrero_2021_Turbo[\"Servicios realizados\"].sum()}\n",
        "Turbosina_Total=Turbosina_Total.append(fila_2021, ignore_index=True)"
      ]
    },
    {
      "cell_type": "code",
      "execution_count": 95,
      "metadata": {
        "id": "JTjtxIbPnozf"
      },
      "outputs": [],
      "source": [
        "#GUERRERO\n",
        "#Se agrega la fila que da los datos del 2017\n",
        "fila_2017={\"Estado\": \"Guerrero\", \"Aniomes\": \"2017\", \"Tipo Combustible\": \"Gasavion\", \"Litros de combustible suministrado\": Guerrero_2017_Gas[\"Litros de combustible suministrado\"].sum(), \"Servicios realizados\": Guerrero_2017_Gas[\"Servicios realizados\"].sum()}\n",
        "Gasavion_Total=Gasavion_Total.append(fila_2017, ignore_index=True)\n",
        "#Se agrega la fila que da los datos del 2018\n",
        "fila_2018={\"Estado\": \"Guerrero\", \"Aniomes\": \"2018\", \"Tipo Combustible\": \"Gasavion\", \"Litros de combustible suministrado\": Guerrero_2018_Gas[\"Litros de combustible suministrado\"].sum(), \"Servicios realizados\": Guerrero_2018_Gas[\"Servicios realizados\"].sum()}\n",
        "Gasavion_Total=Gasavion_Total.append(fila_2018, ignore_index=True)\n",
        "#Se agrega la fila que da los datos del 2019\n",
        "fila_2019={\"Estado\": \"Guerrero\", \"Aniomes\": \"2019\", \"Tipo Combustible\": \"Gasavion\", \"Litros de combustible suministrado\": Guerrero_2019_Gas[\"Litros de combustible suministrado\"].sum(), \"Servicios realizados\": Guerrero_2019_Gas[\"Servicios realizados\"].sum()}\n",
        "Gasavion_Total=Gasavion_Total.append(fila_2019, ignore_index=True)\n",
        "#Se agrega la fila que da los datos del 2020\n",
        "fila_2020={\"Estado\": \"Guerrero\", \"Aniomes\": \"2020\", \"Tipo Combustible\": \"Gasavion\", \"Litros de combustible suministrado\": Guerrero_2020_Gas[\"Litros de combustible suministrado\"].sum(), \"Servicios realizados\": Guerrero_2020_Gas[\"Servicios realizados\"].sum()}\n",
        "Gasavion_Total=Gasavion_Total.append(fila_2020, ignore_index=True)\n",
        "#Se agrega la fila que da los datos del 2021\n",
        "fila_2021={\"Estado\": \"Guerrero\", \"Aniomes\": \"2021\", \"Tipo Combustible\": \"Gasavion\", \"Litros de combustible suministrado\": Guerrero_2021_Gas[\"Litros de combustible suministrado\"].sum(), \"Servicios realizados\": Guerrero_2021_Gas[\"Servicios realizados\"].sum()}\n",
        "Gasavion_Total=Gasavion_Total.append(fila_2021, ignore_index=True)"
      ]
    },
    {
      "cell_type": "code",
      "execution_count": 96,
      "metadata": {
        "id": "psaYxzyMWQgK"
      },
      "outputs": [],
      "source": [
        "#HIDALGO\n",
        "#Se agrega la fila que da los datos del 2017\n",
        "fila_2017={\"Estado\": \"Hidalgo\", \"Aniomes\": \"2017\", \"Tipo Combustible\": \"Turbosina\", \"Litros de combustible suministrado\": Hidalgo_2017_Turbo[\"Litros de combustible suministrado\"].sum(), \"Servicios realizados\": Hidalgo_2017_Turbo[\"Servicios realizados\"].sum()}\n",
        "Turbosina_Total=Turbosina_Total.append(fila_2017, ignore_index=True)\n",
        "#Se agrega la fila que da los datos del 2018\n",
        "fila_2018={\"Estado\": \"Hidalgo\", \"Aniomes\": \"2018\", \"Tipo Combustible\": \"Turbosina\", \"Litros de combustible suministrado\": Hidalgo_2018_Turbo[\"Litros de combustible suministrado\"].sum(), \"Servicios realizados\": Hidalgo_2018_Turbo[\"Servicios realizados\"].sum()}\n",
        "Turbosina_Total=Turbosina_Total.append(fila_2018, ignore_index=True)\n",
        "#Se agrega la fila que da los datos del 2019\n",
        "fila_2019={\"Estado\": \"Hidalgo\", \"Aniomes\": \"2019\", \"Tipo Combustible\": \"Turbosina\", \"Litros de combustible suministrado\": Hidalgo_2019_Turbo[\"Litros de combustible suministrado\"].sum(), \"Servicios realizados\": Hidalgo_2019_Turbo[\"Servicios realizados\"].sum()}\n",
        "Turbosina_Total=Turbosina_Total.append(fila_2019, ignore_index=True)\n",
        "#Se agrega la fila que da los datos del 2020\n",
        "fila_2020={\"Estado\": \"Hidalgo\", \"Aniomes\": \"2020\", \"Tipo Combustible\": \"Turbosina\", \"Litros de combustible suministrado\": Hidalgo_2020_Turbo[\"Litros de combustible suministrado\"].sum(), \"Servicios realizados\": Hidalgo_2020_Turbo[\"Servicios realizados\"].sum()}\n",
        "Turbosina_Total=Turbosina_Total.append(fila_2020, ignore_index=True)\n",
        "#Se agrega la fila que da los datos del 2021\n",
        "fila_2021={\"Estado\": \"Hidalgo\", \"Aniomes\": \"2021\", \"Tipo Combustible\": \"Turbosina\", \"Litros de combustible suministrado\": Hidalgo_2021_Turbo[\"Litros de combustible suministrado\"].sum(), \"Servicios realizados\": Hidalgo_2021_Turbo[\"Servicios realizados\"].sum()}\n",
        "Turbosina_Total=Turbosina_Total.append(fila_2021, ignore_index=True)"
      ]
    },
    {
      "cell_type": "code",
      "execution_count": 97,
      "metadata": {
        "id": "26Wt9lwpnwKr"
      },
      "outputs": [],
      "source": [
        "#HIDALGO\n",
        "#Se agrega la fila que da los datos del 2017\n",
        "fila_2017={\"Estado\": \"Hidalgo\", \"Aniomes\": \"2017\", \"Tipo Combustible\": \"Gasavion\", \"Litros de combustible suministrado\": Hidalgo_2017_Gas[\"Litros de combustible suministrado\"].sum(), \"Servicios realizados\": Hidalgo_2017_Gas[\"Servicios realizados\"].sum()}\n",
        "Gasavion_Total=Gasavion_Total.append(fila_2017, ignore_index=True)\n",
        "#Se agrega la fila que da los datos del 2018\n",
        "fila_2018={\"Estado\": \"Hidalgo\", \"Aniomes\": \"2018\", \"Tipo Combustible\": \"Gasavion\", \"Litros de combustible suministrado\": Hidalgo_2018_Gas[\"Litros de combustible suministrado\"].sum(), \"Servicios realizados\": Hidalgo_2018_Gas[\"Servicios realizados\"].sum()}\n",
        "Gasavion_Total=Gasavion_Total.append(fila_2018, ignore_index=True)\n",
        "#Se agrega la fila que da los datos del 2019\n",
        "fila_2019={\"Estado\": \"Hidalgo\", \"Aniomes\": \"2019\", \"Tipo Combustible\": \"Gasavion\", \"Litros de combustible suministrado\": Hidalgo_2019_Gas[\"Litros de combustible suministrado\"].sum(), \"Servicios realizados\": Hidalgo_2019_Gas[\"Servicios realizados\"].sum()}\n",
        "Gasavion_Total=Gasavion_Total.append(fila_2019, ignore_index=True)\n",
        "#Se agrega la fila que da los datos del 2020\n",
        "fila_2020={\"Estado\": \"Hidalgo\", \"Aniomes\": \"2020\", \"Tipo Combustible\": \"Gasavion\", \"Litros de combustible suministrado\": Hidalgo_2020_Gas[\"Litros de combustible suministrado\"].sum(), \"Servicios realizados\": Hidalgo_2020_Gas[\"Servicios realizados\"].sum()}\n",
        "Gasavion_Total=Gasavion_Total.append(fila_2020, ignore_index=True)\n",
        "#Se agrega la fila que da los datos del 2021\n",
        "fila_2021={\"Estado\": \"Hidalgo\", \"Aniomes\": \"2021\", \"Tipo Combustible\": \"Gasavion\", \"Litros de combustible suministrado\": Hidalgo_2021_Gas[\"Litros de combustible suministrado\"].sum(), \"Servicios realizados\": Hidalgo_2021_Gas[\"Servicios realizados\"].sum()}\n",
        "Gasavion_Total=Gasavion_Total.append(fila_2021, ignore_index=True)"
      ]
    },
    {
      "cell_type": "code",
      "execution_count": 98,
      "metadata": {
        "id": "8zwxzk5M_PEQ"
      },
      "outputs": [],
      "source": [
        "#JALISCO\n",
        "#Se agrega la fila que da los datos del 2017\n",
        "fila_2017={\"Estado\": \"Jalisco\", \"Aniomes\": \"2017\", \"Tipo Combustible\": \"Turbosina\", \"Litros de combustible suministrado\": Jalisco_2017_Turbo[\"Litros de combustible suministrado\"].sum(), \"Servicios realizados\": Jalisco_2017_Turbo[\"Servicios realizados\"].sum()}\n",
        "Turbosina_Total=Turbosina_Total.append(fila_2017, ignore_index=True)\n",
        "#Se agrega la fila que da los datos del 2018\n",
        "fila_2018={\"Estado\": \"Jalisco\", \"Aniomes\": \"2018\", \"Tipo Combustible\": \"Turbosina\", \"Litros de combustible suministrado\": Jalisco_2018_Turbo[\"Litros de combustible suministrado\"].sum(), \"Servicios realizados\": Jalisco_2018_Turbo[\"Servicios realizados\"].sum()}\n",
        "Turbosina_Total=Turbosina_Total.append(fila_2018, ignore_index=True)\n",
        "#Se agrega la fila que da los datos del 2019\n",
        "fila_2019={\"Estado\": \"Jalisco\", \"Aniomes\": \"2019\", \"Tipo Combustible\": \"Turbosina\", \"Litros de combustible suministrado\": Jalisco_2019_Turbo[\"Litros de combustible suministrado\"].sum(), \"Servicios realizados\": Jalisco_2019_Turbo[\"Servicios realizados\"].sum()}\n",
        "Turbosina_Total=Turbosina_Total.append(fila_2019, ignore_index=True)\n",
        "#Se agrega la fila que da los datos del 2020\n",
        "fila_2020={\"Estado\": \"Jalisco\", \"Aniomes\": \"2020\", \"Tipo Combustible\": \"Turbosina\", \"Litros de combustible suministrado\": Jalisco_2020_Turbo[\"Litros de combustible suministrado\"].sum(), \"Servicios realizados\": Jalisco_2020_Turbo[\"Servicios realizados\"].sum()}\n",
        "Turbosina_Total=Turbosina_Total.append(fila_2020, ignore_index=True)\n",
        "#Se agrega la fila que da los datos del 2021\n",
        "fila_2021={\"Estado\": \"Jalisco\", \"Aniomes\": \"2021\", \"Tipo Combustible\": \"Turbosina\", \"Litros de combustible suministrado\": Jalisco_2021_Turbo[\"Litros de combustible suministrado\"].sum(), \"Servicios realizados\": Jalisco_2021_Turbo[\"Servicios realizados\"].sum()}\n",
        "Turbosina_Total=Turbosina_Total.append(fila_2021, ignore_index=True)"
      ]
    },
    {
      "cell_type": "code",
      "execution_count": 99,
      "metadata": {
        "id": "sZ6EALkgnz2i"
      },
      "outputs": [],
      "source": [
        "#JALISCO\n",
        "#Se agrega la fila que da los datos del 2017\n",
        "fila_2017={\"Estado\": \"Jalisco\", \"Aniomes\": \"2017\", \"Tipo Combustible\": \"Gasavion\", \"Litros de combustible suministrado\": Jalisco_2017_Gas[\"Litros de combustible suministrado\"].sum(), \"Servicios realizados\": Jalisco_2017_Gas[\"Servicios realizados\"].sum()}\n",
        "Gasavion_Total=Gasavion_Total.append(fila_2017, ignore_index=True)\n",
        "#Se agrega la fila que da los datos del 2018\n",
        "fila_2018={\"Estado\": \"Jalisco\", \"Aniomes\": \"2018\", \"Tipo Combustible\": \"Gasavion\", \"Litros de combustible suministrado\": Jalisco_2018_Gas[\"Litros de combustible suministrado\"].sum(), \"Servicios realizados\": Jalisco_2018_Gas[\"Servicios realizados\"].sum()}\n",
        "Gasavion_Total=Gasavion_Total.append(fila_2018, ignore_index=True)\n",
        "#Se agrega la fila que da los datos del 2019\n",
        "fila_2019={\"Estado\": \"Jalisco\", \"Aniomes\": \"2019\", \"Tipo Combustible\": \"Gasavion\", \"Litros de combustible suministrado\": Jalisco_2019_Gas[\"Litros de combustible suministrado\"].sum(), \"Servicios realizados\": Jalisco_2019_Gas[\"Servicios realizados\"].sum()}\n",
        "Gasavion_Total=Gasavion_Total.append(fila_2019, ignore_index=True)\n",
        "#Se agrega la fila que da los datos del 2020\n",
        "fila_2020={\"Estado\": \"Jalisco\", \"Aniomes\": \"2020\", \"Tipo Combustible\": \"Gasavion\", \"Litros de combustible suministrado\": Jalisco_2020_Gas[\"Litros de combustible suministrado\"].sum(), \"Servicios realizados\": Jalisco_2020_Gas[\"Servicios realizados\"].sum()}\n",
        "Gasavion_Total=Gasavion_Total.append(fila_2020, ignore_index=True)\n",
        "#Se agrega la fila que da los datos del 2021\n",
        "fila_2021={\"Estado\": \"Jalisco\", \"Aniomes\": \"2021\", \"Tipo Combustible\": \"Gasavion\", \"Litros de combustible suministrado\": Jalisco_2021_Gas[\"Litros de combustible suministrado\"].sum(), \"Servicios realizados\": Jalisco_2021_Gas[\"Servicios realizados\"].sum()}\n",
        "Gasavion_Total=Gasavion_Total.append(fila_2021, ignore_index=True)"
      ]
    },
    {
      "cell_type": "code",
      "execution_count": 100,
      "metadata": {
        "id": "B9DQD30vxvb2"
      },
      "outputs": [],
      "source": [
        "#MICHOACAN\n",
        "#Se agrega la fila que da los datos del 2017\n",
        "fila_2017={\"Estado\": \"Michoacan\", \"Aniomes\": \"2017\", \"Tipo Combustible\": \"Turbosina\", \"Litros de combustible suministrado\": Michoacan_2017_Turbo[\"Litros de combustible suministrado\"].sum(), \"Servicios realizados\": Michoacan_2017_Turbo[\"Servicios realizados\"].sum()}\n",
        "Turbosina_Total=Turbosina_Total.append(fila_2017, ignore_index=True)\n",
        "#Se agrega la fila que da los datos del 2018\n",
        "fila_2018={\"Estado\": \"Michoacan\", \"Aniomes\": \"2018\", \"Tipo Combustible\": \"Turbosina\", \"Litros de combustible suministrado\": Michoacan_2018_Turbo[\"Litros de combustible suministrado\"].sum(), \"Servicios realizados\": Michoacan_2018_Turbo[\"Servicios realizados\"].sum()}\n",
        "Turbosina_Total=Turbosina_Total.append(fila_2018, ignore_index=True)\n",
        "#Se agrega la fila que da los datos del 2019\n",
        "fila_2019={\"Estado\": \"Michoacan\", \"Aniomes\": \"2019\", \"Tipo Combustible\": \"Turbosina\", \"Litros de combustible suministrado\": Michoacan_2019_Turbo[\"Litros de combustible suministrado\"].sum(), \"Servicios realizados\": Michoacan_2019_Turbo[\"Servicios realizados\"].sum()}\n",
        "Turbosina_Total=Turbosina_Total.append(fila_2019, ignore_index=True)\n",
        "#Se agrega la fila que da los datos del 2020\n",
        "fila_2020={\"Estado\": \"Michoacan\", \"Aniomes\": \"2020\", \"Tipo Combustible\": \"Turbosina\", \"Litros de combustible suministrado\": Michoacan_2020_Turbo[\"Litros de combustible suministrado\"].sum(), \"Servicios realizados\": Michoacan_2020_Turbo[\"Servicios realizados\"].sum()}\n",
        "Turbosina_Total=Turbosina_Total.append(fila_2020, ignore_index=True)\n",
        "#Se agrega la fila que da los datos del 2021\n",
        "fila_2021={\"Estado\": \"Michoacan\", \"Aniomes\": \"2021\", \"Tipo Combustible\": \"Turbosina\", \"Litros de combustible suministrado\": Michoacan_2021_Turbo[\"Litros de combustible suministrado\"].sum(), \"Servicios realizados\": Michoacan_2021_Turbo[\"Servicios realizados\"].sum()}\n",
        "Turbosina_Total=Turbosina_Total.append(fila_2021, ignore_index=True)"
      ]
    },
    {
      "cell_type": "code",
      "execution_count": 101,
      "metadata": {
        "id": "aUvVB0adn_dn"
      },
      "outputs": [],
      "source": [
        "#MICHOACAN\n",
        "#Se agrega la fila que da los datos del 2017\n",
        "fila_2017={\"Estado\": \"Michoacan\", \"Aniomes\": \"2017\", \"Tipo Combustible\": \"Gasavion\", \"Litros de combustible suministrado\": Michoacan_2017_Gas[\"Litros de combustible suministrado\"].sum(), \"Servicios realizados\": Michoacan_2017_Gas[\"Servicios realizados\"].sum()}\n",
        "Gasavion_Total=Gasavion_Total.append(fila_2017, ignore_index=True)\n",
        "#Se agrega la fila que da los datos del 2018\n",
        "fila_2018={\"Estado\": \"Michoacan\", \"Aniomes\": \"2018\", \"Tipo Combustible\": \"Gasavion\", \"Litros de combustible suministrado\": Michoacan_2018_Gas[\"Litros de combustible suministrado\"].sum(), \"Servicios realizados\": Michoacan_2018_Gas[\"Servicios realizados\"].sum()}\n",
        "Gasavion_Total=Gasavion_Total.append(fila_2018, ignore_index=True)\n",
        "#Se agrega la fila que da los datos del 2019\n",
        "fila_2019={\"Estado\": \"Michoacan\", \"Aniomes\": \"2019\", \"Tipo Combustible\": \"Gasavion\", \"Litros de combustible suministrado\": Michoacan_2019_Gas[\"Litros de combustible suministrado\"].sum(), \"Servicios realizados\": Michoacan_2019_Gas[\"Servicios realizados\"].sum()}\n",
        "Gasavion_Total=Gasavion_Total.append(fila_2019, ignore_index=True)\n",
        "#Se agrega la fila que da los datos del 2020\n",
        "fila_2020={\"Estado\": \"Michoacan\", \"Aniomes\": \"2020\", \"Tipo Combustible\": \"Gasavion\", \"Litros de combustible suministrado\": Michoacan_2020_Gas[\"Litros de combustible suministrado\"].sum(), \"Servicios realizados\": Michoacan_2020_Gas[\"Servicios realizados\"].sum()}\n",
        "Gasavion_Total=Gasavion_Total.append(fila_2020, ignore_index=True)\n",
        "#Se agrega la fila que da los datos del 2021\n",
        "fila_2021={\"Estado\": \"Michoacan\", \"Aniomes\": \"2021\", \"Tipo Combustible\": \"Gasavion\", \"Litros de combustible suministrado\": Michoacan_2021_Gas[\"Litros de combustible suministrado\"].sum(), \"Servicios realizados\": Michoacan_2021_Gas[\"Servicios realizados\"].sum()}\n",
        "Gasavion_Total=Gasavion_Total.append(fila_2021, ignore_index=True)"
      ]
    },
    {
      "cell_type": "code",
      "execution_count": 102,
      "metadata": {
        "id": "9E3pQ7JI0fDP"
      },
      "outputs": [],
      "source": [
        "#MORELOS\n",
        "#Se agrega la fila que da los datos del 2017\n",
        "fila_2017={\"Estado\": \"Morelos\", \"Aniomes\": \"2017\", \"Tipo Combustible\": \"Turbosina\", \"Litros de combustible suministrado\": Morelos_2017_Turbo[\"Litros de combustible suministrado\"].sum(), \"Servicios realizados\": Morelos_2017_Turbo[\"Servicios realizados\"].sum()}\n",
        "Turbosina_Total=Turbosina_Total.append(fila_2017, ignore_index=True)\n",
        "#Se agrega la fila que da los datos del 2018\n",
        "fila_2018={\"Estado\": \"Morelos\", \"Aniomes\": \"2018\", \"Tipo Combustible\": \"Turbosina\", \"Litros de combustible suministrado\": Morelos_2018_Turbo[\"Litros de combustible suministrado\"].sum(), \"Servicios realizados\": Morelos_2018_Turbo[\"Servicios realizados\"].sum()}\n",
        "Turbosina_Total=Turbosina_Total.append(fila_2018, ignore_index=True)\n",
        "#Se agrega la fila que da los datos del 2019\n",
        "fila_2019={\"Estado\": \"Morelos\", \"Aniomes\": \"2019\", \"Tipo Combustible\": \"Turbosina\", \"Litros de combustible suministrado\": Morelos_2019_Turbo[\"Litros de combustible suministrado\"].sum(), \"Servicios realizados\": Morelos_2019_Turbo[\"Servicios realizados\"].sum()}\n",
        "Turbosina_Total=Turbosina_Total.append(fila_2019, ignore_index=True)\n",
        "#Se agrega la fila que da los datos del 2020\n",
        "fila_2020={\"Estado\": \"Morelos\", \"Aniomes\": \"2020\", \"Tipo Combustible\": \"Turbosina\", \"Litros de combustible suministrado\": Morelos_2020_Turbo[\"Litros de combustible suministrado\"].sum(), \"Servicios realizados\": Morelos_2020_Turbo[\"Servicios realizados\"].sum()}\n",
        "Turbosina_Total=Turbosina_Total.append(fila_2020, ignore_index=True)\n",
        "#Se agrega la fila que da los datos del 2021\n",
        "fila_2021={\"Estado\": \"Morelos\", \"Aniomes\": \"2021\", \"Tipo Combustible\": \"Turbosina\", \"Litros de combustible suministrado\": Morelos_2021_Turbo[\"Litros de combustible suministrado\"].sum(), \"Servicios realizados\": Morelos_2021_Turbo[\"Servicios realizados\"].sum()}\n",
        "Turbosina_Total=Turbosina_Total.append(fila_2021, ignore_index=True)"
      ]
    },
    {
      "cell_type": "code",
      "execution_count": 103,
      "metadata": {
        "id": "wmgXS7sZoIPd"
      },
      "outputs": [],
      "source": [
        "#MORELOS\n",
        "#Se agrega la fila que da los datos del 2017\n",
        "fila_2017={\"Estado\": \"Morelos\", \"Aniomes\": \"2017\", \"Tipo Combustible\": \"Gasavion\", \"Litros de combustible suministrado\": Morelos_2017_Gas[\"Litros de combustible suministrado\"].sum(), \"Servicios realizados\": Morelos_2017_Gas[\"Servicios realizados\"].sum()}\n",
        "Gasavion_Total=Gasavion_Total.append(fila_2017, ignore_index=True)\n",
        "#Se agrega la fila que da los datos del 2018\n",
        "fila_2018={\"Estado\": \"Morelos\", \"Aniomes\": \"2018\", \"Tipo Combustible\": \"Gasavion\", \"Litros de combustible suministrado\": Morelos_2018_Gas[\"Litros de combustible suministrado\"].sum(), \"Servicios realizados\": Morelos_2018_Gas[\"Servicios realizados\"].sum()}\n",
        "Gasavion_Total=Gasavion_Total.append(fila_2018, ignore_index=True)\n",
        "#Se agrega la fila que da los datos del 2019\n",
        "fila_2019={\"Estado\": \"Morelos\", \"Aniomes\": \"2019\", \"Tipo Combustible\": \"Gasavion\", \"Litros de combustible suministrado\": Morelos_2019_Gas[\"Litros de combustible suministrado\"].sum(), \"Servicios realizados\": Morelos_2019_Gas[\"Servicios realizados\"].sum()}\n",
        "Gasavion_Total=Gasavion_Total.append(fila_2019, ignore_index=True)\n",
        "#Se agrega la fila que da los datos del 2020\n",
        "fila_2020={\"Estado\": \"Morelos\", \"Aniomes\": \"2020\", \"Tipo Combustible\": \"Gasavion\", \"Litros de combustible suministrado\": Morelos_2020_Gas[\"Litros de combustible suministrado\"].sum(), \"Servicios realizados\": Morelos_2020_Gas[\"Servicios realizados\"].sum()}\n",
        "Gasavion_Total=Gasavion_Total.append(fila_2020, ignore_index=True)\n",
        "#Se agrega la fila que da los datos del 2021\n",
        "fila_2021={\"Estado\": \"Morelos\", \"Aniomes\": \"2021\", \"Tipo Combustible\": \"Gasavion\", \"Litros de combustible suministrado\": Morelos_2021_Gas[\"Litros de combustible suministrado\"].sum(), \"Servicios realizados\": Morelos_2021_Gas[\"Servicios realizados\"].sum()}\n",
        "Gasavion_Total=Gasavion_Total.append(fila_2021, ignore_index=True)"
      ]
    },
    {
      "cell_type": "code",
      "execution_count": 104,
      "metadata": {
        "id": "PYtGQciZqtDQ"
      },
      "outputs": [],
      "source": [
        "#NAYARIT\n",
        "#Se agrega la fila que da los datos del 2017\n",
        "fila_2017={\"Estado\": \"Nayarit\", \"Aniomes\": \"2017\", \"Tipo Combustible\": \"Turbosina\", \"Litros de combustible suministrado\": Nayarit_2017_Turbo[\"Litros de combustible suministrado\"].sum(), \"Servicios realizados\": Nayarit_2017_Turbo[\"Servicios realizados\"].sum()}\n",
        "Turbosina_Total=Turbosina_Total.append(fila_2017, ignore_index=True)\n",
        "#Se agrega la fila que da los datos del 2018\n",
        "fila_2018={\"Estado\": \"Nayarit\", \"Aniomes\": \"2018\", \"Tipo Combustible\": \"Turbosina\", \"Litros de combustible suministrado\": Nayarit_2018_Turbo[\"Litros de combustible suministrado\"].sum(), \"Servicios realizados\": Nayarit_2018_Turbo[\"Servicios realizados\"].sum()}\n",
        "Turbosina_Total=Turbosina_Total.append(fila_2018, ignore_index=True)\n",
        "#Se agrega la fila que da los datos del 2019\n",
        "fila_2019={\"Estado\": \"Nayarit\", \"Aniomes\": \"2019\", \"Tipo Combustible\": \"Turbosina\", \"Litros de combustible suministrado\": Nayarit_2019_Turbo[\"Litros de combustible suministrado\"].sum(), \"Servicios realizados\": Nayarit_2019_Turbo[\"Servicios realizados\"].sum()}\n",
        "Turbosina_Total=Turbosina_Total.append(fila_2019, ignore_index=True)\n",
        "#Se agrega la fila que da los datos del 2020\n",
        "fila_2020={\"Estado\": \"Nayarit\", \"Aniomes\": \"2020\", \"Tipo Combustible\": \"Turbosina\", \"Litros de combustible suministrado\": Nayarit_2020_Turbo[\"Litros de combustible suministrado\"].sum(), \"Servicios realizados\": Nayarit_2020_Turbo[\"Servicios realizados\"].sum()}\n",
        "Turbosina_Total=Turbosina_Total.append(fila_2020, ignore_index=True)\n",
        "#Se agrega la fila que da los datos del 2021\n",
        "fila_2021={\"Estado\": \"Nayarit\", \"Aniomes\": \"2021\", \"Tipo Combustible\": \"Turbosina\", \"Litros de combustible suministrado\": Nayarit_2021_Turbo[\"Litros de combustible suministrado\"].sum(), \"Servicios realizados\": Nayarit_2021_Turbo[\"Servicios realizados\"].sum()}\n",
        "Turbosina_Total=Turbosina_Total.append(fila_2021, ignore_index=True)"
      ]
    },
    {
      "cell_type": "code",
      "execution_count": 105,
      "metadata": {
        "id": "CEUeBgBfoMiK"
      },
      "outputs": [],
      "source": [
        "#NAYARIT\n",
        "#Se agrega la fila que da los datos del 2017\n",
        "fila_2017={\"Estado\": \"Nayarit\", \"Aniomes\": \"2017\", \"Tipo Combustible\": \"Gasavion\", \"Litros de combustible suministrado\": Nayarit_2017_Gas[\"Litros de combustible suministrado\"].sum(), \"Servicios realizados\": Nayarit_2017_Gas[\"Servicios realizados\"].sum()}\n",
        "Gasavion_Total=Gasavion_Total.append(fila_2017, ignore_index=True)\n",
        "#Se agrega la fila que da los datos del 2018\n",
        "fila_2018={\"Estado\": \"Nayarit\", \"Aniomes\": \"2018\", \"Tipo Combustible\": \"Gasavion\", \"Litros de combustible suministrado\": Nayarit_2018_Gas[\"Litros de combustible suministrado\"].sum(), \"Servicios realizados\": Nayarit_2018_Gas[\"Servicios realizados\"].sum()}\n",
        "Gasavion_Total=Gasavion_Total.append(fila_2018, ignore_index=True)\n",
        "#Se agrega la fila que da los datos del 2019\n",
        "fila_2019={\"Estado\": \"Nayarit\", \"Aniomes\": \"2019\", \"Tipo Combustible\": \"Gasavion\", \"Litros de combustible suministrado\": Nayarit_2019_Gas[\"Litros de combustible suministrado\"].sum(), \"Servicios realizados\": Nayarit_2019_Gas[\"Servicios realizados\"].sum()}\n",
        "Gasavion_Total=Gasavion_Total.append(fila_2019, ignore_index=True)\n",
        "#Se agrega la fila que da los datos del 2020\n",
        "fila_2020={\"Estado\": \"Nayarit\", \"Aniomes\": \"2020\", \"Tipo Combustible\": \"Gasavion\", \"Litros de combustible suministrado\": Nayarit_2020_Gas[\"Litros de combustible suministrado\"].sum(), \"Servicios realizados\": Nayarit_2020_Gas[\"Servicios realizados\"].sum()}\n",
        "Gasavion_Total=Gasavion_Total.append(fila_2020, ignore_index=True)\n",
        "#Se agrega la fila que da los datos del 2021\n",
        "fila_2021={\"Estado\": \"Nayarit\", \"Aniomes\": \"2021\", \"Tipo Combustible\": \"Gasavion\", \"Litros de combustible suministrado\": Nayarit_2021_Gas[\"Litros de combustible suministrado\"].sum(), \"Servicios realizados\": Nayarit_2021_Gas[\"Servicios realizados\"].sum()}\n",
        "Gasavion_Total=Gasavion_Total.append(fila_2021, ignore_index=True)"
      ]
    },
    {
      "cell_type": "code",
      "execution_count": 106,
      "metadata": {
        "id": "e3anHFkd8y-5"
      },
      "outputs": [],
      "source": [
        "#NUEVOLEON\n",
        "#Se agrega la fila que da los datos del 2017\n",
        "fila_2017={\"Estado\": \"Nuevo Leon\", \"Aniomes\": \"2017\", \"Tipo Combustible\": \"Turbosina\", \"Litros de combustible suministrado\": NuevoLeon_2017_Turbo[\"Litros de combustible suministrado\"].sum(), \"Servicios realizados\": NuevoLeon_2017_Turbo[\"Servicios realizados\"].sum()}\n",
        "Turbosina_Total=Turbosina_Total.append(fila_2017, ignore_index=True)\n",
        "#Se agrega la fila que da los datos del 2018\n",
        "fila_2018={\"Estado\": \"Nuevo Leon\", \"Aniomes\": \"2018\", \"Tipo Combustible\": \"Turbosina\", \"Litros de combustible suministrado\": NuevoLeon_2018_Turbo[\"Litros de combustible suministrado\"].sum(), \"Servicios realizados\": NuevoLeon_2018_Turbo[\"Servicios realizados\"].sum()}\n",
        "Turbosina_Total=Turbosina_Total.append(fila_2018, ignore_index=True)\n",
        "#Se agrega la fila que da los datos del 2019\n",
        "fila_2019={\"Estado\": \"Nuevo Leon\", \"Aniomes\": \"2019\", \"Tipo Combustible\": \"Turbosina\", \"Litros de combustible suministrado\": NuevoLeon_2019_Turbo[\"Litros de combustible suministrado\"].sum(), \"Servicios realizados\": NuevoLeon_2019_Turbo[\"Servicios realizados\"].sum()}\n",
        "Turbosina_Total=Turbosina_Total.append(fila_2019, ignore_index=True)\n",
        "#Se agrega la fila que da los datos del 2020\n",
        "fila_2020={\"Estado\": \"Nuevo Leon\", \"Aniomes\": \"2020\", \"Tipo Combustible\": \"Turbosina\", \"Litros de combustible suministrado\": NuevoLeon_2020_Turbo[\"Litros de combustible suministrado\"].sum(), \"Servicios realizados\": NuevoLeon_2020_Turbo[\"Servicios realizados\"].sum()}\n",
        "Turbosina_Total=Turbosina_Total.append(fila_2020, ignore_index=True)\n",
        "#Se agrega la fila que da los datos del 2021\n",
        "fila_2021={\"Estado\": \"Nuevo Leon\", \"Aniomes\": \"2021\", \"Tipo Combustible\": \"Turbosina\", \"Litros de combustible suministrado\": NuevoLeon_2021_Turbo[\"Litros de combustible suministrado\"].sum(), \"Servicios realizados\": NuevoLeon_2021_Turbo[\"Servicios realizados\"].sum()}\n",
        "Turbosina_Total=Turbosina_Total.append(fila_2021, ignore_index=True)"
      ]
    },
    {
      "cell_type": "code",
      "execution_count": 107,
      "metadata": {
        "id": "T5gmA9MHoXlL"
      },
      "outputs": [],
      "source": [
        "#NUEVOLEON\n",
        "#Se agrega la fila que da los datos del 2017\n",
        "fila_2017={\"Estado\": \"Nuevo Leon\", \"Aniomes\": \"2017\", \"Tipo Combustible\": \"Gasavion\", \"Litros de combustible suministrado\": NuevoLeon_2017_Gas[\"Litros de combustible suministrado\"].sum(), \"Servicios realizados\": NuevoLeon_2017_Gas[\"Servicios realizados\"].sum()}\n",
        "Gasavion_Total=Gasavion_Total.append(fila_2017, ignore_index=True)\n",
        "#Se agrega la fila que da los datos del 2018\n",
        "fila_2018={\"Estado\": \"Nuevo Leon\", \"Aniomes\": \"2018\", \"Tipo Combustible\": \"Gasavion\", \"Litros de combustible suministrado\": NuevoLeon_2018_Gas[\"Litros de combustible suministrado\"].sum(), \"Servicios realizados\": NuevoLeon_2018_Gas[\"Servicios realizados\"].sum()}\n",
        "Gasavion_Total=Gasavion_Total.append(fila_2018, ignore_index=True)\n",
        "#Se agrega la fila que da los datos del 2019\n",
        "fila_2019={\"Estado\": \"Nuevo Leon\", \"Aniomes\": \"2019\", \"Tipo Combustible\": \"Gasavion\", \"Litros de combustible suministrado\": NuevoLeon_2019_Gas[\"Litros de combustible suministrado\"].sum(), \"Servicios realizados\": NuevoLeon_2019_Gas[\"Servicios realizados\"].sum()}\n",
        "Gasavion_Total=Gasavion_Total.append(fila_2019, ignore_index=True)\n",
        "#Se agrega la fila que da los datos del 2020\n",
        "fila_2020={\"Estado\": \"Nuevo Leon\", \"Aniomes\": \"2020\", \"Tipo Combustible\": \"Gasavion\", \"Litros de combustible suministrado\": NuevoLeon_2020_Gas[\"Litros de combustible suministrado\"].sum(), \"Servicios realizados\": NuevoLeon_2020_Gas[\"Servicios realizados\"].sum()}\n",
        "Gasavion_Total=Gasavion_Total.append(fila_2020, ignore_index=True)\n",
        "#Se agrega la fila que da los datos del 2021\n",
        "fila_2021={\"Estado\": \"Nuevo Leon\", \"Aniomes\": \"2021\", \"Tipo Combustible\": \"Gasavion\", \"Litros de combustible suministrado\": NuevoLeon_2021_Gas[\"Litros de combustible suministrado\"].sum(), \"Servicios realizados\": NuevoLeon_2021_Gas[\"Servicios realizados\"].sum()}\n",
        "Gasavion_Total=Gasavion_Total.append(fila_2021, ignore_index=True)"
      ]
    },
    {
      "cell_type": "code",
      "execution_count": 108,
      "metadata": {
        "id": "-RV6paC9xAe_"
      },
      "outputs": [],
      "source": [
        "#OAXACA\n",
        "#Se agrega la fila que da los datos del 2017\n",
        "fila_2017={\"Estado\": \"Oaxaca\", \"Aniomes\": \"2017\", \"Tipo Combustible\": \"Turbosina\", \"Litros de combustible suministrado\": Oaxaca_2017_Turbo[\"Litros de combustible suministrado\"].sum(), \"Servicios realizados\": Oaxaca_2017_Turbo[\"Servicios realizados\"].sum()}\n",
        "Turbosina_Total=Turbosina_Total.append(fila_2017, ignore_index=True)\n",
        "#Se agrega la fila que da los datos del 2018\n",
        "fila_2018={\"Estado\": \"Oaxaca\", \"Aniomes\": \"2018\", \"Tipo Combustible\": \"Turbosina\", \"Litros de combustible suministrado\": Oaxaca_2018_Turbo[\"Litros de combustible suministrado\"].sum(), \"Servicios realizados\": Oaxaca_2018_Turbo[\"Servicios realizados\"].sum()}\n",
        "Turbosina_Total=Turbosina_Total.append(fila_2018, ignore_index=True)\n",
        "#Se agrega la fila que da los datos del 2019\n",
        "fila_2019={\"Estado\": \"Oaxaca\", \"Aniomes\": \"2019\", \"Tipo Combustible\": \"Turbosina\", \"Litros de combustible suministrado\": Oaxaca_2019_Turbo[\"Litros de combustible suministrado\"].sum(), \"Servicios realizados\": Oaxaca_2019_Turbo[\"Servicios realizados\"].sum()}\n",
        "Turbosina_Total=Turbosina_Total.append(fila_2019, ignore_index=True)\n",
        "#Se agrega la fila que da los datos del 2020\n",
        "fila_2020={\"Estado\": \"Oaxaca\", \"Aniomes\": \"2020\", \"Tipo Combustible\": \"Turbosina\", \"Litros de combustible suministrado\": Oaxaca_2020_Turbo[\"Litros de combustible suministrado\"].sum(), \"Servicios realizados\": Oaxaca_2020_Turbo[\"Servicios realizados\"].sum()}\n",
        "Turbosina_Total=Turbosina_Total.append(fila_2020, ignore_index=True)\n",
        "#Se agrega la fila que da los datos del 2021\n",
        "fila_2021={\"Estado\": \"Oaxaca\", \"Aniomes\": \"2021\", \"Tipo Combustible\": \"Turbosina\", \"Litros de combustible suministrado\": Oaxaca_2021_Turbo[\"Litros de combustible suministrado\"].sum(), \"Servicios realizados\": Oaxaca_2021_Turbo[\"Servicios realizados\"].sum()}\n",
        "Turbosina_Total=Turbosina_Total.append(fila_2021, ignore_index=True)"
      ]
    },
    {
      "cell_type": "code",
      "execution_count": 109,
      "metadata": {
        "id": "AKKN53wLoZrn"
      },
      "outputs": [],
      "source": [
        "#OAXACA\n",
        "#Se agrega la fila que da los datos del 2017\n",
        "fila_2017={\"Estado\": \"Oaxaca\", \"Aniomes\": \"2017\", \"Tipo Combustible\": \"Gasavion\", \"Litros de combustible suministrado\": Oaxaca_2017_Gas[\"Litros de combustible suministrado\"].sum(), \"Servicios realizados\": Oaxaca_2017_Gas[\"Servicios realizados\"].sum()}\n",
        "Gasavion_Total=Gasavion_Total.append(fila_2017, ignore_index=True)\n",
        "#Se agrega la fila que da los datos del 2018\n",
        "fila_2018={\"Estado\": \"Oaxaca\", \"Aniomes\": \"2018\", \"Tipo Combustible\": \"Gasavion\", \"Litros de combustible suministrado\": Oaxaca_2018_Gas[\"Litros de combustible suministrado\"].sum(), \"Servicios realizados\": Oaxaca_2018_Gas[\"Servicios realizados\"].sum()}\n",
        "Gasavion_Total=Gasavion_Total.append(fila_2018, ignore_index=True)\n",
        "#Se agrega la fila que da los datos del 2019\n",
        "fila_2019={\"Estado\": \"Oaxaca\", \"Aniomes\": \"2019\", \"Tipo Combustible\": \"Gasavion\", \"Litros de combustible suministrado\": Oaxaca_2019_Gas[\"Litros de combustible suministrado\"].sum(), \"Servicios realizados\": Oaxaca_2019_Gas[\"Servicios realizados\"].sum()}\n",
        "Gasavion_Total=Gasavion_Total.append(fila_2019, ignore_index=True)\n",
        "#Se agrega la fila que da los datos del 2020\n",
        "fila_2020={\"Estado\": \"Oaxaca\", \"Aniomes\": \"2020\", \"Tipo Combustible\": \"Gasavion\", \"Litros de combustible suministrado\": Oaxaca_2020_Gas[\"Litros de combustible suministrado\"].sum(), \"Servicios realizados\": Oaxaca_2020_Gas[\"Servicios realizados\"].sum()}\n",
        "Gasavion_Total=Gasavion_Total.append(fila_2020, ignore_index=True)\n",
        "#Se agrega la fila que da los datos del 2021\n",
        "fila_2021={\"Estado\": \"Oaxaca\", \"Aniomes\": \"2021\", \"Tipo Combustible\": \"Gasavion\", \"Litros de combustible suministrado\": Oaxaca_2021_Gas[\"Litros de combustible suministrado\"].sum(), \"Servicios realizados\": Oaxaca_2021_Gas[\"Servicios realizados\"].sum()}\n",
        "Gasavion_Total=Gasavion_Total.append(fila_2021, ignore_index=True)"
      ]
    },
    {
      "cell_type": "code",
      "execution_count": 110,
      "metadata": {
        "id": "zvEyYXgP7eeE"
      },
      "outputs": [],
      "source": [
        "#PUEBLA\n",
        "#Se agrega la fila que da los datos del 2017\n",
        "fila_2017={\"Estado\": \"Puebla\", \"Aniomes\": \"2017\", \"Tipo Combustible\": \"Turbosina\", \"Litros de combustible suministrado\": Puebla_2017_Turbo[\"Litros de combustible suministrado\"].sum(), \"Servicios realizados\": Puebla_2017_Turbo[\"Servicios realizados\"].sum()}\n",
        "Turbosina_Total=Turbosina_Total.append(fila_2017, ignore_index=True)\n",
        "#Se agrega la fila que da los datos del 2018\n",
        "fila_2018={\"Estado\": \"Puebla\", \"Aniomes\": \"2018\", \"Tipo Combustible\": \"Turbosina\", \"Litros de combustible suministrado\": Puebla_2018_Turbo[\"Litros de combustible suministrado\"].sum(), \"Servicios realizados\": Puebla_2018_Turbo[\"Servicios realizados\"].sum()}\n",
        "Turbosina_Total=Turbosina_Total.append(fila_2018, ignore_index=True)\n",
        "#Se agrega la fila que da los datos del 2019\n",
        "fila_2019={\"Estado\": \"Puebla\", \"Aniomes\": \"2019\", \"Tipo Combustible\": \"Turbosina\", \"Litros de combustible suministrado\": Puebla_2019_Turbo[\"Litros de combustible suministrado\"].sum(), \"Servicios realizados\": Puebla_2019_Turbo[\"Servicios realizados\"].sum()}\n",
        "Turbosina_Total=Turbosina_Total.append(fila_2019, ignore_index=True)\n",
        "#Se agrega la fila que da los datos del 2020\n",
        "fila_2020={\"Estado\": \"Puebla\", \"Aniomes\": \"2020\", \"Tipo Combustible\": \"Turbosina\", \"Litros de combustible suministrado\": Puebla_2020_Turbo[\"Litros de combustible suministrado\"].sum(), \"Servicios realizados\": Puebla_2020_Turbo[\"Servicios realizados\"].sum()}\n",
        "Turbosina_Total=Turbosina_Total.append(fila_2020, ignore_index=True)\n",
        "#Se agrega la fila que da los datos del 2021\n",
        "fila_2021={\"Estado\": \"Puebla\", \"Aniomes\": \"2021\", \"Tipo Combustible\": \"Turbosina\", \"Litros de combustible suministrado\": Puebla_2021_Turbo[\"Litros de combustible suministrado\"].sum(), \"Servicios realizados\": Puebla_2021_Turbo[\"Servicios realizados\"].sum()}\n",
        "Turbosina_Total=Turbosina_Total.append(fila_2021, ignore_index=True)"
      ]
    },
    {
      "cell_type": "code",
      "execution_count": 111,
      "metadata": {
        "id": "ly4RRpfgohTf"
      },
      "outputs": [],
      "source": [
        "#PUEBLA\n",
        "#Se agrega la fila que da los datos del 2017\n",
        "fila_2017={\"Estado\": \"Puebla\", \"Aniomes\": \"2017\", \"Tipo Combustible\": \"Gasavion\", \"Litros de combustible suministrado\": Puebla_2017_Gas[\"Litros de combustible suministrado\"].sum(), \"Servicios realizados\": Puebla_2017_Gas[\"Servicios realizados\"].sum()}\n",
        "Gasavion_Total=Gasavion_Total.append(fila_2017, ignore_index=True)\n",
        "#Se agrega la fila que da los datos del 2018\n",
        "fila_2018={\"Estado\": \"Puebla\", \"Aniomes\": \"2018\", \"Tipo Combustible\": \"Gasavion\", \"Litros de combustible suministrado\": Puebla_2018_Gas[\"Litros de combustible suministrado\"].sum(), \"Servicios realizados\": Puebla_2018_Gas[\"Servicios realizados\"].sum()}\n",
        "Gasavion_Total=Gasavion_Total.append(fila_2018, ignore_index=True)\n",
        "#Se agrega la fila que da los datos del 2019\n",
        "fila_2019={\"Estado\": \"Puebla\", \"Aniomes\": \"2019\", \"Tipo Combustible\": \"Gasavion\", \"Litros de combustible suministrado\": Puebla_2019_Gas[\"Litros de combustible suministrado\"].sum(), \"Servicios realizados\": Puebla_2019_Gas[\"Servicios realizados\"].sum()}\n",
        "Gasavion_Total=Gasavion_Total.append(fila_2019, ignore_index=True)\n",
        "#Se agrega la fila que da los datos del 2020\n",
        "fila_2020={\"Estado\": \"Puebla\", \"Aniomes\": \"2020\", \"Tipo Combustible\": \"Gasavion\", \"Litros de combustible suministrado\": Puebla_2020_Gas[\"Litros de combustible suministrado\"].sum(), \"Servicios realizados\": Puebla_2020_Gas[\"Servicios realizados\"].sum()}\n",
        "Gasavion_Total=Gasavion_Total.append(fila_2020, ignore_index=True)\n",
        "#Se agrega la fila que da los datos del 2021\n",
        "fila_2021={\"Estado\": \"Puebla\", \"Aniomes\": \"2021\", \"Tipo Combustible\": \"Gasavion\", \"Litros de combustible suministrado\": Puebla_2021_Gas[\"Litros de combustible suministrado\"].sum(), \"Servicios realizados\": Puebla_2021_Gas[\"Servicios realizados\"].sum()}\n",
        "Gasavion_Total=Gasavion_Total.append(fila_2021, ignore_index=True)"
      ]
    },
    {
      "cell_type": "code",
      "execution_count": 112,
      "metadata": {
        "id": "jBFJ0bei-P4Q"
      },
      "outputs": [],
      "source": [
        "#QUERETARO\n",
        "#Se agrega la fila que da los datos del 2017\n",
        "fila_2017={\"Estado\": \"Queretaro\", \"Aniomes\": \"2017\", \"Tipo Combustible\": \"Turbosina\", \"Litros de combustible suministrado\": Querétaro_2017_Turbo[\"Litros de combustible suministrado\"].sum(), \"Servicios realizados\": Querétaro_2017_Turbo[\"Servicios realizados\"].sum()}\n",
        "Turbosina_Total=Turbosina_Total.append(fila_2017, ignore_index=True)\n",
        "#Se agrega la fila que da los datos del 2018\n",
        "fila_2018={\"Estado\": \"Queretaro\", \"Aniomes\": \"2018\", \"Tipo Combustible\": \"Turbosina\", \"Litros de combustible suministrado\": Querétaro_2018_Turbo[\"Litros de combustible suministrado\"].sum(), \"Servicios realizados\": Querétaro_2018_Turbo[\"Servicios realizados\"].sum()}\n",
        "Turbosina_Total=Turbosina_Total.append(fila_2018, ignore_index=True)\n",
        "#Se agrega la fila que da los datos del 2019\n",
        "fila_2019={\"Estado\": \"Queretaro\", \"Aniomes\": \"2019\", \"Tipo Combustible\": \"Turbosina\", \"Litros de combustible suministrado\": Querétaro_2019_Turbo[\"Litros de combustible suministrado\"].sum(), \"Servicios realizados\": Querétaro_2019_Turbo[\"Servicios realizados\"].sum()}\n",
        "Turbosina_Total=Turbosina_Total.append(fila_2019, ignore_index=True)\n",
        "#Se agrega la fila que da los datos del 2020\n",
        "fila_2020={\"Estado\": \"Queretaro\", \"Aniomes\": \"2020\", \"Tipo Combustible\": \"Turbosina\", \"Litros de combustible suministrado\": Querétaro_2020_Turbo[\"Litros de combustible suministrado\"].sum(), \"Servicios realizados\": Querétaro_2020_Turbo[\"Servicios realizados\"].sum()}\n",
        "Turbosina_Total=Turbosina_Total.append(fila_2020, ignore_index=True)\n",
        "#Se agrega la fila que da los datos del 2021\n",
        "fila_2021={\"Estado\": \"Queretaro\", \"Aniomes\": \"2021\", \"Tipo Combustible\": \"Turbosina\", \"Litros de combustible suministrado\": Querétaro_2021_Turbo[\"Litros de combustible suministrado\"].sum(), \"Servicios realizados\": Querétaro_2021_Turbo[\"Servicios realizados\"].sum()}\n",
        "Turbosina_Total=Turbosina_Total.append(fila_2021, ignore_index=True)"
      ]
    },
    {
      "cell_type": "code",
      "execution_count": 113,
      "metadata": {
        "id": "2dp6eoJ5oqC-"
      },
      "outputs": [],
      "source": [
        "#QUERETARO\n",
        "#Se agrega la fila que da los datos del 2017\n",
        "fila_2017={\"Estado\": \"Queretaro\", \"Aniomes\": \"2017\", \"Tipo Combustible\": \"Gasavion\", \"Litros de combustible suministrado\": Queretaro_2017_Gas[\"Litros de combustible suministrado\"].sum(), \"Servicios realizados\": Queretaro_2017_Gas[\"Servicios realizados\"].sum()}\n",
        "Gasavion_Total=Gasavion_Total.append(fila_2017, ignore_index=True)\n",
        "#Se agrega la fila que da los datos del 2018\n",
        "fila_2018={\"Estado\": \"Queretaro\", \"Aniomes\": \"2018\", \"Tipo Combustible\": \"Gasavion\", \"Litros de combustible suministrado\": Queretaro_2018_Gas[\"Litros de combustible suministrado\"].sum(), \"Servicios realizados\": Queretaro_2018_Gas[\"Servicios realizados\"].sum()}\n",
        "Gasavion_Total=Gasavion_Total.append(fila_2018, ignore_index=True)\n",
        "#Se agrega la fila que da los datos del 2019\n",
        "fila_2019={\"Estado\": \"Queretaro\", \"Aniomes\": \"2019\", \"Tipo Combustible\": \"Gasavion\", \"Litros de combustible suministrado\": Queretaro_2019_Gas[\"Litros de combustible suministrado\"].sum(), \"Servicios realizados\": Queretaro_2019_Gas[\"Servicios realizados\"].sum()}\n",
        "Gasavion_Total=Gasavion_Total.append(fila_2019, ignore_index=True)\n",
        "#Se agrega la fila que da los datos del 2020\n",
        "fila_2020={\"Estado\": \"Queretaro\", \"Aniomes\": \"2020\", \"Tipo Combustible\": \"Gasavion\", \"Litros de combustible suministrado\": Queretaro_2020_Gas[\"Litros de combustible suministrado\"].sum(), \"Servicios realizados\": Queretaro_2020_Gas[\"Servicios realizados\"].sum()}\n",
        "Gasavion_Total=Gasavion_Total.append(fila_2020, ignore_index=True)\n",
        "#Se agrega la fila que da los datos del 2021\n",
        "fila_2021={\"Estado\": \"Queretaro\", \"Aniomes\": \"2021\", \"Tipo Combustible\": \"Gasavion\", \"Litros de combustible suministrado\": Queretaro_2021_Gas[\"Litros de combustible suministrado\"].sum(), \"Servicios realizados\": Queretaro_2021_Gas[\"Servicios realizados\"].sum()}\n",
        "Gasavion_Total=Gasavion_Total.append(fila_2021, ignore_index=True)"
      ]
    },
    {
      "cell_type": "code",
      "execution_count": 114,
      "metadata": {
        "id": "XxVt0Sd9xAvr"
      },
      "outputs": [],
      "source": [
        "#QUINTANA ROO\n",
        "#Se agrega la fila que da los datos del 2017\n",
        "fila_2017={\"Estado\": \"Quintana Roo\", \"Aniomes\": \"2017\", \"Tipo Combustible\": \"Turbosina\", \"Litros de combustible suministrado\": QuintanaRoo_2017_Turbo[\"Litros de combustible suministrado\"].sum(), \"Servicios realizados\": QuintanaRoo_2017_Turbo[\"Servicios realizados\"].sum()}\n",
        "Turbosina_Total=Turbosina_Total.append(fila_2017, ignore_index=True)\n",
        "#Se agrega la fila que da los datos del 2018\n",
        "fila_2018={\"Estado\": \"Quintana Roo\", \"Aniomes\": \"2018\", \"Tipo Combustible\": \"Turbosina\", \"Litros de combustible suministrado\": QuintanaRoo_2018_Turbo[\"Litros de combustible suministrado\"].sum(), \"Servicios realizados\": QuintanaRoo_2018_Turbo[\"Servicios realizados\"].sum()}\n",
        "Turbosina_Total=Turbosina_Total.append(fila_2018, ignore_index=True)\n",
        "#Se agrega la fila que da los datos del 2019\n",
        "fila_2019={\"Estado\": \"Quintana Roo\", \"Aniomes\": \"2019\", \"Tipo Combustible\": \"Turbosina\", \"Litros de combustible suministrado\": QuintanaRoo_2019_Turbo[\"Litros de combustible suministrado\"].sum(), \"Servicios realizados\": QuintanaRoo_2019_Turbo[\"Servicios realizados\"].sum()}\n",
        "Turbosina_Total=Turbosina_Total.append(fila_2019, ignore_index=True)\n",
        "#Se agrega la fila que da los datos del 2020\n",
        "fila_2020={\"Estado\": \"Quintana Roo\", \"Aniomes\": \"2020\", \"Tipo Combustible\": \"Turbosina\", \"Litros de combustible suministrado\": QuintanaRoo_2020_Turbo[\"Litros de combustible suministrado\"].sum(), \"Servicios realizados\": QuintanaRoo_2020_Turbo[\"Servicios realizados\"].sum()}\n",
        "Turbosina_Total=Turbosina_Total.append(fila_2020, ignore_index=True)\n",
        "#Se agrega la fila que da los datos del 2021\n",
        "fila_2021={\"Estado\": \"Quintana Roo\", \"Aniomes\": \"2021\", \"Tipo Combustible\": \"Turbosina\", \"Litros de combustible suministrado\": QuintanaRoo_2021_Turbo[\"Litros de combustible suministrado\"].sum(), \"Servicios realizados\": QuintanaRoo_2021_Turbo[\"Servicios realizados\"].sum()}\n",
        "Turbosina_Total=Turbosina_Total.append(fila_2021, ignore_index=True)"
      ]
    },
    {
      "cell_type": "code",
      "execution_count": 115,
      "metadata": {
        "id": "FdR9xELQozEU"
      },
      "outputs": [],
      "source": [
        "#QUINTANAROO\n",
        "#Se agrega la fila que da los datos del 2017\n",
        "fila_2017={\"Estado\": \"Quintana Roo\", \"Aniomes\": \"2017\", \"Tipo Combustible\": \"Gasavion\", \"Litros de combustible suministrado\": QuintanaRoo_2017_Gas[\"Litros de combustible suministrado\"].sum(), \"Servicios realizados\": QuintanaRoo_2017_Gas[\"Servicios realizados\"].sum()}\n",
        "Gasavion_Total=Gasavion_Total.append(fila_2017, ignore_index=True)\n",
        "#Se agrega la fila que da los datos del 2018\n",
        "fila_2018={\"Estado\": \"Quintana Roo\", \"Aniomes\": \"2018\", \"Tipo Combustible\": \"Gasavion\", \"Litros de combustible suministrado\": QuintanaRoo_2018_Gas[\"Litros de combustible suministrado\"].sum(), \"Servicios realizados\": QuintanaRoo_2018_Gas[\"Servicios realizados\"].sum()}\n",
        "Gasavion_Total=Gasavion_Total.append(fila_2018, ignore_index=True)\n",
        "#Se agrega la fila que da los datos del 2019\n",
        "fila_2019={\"Estado\": \"Quintana Roo\", \"Aniomes\": \"2019\", \"Tipo Combustible\": \"Gasavion\", \"Litros de combustible suministrado\": QuintanaRoo_2019_Gas[\"Litros de combustible suministrado\"].sum(), \"Servicios realizados\": QuintanaRoo_2019_Gas[\"Servicios realizados\"].sum()}\n",
        "Gasavion_Total=Gasavion_Total.append(fila_2019, ignore_index=True)\n",
        "#Se agrega la fila que da los datos del 2020\n",
        "fila_2020={\"Estado\": \"Quintana Roo\", \"Aniomes\": \"2020\", \"Tipo Combustible\": \"Gasavion\", \"Litros de combustible suministrado\": QuintanaRoo_2020_Gas[\"Litros de combustible suministrado\"].sum(), \"Servicios realizados\": QuintanaRoo_2020_Gas[\"Servicios realizados\"].sum()}\n",
        "Gasavion_Total=Gasavion_Total.append(fila_2020, ignore_index=True)\n",
        "#Se agrega la fila que da los datos del 2021\n",
        "fila_2021={\"Estado\": \"Quintana Roo\", \"Aniomes\": \"2021\", \"Tipo Combustible\": \"Gasavion\", \"Litros de combustible suministrado\": QuintanaRoo_2021_Gas[\"Litros de combustible suministrado\"].sum(), \"Servicios realizados\": QuintanaRoo_2021_Gas[\"Servicios realizados\"].sum()}\n",
        "Gasavion_Total=Gasavion_Total.append(fila_2021, ignore_index=True)\n"
      ]
    },
    {
      "cell_type": "code",
      "execution_count": 116,
      "metadata": {
        "id": "eEkEnWOGCnBu"
      },
      "outputs": [],
      "source": [
        "#SAN LUIS POTOSI\n",
        "#Se agrega la fila que da los datos del 2017\n",
        "fila_2017={\"Estado\": \"San Luis Potosi\", \"Aniomes\": \"2017\", \"Tipo Combustible\": \"Turbosina\", \"Litros de combustible suministrado\": SanLuisPotosi_2017_Turbo[\"Litros de combustible suministrado\"].sum(), \"Servicios realizados\": SanLuisPotosi_2017_Turbo[\"Servicios realizados\"].sum()}\n",
        "Turbosina_Total=Turbosina_Total.append(fila_2017, ignore_index=True)\n",
        "#Se agrega la fila que da los datos del 2018\n",
        "fila_2018={\"Estado\": \"San Luis Potosi\", \"Aniomes\": \"2018\", \"Tipo Combustible\": \"Turbosina\", \"Litros de combustible suministrado\": SanLuisPotosi_2018_Turbo[\"Litros de combustible suministrado\"].sum(), \"Servicios realizados\": SanLuisPotosi_2018_Turbo[\"Servicios realizados\"].sum()}\n",
        "Turbosina_Total=Turbosina_Total.append(fila_2018, ignore_index=True)\n",
        "#Se agrega la fila que da los datos del 2019\n",
        "fila_2019={\"Estado\": \"San Luis Potosi\", \"Aniomes\": \"2019\", \"Tipo Combustible\": \"Turbosina\", \"Litros de combustible suministrado\": SanLuisPotosi_2019_Turbo[\"Litros de combustible suministrado\"].sum(), \"Servicios realizados\": SanLuisPotosi_2019_Turbo[\"Servicios realizados\"].sum()}\n",
        "Turbosina_Total=Turbosina_Total.append(fila_2019, ignore_index=True)\n",
        "#Se agrega la fila que da los datos del 2020\n",
        "fila_2020={\"Estado\": \"San Luis Potosi\", \"Aniomes\": \"2020\", \"Tipo Combustible\": \"Turbosina\", \"Litros de combustible suministrado\": SanLuisPotosi_2020_Turbo[\"Litros de combustible suministrado\"].sum(), \"Servicios realizados\": SanLuisPotosi_2020_Turbo[\"Servicios realizados\"].sum()}\n",
        "Turbosina_Total=Turbosina_Total.append(fila_2020, ignore_index=True)\n",
        "#Se agrega la fila que da los datos del 2021\n",
        "fila_2021={\"Estado\": \"San Luis Potosi\", \"Aniomes\": \"2021\", \"Tipo Combustible\": \"Turbosina\", \"Litros de combustible suministrado\": SanLuisPotosi_2021_Turbo[\"Litros de combustible suministrado\"].sum(), \"Servicios realizados\": SanLuisPotosi_2021_Turbo[\"Servicios realizados\"].sum()}\n",
        "Turbosina_Total=Turbosina_Total.append(fila_2021, ignore_index=True)"
      ]
    },
    {
      "cell_type": "code",
      "execution_count": 117,
      "metadata": {
        "id": "VoDo0CTDpApZ"
      },
      "outputs": [],
      "source": [
        "#SANLUISPOTOSI\n",
        "#Se agrega la fila que da los datos del 2017\n",
        "fila_2017={\"Estado\": \"San Luis Potosi\", \"Aniomes\": \"2017\", \"Tipo Combustible\": \"Gasavion\", \"Litros de combustible suministrado\": SanLuisPotosi_2017_Gas[\"Litros de combustible suministrado\"].sum(), \"Servicios realizados\": SanLuisPotosi_2017_Gas[\"Servicios realizados\"].sum()}\n",
        "Gasavion_Total=Gasavion_Total.append(fila_2017, ignore_index=True)\n",
        "#Se agrega la fila que da los datos del 2018\n",
        "fila_2018={\"Estado\": \"San Luis Potosi\", \"Aniomes\": \"2018\", \"Tipo Combustible\": \"Gasavion\", \"Litros de combustible suministrado\": SanLuisPotosi_2018_Gas[\"Litros de combustible suministrado\"].sum(), \"Servicios realizados\": SanLuisPotosi_2018_Gas[\"Servicios realizados\"].sum()}\n",
        "Gasavion_Total=Gasavion_Total.append(fila_2018, ignore_index=True)\n",
        "#Se agrega la fila que da los datos del 2019\n",
        "fila_2019={\"Estado\": \"San Luis Potosi\", \"Aniomes\": \"2019\", \"Tipo Combustible\": \"Gasavion\", \"Litros de combustible suministrado\": SanLuisPotosi_2019_Gas[\"Litros de combustible suministrado\"].sum(), \"Servicios realizados\": SanLuisPotosi_2019_Gas[\"Servicios realizados\"].sum()}\n",
        "Gasavion_Total=Gasavion_Total.append(fila_2019, ignore_index=True)\n",
        "#Se agrega la fila que da los datos del 2020\n",
        "fila_2020={\"Estado\": \"San Luis Potosi\", \"Aniomes\": \"2020\", \"Tipo Combustible\": \"Gasavion\", \"Litros de combustible suministrado\": SanLuisPotosi_2020_Gas[\"Litros de combustible suministrado\"].sum(), \"Servicios realizados\": SanLuisPotosi_2020_Gas[\"Servicios realizados\"].sum()}\n",
        "Gasavion_Total=Gasavion_Total.append(fila_2020, ignore_index=True)\n",
        "#Se agrega la fila que da los datos del 2021\n",
        "fila_2021={\"Estado\": \"San Luis Potosi\", \"Aniomes\": \"2021\", \"Tipo Combustible\": \"Gasavion\", \"Litros de combustible suministrado\": SanLuisPotosi_2021_Gas[\"Litros de combustible suministrado\"].sum(), \"Servicios realizados\": SanLuisPotosi_2021_Gas[\"Servicios realizados\"].sum()}\n",
        "Gasavion_Total=Gasavion_Total.append(fila_2021, ignore_index=True)"
      ]
    },
    {
      "cell_type": "code",
      "execution_count": 118,
      "metadata": {
        "id": "TcABRrjr76of"
      },
      "outputs": [],
      "source": [
        "#SINALOA\n",
        "#Se agrega la fila que da los datos del 2017\n",
        "fila_2017={\"Estado\": \"Sinaloa\", \"Aniomes\": \"2017\", \"Tipo Combustible\": \"Turbosina\", \"Litros de combustible suministrado\": Sinaloa_2017_Turbo[\"Litros de combustible suministrado\"].sum(), \"Servicios realizados\": Sinaloa_2017_Turbo[\"Servicios realizados\"].sum()}\n",
        "Turbosina_Total=Turbosina_Total.append(fila_2017, ignore_index=True)\n",
        "#Se agrega la fila que da los datos del 2018\n",
        "fila_2018={\"Estado\": \"Sinaloa\", \"Aniomes\": \"2018\", \"Tipo Combustible\": \"Turbosina\", \"Litros de combustible suministrado\": Sinaloa_2018_Turbo[\"Litros de combustible suministrado\"].sum(), \"Servicios realizados\": Sinaloa_2018_Turbo[\"Servicios realizados\"].sum()}\n",
        "Turbosina_Total=Turbosina_Total.append(fila_2018, ignore_index=True)\n",
        "#Se agrega la fila que da los datos del 2019\n",
        "fila_2019={\"Estado\": \"Sinaloa\", \"Aniomes\": \"2019\", \"Tipo Combustible\": \"Turbosina\", \"Litros de combustible suministrado\": Sinaloa_2019_Turbo[\"Litros de combustible suministrado\"].sum(), \"Servicios realizados\": Sinaloa_2019_Turbo[\"Servicios realizados\"].sum()}\n",
        "Turbosina_Total=Turbosina_Total.append(fila_2019, ignore_index=True)\n",
        "#Se agrega la fila que da los datos del 2020\n",
        "fila_2020={\"Estado\": \"Sinaloa\", \"Aniomes\": \"2020\", \"Tipo Combustible\": \"Turbosina\", \"Litros de combustible suministrado\": Sinaloa_2020_Turbo[\"Litros de combustible suministrado\"].sum(), \"Servicios realizados\": Sinaloa_2020_Turbo[\"Servicios realizados\"].sum()}\n",
        "Turbosina_Total=Turbosina_Total.append(fila_2020, ignore_index=True)\n",
        "#Se agrega la fila que da los datos del 2021\n",
        "fila_2021={\"Estado\": \"Sinaloa\", \"Aniomes\": \"2021\", \"Tipo Combustible\": \"Turbosina\", \"Litros de combustible suministrado\": Sinaloa_2021_Turbo[\"Litros de combustible suministrado\"].sum(), \"Servicios realizados\": Sinaloa_2021_Turbo[\"Servicios realizados\"].sum()}\n",
        "Turbosina_Total=Turbosina_Total.append(fila_2021, ignore_index=True)"
      ]
    },
    {
      "cell_type": "code",
      "execution_count": 119,
      "metadata": {
        "id": "q7E3wr7ypT7W"
      },
      "outputs": [],
      "source": [
        "#SINALOA\n",
        "#Se agrega la fila que da los datos del 2017\n",
        "fila_2017={\"Estado\": \"Sinaloa\", \"Aniomes\": \"2017\", \"Tipo Combustible\": \"Gasavion\", \"Litros de combustible suministrado\": Sinaloa_2017_Gas[\"Litros de combustible suministrado\"].sum(), \"Servicios realizados\": Sinaloa_2017_Gas[\"Servicios realizados\"].sum()}\n",
        "Gasavion_Total=Gasavion_Total.append(fila_2017, ignore_index=True)\n",
        "#Se agrega la fila que da los datos del 2018\n",
        "fila_2018={\"Estado\": \"Sinaloa\", \"Aniomes\": \"2018\", \"Tipo Combustible\": \"Gasavion\", \"Litros de combustible suministrado\": Sinaloa_2018_Gas[\"Litros de combustible suministrado\"].sum(), \"Servicios realizados\": Sinaloa_2018_Gas[\"Servicios realizados\"].sum()}\n",
        "Gasavion_Total=Gasavion_Total.append(fila_2018, ignore_index=True)\n",
        "#Se agrega la fila que da los datos del 2019\n",
        "fila_2019={\"Estado\": \"Sinaloa\", \"Aniomes\": \"2019\", \"Tipo Combustible\": \"Gasavion\", \"Litros de combustible suministrado\": Sinaloa_2019_Gas[\"Litros de combustible suministrado\"].sum(), \"Servicios realizados\": Sinaloa_2019_Gas[\"Servicios realizados\"].sum()}\n",
        "Gasavion_Total=Gasavion_Total.append(fila_2019, ignore_index=True)\n",
        "#Se agrega la fila que da los datos del 2020\n",
        "fila_2020={\"Estado\": \"Sinaloa\", \"Aniomes\": \"2020\", \"Tipo Combustible\": \"Gasavion\", \"Litros de combustible suministrado\": Sinaloa_2020_Gas[\"Litros de combustible suministrado\"].sum(), \"Servicios realizados\": Sinaloa_2020_Gas[\"Servicios realizados\"].sum()}\n",
        "Gasavion_Total=Gasavion_Total.append(fila_2020, ignore_index=True)\n",
        "#Se agrega la fila que da los datos del 2021\n",
        "fila_2021={\"Estado\": \"Sinaloa\", \"Aniomes\": \"2021\", \"Tipo Combustible\": \"Gasavion\", \"Litros de combustible suministrado\": Sinaloa_2021_Gas[\"Litros de combustible suministrado\"].sum(), \"Servicios realizados\": Sinaloa_2021_Gas[\"Servicios realizados\"].sum()}\n",
        "Gasavion_Total=Gasavion_Total.append(fila_2021, ignore_index=True)"
      ]
    },
    {
      "cell_type": "code",
      "execution_count": 120,
      "metadata": {
        "id": "Y2dm1RyAlg7l"
      },
      "outputs": [],
      "source": [
        "#SONORA\n",
        "#Se agrega la fila que da los datos del 2017\n",
        "fila_2017={\"Estado\": \"Sonora\", \"Aniomes\": \"2017\", \"Tipo Combustible\": \"Turbosina\", \"Litros de combustible suministrado\": Sonora_2017_Turbo[\"Litros de combustible suministrado\"].sum(), \"Servicios realizados\": Sonora_2017_Turbo[\"Servicios realizados\"].sum()}\n",
        "Turbosina_Total=Turbosina_Total.append(fila_2017, ignore_index=True)\n",
        "#Se agrega la fila que da los datos del 2018\n",
        "fila_2018={\"Estado\": \"Sonora\", \"Aniomes\": \"2018\", \"Tipo Combustible\": \"Turbosina\", \"Litros de combustible suministrado\": Sonora_2018_Turbo[\"Litros de combustible suministrado\"].sum(), \"Servicios realizados\": Sonora_2018_Turbo[\"Servicios realizados\"].sum()}\n",
        "Turbosina_Total=Turbosina_Total.append(fila_2018, ignore_index=True)\n",
        "#Se agrega la fila que da los datos del 2019\n",
        "fila_2019={\"Estado\": \"Sonora\", \"Aniomes\": \"2019\", \"Tipo Combustible\": \"Turbosina\", \"Litros de combustible suministrado\": Sonora_2019_Turbo[\"Litros de combustible suministrado\"].sum(), \"Servicios realizados\": Sonora_2019_Turbo[\"Servicios realizados\"].sum()}\n",
        "Turbosina_Total=Turbosina_Total.append(fila_2019, ignore_index=True)\n",
        "#Se agrega la fila que da los datos del 2020\n",
        "fila_2020={\"Estado\": \"Sonora\", \"Aniomes\": \"2020\", \"Tipo Combustible\": \"Turbosina\", \"Litros de combustible suministrado\": Sonora_2020_Turbo[\"Litros de combustible suministrado\"].sum(), \"Servicios realizados\": Sonora_2020_Turbo[\"Servicios realizados\"].sum()}\n",
        "Turbosina_Total=Turbosina_Total.append(fila_2020, ignore_index=True)\n",
        "#Se agrega la fila que da los datos del 2021\n",
        "fila_2021={\"Estado\": \"Sonora\", \"Aniomes\": \"2021\", \"Tipo Combustible\": \"Turbosina\", \"Litros de combustible suministrado\": Sonora_2021_Turbo[\"Litros de combustible suministrado\"].sum(), \"Servicios realizados\": Sonora_2021_Turbo[\"Servicios realizados\"].sum()}\n",
        "Turbosina_Total=Turbosina_Total.append(fila_2021, ignore_index=True)"
      ]
    },
    {
      "cell_type": "code",
      "execution_count": 121,
      "metadata": {
        "id": "HKSftSkKpwz_"
      },
      "outputs": [],
      "source": [
        "#SONORA\n",
        "#Se agrega la fila que da los datos del 2017\n",
        "fila_2017={\"Estado\": \"Sonora\", \"Aniomes\": \"2017\", \"Tipo Combustible\": \"Gasavion\", \"Litros de combustible suministrado\": Sonora_2017_Gas[\"Litros de combustible suministrado\"].sum(), \"Servicios realizados\": Sonora_2017_Gas[\"Servicios realizados\"].sum()}\n",
        "Gasavion_Total=Gasavion_Total.append(fila_2017, ignore_index=True)\n",
        "#Se agrega la fila que da los datos del 2018\n",
        "fila_2018={\"Estado\": \"Sonora\", \"Aniomes\": \"2018\", \"Tipo Combustible\": \"Gasavion\", \"Litros de combustible suministrado\": Sonora_2018_Gas[\"Litros de combustible suministrado\"].sum(), \"Servicios realizados\": Sonora_2018_Gas[\"Servicios realizados\"].sum()}\n",
        "Gasavion_Total=Gasavion_Total.append(fila_2018, ignore_index=True)\n",
        "#Se agrega la fila que da los datos del 2019\n",
        "fila_2019={\"Estado\": \"Sonora\", \"Aniomes\": \"2019\", \"Tipo Combustible\": \"Gasavion\", \"Litros de combustible suministrado\": Sonora_2019_Gas[\"Litros de combustible suministrado\"].sum(), \"Servicios realizados\": Sonora_2019_Gas[\"Servicios realizados\"].sum()}\n",
        "Gasavion_Total=Gasavion_Total.append(fila_2019, ignore_index=True)\n",
        "#Se agrega la fila que da los datos del 2020\n",
        "fila_2020={\"Estado\": \"Sonora\", \"Aniomes\": \"2020\", \"Tipo Combustible\": \"Gasavion\", \"Litros de combustible suministrado\": Sonora_2020_Gas[\"Litros de combustible suministrado\"].sum(), \"Servicios realizados\": Sonora_2020_Gas[\"Servicios realizados\"].sum()}\n",
        "Gasavion_Total=Gasavion_Total.append(fila_2020, ignore_index=True)\n",
        "#Se agrega la fila que da los datos del 2021\n",
        "fila_2021={\"Estado\": \"Sonora\", \"Aniomes\": \"2021\", \"Tipo Combustible\": \"Gasavion\", \"Litros de combustible suministrado\": Sonora_2021_Gas[\"Litros de combustible suministrado\"].sum(), \"Servicios realizados\": Sonora_2021_Gas[\"Servicios realizados\"].sum()}\n",
        "Gasavion_Total=Gasavion_Total.append(fila_2021, ignore_index=True)"
      ]
    },
    {
      "cell_type": "code",
      "execution_count": 122,
      "metadata": {
        "id": "RsualIH6lyMa"
      },
      "outputs": [],
      "source": [
        "#TABASCO\n",
        "#Se agrega la fila que da los datos del 2017\n",
        "fila_2017={\"Estado\": \"Tabasco\", \"Aniomes\": \"2017\", \"Tipo Combustible\": \"Turbosina\", \"Litros de combustible suministrado\": Tabasco_2017_Turbo[\"Litros de combustible suministrado\"].sum(), \"Servicios realizados\": Tabasco_2017_Turbo[\"Servicios realizados\"].sum()}\n",
        "Turbosina_Total=Turbosina_Total.append(fila_2017, ignore_index=True)\n",
        "#Se agrega la fila que da los datos del 2018\n",
        "fila_2018={\"Estado\": \"Tabasco\", \"Aniomes\": \"2018\", \"Tipo Combustible\": \"Turbosina\", \"Litros de combustible suministrado\": Tabasco_2018_Turbo[\"Litros de combustible suministrado\"].sum(), \"Servicios realizados\": Tabasco_2018_Turbo[\"Servicios realizados\"].sum()}\n",
        "Turbosina_Total=Turbosina_Total.append(fila_2018, ignore_index=True)\n",
        "#Se agrega la fila que da los datos del 2019\n",
        "fila_2019={\"Estado\": \"Tabasco\", \"Aniomes\": \"2019\", \"Tipo Combustible\": \"Turbosina\", \"Litros de combustible suministrado\": Tabasco_2019_Turbo[\"Litros de combustible suministrado\"].sum(), \"Servicios realizados\": Tabasco_2019_Turbo[\"Servicios realizados\"].sum()}\n",
        "Turbosina_Total=Turbosina_Total.append(fila_2019, ignore_index=True)\n",
        "#Se agrega la fila que da los datos del 2020\n",
        "fila_2020={\"Estado\": \"Tabasco\", \"Aniomes\": \"2020\", \"Tipo Combustible\": \"Turbosina\", \"Litros de combustible suministrado\": Tabasco_2020_Turbo[\"Litros de combustible suministrado\"].sum(), \"Servicios realizados\": Tabasco_2020_Turbo[\"Servicios realizados\"].sum()}\n",
        "Turbosina_Total=Turbosina_Total.append(fila_2020, ignore_index=True)\n",
        "#Se agrega la fila que da los datos del 2021\n",
        "fila_2021={\"Estado\": \"Tabasco\", \"Aniomes\": \"2021\", \"Tipo Combustible\": \"Turbosina\", \"Litros de combustible suministrado\": Tabasco_2021_Turbo[\"Litros de combustible suministrado\"].sum(), \"Servicios realizados\": Tabasco_2021_Turbo[\"Servicios realizados\"].sum()}\n",
        "Turbosina_Total=Turbosina_Total.append(fila_2021, ignore_index=True)"
      ]
    },
    {
      "cell_type": "code",
      "execution_count": 123,
      "metadata": {
        "id": "tIB2EQGep3D6"
      },
      "outputs": [],
      "source": [
        "#TABASCO\n",
        "#Se agrega la fila que da los datos del 2017\n",
        "fila_2017={\"Estado\": \"Tabasco\", \"Aniomes\": \"2017\", \"Tipo Combustible\": \"Gasavion\", \"Litros de combustible suministrado\": Tabasco_2017_Gas[\"Litros de combustible suministrado\"].sum(), \"Servicios realizados\": Tabasco_2017_Gas[\"Servicios realizados\"].sum()}\n",
        "Gasavion_Total=Gasavion_Total.append(fila_2017, ignore_index=True)\n",
        "#Se agrega la fila que da los datos del 2018\n",
        "fila_2018={\"Estado\": \"Tabasco\", \"Aniomes\": \"2018\", \"Tipo Combustible\": \"Gasavion\", \"Litros de combustible suministrado\": Tabasco_2018_Gas[\"Litros de combustible suministrado\"].sum(), \"Servicios realizados\": Tabasco_2018_Gas[\"Servicios realizados\"].sum()}\n",
        "Gasavion_Total=Gasavion_Total.append(fila_2018, ignore_index=True)\n",
        "#Se agrega la fila que da los datos del 2019\n",
        "fila_2019={\"Estado\": \"Tabasco\", \"Aniomes\": \"2019\", \"Tipo Combustible\": \"Gasavion\", \"Litros de combustible suministrado\": Tabasco_2019_Gas[\"Litros de combustible suministrado\"].sum(), \"Servicios realizados\": Tabasco_2019_Gas[\"Servicios realizados\"].sum()}\n",
        "Gasavion_Total=Gasavion_Total.append(fila_2019, ignore_index=True)\n",
        "#Se agrega la fila que da los datos del 2020\n",
        "fila_2020={\"Estado\": \"Tabasco\", \"Aniomes\": \"2020\", \"Tipo Combustible\": \"Gasavion\", \"Litros de combustible suministrado\": Tabasco_2020_Gas[\"Litros de combustible suministrado\"].sum(), \"Servicios realizados\": Tabasco_2020_Gas[\"Servicios realizados\"].sum()}\n",
        "Gasavion_Total=Gasavion_Total.append(fila_2020, ignore_index=True)\n",
        "#Se agrega la fila que da los datos del 2021\n",
        "fila_2021={\"Estado\": \"Tabasco\", \"Aniomes\": \"2021\", \"Tipo Combustible\": \"Gasavion\", \"Litros de combustible suministrado\": Tabasco_2021_Gas[\"Litros de combustible suministrado\"].sum(), \"Servicios realizados\": Tabasco_2021_Gas[\"Servicios realizados\"].sum()}\n",
        "Gasavion_Total=Gasavion_Total.append(fila_2021, ignore_index=True)"
      ]
    },
    {
      "cell_type": "code",
      "execution_count": 124,
      "metadata": {
        "id": "zmWDvBYs9urR"
      },
      "outputs": [],
      "source": [
        "#TAMAULIPAS\n",
        "#Se agrega la fila que da los datos del 2017\n",
        "fila_2017={\"Estado\": \"Tamaulipas\", \"Aniomes\": \"2017\", \"Tipo Combustible\": \"Turbosina\", \"Litros de combustible suministrado\": Tamaulipas_2017_Turbo[\"Litros de combustible suministrado\"].sum(), \"Servicios realizados\": Tamaulipas_2017_Turbo[\"Servicios realizados\"].sum()}\n",
        "Turbosina_Total=Turbosina_Total.append(fila_2017, ignore_index=True)\n",
        "#Se agrega la fila que da los datos del 2018\n",
        "fila_2018={\"Estado\": \"Tamaulipas\", \"Aniomes\": \"2018\", \"Tipo Combustible\": \"Turbosina\", \"Litros de combustible suministrado\": Tamaulipas_2018_Turbo[\"Litros de combustible suministrado\"].sum(), \"Servicios realizados\": Tamaulipas_2018_Turbo[\"Servicios realizados\"].sum()}\n",
        "Turbosina_Total=Turbosina_Total.append(fila_2018, ignore_index=True)\n",
        "#Se agrega la fila que da los datos del 2019\n",
        "fila_2019={\"Estado\": \"Tamaulipas\", \"Aniomes\": \"2019\", \"Tipo Combustible\": \"Turbosina\", \"Litros de combustible suministrado\": Tamaulipas_2019_Turbo[\"Litros de combustible suministrado\"].sum(), \"Servicios realizados\": Tamaulipas_2019_Turbo[\"Servicios realizados\"].sum()}\n",
        "Turbosina_Total=Turbosina_Total.append(fila_2019, ignore_index=True)\n",
        "#Se agrega la fila que da los datos del 2020\n",
        "fila_2020={\"Estado\": \"Tamaulipas\", \"Aniomes\": \"2020\", \"Tipo Combustible\": \"Turbosina\", \"Litros de combustible suministrado\": Tamaulipas_2020_Turbo[\"Litros de combustible suministrado\"].sum(), \"Servicios realizados\": Tamaulipas_2020_Turbo[\"Servicios realizados\"].sum()}\n",
        "Turbosina_Total=Turbosina_Total.append(fila_2020, ignore_index=True)\n",
        "#Se agrega la fila que da los datos del 2021\n",
        "fila_2021={\"Estado\": \"Tamaulipas\", \"Aniomes\": \"2021\", \"Tipo Combustible\": \"Turbosina\", \"Litros de combustible suministrado\": Tamaulipas_2021_Turbo[\"Litros de combustible suministrado\"].sum(), \"Servicios realizados\": Tamaulipas_2021_Turbo[\"Servicios realizados\"].sum()}\n",
        "Turbosina_Total=Turbosina_Total.append(fila_2021, ignore_index=True)"
      ]
    },
    {
      "cell_type": "code",
      "execution_count": 125,
      "metadata": {
        "id": "uy-ivf99p9hu"
      },
      "outputs": [],
      "source": [
        "#TAMAULIPAS\n",
        "#Se agrega la fila que da los datos del 2017\n",
        "fila_2017={\"Estado\": \"Tamaulipas\", \"Aniomes\": \"2017\", \"Tipo Combustible\": \"Gasavion\", \"Litros de combustible suministrado\": Tamaulipas_2017_Gas[\"Litros de combustible suministrado\"].sum(), \"Servicios realizados\": Tamaulipas_2017_Gas[\"Servicios realizados\"].sum()}\n",
        "Gasavion_Total=Gasavion_Total.append(fila_2017, ignore_index=True)\n",
        "#Se agrega la fila que da los datos del 2018\n",
        "fila_2018={\"Estado\": \"Tamaulipas\", \"Aniomes\": \"2018\", \"Tipo Combustible\": \"Gasavion\", \"Litros de combustible suministrado\": Tamaulipas_2018_Gas[\"Litros de combustible suministrado\"].sum(), \"Servicios realizados\": Tamaulipas_2018_Gas[\"Servicios realizados\"].sum()}\n",
        "Gasavion_Total=Gasavion_Total.append(fila_2018, ignore_index=True)\n",
        "#Se agrega la fila que da los datos del 2019\n",
        "fila_2019={\"Estado\": \"Tamaulipas\", \"Aniomes\": \"2019\", \"Tipo Combustible\": \"Gasavion\", \"Litros de combustible suministrado\": Tamaulipas_2019_Gas[\"Litros de combustible suministrado\"].sum(), \"Servicios realizados\": Tamaulipas_2019_Gas[\"Servicios realizados\"].sum()}\n",
        "Gasavion_Total=Gasavion_Total.append(fila_2019, ignore_index=True)\n",
        "#Se agrega la fila que da los datos del 2020\n",
        "fila_2020={\"Estado\": \"Tamaulipas\", \"Aniomes\": \"2020\", \"Tipo Combustible\": \"Gasavion\", \"Litros de combustible suministrado\": Tamaulipas_2020_Gas[\"Litros de combustible suministrado\"].sum(), \"Servicios realizados\": Tamaulipas_2020_Gas[\"Servicios realizados\"].sum()}\n",
        "Gasavion_Total=Gasavion_Total.append(fila_2020, ignore_index=True)\n",
        "#Se agrega la fila que da los datos del 2021\n",
        "fila_2021={\"Estado\": \"Tamaulipas\", \"Aniomes\": \"2021\", \"Tipo Combustible\": \"Gasavion\", \"Litros de combustible suministrado\": Tamaulipas_2021_Gas[\"Litros de combustible suministrado\"].sum(), \"Servicios realizados\": Tamaulipas_2021_Gas[\"Servicios realizados\"].sum()}\n",
        "Gasavion_Total=Gasavion_Total.append(fila_2021, ignore_index=True)"
      ]
    },
    {
      "cell_type": "code",
      "execution_count": 126,
      "metadata": {
        "id": "N4wSKuaPmn3J"
      },
      "outputs": [],
      "source": [
        "#VERACRUZ\n",
        "#Se agrega la fila que da los datos del 2017\n",
        "fila_2017={\"Estado\": \"Veracruz\", \"Aniomes\": \"2017\", \"Tipo Combustible\": \"Turbosina\", \"Litros de combustible suministrado\": Veracruz_2017_Turbo[\"Litros de combustible suministrado\"].sum(), \"Servicios realizados\": Veracruz_2017_Turbo[\"Servicios realizados\"].sum()}\n",
        "Turbosina_Total=Turbosina_Total.append(fila_2017, ignore_index=True)\n",
        "#Se agrega la fila que da los datos del 2018\n",
        "fila_2018={\"Estado\": \"Veracruz\", \"Aniomes\": \"2018\", \"Tipo Combustible\": \"Turbosina\", \"Litros de combustible suministrado\": Veracruz_2018_Turbo[\"Litros de combustible suministrado\"].sum(), \"Servicios realizados\": Veracruz_2018_Turbo[\"Servicios realizados\"].sum()}\n",
        "Turbosina_Total=Turbosina_Total.append(fila_2018, ignore_index=True)\n",
        "#Se agrega la fila que da los datos del 2019\n",
        "fila_2019={\"Estado\": \"Veracruz\", \"Aniomes\": \"2019\", \"Tipo Combustible\": \"Turbosina\", \"Litros de combustible suministrado\": Veracruz_2019_Turbo[\"Litros de combustible suministrado\"].sum(), \"Servicios realizados\": Veracruz_2019_Turbo[\"Servicios realizados\"].sum()}\n",
        "Turbosina_Total=Turbosina_Total.append(fila_2019, ignore_index=True)\n",
        "#Se agrega la fila que da los datos del 2020\n",
        "fila_2020={\"Estado\": \"Veracruz\", \"Aniomes\": \"2020\", \"Tipo Combustible\": \"Turbosina\", \"Litros de combustible suministrado\": Veracruz_2020_Turbo[\"Litros de combustible suministrado\"].sum(), \"Servicios realizados\": Veracruz_2020_Turbo[\"Servicios realizados\"].sum()}\n",
        "Turbosina_Total=Turbosina_Total.append(fila_2020, ignore_index=True)\n",
        "#Se agrega la fila que da los datos del 2021\n",
        "fila_2021={\"Estado\": \"Veracruz\", \"Aniomes\": \"2021\", \"Tipo Combustible\": \"Turbosina\", \"Litros de combustible suministrado\": Veracruz_2021_Turbo[\"Litros de combustible suministrado\"].sum(), \"Servicios realizados\": Veracruz_2021_Turbo[\"Servicios realizados\"].sum()}\n",
        "Turbosina_Total=Turbosina_Total.append(fila_2021, ignore_index=True)"
      ]
    },
    {
      "cell_type": "code",
      "execution_count": 127,
      "metadata": {
        "id": "Nl31WLcSqJBG"
      },
      "outputs": [],
      "source": [
        "#VERACRUZ\n",
        "#Se agrega la fila que da los datos del 2017\n",
        "fila_2017={\"Estado\": \"Veracruz\", \"Aniomes\": \"2017\", \"Tipo Combustible\": \"Gasavion\", \"Litros de combustible suministrado\": Veracruz_2017_Gas[\"Litros de combustible suministrado\"].sum(), \"Servicios realizados\": Veracruz_2017_Gas[\"Servicios realizados\"].sum()}\n",
        "Gasavion_Total=Gasavion_Total.append(fila_2017, ignore_index=True)\n",
        "#Se agrega la fila que da los datos del 2018\n",
        "fila_2018={\"Estado\": \"Veracruz\", \"Aniomes\": \"2018\", \"Tipo Combustible\": \"Gasavion\", \"Litros de combustible suministrado\": Veracruz_2018_Gas[\"Litros de combustible suministrado\"].sum(), \"Servicios realizados\": Veracruz_2018_Gas[\"Servicios realizados\"].sum()}\n",
        "Gasavion_Total=Gasavion_Total.append(fila_2018, ignore_index=True)\n",
        "#Se agrega la fila que da los datos del 2019\n",
        "fila_2019={\"Estado\": \"Veracruz\", \"Aniomes\": \"2019\", \"Tipo Combustible\": \"Gasavion\", \"Litros de combustible suministrado\": Veracruz_2019_Gas[\"Litros de combustible suministrado\"].sum(), \"Servicios realizados\": Veracruz_2019_Gas[\"Servicios realizados\"].sum()}\n",
        "Gasavion_Total=Gasavion_Total.append(fila_2019, ignore_index=True)\n",
        "#Se agrega la fila que da los datos del 2020\n",
        "fila_2020={\"Estado\": \"Veracruz\", \"Aniomes\": \"2020\", \"Tipo Combustible\": \"Gasavion\", \"Litros de combustible suministrado\": Veracruz_2020_Gas[\"Litros de combustible suministrado\"].sum(), \"Servicios realizados\": Veracruz_2020_Gas[\"Servicios realizados\"].sum()}\n",
        "Gasavion_Total=Gasavion_Total.append(fila_2020, ignore_index=True)\n",
        "#Se agrega la fila que da los datos del 2021\n",
        "fila_2021={\"Estado\": \"Veracruz\", \"Aniomes\": \"2021\", \"Tipo Combustible\": \"Gasavion\", \"Litros de combustible suministrado\": Veracruz_2021_Gas[\"Litros de combustible suministrado\"].sum(), \"Servicios realizados\": Veracruz_2021_Gas[\"Servicios realizados\"].sum()}\n",
        "Gasavion_Total=Gasavion_Total.append(fila_2021, ignore_index=True)"
      ]
    },
    {
      "cell_type": "code",
      "execution_count": 128,
      "metadata": {
        "id": "i4mYB3c0g5b4"
      },
      "outputs": [],
      "source": [
        "#YUCATAN\n",
        "#Se agrega la fila que da los datos del 2017\n",
        "fila_2017={\"Estado\": \"Yucatan\", \"Aniomes\": \"2017\", \"Tipo Combustible\": \"Turbosina\", \"Litros de combustible suministrado\": Yucatan_2017_Turbo[\"Litros de combustible suministrado\"].sum(), \"Servicios realizados\": Yucatan_2017_Turbo[\"Servicios realizados\"].sum()}\n",
        "Turbosina_Total=Turbosina_Total.append(fila_2017, ignore_index=True)\n",
        "#Se agrega la fila que da los datos del 2018\n",
        "fila_2018={\"Estado\": \"Yucatan\", \"Aniomes\": \"2018\", \"Tipo Combustible\": \"Turbosina\", \"Litros de combustible suministrado\": Yucatan_2018_Turbo[\"Litros de combustible suministrado\"].sum(), \"Servicios realizados\": Yucatan_2018_Turbo[\"Servicios realizados\"].sum()}\n",
        "Turbosina_Total=Turbosina_Total.append(fila_2018, ignore_index=True)\n",
        "#Se agrega la fila que da los datos del 2019\n",
        "fila_2019={\"Estado\": \"Yucatan\", \"Aniomes\": \"2019\", \"Tipo Combustible\": \"Turbosina\", \"Litros de combustible suministrado\": Yucatan_2019_Turbo[\"Litros de combustible suministrado\"].sum(), \"Servicios realizados\": Yucatan_2019_Turbo[\"Servicios realizados\"].sum()}\n",
        "Turbosina_Total=Turbosina_Total.append(fila_2019, ignore_index=True)\n",
        "#Se agrega la fila que da los datos del 2020\n",
        "fila_2020={\"Estado\": \"Yucatan\", \"Aniomes\": \"2020\", \"Tipo Combustible\": \"Turbosina\", \"Litros de combustible suministrado\": Yucatan_2020_Turbo[\"Litros de combustible suministrado\"].sum(), \"Servicios realizados\": Yucatan_2020_Turbo[\"Servicios realizados\"].sum()}\n",
        "Turbosina_Total=Turbosina_Total.append(fila_2020, ignore_index=True)\n",
        "#Se agrega la fila que da los datos del 2021\n",
        "fila_2021={\"Estado\": \"Yucatan\", \"Aniomes\": \"2021\", \"Tipo Combustible\": \"Turbosina\", \"Litros de combustible suministrado\": Yucatan_2021_Turbo[\"Litros de combustible suministrado\"].sum(), \"Servicios realizados\": Yucatan_2021_Turbo[\"Servicios realizados\"].sum()}\n",
        "Turbosina_Total=Turbosina_Total.append(fila_2021, ignore_index=True)"
      ]
    },
    {
      "cell_type": "code",
      "execution_count": 129,
      "metadata": {
        "id": "-FLCe6WBqK2i"
      },
      "outputs": [],
      "source": [
        "#YUCATAN\n",
        "#Se agrega la fila que da los datos del 2017\n",
        "fila_2017={\"Estado\": \"Yucatan\", \"Aniomes\": \"2017\", \"Tipo Combustible\": \"Gasavion\", \"Litros de combustible suministrado\": Yucatan_2017_Gas[\"Litros de combustible suministrado\"].sum(), \"Servicios realizados\": Yucatan_2017_Gas[\"Servicios realizados\"].sum()}\n",
        "Gasavion_Total=Gasavion_Total.append(fila_2017, ignore_index=True)\n",
        "#Se agrega la fila que da los datos del 2018\n",
        "fila_2018={\"Estado\": \"Yucatan\", \"Aniomes\": \"2018\", \"Tipo Combustible\": \"Gasavion\", \"Litros de combustible suministrado\": Yucatan_2018_Gas[\"Litros de combustible suministrado\"].sum(), \"Servicios realizados\": Yucatan_2018_Gas[\"Servicios realizados\"].sum()}\n",
        "Gasavion_Total=Gasavion_Total.append(fila_2018, ignore_index=True)\n",
        "#Se agrega la fila que da los datos del 2019\n",
        "fila_2019={\"Estado\": \"Yucatan\", \"Aniomes\": \"2019\", \"Tipo Combustible\": \"Gasavion\", \"Litros de combustible suministrado\": Yucatan_2019_Gas[\"Litros de combustible suministrado\"].sum(), \"Servicios realizados\": Yucatan_2019_Gas[\"Servicios realizados\"].sum()}\n",
        "Gasavion_Total=Gasavion_Total.append(fila_2019, ignore_index=True)\n",
        "#Se agrega la fila que da los datos del 2020\n",
        "fila_2020={\"Estado\": \"Yucatan\", \"Aniomes\": \"2020\", \"Tipo Combustible\": \"Gasavion\", \"Litros de combustible suministrado\": Yucatan_2020_Gas[\"Litros de combustible suministrado\"].sum(), \"Servicios realizados\": Yucatan_2020_Gas[\"Servicios realizados\"].sum()}\n",
        "Gasavion_Total=Gasavion_Total.append(fila_2020, ignore_index=True)\n",
        "#Se agrega la fila que da los datos del 2021\n",
        "fila_2021={\"Estado\": \"Yucatan\", \"Aniomes\": \"2021\", \"Tipo Combustible\": \"Gasavion\", \"Litros de combustible suministrado\": Yucatan_2021_Gas[\"Litros de combustible suministrado\"].sum(), \"Servicios realizados\": Yucatan_2021_Gas[\"Servicios realizados\"].sum()}\n",
        "Gasavion_Total=Gasavion_Total.append(fila_2021, ignore_index=True)"
      ]
    },
    {
      "cell_type": "code",
      "execution_count": 130,
      "metadata": {
        "id": "jIvhVDCGmud_"
      },
      "outputs": [],
      "source": [
        "#ZACATECAS\n",
        "#Se agrega la fila que da los datos del 2017\n",
        "fila_2017={\"Estado\": \"Zacatecas\", \"Aniomes\": \"2017\", \"Tipo Combustible\": \"Turbosina\", \"Litros de combustible suministrado\": Zacatecas_2017_Turbo[\"Litros de combustible suministrado\"].sum(), \"Servicios realizados\": Zacatecas_2017_Turbo[\"Servicios realizados\"].sum()}\n",
        "Turbosina_Total=Turbosina_Total.append(fila_2017, ignore_index=True)\n",
        "#Se agrega la fila que da los datos del 2018\n",
        "fila_2018={\"Estado\": \"Zacatecas\", \"Aniomes\": \"2018\", \"Tipo Combustible\": \"Turbosina\", \"Litros de combustible suministrado\": Zacatecas_2018_Turbo[\"Litros de combustible suministrado\"].sum(), \"Servicios realizados\": Zacatecas_2018_Turbo[\"Servicios realizados\"].sum()}\n",
        "Turbosina_Total=Turbosina_Total.append(fila_2018, ignore_index=True)\n",
        "#Se agrega la fila que da los datos del 2019\n",
        "fila_2019={\"Estado\": \"Zacatecas\", \"Aniomes\": \"2019\", \"Tipo Combustible\": \"Turbosina\", \"Litros de combustible suministrado\": Zacatecas_2019_Turbo[\"Litros de combustible suministrado\"].sum(), \"Servicios realizados\": Zacatecas_2019_Turbo[\"Servicios realizados\"].sum()}\n",
        "Turbosina_Total=Turbosina_Total.append(fila_2019, ignore_index=True)\n",
        "#Se agrega la fila que da los datos del 2020\n",
        "fila_2020={\"Estado\": \"Zacatecas\", \"Aniomes\": \"2020\", \"Tipo Combustible\": \"Turbosina\", \"Litros de combustible suministrado\": Zacatecas_2020_Turbo[\"Litros de combustible suministrado\"].sum(), \"Servicios realizados\": Zacatecas_2020_Turbo[\"Servicios realizados\"].sum()}\n",
        "Turbosina_Total=Turbosina_Total.append(fila_2020, ignore_index=True)\n",
        "#Se agrega la fila que da los datos del 2021\n",
        "fila_2021={\"Estado\": \"Zacatecas\", \"Aniomes\": \"2021\", \"Tipo Combustible\": \"Turbosina\", \"Litros de combustible suministrado\": Zacatecas_2021_Turbo[\"Litros de combustible suministrado\"].sum(), \"Servicios realizados\": Zacatecas_2021_Turbo[\"Servicios realizados\"].sum()}\n",
        "Turbosina_Total=Turbosina_Total.append(fila_2021, ignore_index=True)"
      ]
    },
    {
      "cell_type": "code",
      "execution_count": 131,
      "metadata": {
        "id": "2jwQmnJTqQZM"
      },
      "outputs": [],
      "source": [
        "#ZACATECAS\n",
        "#Se agrega la fila que da los datos del 2017\n",
        "fila_2017={\"Estado\": \"Zacatecas\", \"Aniomes\": \"2017\", \"Tipo Combustible\": \"Gasavion\", \"Litros de combustible suministrado\": Zacatecas_2017_Gas[\"Litros de combustible suministrado\"].sum(), \"Servicios realizados\": Zacatecas_2017_Gas[\"Servicios realizados\"].sum()}\n",
        "Gasavion_Total=Gasavion_Total.append(fila_2017, ignore_index=True)\n",
        "#Se agrega la fila que da los datos del 2018\n",
        "fila_2018={\"Estado\": \"Zacatecas\", \"Aniomes\": \"2018\", \"Tipo Combustible\": \"Gasavion\", \"Litros de combustible suministrado\": Zacatecas_2018_Gas[\"Litros de combustible suministrado\"].sum(), \"Servicios realizados\": Zacatecas_2018_Gas[\"Servicios realizados\"].sum()}\n",
        "Gasavion_Total=Gasavion_Total.append(fila_2018, ignore_index=True)\n",
        "#Se agrega la fila que da los datos del 2019\n",
        "fila_2019={\"Estado\": \"Zacatecas\", \"Aniomes\": \"2019\", \"Tipo Combustible\": \"Gasavion\", \"Litros de combustible suministrado\": Zacatecas_2019_Gas[\"Litros de combustible suministrado\"].sum(), \"Servicios realizados\": Zacatecas_2019_Gas[\"Servicios realizados\"].sum()}\n",
        "Gasavion_Total=Gasavion_Total.append(fila_2019, ignore_index=True)\n",
        "#Se agrega la fila que da los datos del 2020\n",
        "fila_2020={\"Estado\": \"Zacatecas\", \"Aniomes\": \"2020\", \"Tipo Combustible\": \"Gasavion\", \"Litros de combustible suministrado\": Zacatecas_2020_Gas[\"Litros de combustible suministrado\"].sum(), \"Servicios realizados\": Zacatecas_2020_Gas[\"Servicios realizados\"].sum()}\n",
        "Gasavion_Total=Gasavion_Total.append(fila_2020, ignore_index=True)\n",
        "#Se agrega la fila que da los datos del 2021\n",
        "fila_2021={\"Estado\": \"Zacatecas\", \"Aniomes\": \"2021\", \"Tipo Combustible\": \"Gasavion\", \"Litros de combustible suministrado\": Zacatecas_2021_Gas[\"Litros de combustible suministrado\"].sum(), \"Servicios realizados\": Zacatecas_2021_Gas[\"Servicios realizados\"].sum()}\n",
        "Gasavion_Total=Gasavion_Total.append(fila_2021, ignore_index=True)"
      ]
    },
    {
      "cell_type": "code",
      "execution_count": 132,
      "metadata": {
        "id": "wH8fp2tXQBDr"
      },
      "outputs": [],
      "source": [
        "Aguascalientes=Turbosina_Total.loc[:,\"Estado\"]==\"Aguascalientes\"\n",
        "Aguascalientes1=Turbosina_Total.loc[Aguascalientes]\n",
        "BajaCalifornia=Turbosina_Total.loc[:,\"Estado\"]==\"Baja California\"\n",
        "BajaCalifornia1=Turbosina_Total.loc[BajaCalifornia]\n",
        "BajaCaliforniaSur=Turbosina_Total.loc[:,\"Estado\"]==\"Baja California Sur\"\n",
        "BajaCaliforniaSur1=Turbosina_Total.loc[BajaCaliforniaSur]\n",
        "Campeche=Turbosina_Total.loc[:,\"Estado\"]==\"Campeche\"\n",
        "Campeche1=Turbosina_Total.loc[Campeche]\n",
        "Chiapas=Turbosina_Total.loc[:,\"Estado\"]==\"Chiapas\"\n",
        "Chiapas1=Turbosina_Total.loc[Chiapas]\n",
        "Chihuahua=Turbosina_Total.loc[:,\"Estado\"]==\"Chihuahua\"\n",
        "Chihuahua1=Turbosina_Total.loc[Chihuahua]\n",
        "Coahuila=Turbosina_Total.loc[:,\"Estado\"]==\"Coahuila\"\n",
        "Coahuila1=Turbosina_Total.loc[Coahuila]\n",
        "Colima=Turbosina_Total.loc[:,\"Estado\"]==\"Colima\"\n",
        "Colima1=Turbosina_Total.loc[Colima]\n",
        "DistritoFederal=Turbosina_Total.loc[:,\"Estado\"]==\"Distrito Federal\"\n",
        "DistritoFederal1=Turbosina_Total.loc[DistritoFederal]\n",
        "Durango=Turbosina_Total.loc[:,\"Estado\"]==\"Durango\"\n",
        "Durango1=Turbosina_Total.loc[Durango]\n",
        "EstadodeMexico=Turbosina_Total.loc[:,\"Estado\"]==\"Estado De Mexico\"\n",
        "EstadodeMexico1=Turbosina_Total.loc[EstadodeMexico]\n",
        "Guanajuato=Turbosina_Total.loc[:,\"Estado\"]==\"Guanajuato\"\n",
        "Guanajuato1=Turbosina_Total.loc[Guanajuato]\n",
        "Guerrero=Turbosina_Total.loc[:,\"Estado\"]==\"Guerrero\"\n",
        "Guerrero1=Turbosina_Total.loc[Guerrero]\n",
        "Hidalgo=Turbosina_Total.loc[:,\"Estado\"]==\"Hidalgo\"\n",
        "Hidalgo1=Turbosina_Total.loc[Hidalgo]\n",
        "Jalisco=Turbosina_Total.loc[:,\"Estado\"]==\"Jalisco\"\n",
        "Jalisco1=Turbosina_Total.loc[Jalisco]\n",
        "Michoacan=Turbosina_Total.loc[:,\"Estado\"]==\"Michoacan\"\n",
        "Michoacan1=Turbosina_Total.loc[Michoacan]\n",
        "Morelos=Turbosina_Total.loc[:,\"Estado\"]==\"Morelos\"\n",
        "Morelos1=Turbosina_Total.loc[Morelos]\n",
        "Nayarit=Turbosina_Total.loc[:,\"Estado\"]==\"Nayarit\"\n",
        "Nayarit1=Turbosina_Total.loc[Nayarit]\n",
        "NuevoLeon=Turbosina_Total.loc[:,\"Estado\"]==\"Nuevo Leon\"\n",
        "NuevoLeon1=Turbosina_Total.loc[NuevoLeon]\n",
        "Oaxaca=Turbosina_Total.loc[:,\"Estado\"]==\"Oaxaca\"\n",
        "Oaxaca1=Turbosina_Total.loc[Oaxaca]\n",
        "Puebla=Turbosina_Total.loc[:,\"Estado\"]==\"Puebla\"\n",
        "Puebla1=Turbosina_Total.loc[Puebla]\n",
        "Queretaro=Turbosina_Total.loc[:,\"Estado\"]==\"Queretaro\"\n",
        "Queretaro1=Turbosina_Total.loc[Queretaro]\n",
        "QuintanaRoo=Turbosina_Total.loc[:,\"Estado\"]==\"Quintana Roo\"\n",
        "QuintanaRoo1=Turbosina_Total.loc[QuintanaRoo]\n",
        "SanLuisPotosi=Turbosina_Total.loc[:,\"Estado\"]==\"San Luis Potosi\"\n",
        "SanLuisPotosi1=Turbosina_Total.loc[SanLuisPotosi]\n",
        "Sinaloa=Turbosina_Total.loc[:,\"Estado\"]==\"Sinaloa\"\n",
        "Sinaloa1=Turbosina_Total.loc[Sinaloa]\n",
        "Sonora=Turbosina_Total.loc[:,\"Estado\"]==\"Sonora\"\n",
        "Sonora1=Turbosina_Total.loc[Sonora]\n",
        "Tabasco=Turbosina_Total.loc[:,\"Estado\"]==\"Tabasco\"\n",
        "Tabasco1=Turbosina_Total.loc[Tabasco]\n",
        "Tamaulipas=Turbosina_Total.loc[:,\"Estado\"]==\"Tamaulipas\"\n",
        "Tamaulipas1=Turbosina_Total.loc[Tamaulipas]\n",
        "Veracruz=Turbosina_Total.loc[:,\"Estado\"]==\"Veracruz\"\n",
        "Veracruz1=Turbosina_Total.loc[Veracruz]\n",
        "Yucatan=Turbosina_Total.loc[:,\"Estado\"]==\"Yucatan\"\n",
        "Yucatan1=Turbosina_Total.loc[Yucatan]\n",
        "Zacatecas=Turbosina_Total.loc[:,\"Estado\"]==\"Zacatecas\"\n",
        "Zacatecas1=Turbosina_Total.loc[Zacatecas]"
      ]
    },
    {
      "cell_type": "code",
      "execution_count": 133,
      "metadata": {
        "id": "3h8vkvaw79PJ"
      },
      "outputs": [],
      "source": [
        "#Aquí se tratara de hacer una tabla en donde se concentren los litros de combustible suministrado por estado, sumando todos los años.\n",
        "#Primero para Turbosina\n",
        "Turbosina_Resumen=Turbosina_Total[Turbosina_Total.index <1]#Aquí agarro un nuevo DataFrame al cual solo le dejo una fila y le ire agregando una por estado\n",
        "Turbosina_Resumen=Turbosina_Resumen.drop(['Aniomes'], axis=1) #Se eliminan las columnas que no me sirven para nada"
      ]
    },
    {
      "cell_type": "code",
      "execution_count": 134,
      "metadata": {
        "id": "cZLSCHV2WiR1"
      },
      "outputs": [],
      "source": [
        "Turbosina_Resumen[\"Litros de combustible suministrado\"]=Aguascalientes1[\"Litros de combustible suministrado\"].sum()\n",
        "Turbosina_Resumen[\"Servicios realizados\"]=Aguascalientes1[\"Servicios realizados\"].sum()\n",
        "fila={\"Estado\": \"Baja California\", \"Tipo Combustible\": \"Turbosina\", \"Litros de combustible suministrado\": BajaCalifornia1[\"Litros de combustible suministrado\"].sum(), \"Servicios realizados\": BajaCalifornia1[\"Servicios realizados\"].sum()}\n",
        "Turbosina_Resumen=Turbosina_Resumen.append(fila, ignore_index=True)\n",
        "fila={\"Estado\": \"Baja California Sur\", \"Tipo Combustible\": \"Turbosina\", \"Litros de combustible suministrado\": BajaCalifornia1[\"Litros de combustible suministrado\"].sum(), \"Servicios realizados\": BajaCaliforniaSur1[\"Servicios realizados\"].sum()}\n",
        "Turbosina_Resumen=Turbosina_Resumen.append(fila, ignore_index=True)\n",
        "fila={\"Estado\": \"Campeche\", \"Tipo Combustible\": \"Turbosina\", \"Litros de combustible suministrado\": Campeche1[\"Litros de combustible suministrado\"].sum(), \"Servicios realizados\": Campeche1[\"Servicios realizados\"].sum()}\n",
        "Turbosina_Resumen=Turbosina_Resumen.append(fila, ignore_index=True)\n",
        "fila={\"Estado\": \"Chiapas\", \"Tipo Combustible\": \"Turbosina\", \"Litros de combustible suministrado\": Chiapas1[\"Litros de combustible suministrado\"].sum(), \"Servicios realizados\": Chiapas1[\"Servicios realizados\"].sum()}\n",
        "Turbosina_Resumen=Turbosina_Resumen.append(fila, ignore_index=True)\n",
        "fila={\"Estado\": \"Chihuahua\", \"Tipo Combustible\": \"Turbosina\", \"Litros de combustible suministrado\": Chihuahua1[\"Litros de combustible suministrado\"].sum(), \"Servicios realizados\": Chihuahua1[\"Servicios realizados\"].sum()}\n",
        "Turbosina_Resumen=Turbosina_Resumen.append(fila, ignore_index=True)\n",
        "fila={\"Estado\": \"Coahuila\", \"Tipo Combustible\": \"Turbosina\", \"Litros de combustible suministrado\": Coahuila1[\"Litros de combustible suministrado\"].sum(), \"Servicios realizados\": Coahuila1[\"Servicios realizados\"].sum()}\n",
        "Turbosina_Resumen=Turbosina_Resumen.append(fila, ignore_index=True)\n",
        "fila={\"Estado\": \"Colima\", \"Tipo Combustible\": \"Turbosina\", \"Litros de combustible suministrado\": Colima1[\"Litros de combustible suministrado\"].sum(), \"Servicios realizados\": Colima1[\"Servicios realizados\"].sum()}\n",
        "Turbosina_Resumen=Turbosina_Resumen.append(fila, ignore_index=True)\n",
        "fila={\"Estado\": \"Distrito Federal\", \"Tipo Combustible\": \"Turbosina\", \"Litros de combustible suministrado\": DistritoFederal1[\"Litros de combustible suministrado\"].sum(), \"Servicios realizados\": DistritoFederal1[\"Servicios realizados\"].sum()}\n",
        "Turbosina_Resumen=Turbosina_Resumen.append(fila, ignore_index=True)\n",
        "fila={\"Estado\": \"Estado De Mexico\", \"Tipo Combustible\": \"Turbosina\", \"Litros de combustible suministrado\": EstadodeMexico1[\"Litros de combustible suministrado\"].sum(), \"Servicios realizados\": EstadodeMexico1[\"Servicios realizados\"].sum()}\n",
        "Turbosina_Resumen=Turbosina_Resumen.append(fila, ignore_index=True)\n",
        "fila={\"Estado\": \"Guanajuato\", \"Tipo Combustible\": \"Turbosina\", \"Litros de combustible suministrado\": Guanajuato1[\"Litros de combustible suministrado\"].sum(), \"Servicios realizados\": Guanajuato1[\"Servicios realizados\"].sum()}\n",
        "Turbosina_Resumen=Turbosina_Resumen.append(fila, ignore_index=True)\n",
        "fila={\"Estado\": \"Guerrero\", \"Tipo Combustible\": \"Turbosina\", \"Litros de combustible suministrado\": Guerrero1[\"Litros de combustible suministrado\"].sum(), \"Servicios realizados\": Guerrero1[\"Servicios realizados\"].sum()}\n",
        "Turbosina_Resumen=Turbosina_Resumen.append(fila, ignore_index=True)\n",
        "fila={\"Estado\": \"Hidalgo\", \"Tipo Combustible\": \"Turbosina\", \"Litros de combustible suministrado\": Hidalgo1[\"Litros de combustible suministrado\"].sum(), \"Servicios realizados\": Hidalgo1[\"Servicios realizados\"].sum()}\n",
        "Turbosina_Resumen=Turbosina_Resumen.append(fila, ignore_index=True)\n",
        "fila={\"Estado\": \"Jalisco\", \"Tipo Combustible\": \"Turbosina\", \"Litros de combustible suministrado\": Jalisco1[\"Litros de combustible suministrado\"].sum(), \"Servicios realizados\": Jalisco1[\"Servicios realizados\"].sum()}\n",
        "Turbosina_Resumen=Turbosina_Resumen.append(fila, ignore_index=True)\n",
        "fila={\"Estado\": \"Michoacan\", \"Tipo Combustible\": \"Turbosina\", \"Litros de combustible suministrado\": Michoacan1[\"Litros de combustible suministrado\"].sum(), \"Servicios realizados\": Michoacan1[\"Servicios realizados\"].sum()}\n",
        "Turbosina_Resumen=Turbosina_Resumen.append(fila, ignore_index=True)\n",
        "fila={\"Estado\": \"Morelos\", \"Tipo Combustible\": \"Turbosina\", \"Litros de combustible suministrado\": Morelos1[\"Litros de combustible suministrado\"].sum(), \"Servicios realizados\": Morelos1[\"Servicios realizados\"].sum()}\n",
        "Turbosina_Resumen=Turbosina_Resumen.append(fila, ignore_index=True)\n",
        "fila={\"Estado\": \"Nayarit\", \"Tipo Combustible\": \"Turbosina\", \"Litros de combustible suministrado\": Nayarit1[\"Litros de combustible suministrado\"].sum(), \"Servicios realizados\": Nayarit1[\"Servicios realizados\"].sum()}\n",
        "Turbosina_Resumen=Turbosina_Resumen.append(fila, ignore_index=True)\n",
        "fila={\"Estado\": \"Nuevo Leon\", \"Tipo Combustible\": \"Turbosina\", \"Litros de combustible suministrado\": NuevoLeon1[\"Litros de combustible suministrado\"].sum(), \"Servicios realizados\": NuevoLeon1[\"Servicios realizados\"].sum()}\n",
        "Turbosina_Resumen=Turbosina_Resumen.append(fila, ignore_index=True)\n",
        "fila={\"Estado\": \"Oaxaca\", \"Tipo Combustible\": \"Turbosina\", \"Litros de combustible suministrado\": Oaxaca1[\"Litros de combustible suministrado\"].sum(), \"Servicios realizados\": Oaxaca1[\"Servicios realizados\"].sum()}\n",
        "Turbosina_Resumen=Turbosina_Resumen.append(fila, ignore_index=True)\n",
        "fila={\"Estado\": \"Puebla\", \"Tipo Combustible\": \"Turbosina\", \"Litros de combustible suministrado\": Puebla1[\"Litros de combustible suministrado\"].sum(), \"Servicios realizados\": Puebla1[\"Servicios realizados\"].sum()}\n",
        "Turbosina_Resumen=Turbosina_Resumen.append(fila, ignore_index=True)\n",
        "fila={\"Estado\": \"Queretaro\", \"Tipo Combustible\": \"Turbosina\", \"Litros de combustible suministrado\": Queretaro1[\"Litros de combustible suministrado\"].sum(), \"Servicios realizados\": Queretaro1[\"Servicios realizados\"].sum()}\n",
        "Turbosina_Resumen=Turbosina_Resumen.append(fila, ignore_index=True)\n",
        "fila={\"Estado\": \"Quintana Roo\", \"Tipo Combustible\": \"Turbosina\", \"Litros de combustible suministrado\": QuintanaRoo1[\"Litros de combustible suministrado\"].sum(), \"Servicios realizados\": QuintanaRoo1[\"Servicios realizados\"].sum()}\n",
        "Turbosina_Resumen=Turbosina_Resumen.append(fila, ignore_index=True)\n",
        "fila={\"Estado\": \"San Luis Potosi\", \"Tipo Combustible\": \"Turbosina\", \"Litros de combustible suministrado\": SanLuisPotosi1[\"Litros de combustible suministrado\"].sum(), \"Servicios realizados\": SanLuisPotosi1[\"Servicios realizados\"].sum()}\n",
        "Turbosina_Resumen=Turbosina_Resumen.append(fila, ignore_index=True)\n",
        "fila={\"Estado\": \"Sinaloa\", \"Tipo Combustible\": \"Turbosina\", \"Litros de combustible suministrado\": Sinaloa1[\"Litros de combustible suministrado\"].sum(), \"Servicios realizados\": Sinaloa1[\"Servicios realizados\"].sum()}\n",
        "Turbosina_Resumen=Turbosina_Resumen.append(fila, ignore_index=True)\n",
        "fila={\"Estado\": \"Sonora\", \"Tipo Combustible\": \"Turbosina\", \"Litros de combustible suministrado\": Sonora1[\"Litros de combustible suministrado\"].sum(), \"Servicios realizados\": Sonora1[\"Servicios realizados\"].sum()}\n",
        "Turbosina_Resumen=Turbosina_Resumen.append(fila, ignore_index=True)\n",
        "fila={\"Estado\": \"Tabasco\", \"Tipo Combustible\": \"Turbosina\", \"Litros de combustible suministrado\": Tabasco1[\"Litros de combustible suministrado\"].sum(), \"Servicios realizados\": Tabasco1[\"Servicios realizados\"].sum()}\n",
        "Turbosina_Resumen=Turbosina_Resumen.append(fila, ignore_index=True)\n",
        "fila={\"Estado\": \"Tamaulipas\", \"Tipo Combustible\": \"Turbosina\", \"Litros de combustible suministrado\": Tamaulipas1[\"Litros de combustible suministrado\"].sum(), \"Servicios realizados\": Tamaulipas1[\"Servicios realizados\"].sum()}\n",
        "Turbosina_Resumen=Turbosina_Resumen.append(fila, ignore_index=True)\n",
        "fila={\"Estado\": \"Veracruz\", \"Tipo Combustible\": \"Turbosina\", \"Litros de combustible suministrado\": Veracruz1[\"Litros de combustible suministrado\"].sum(), \"Servicios realizados\": Veracruz1[\"Servicios realizados\"].sum()}\n",
        "Turbosina_Resumen=Turbosina_Resumen.append(fila, ignore_index=True)\n",
        "fila={\"Estado\": \"Yucatan\", \"Tipo Combustible\": \"Turbosina\", \"Litros de combustible suministrado\": Yucatan1[\"Litros de combustible suministrado\"].sum(), \"Servicios realizados\": Yucatan1[\"Servicios realizados\"].sum()}\n",
        "Turbosina_Resumen=Turbosina_Resumen.append(fila, ignore_index=True)\n",
        "fila={\"Estado\": \"Zacatecas\", \"Tipo Combustible\": \"Turbosina\", \"Litros de combustible suministrado\": Zacatecas1[\"Litros de combustible suministrado\"].sum(), \"Servicios realizados\": Zacatecas1[\"Servicios realizados\"].sum()}\n",
        "Turbosina_Resumen=Turbosina_Resumen.append(fila, ignore_index=True)"
      ]
    },
    {
      "cell_type": "code",
      "execution_count": 135,
      "metadata": {
        "id": "lE2DQ_HSGN5M"
      },
      "outputs": [],
      "source": [
        "Aguascalientes=Gasavion_Total.loc[:,\"Estado\"]==\"Aguascalientes\"\n",
        "Aguascalientes1=Gasavion_Total.loc[Aguascalientes]\n",
        "BajaCalifornia=Gasavion_Total.loc[:,\"Estado\"]==\"Baja California\"\n",
        "BajaCalifornia1=Gasavion_Total.loc[BajaCalifornia]\n",
        "BajaCaliforniaSur=Gasavion_Total.loc[:,\"Estado\"]==\"Baja California Sur\"\n",
        "BajaCaliforniaSur1=Gasavion_Total.loc[BajaCaliforniaSur]\n",
        "Campeche=Gasavion_Total.loc[:,\"Estado\"]==\"Campeche\"\n",
        "Campeche1=Gasavion_Total.loc[Campeche]\n",
        "Chiapas=Gasavion_Total.loc[:,\"Estado\"]==\"Chiapas\"\n",
        "Chiapas1=Gasavion_Total.loc[Chiapas]\n",
        "Chihuahua=Gasavion_Total.loc[:,\"Estado\"]==\"Chihuahua\"\n",
        "Chihuahua1=Gasavion_Total.loc[Chihuahua]\n",
        "Coahuila=Gasavion_Total.loc[:,\"Estado\"]==\"Coahuila\"\n",
        "Coahuila1=Gasavion_Total.loc[Coahuila]\n",
        "Colima=Gasavion_Total.loc[:,\"Estado\"]==\"Colima\"\n",
        "Colima1=Gasavion_Total.loc[Colima]\n",
        "DistritoFederal=Gasavion_Total.loc[:,\"Estado\"]==\"Distrito Federal\"\n",
        "DistritoFederal1=Gasavion_Total.loc[DistritoFederal]\n",
        "Durango=Gasavion_Total.loc[:,\"Estado\"]==\"Durango\"\n",
        "Durango1=Gasavion_Total.loc[Durango]\n",
        "EstadodeMexico=Gasavion_Total.loc[:,\"Estado\"]==\"Estado De Mexico\"\n",
        "EstadodeMexico1=Gasavion_Total.loc[EstadodeMexico]\n",
        "Guanajuato=Gasavion_Total.loc[:,\"Estado\"]==\"Guanajuato\"\n",
        "Guanajuato1=Gasavion_Total.loc[Guanajuato]\n",
        "Guerrero=Gasavion_Total.loc[:,\"Estado\"]==\"Guerrero\"\n",
        "Guerrero1=Gasavion_Total.loc[Guerrero]\n",
        "Hidalgo=Gasavion_Total.loc[:,\"Estado\"]==\"Hidalgo\"\n",
        "Hidalgo1=Gasavion_Total.loc[Hidalgo]\n",
        "Jalisco=Gasavion_Total.loc[:,\"Estado\"]==\"Jalisco\"\n",
        "Jalisco1=Gasavion_Total.loc[Jalisco]\n",
        "Michoacan=Gasavion_Total.loc[:,\"Estado\"]==\"Michoacan\"\n",
        "Michoacan1=Gasavion_Total.loc[Michoacan]\n",
        "Morelos=Gasavion_Total.loc[:,\"Estado\"]==\"Morelos\"\n",
        "Morelos1=Gasavion_Total.loc[Morelos]\n",
        "Nayarit=Gasavion_Total.loc[:,\"Estado\"]==\"Nayarit\"\n",
        "Nayarit1=Gasavion_Total.loc[Nayarit]\n",
        "NuevoLeon=Gasavion_Total.loc[:,\"Estado\"]==\"Nuevo Leon\"\n",
        "NuevoLeon1=Gasavion_Total.loc[NuevoLeon]\n",
        "Oaxaca=Gasavion_Total.loc[:,\"Estado\"]==\"Oaxaca\"\n",
        "Oaxaca1=Gasavion_Total.loc[Oaxaca]\n",
        "Puebla=Gasavion_Total.loc[:,\"Estado\"]==\"Puebla\"\n",
        "Puebla1=Gasavion_Total.loc[Puebla]\n",
        "Queretaro=Gasavion_Total.loc[:,\"Estado\"]==\"Queretaro\"\n",
        "Queretaro1=Gasavion_Total.loc[Queretaro]\n",
        "QuintanaRoo=Gasavion_Total.loc[:,\"Estado\"]==\"Quintana Roo\"\n",
        "QuintanaRoo1=Gasavion_Total.loc[QuintanaRoo]\n",
        "SanLuisPotosi=Gasavion_Total.loc[:,\"Estado\"]==\"San Luis Potosi\"\n",
        "SanLuisPotosi1=Gasavion_Total.loc[SanLuisPotosi]\n",
        "Sinaloa=Gasavion_Total.loc[:,\"Estado\"]==\"Sinaloa\"\n",
        "Sinaloa1=Gasavion_Total.loc[Sinaloa]\n",
        "Sonora=Gasavion_Total.loc[:,\"Estado\"]==\"Sonora\"\n",
        "Sonora1=Gasavion_Total.loc[Sonora]\n",
        "Tabasco=Gasavion_Total.loc[:,\"Estado\"]==\"Tabasco\"\n",
        "Tabasco1=Gasavion_Total.loc[Tabasco]\n",
        "Tamaulipas=Gasavion_Total.loc[:,\"Estado\"]==\"Tamaulipas\"\n",
        "Tamaulipas1=Gasavion_Total.loc[Tamaulipas]\n",
        "Veracruz=Gasavion_Total.loc[:,\"Estado\"]==\"Veracruz\"\n",
        "Veracruz1=Gasavion_Total.loc[Veracruz]\n",
        "Yucatan=Gasavion_Total.loc[:,\"Estado\"]==\"Yucatan\"\n",
        "Yucatan1=Gasavion_Total.loc[Yucatan]\n",
        "Zacatecas=Gasavion_Total.loc[:,\"Estado\"]==\"Zacatecas\"\n",
        "Zacatecas1=Gasavion_Total.loc[Zacatecas]"
      ]
    },
    {
      "cell_type": "code",
      "execution_count": 136,
      "metadata": {
        "id": "HqV8C2Vlgikf"
      },
      "outputs": [],
      "source": [
        "#Aquí se tratara de hacer una tabla en donde se concentren los litros de combustible suministrado por estado, sumando todos los años.\n",
        "#Despues para Gasavion\n",
        "Gasavion_Resumen=Gasavion_Total[Gasavion_Total.index <1]#Aquí agarro un nuevo DataFrame al cual solo le dejo una fila y le ire agregando una por estado\n",
        "Gasavion_Resumen=Gasavion_Resumen.drop(['Aniomes'], axis=1) #Se eliminan las columnas que no me sirven para nada"
      ]
    },
    {
      "cell_type": "code",
      "execution_count": 137,
      "metadata": {
        "id": "2HyzVHvkGnPv"
      },
      "outputs": [],
      "source": [
        "Gasavion_Resumen[\"Litros de combustible suministrado\"]=Aguascalientes1[\"Litros de combustible suministrado\"].sum()\n",
        "Gasavion_Resumen[\"Servicios realizados\"]=Aguascalientes1[\"Servicios realizados\"].sum()\n",
        "fila={\"Estado\": \"Baja California\", \"Tipo Combustible\": \"Gasavion\", \"Litros de combustible suministrado\": BajaCalifornia1[\"Litros de combustible suministrado\"].sum(), \"Servicios realizados\": BajaCalifornia1[\"Servicios realizados\"].sum()}\n",
        "Gasavion_Resumen=Gasavion_Resumen.append(fila, ignore_index=True)\n",
        "fila={\"Estado\": \"Baja California Sur\", \"Tipo Combustible\": \"Gasavion\", \"Litros de combustible suministrado\": BajaCalifornia1[\"Litros de combustible suministrado\"].sum(), \"Servicios realizados\": BajaCaliforniaSur1[\"Servicios realizados\"].sum()}\n",
        "Gasavion_Resumen=Gasavion_Resumen.append(fila, ignore_index=True)\n",
        "fila={\"Estado\": \"Campeche\", \"Tipo Combustible\": \"Gasavion\", \"Litros de combustible suministrado\": Campeche1[\"Litros de combustible suministrado\"].sum(), \"Servicios realizados\": Campeche1[\"Servicios realizados\"].sum()}\n",
        "Gasavion_Resumen=Gasavion_Resumen.append(fila, ignore_index=True)\n",
        "fila={\"Estado\": \"Chiapas\", \"Tipo Combustible\": \"Gasavion\", \"Litros de combustible suministrado\": Chiapas1[\"Litros de combustible suministrado\"].sum(), \"Servicios realizados\": Chiapas1[\"Servicios realizados\"].sum()}\n",
        "Gasavion_Resumen=Gasavion_Resumen.append(fila, ignore_index=True)\n",
        "fila={\"Estado\": \"Chihuahua\", \"Tipo Combustible\": \"Gasavion\", \"Litros de combustible suministrado\": Chihuahua1[\"Litros de combustible suministrado\"].sum(), \"Servicios realizados\": Chihuahua1[\"Servicios realizados\"].sum()}\n",
        "Gasavion_Resumen=Gasavion_Resumen.append(fila, ignore_index=True)\n",
        "fila={\"Estado\": \"Coahuila\", \"Tipo Combustible\": \"Gasavion\", \"Litros de combustible suministrado\": Coahuila1[\"Litros de combustible suministrado\"].sum(), \"Servicios realizados\": Coahuila1[\"Servicios realizados\"].sum()}\n",
        "Gasavion_Resumen=Gasavion_Resumen.append(fila, ignore_index=True)\n",
        "fila={\"Estado\": \"Colima\", \"Tipo Combustible\": \"Gasavion\", \"Litros de combustible suministrado\": Colima1[\"Litros de combustible suministrado\"].sum(), \"Servicios realizados\": Colima1[\"Servicios realizados\"].sum()}\n",
        "Gasavion_Resumen=Gasavion_Resumen.append(fila, ignore_index=True)\n",
        "fila={\"Estado\": \"Distrito Federal\", \"Tipo Combustible\": \"Gasavion\", \"Litros de combustible suministrado\": DistritoFederal1[\"Litros de combustible suministrado\"].sum(), \"Servicios realizados\": DistritoFederal1[\"Servicios realizados\"].sum()}\n",
        "Gasavion_Resumen=Gasavion_Resumen.append(fila, ignore_index=True)\n",
        "fila={\"Estado\": \"Estado De Mexico\", \"Tipo Combustible\": \"Gasavion\", \"Litros de combustible suministrado\": EstadodeMexico1[\"Litros de combustible suministrado\"].sum(), \"Servicios realizados\": EstadodeMexico1[\"Servicios realizados\"].sum()}\n",
        "Gasavion_Resumen=Gasavion_Resumen.append(fila, ignore_index=True)\n",
        "fila={\"Estado\": \"Guanajuato\", \"Tipo Combustible\": \"Gasavion\", \"Litros de combustible suministrado\": Guanajuato1[\"Litros de combustible suministrado\"].sum(), \"Servicios realizados\": Guanajuato1[\"Servicios realizados\"].sum()}\n",
        "Gasavion_Resumen=Gasavion_Resumen.append(fila, ignore_index=True)\n",
        "fila={\"Estado\": \"Guerrero\", \"Tipo Combustible\": \"Gasavion\", \"Litros de combustible suministrado\": Guerrero1[\"Litros de combustible suministrado\"].sum(), \"Servicios realizados\": Guerrero1[\"Servicios realizados\"].sum()}\n",
        "Gasavion_Resumen=Gasavion_Resumen.append(fila, ignore_index=True)\n",
        "fila={\"Estado\": \"Hidalgo\", \"Tipo Combustible\": \"Gasavion\", \"Litros de combustible suministrado\": Hidalgo1[\"Litros de combustible suministrado\"].sum(), \"Servicios realizados\": Hidalgo1[\"Servicios realizados\"].sum()}\n",
        "Gasavion_Resumen=Gasavion_Resumen.append(fila, ignore_index=True)\n",
        "fila={\"Estado\": \"Jalisco\", \"Tipo Combustible\": \"Gasavion\", \"Litros de combustible suministrado\": Jalisco1[\"Litros de combustible suministrado\"].sum(), \"Servicios realizados\": Jalisco1[\"Servicios realizados\"].sum()}\n",
        "Gasavion_Resumen=Gasavion_Resumen.append(fila, ignore_index=True)\n",
        "fila={\"Estado\": \"Michoacan\", \"Tipo Combustible\": \"Gasavion\", \"Litros de combustible suministrado\": Michoacan1[\"Litros de combustible suministrado\"].sum(), \"Servicios realizados\": Michoacan1[\"Servicios realizados\"].sum()}\n",
        "Gasavion_Resumen=Gasavion_Resumen.append(fila, ignore_index=True)\n",
        "fila={\"Estado\": \"Morelos\", \"Tipo Combustible\": \"Gasavion\", \"Litros de combustible suministrado\": Morelos1[\"Litros de combustible suministrado\"].sum(), \"Servicios realizados\": Morelos1[\"Servicios realizados\"].sum()}\n",
        "Gasavion_Resumen=Gasavion_Resumen.append(fila, ignore_index=True)\n",
        "fila={\"Estado\": \"Nayarit\", \"Tipo Combustible\": \"Gasavion\", \"Litros de combustible suministrado\": Nayarit1[\"Litros de combustible suministrado\"].sum(), \"Servicios realizados\": Nayarit1[\"Servicios realizados\"].sum()}\n",
        "Gasavion_Resumen=Gasavion_Resumen.append(fila, ignore_index=True)\n",
        "fila={\"Estado\": \"Nuevo Leon\", \"Tipo Combustible\": \"Gasavion\", \"Litros de combustible suministrado\": NuevoLeon1[\"Litros de combustible suministrado\"].sum(), \"Servicios realizados\": NuevoLeon1[\"Servicios realizados\"].sum()}\n",
        "Gasavion_Resumen=Gasavion_Resumen.append(fila, ignore_index=True)\n",
        "fila={\"Estado\": \"Oaxaca\", \"Tipo Combustible\": \"Gasavion\", \"Litros de combustible suministrado\": Oaxaca1[\"Litros de combustible suministrado\"].sum(), \"Servicios realizados\": Oaxaca1[\"Servicios realizados\"].sum()}\n",
        "Gasavion_Resumen=Gasavion_Resumen.append(fila, ignore_index=True)\n",
        "fila={\"Estado\": \"Puebla\", \"Tipo Combustible\": \"Gasavion\", \"Litros de combustible suministrado\": Puebla1[\"Litros de combustible suministrado\"].sum(), \"Servicios realizados\": Puebla1[\"Servicios realizados\"].sum()}\n",
        "Gasavion_Resumen=Gasavion_Resumen.append(fila, ignore_index=True)\n",
        "fila={\"Estado\": \"Queretaro\", \"Tipo Combustible\": \"Gasavion\", \"Litros de combustible suministrado\": Queretaro1[\"Litros de combustible suministrado\"].sum(), \"Servicios realizados\": Queretaro1[\"Servicios realizados\"].sum()}\n",
        "Gasavion_Resumen=Gasavion_Resumen.append(fila, ignore_index=True)\n",
        "fila={\"Estado\": \"Quintana Roo\", \"Tipo Combustible\": \"Gasavion\", \"Litros de combustible suministrado\": QuintanaRoo1[\"Litros de combustible suministrado\"].sum(), \"Servicios realizados\": QuintanaRoo1[\"Servicios realizados\"].sum()}\n",
        "Gasavion_Resumen=Gasavion_Resumen.append(fila, ignore_index=True)\n",
        "fila={\"Estado\": \"San Luis Potosi\", \"Tipo Combustible\": \"Gasavion\", \"Litros de combustible suministrado\": SanLuisPotosi1[\"Litros de combustible suministrado\"].sum(), \"Servicios realizados\": SanLuisPotosi1[\"Servicios realizados\"].sum()}\n",
        "Gasavion_Resumen=Gasavion_Resumen.append(fila, ignore_index=True)\n",
        "fila={\"Estado\": \"Sinaloa\", \"Tipo Combustible\": \"Gasavion\", \"Litros de combustible suministrado\": Sinaloa1[\"Litros de combustible suministrado\"].sum(), \"Servicios realizados\": Sinaloa1[\"Servicios realizados\"].sum()}\n",
        "Gasavion_Resumen=Gasavion_Resumen.append(fila, ignore_index=True)\n",
        "fila={\"Estado\": \"Sonora\", \"Tipo Combustible\": \"Gasavion\", \"Litros de combustible suministrado\": Sonora1[\"Litros de combustible suministrado\"].sum(), \"Servicios realizados\": Sonora1[\"Servicios realizados\"].sum()}\n",
        "Gasavion_Resumen=Gasavion_Resumen.append(fila, ignore_index=True)\n",
        "fila={\"Estado\": \"Tabasco\", \"Tipo Combustible\": \"Gasavion\", \"Litros de combustible suministrado\": Tabasco1[\"Litros de combustible suministrado\"].sum(), \"Servicios realizados\": Tabasco1[\"Servicios realizados\"].sum()}\n",
        "Gasavion_Resumen=Gasavion_Resumen.append(fila, ignore_index=True)\n",
        "fila={\"Estado\": \"Tamaulipas\", \"Tipo Combustible\": \"Gasavion\", \"Litros de combustible suministrado\": Tamaulipas1[\"Litros de combustible suministrado\"].sum(), \"Servicios realizados\": Tamaulipas1[\"Servicios realizados\"].sum()}\n",
        "Gasavion_Resumen=Gasavion_Resumen.append(fila, ignore_index=True)\n",
        "fila={\"Estado\": \"Veracruz\", \"Tipo Combustible\": \"Gasavion\", \"Litros de combustible suministrado\": Veracruz1[\"Litros de combustible suministrado\"].sum(), \"Servicios realizados\": Veracruz1[\"Servicios realizados\"].sum()}\n",
        "Gasavion_Resumen=Gasavion_Resumen.append(fila, ignore_index=True)\n",
        "fila={\"Estado\": \"Yucatan\", \"Tipo Combustible\": \"Gasavion\", \"Litros de combustible suministrado\": Yucatan1[\"Litros de combustible suministrado\"].sum(), \"Servicios realizados\": Yucatan1[\"Servicios realizados\"].sum()}\n",
        "Gasavion_Resumen=Gasavion_Resumen.append(fila, ignore_index=True)\n",
        "fila={\"Estado\": \"Zacatecas\", \"Tipo Combustible\": \"Gasavion\", \"Litros de combustible suministrado\": Zacatecas1[\"Litros de combustible suministrado\"].sum(), \"Servicios realizados\": Zacatecas1[\"Servicios realizados\"].sum()}\n",
        "Gasavion_Resumen=Gasavion_Resumen.append(fila, ignore_index=True)"
      ]
    },
    {
      "cell_type": "markdown",
      "metadata": {
        "id": "Z1HQZJ_qIJab"
      },
      "source": [
        "Primeras Gráficas que nos dan un leve acercamiento a la cantidad de combustible que gasta cada estado por 5 años."
      ]
    },
    {
      "cell_type": "code",
      "execution_count": 138,
      "metadata": {
        "colab": {
          "base_uri": "https://localhost:8080/",
          "height": 583
        },
        "id": "st94NjjsJktl",
        "outputId": "25c532f8-1609-4c3a-8f48-5d5443881fb7"
      },
      "outputs": [
        {
          "output_type": "display_data",
          "data": {
            "text/plain": [
              "<Figure size 1080x576 with 1 Axes>"
            ],
            "image/png": "[encoded data removed]"
          },
          "metadata": {}
        }
      ],
      "source": [
        "height= list(Turbosina_Resumen['Litros de combustible suministrado'])\n",
        "bars = list(Turbosina_Resumen['Estado'])\n",
        "plt.style.use(\"ggplot\")\n",
        "plt.figure(figsize=(15,8))\n",
        "plt.bar(bars, height, color='purple', width=0.6)\n",
        "plt.xticks(rotation=90)\n",
        "plt. title(\"Turbosina\")\n",
        "plt.show() "
      ]
    },
    {
      "cell_type": "code",
      "execution_count": 139,
      "metadata": {
        "colab": {
          "base_uri": "https://localhost:8080/",
          "height": 583
        },
        "id": "EeYAs_ulLYLE",
        "outputId": "f0af9eed-241d-492c-d3f4-135a15cdf0ff"
      },
      "outputs": [
        {
          "output_type": "display_data",
          "data": {
            "text/plain": [
              "<Figure size 1080x576 with 1 Axes>"
            ],
            "image/png": "[encoded data removed]"
          },
          "metadata": {}
        }
      ],
      "source": [
        "height= list(Gasavion_Resumen['Litros de combustible suministrado'])\n",
        "bars = list(Gasavion_Resumen['Estado'])\n",
        "plt.style.use(\"ggplot\")\n",
        "plt.figure(figsize=(15,8))\n",
        "plt.bar(bars, height, color='blue', width=0.6)\n",
        "plt.xticks(rotation=90)\n",
        "plt. title(\"Gasavion\")\n",
        "plt.show() "
      ]
    },
    {
      "cell_type": "code",
      "execution_count": 143,
      "metadata": {
        "id": "UitctFWQhydh"
      },
      "outputs": [],
      "source": [
        "Turbosina_Resumen['Cantidad_CO2'] = Turbosina_Resumen['Litros de combustible suministrado']*2.536"
      ]
    },
    {
      "cell_type": "code",
      "source": [
        "height= list(Turbosina_Resumen['Cantidad_CO2'])\n",
        "bars = list(Turbosina_Resumen['Estado'])\n",
        "plt.style.use(\"ggplot\")\n",
        "plt.figure(figsize=(15,8))\n",
        "plt.bar(bars, height, color='purple', width=0.6)\n",
        "plt.xticks(rotation=90)\n",
        "plt. title(\"CO2 por Turbosina\")\n",
        "plt.show() "
      ],
      "metadata": {
        "colab": {
          "base_uri": "https://localhost:8080/",
          "height": 583
        },
        "id": "Zu_PPKPKCRaV",
        "outputId": "cb9d2d40-973b-4277-8c07-a422e4825f95"
      },
      "execution_count": 147,
      "outputs": [
        {
          "output_type": "display_data",
          "data": {
            "text/plain": [
              "<Figure size 1080x576 with 1 Axes>"
            ],
            "image/png": "[encoded data removed]"
          },
          "metadata": {}
        }
      ]
    },
    {
      "cell_type": "code",
      "source": [
        "Gasavion_Resumen['Cantidad_CO2'] = Gasavion_Resumen['Litros de combustible suministrado']*2.036"
      ],
      "metadata": {
        "id": "9uU6OOtoB7bv"
      },
      "execution_count": 145,
      "outputs": []
    },
    {
      "cell_type": "code",
      "source": [
        "height= list(Gasavion_Resumen['Cantidad_CO2'])\n",
        "bars = list(Gasavion_Resumen['Estado'])\n",
        "plt.style.use(\"ggplot\")\n",
        "plt.figure(figsize=(15,8))\n",
        "plt.bar(bars, height, color='blue', width=0.6)\n",
        "plt.xticks(rotation=90)\n",
        "plt. title(\"CO2 de Gasavion\")\n",
        "plt.show() "
      ],
      "metadata": {
        "colab": {
          "base_uri": "https://localhost:8080/",
          "height": 583
        },
        "id": "hNVycSHIBuXS",
        "outputId": "1e11e205-ab04-413b-f5bc-9be11d903526"
      },
      "execution_count": 149,
      "outputs": [
        {
          "output_type": "display_data",
          "data": {
            "text/plain": [
              "<Figure size 1080x576 with 1 Axes>"
            ],
            "image/png": "[encoded data removed]"
          },
          "metadata": {}
        }
      ]
    }
  ],
  "metadata": {
    "colab": {
      "provenance": [],
      "authorship_tag": "ABX9TyMxiCEcWMteOmw0pAgXpEoH",
      "include_colab_link": true
    },
    "kernelspec": {
      "display_name": "Python 3",
      "name": "python3"
    },
    "language_info": {
      "name": "python"
    }
  },
  "nbformat": 4,
  "nbformat_minor": 0
}